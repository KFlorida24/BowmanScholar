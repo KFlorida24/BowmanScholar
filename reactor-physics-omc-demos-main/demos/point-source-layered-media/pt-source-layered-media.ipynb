{
 "cells": [
  {
   "cell_type": "markdown",
   "id": "d4d9b773",
   "metadata": {},
   "source": [
    "# Point Source in Layered Diffusive Media\n",
    "\n",
    "This example is meant to illustrate the use of Diffusion Theory techniques for neutron diffusion in multiple layers of non-multiplying media.  \n",
    "\n",
    "A point source is placed at the origin surrounded by a sphere of difusing, non-multiplying material.  Outside of the sphere is a second (in general, dissimilar) material that extends to infinity.  An analytic solution to the Diffusion Equation is found.  A model of the same arrangement is created for use with OpenMC.  Tallies are collected of the simulation and the results are compared with diffusion theory."
   ]
  },
  {
   "cell_type": "markdown",
   "id": "3c71b691",
   "metadata": {},
   "source": [
    "## Analytic Results"
   ]
  },
  {
   "cell_type": "markdown",
   "id": "ad8792d8",
   "metadata": {},
   "source": [
    "To get an analytic solution, the diffusion equation must be solved in both region A and region B.  \n",
    "\n",
    "$$ \\nabla^2 \\phi - \\frac{1}{L^2}\\phi = 0$$\n",
    "\n",
    "Since we have a point source and the boundary between region A and region B is a sphere, we will use spherical coordinates.  We will assume spherical symmetry and the resulting ordinary differential equation has the following solutions:\n",
    "\n",
    "$$ \\phi_A (r) = \\frac{C_1}{r}e^{\\frac{r}{L_A}} + \\frac{C_2}{r}e^{\\frac{-r}{L_A}} $$\n",
    "\n",
    "$$ \\phi_B (r) = \\frac{C_3}{r}e^{\\frac{-r}{L_B}} + \\frac{C_4}{r}e^{\\frac{r}{L_B}}$$\n",
    "\n",
    "### Boundary Conditions\n",
    "\n",
    "#### Source Condition as $r \\to 0$\n",
    "In region A we apply the condition that $ 4\\pi \\lim_{r \\to 0} r^2 J(r) = S.$  For region A this reads:\n",
    "$$ 4 \\pi \\lim_{r \\to 0} r^2 J(r) = 4 \\pi \\lim_{r \\to 0} -D_A r^2 \\frac{d}{dr} \\phi_A(r)$$\n",
    "which gives the condition:\n",
    "$$ 4 \\pi D_A (C_1 + C_2) = S$$\n",
    "\n",
    "#### 'Finiteness' Condition as $r \\to \\infty$\n",
    "Since region B extends to infinity, $C_4 = 0$ so that $\\phi_B$ remains finite.\n",
    "\n",
    "#### Continuity of flux at $r = a$\n",
    "We require that $\\phi_A(r = a) = \\phi_B(r = a)$ for continuity.  This reads:\n",
    "$$ \\phi_A(a) = \\frac{C_1}{a}e^{\\frac{a}{L_A}} + \\frac{C_2}{a}e^{\\frac{-a}{L_A}} = \\frac{C_3}{a} e^{\\frac{-a}{L_B}} = \\phi_B(a)$$\n",
    "or, in a form more suitable for direct calculation:\n",
    "\n",
    "$$\\frac{C_1}{a}e^{\\frac{a}{L_A}} + \\frac{C_2}{a}e^{\\frac{-a}{L_A}} - \\frac{C_3}{a} e^{\\frac{-a}{L_B}} = 0$$\n",
    "\n",
    "#### Continuity of current at $r = a$\n",
    "This is messy.  To be filled in later\n"
   ]
  },
  {
   "cell_type": "code",
   "execution_count": 1,
   "id": "b16cebd3",
   "metadata": {},
   "outputs": [],
   "source": [
    "import numpy as np\n",
    "import matplotlib.pyplot as plt\n",
    "%matplotlib inline"
   ]
  },
  {
   "cell_type": "code",
   "execution_count": 12,
   "id": "085a0e1b",
   "metadata": {},
   "outputs": [
    {
     "data": {
      "image/png": "[encoded data removed]",
      "text/plain": [
       "<Figure size 432x288 with 1 Axes>"
      ]
     },
     "metadata": {
      "needs_background": "light"
     },
     "output_type": "display_data"
    }
   ],
   "source": [
    "a = 5.0; # cm, radius of boundar between regions\n",
    "S = 1.0; # n/s, strength of point source\n",
    "\n",
    "\n",
    "# Region A: Water\n",
    "D_A = 0.142; # cm, diffusion coefficient for region A \n",
    "L_A = 2.54; # cm, diffusion length for region A \n",
    "\n",
    "# Region B: Be\n",
    "D_B = 0.416; # cm, diffusion coefficient for region B\n",
    "L_B = 18.3; # cm, diffusion length for region B\n",
    "\n",
    "A = np.ndarray(shape=(3,3),dtype=float);\n",
    "A[0,0] = 4.0*np.pi*D_A; A[0,1] = 4.0*np.pi*D_A; A[0,2] = 0.0;\n",
    "A[1,0] = (1./a)*np.exp(a/L_A); A[1,1] = (1./a)*np.exp(-a/L_A); \n",
    "A[1,2] = -(1./a)*np.exp(-a/L_B);\n",
    "A[2,0] = -D_A*(-(1./a**2)*np.exp(a/L_A)+(1./(a*L_A))*np.exp(a/L_A));\n",
    "A[2,1] = -D_A*(-(1./a**2)*np.exp(-a/L_A)-(1./(a*L_A))*np.exp(-a/L_A));\n",
    "A[2,2] = D_B*(-(1./a**2)*np.exp(-a/L_B)-(1./(a*L_B))*np.exp(-a/L_B));\n",
    "\n",
    "rhs = np.ndarray(shape=(3,1),dtype=float);\n",
    "rhs[0] = S;\n",
    "rhs[1] = 0; rhs[2] = 0;\n",
    "\n",
    "C = np.linalg.solve(A,rhs);\n",
    "\n",
    "\n",
    "def analytic_flux_A(r):\n",
    "    return (C[0]/r)*np.exp(r/L_A)+(C[1]/r)*np.exp(-r/L_A);\n",
    "\n",
    "def analytic_flux_B(r):\n",
    "    return (C[2]/r)*np.exp(-r/L_B);\n",
    "\n",
    "r_A = np.linspace(1e-2,a,1000);\n",
    "phi_A = analytic_flux_A(r_A);\n",
    "\n",
    "r_B = np.linspace(a,2*a,1000);\n",
    "phi_B = analytic_flux_B(r_B);\n",
    "\n",
    "plt.semilogy(r_A,phi_A,label='Region A');\n",
    "plt.semilogy(r_B,phi_B,label='Region B');\n",
    "plt.grid();\n",
    "plt.legend();\n",
    "plt.xlabel('r [cm]');\n",
    "plt.ylabel('flux [n/cm^2-s]');\n",
    "plt.title('Flux in Layered Media');\n"
   ]
  },
  {
   "cell_type": "code",
   "execution_count": null,
   "id": "bd54ab62",
   "metadata": {},
   "outputs": [],
   "source": []
  }
 ],
 "metadata": {
  "kernelspec": {
   "display_name": "Python 3 (ipykernel)",
   "language": "python",
   "name": "python3"
  },
  "language_info": {
   "codemirror_mode": {
    "name": "ipython",
    "version": 3
   },
   "file_extension": ".py",
   "mimetype": "text/x-python",
   "name": "python",
   "nbconvert_exporter": "python",
   "pygments_lexer": "ipython3",
   "version": "3.9.10"
  }
 },
 "nbformat": 4,
 "nbformat_minor": 5
}
