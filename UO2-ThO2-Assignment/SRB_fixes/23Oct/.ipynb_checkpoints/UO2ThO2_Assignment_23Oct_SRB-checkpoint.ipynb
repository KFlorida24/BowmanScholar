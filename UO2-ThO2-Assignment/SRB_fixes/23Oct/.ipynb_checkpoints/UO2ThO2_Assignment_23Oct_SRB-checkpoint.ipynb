{
 "cells": [
  {
   "cell_type": "markdown",
   "id": "97609094-cf19-4b02-b7d9-3feed71a4d2d",
   "metadata": {},
   "source": [
    "# Florida UO2 ThO2 Mixture Assignment: 23OCT - SRB adjustments"
   ]
  },
  {
   "cell_type": "code",
   "execution_count": 1,
   "id": "38f81133-0b87-48ba-9e95-f45c7d9d5c75",
   "metadata": {},
   "outputs": [],
   "source": [
    "%matplotlib inline\n",
    "import openmc\n",
    "import math"
   ]
  },
  {
   "cell_type": "markdown",
   "id": "4b18edad-601f-4c50-87fe-9f6b64f79b09",
   "metadata": {},
   "source": [
    "## Calculate Weight Percentages"
   ]
  },
  {
   "cell_type": "code",
   "execution_count": 2,
   "id": "44e825ce-c957-4596-a76b-19399e522fcc",
   "metadata": {},
   "outputs": [],
   "source": [
    "# Constants - via PNNL Mat'l Comp., Rev-2\n",
    "ThO2OAtomRho = 0.044247 # Oxygen Atom Density in ThO2 [atom/b-cm]\n",
    "ThO2ThAtomRho = 0.022124 # Thorium Atom Density in ThO2 [atom/b-cm]\n",
    "ThMolW = 232. # Molecular Weight of Th [g/mol]\n",
    "OMolW = 16. # Molecular Weight of O [g/mol]\n",
    "ThO2MolW = ThMolW + 2*OMolW # Molecular Weight of ThO2 [g/mol]\n",
    "U235MolW = 235. # Molecular Weight of U-235 [g/mol]\n",
    "U238MolW = 238. # Molecular Weight of U-238 [g/mol]\n",
    "ThO2MassRho = 9.7 # Mass Density of ThO2 [g/cm^3]\n",
    "graphMassRho = 2.26 # Mass Density of Graphite [g/cm^3]\n",
    "he_CoolMassRho = 0.000178 # Mass Density of He @ 293K [g/cm^3]\n",
    "avo = 0.6022 # Avogadro's Number\n",
    "\n",
    "# Parameters (Change these)\n",
    "UO2MassRho = 10.45 # UO2 Mass Density [g/cm^3]\n",
    "UO2Enrichment = 0.05 # UO2 Enrichment [w/o]\n",
    "pctLEU = 0.05 # weight percent of LEU\n",
    "pctTh = 1 - pctLEU # weight percent of Th in LEU mixture\n",
    "\n",
    "# Results of Constants and Parameters\n",
    "# Total Mixture Density\n",
    "UThMixMassRho = (pctLEU/UO2MassRho + pctTh/ThO2MassRho)**-1 # [g/cm]\n",
    "# UO2 Atom Densities\n",
    "UO2UMolW = ((UO2Enrichment/U235MolW) + ((1 - UO2Enrichment)/U238MolW))**-1 # Molecular Weight of U in UO2 [g/mol]\n",
    "UO2MolW = UO2UMolW + 2*16 # Molecular Weight of UO2 [g/mol]\n",
    "UO2OAtomRho = (UO2MassRho/UO2MolW)*2*avo # O Atom Density in UO2 [atom/b-cm]\n",
    "UO2U235AtomRho = (UO2Enrichment*UO2MassRho*(UO2UMolW/UO2MolW)/U235MolW)*avo # U-235 Atom Density in UO2 [atom/b-cm] \n",
    "UO2U238AtomRho = ((1 - UO2Enrichment)*UO2MassRho*(UO2UMolW/UO2MolW)/U238MolW)*avo # U-238 Atom Density in UO2 [atom/b-cm]\n",
    "# UO2 ThO2 Mixture Atom Densities\n",
    "UThMixOAtomRho = (pctTh*UThMixMassRho/ThO2MolW)*2*avo + (pctLEU*UThMixMassRho/UO2MolW)*2*avo # Oxygen Atom Density in Fuel Mixture [atom/b-cm]\n",
    "UThMixThAtomRho = (pctTh*UThMixMassRho/ThO2MolW)*avo # Uranium Atom Density in Fuel Mixture [atom/b-cm] \n",
    "UThMixU235AtomRho = (pctLEU*UThMixMassRho/UO2MolW)*avo # Uranium Atom Density in Fuel Mixture [atom/b-cm]\n",
    "UThMixU238AtomRho = (pctLEU*UThMixMassRho/UO2MolW)*avo # Uranium Atom Density in Fuel Mixture [atom/b-cm]\n",
    "# UO2 ThO2 Mixture Atom Fractions\n",
    "# Normalized to 1\n",
    "UThMixOAtomFrac = UThMixOAtomRho/(UThMixOAtomRho + UThMixThAtomRho + UThMixU235AtomRho + UThMixU238AtomRho) # Oxygen Atom Fraction in Fuel Mixture [atom/b-cm]\n",
    "UThMixThAtomFrac = UThMixThAtomRho/(UThMixOAtomRho + UThMixThAtomRho + UThMixU235AtomRho + UThMixU238AtomRho) # Uranium Atom Fraction in Fuel Mixture [atom/b-cm] \n",
    "UThMixU235AtomFrac = UThMixU235AtomRho/(UThMixOAtomRho + UThMixThAtomRho + UThMixU235AtomRho + UThMixU238AtomRho) # Uranium Atom Fraction in Fuel Mixture [atom/b-cm]\n",
    "UThMixU238AtomFrac = UThMixU238AtomRho/(UThMixOAtomRho + UThMixThAtomRho + UThMixU235AtomRho + UThMixU238AtomRho) # Uranium Atom Density in Fuel Mixture [atom/b-cm]\n",
    "# Normalized to 3\n",
    "UThMixOAtomFrac3 = UThMixOAtomFrac*3 # Oxygen Atom Fraction in Fuel Mixture [atom/b-cm]\n",
    "UThMixU235AtomFrac3 = UThMixU235AtomFrac*3 # Uranium Atom Fraction in Fuel Mixture [atom/b-cm] \n",
    "UThMixU238AtomFrac3 = UThMixU238AtomFrac*3 # Uranium Atom Fraction in Fuel Mixture [atom/b-cm]\n",
    "UThMixThAtomFrac3 = UThMixThAtomFrac*3 # Uranium Atom Density in Fuel Mixture [atom/b-cm]"
   ]
  },
  {
   "cell_type": "markdown",
   "id": "c4d2c7d1-838a-45c2-88fb-edbb22e2ee1f",
   "metadata": {},
   "source": [
    "## Calculate Vol %"
   ]
  },
  {
   "cell_type": "code",
   "execution_count": 3,
   "id": "5a80e691-2176-4e90-87d6-149c26ba9eea",
   "metadata": {},
   "outputs": [],
   "source": [
    "# Constants\n",
    "vF_Pebbles_Core = 2./3 # Volume Fraction of Pebbles in Core (Max packing factor)\n",
    "vF_TRISO_Pebbles = 0.4 # Volume Fraction of TRISO in Pebbles\n",
    "vF_Fuel_TRISO = 0.15 # Volume Fraction of Fuel in TRISO\n",
    "fuelVolFrac = vF_Pebbles_Core*vF_TRISO_Pebbles*vF_Fuel_TRISO # Volume Fraction of Fuel\n",
    "graphVolFrac = vF_Pebbles_Core*(1 - (vF_TRISO_Pebbles*vF_Fuel_TRISO)) # Total Volume Fraction of Graphite\n",
    "hel_CoolVolFrac = 1 - (fuelVolFrac + graphVolFrac) # Total Volume Fraction of Helium\n",
    "totalVolFrac = fuelVolFrac + graphVolFrac + hel_CoolVolFrac # Total Volume\n",
    "\n",
    "# Parameters\n",
    "# Cube\n",
    "matCubeL = 1 # [cm]\n",
    "cubeVol = matCubeL**3 # [cm^3]\n",
    "# Sphere\n",
    "matSphereRad = 1 # [cm]\n",
    "sphereVol = (4/3)*math.pi*matSphereRad**3\n",
    "\n",
    "# Volume Output\n",
    "#Cube\n",
    "fuelCubeVol = fuelVolFrac*cubeVol\n",
    "graphCubeVol = graphVolFrac*cubeVol\n",
    "hel_CoolCubeVol = hel_CoolVolFrac*cubeVol\n",
    "totalCubeVol = fuelCubeVol + graphCubeVol + hel_CoolCubeVol\n",
    "#Sphere\n",
    "fuelSphereVol = fuelVolFrac*sphereVol\n",
    "graphSphereVol = graphVolFrac*sphereVol\n",
    "hel_CoolSphereVol = hel_CoolVolFrac*sphereVol\n",
    "totalSphereVol = fuelSphereVol + graphSphereVol + hel_CoolSphereVol\n",
    "# Mass Output\n",
    "#Cube\n",
    "fuelCubeMass = UThMixMassRho*graphCubeVol\n",
    "graphCubeMass = graphMassRho*graphCubeVol\n",
    "hel_CoolCubeMass = he_CoolMassRho*graphCubeVol\n",
    "totalCubeMass = fuelCubeMass + graphCubeMass + hel_CoolCubeMass\n",
    "#Sphere\n",
    "fuelSphereMass = UThMixMassRho*graphSphereVol\n",
    "graphSphereMass = graphMassRho*graphSphereVol\n",
    "hel_CoolSphereMass = he_CoolMassRho*graphSphereVol\n",
    "totalSphereMass = fuelSphereMass + graphSphereMass + hel_CoolSphereMass"
   ]
  },
  {
   "cell_type": "markdown",
   "id": "d2239ece-c69c-47e0-ae4a-b3ae71d94cd3",
   "metadata": {},
   "source": [
    "## Define Materials"
   ]
  },
  {
   "cell_type": "code",
   "execution_count": 4,
   "id": "fdd19e67-da43-46cd-83a9-5c1e27b115ee",
   "metadata": {},
   "outputs": [
    {
     "name": "stdout",
     "output_type": "stream",
     "text": [
      "Material\n",
      "\tID             =\t1\n",
      "\tName           =\tfuel\n",
      "\tTemperature    =\tNone\n",
      "\tDensity        =\t9.734933973589436 [g/cm3]\n",
      "\tVolume         =\t1 [cm^3]\n",
      "\tS(a,b) Tables  \n",
      "\tNuclides       \n",
      "\tTh232          =\t0.311918684522211 [ao]\n",
      "\tU235           =\t0.01606098660834173 [ao]\n",
      "\tU238           =\t0.01606098660834173 [ao]\n",
      "\tO16            =\t0.6557107336703885 [ao]\n",
      "\tO17            =\t0.00024860859071695895 [ao]\n",
      "\n"
     ]
    }
   ],
   "source": [
    "fuel = openmc.Material(name='fuel');\n",
    "#The below ratios were calculated assuming 95%LEU-5%Th Oxide Fuel.\n",
    "fuel.add_nuclide('Th232', UThMixThAtomFrac, 'ao')\n",
    "fuel.add_nuclide('U235', UThMixU235AtomFrac, 'ao') #5% U-235 enrichment\n",
    "fuel.add_nuclide('U238', UThMixU238AtomFrac, 'ao')\n",
    "fuel.add_element('O', UThMixOAtomFrac, 'ao')\n",
    "fuel.set_density('g/cm3', UThMixMassRho) # Based on assumption of fuel density within TRISO\n",
    "fuel.volume = cubeVol\n",
    "print(fuel)"
   ]
  },
  {
   "cell_type": "code",
   "execution_count": 5,
   "id": "aabfb205-adea-4cee-abfd-8045c9169098",
   "metadata": {},
   "outputs": [
    {
     "name": "stdout",
     "output_type": "stream",
     "text": [
      "Material\n",
      "\tID             =\t2\n",
      "\tName           =\tgraph\n",
      "\tTemperature    =\tNone\n",
      "\tDensity        =\t2.26 [g/cm3]\n",
      "\tVolume         =\tNone [cm^3]\n",
      "\tS(a,b) Tables  \n",
      "\tNuclides       \n",
      "\tC0             =\t1.0          [ao]\n",
      "\n"
     ]
    }
   ],
   "source": [
    "# Establish Graphite Moderator material\n",
    "graph = openmc.Material(name='graph')\n",
    "# add nuclides to graph\n",
    "graph.add_element('C', 1.00)\n",
    "graph.set_density('g/cm3', graphMassRho)\n",
    "print(graph)"
   ]
  },
  {
   "cell_type": "code",
   "execution_count": 6,
   "id": "b9220eb4-f9fa-4358-b453-0bbf367f82d8",
   "metadata": {},
   "outputs": [
    {
     "name": "stdout",
     "output_type": "stream",
     "text": [
      "Material\n",
      "\tID             =\t3\n",
      "\tName           =\thel_Cool\n",
      "\tTemperature    =\tNone\n",
      "\tDensity        =\t0.000178 [g/cm3]\n",
      "\tVolume         =\tNone [cm^3]\n",
      "\tS(a,b) Tables  \n",
      "\tNuclides       \n",
      "\tHe3            =\t2e-06        [ao]\n",
      "\tHe4            =\t0.999998     [ao]\n",
      "\n"
     ]
    }
   ],
   "source": [
    "# Establish Helium Coolant material\n",
    "hel_Cool = openmc.Material(name='hel_Cool')\n",
    "# add nuclides to hel_Cool\n",
    "hel_Cool.add_nuclide('He3', 0.000002)\n",
    "hel_Cool.add_nuclide('He4', 0.999998)\n",
    "hel_Cool.set_density('g/cm3', he_CoolMassRho)\n",
    "print(hel_Cool)"
   ]
  },
  {
   "cell_type": "code",
   "execution_count": 7,
   "id": "a2148824-43c4-4023-b6bf-3364ad96f6fe",
   "metadata": {},
   "outputs": [
    {
     "name": "stdout",
     "output_type": "stream",
     "text": [
      "Material\n",
      "\tID             =\t4\n",
      "\tName           =\tfuel(0.04)-graph(0.6266666666666666)-hel_Cool(0.33333333333333337)\n",
      "\tTemperature    =\tNone\n",
      "\tDensity        =\t1.805723358943577 [g/cm3]\n",
      "\tVolume         =\tNone [cm^3]\n",
      "\tS(a,b) Tables  \n",
      "\tNuclides       \n",
      "\tTh232          =\t0.010983882517324706 [ao]\n",
      "\tU235           =\t0.0005655704475946168 [ao]\n",
      "\tU238           =\t0.0005655704475946168 [ao]\n",
      "\tO16            =\t0.023090151444491235 [ao]\n",
      "\tO17            =\t8.754485347408847e-06 [ao]\n",
      "\tC0             =\t0.9646647956963481 [ao]\n",
      "\tHe3            =\t2.4254992259871746e-10 [ao]\n",
      "\tHe4            =\t0.00012127471874943615 [ao]\n",
      "\n"
     ]
    }
   ],
   "source": [
    "#materials = openmc.Materials([fuel, graph, hel_Cool])\n",
    "# instead of doing this, let's try creating a material object that is a mixture\n",
    "# of fuel, graphite and helium coolant\n",
    "\n",
    "mixMat = openmc.Material.mix_materials([fuel,graph,hel_Cool],\n",
    "                                       fracs=[fuelVolFrac,graphVolFrac,hel_CoolCubeVol],\n",
    "                                      percent_type='vo',\n",
    "                                      )\n",
    "\n",
    "print(mixMat)\n",
    "\n"
   ]
  },
  {
   "cell_type": "code",
   "execution_count": 8,
   "id": "d2244185-cab3-4b81-a8b0-0fba1f075c59",
   "metadata": {},
   "outputs": [
    {
     "data": {
      "text/plain": [
       "True"
      ]
     },
     "execution_count": 8,
     "metadata": {},
     "output_type": "execute_result"
    }
   ],
   "source": [
    "materials = openmc.Materials()\n",
    "#materials += [fuel, graph, hel_Cool]\n",
    "materials += [mixMat]\n",
    "isinstance(materials,list)"
   ]
  },
  {
   "cell_type": "markdown",
   "id": "442f20be-9153-418c-937e-187777b3411e",
   "metadata": {},
   "source": [
    "## Export Materials as XML"
   ]
  },
  {
   "cell_type": "code",
   "execution_count": 9,
   "id": "5396a28b-d67e-4e45-b1f0-8a91323f6d5a",
   "metadata": {},
   "outputs": [
    {
     "name": "stdout",
     "output_type": "stream",
     "text": [
      "<?xml version='1.0' encoding='utf-8'?>\r\n",
      "<materials>\r\n",
      "  <material depletable=\"true\" id=\"4\" name=\"fuel(0.04)-graph(0.6266666666666666)-hel_Cool(0.33333333333333337)\">\r\n",
      "    <density units=\"g/cm3\" value=\"1.805723358943577\" />\r\n",
      "    <nuclide ao=\"0.010983882517324706\" name=\"Th232\" />\r\n",
      "    <nuclide ao=\"0.0005655704475946168\" name=\"U235\" />\r\n",
      "    <nuclide ao=\"0.0005655704475946168\" name=\"U238\" />\r\n",
      "    <nuclide ao=\"0.023090151444491235\" name=\"O16\" />\r\n",
      "    <nuclide ao=\"8.754485347408847e-06\" name=\"O17\" />\r\n",
      "    <nuclide ao=\"0.9646647956963481\" name=\"C0\" />\r\n",
      "    <nuclide ao=\"2.4254992259871746e-10\" name=\"He3\" />\r\n",
      "    <nuclide ao=\"0.00012127471874943615\" name=\"He4\" />\r\n",
      "  </material>\r\n",
      "</materials>\r\n"
     ]
    }
   ],
   "source": [
    "materials.export_to_xml()\n",
    "!cat materials.xml"
   ]
  },
  {
   "cell_type": "markdown",
   "id": "adb5ddd7-4d20-416a-a29e-b424769f9111",
   "metadata": {},
   "source": [
    "## Define Universe Geometry"
   ]
  },
  {
   "cell_type": "code",
   "execution_count": 10,
   "id": "6b4cb29b-3be7-4b96-bcbc-535eb8bf9236",
   "metadata": {},
   "outputs": [],
   "source": [
    "l_cube = 2.0;\n",
    "universeCube = openmc.model.RectangularParallelepiped(-l_cube, l_cube, -l_cube, l_cube, -l_cube, l_cube)"
   ]
  },
  {
   "cell_type": "code",
   "execution_count": 11,
   "id": "bb1a6d07-bad3-42fb-a6d6-8eb8b8e82b6e",
   "metadata": {},
   "outputs": [],
   "source": [
    "insideCube = -universeCube\n",
    "outsideCube = +universeCube"
   ]
  },
  {
   "cell_type": "code",
   "execution_count": 12,
   "id": "a9d26628-a94d-410e-9f2f-4b86b8e82288",
   "metadata": {},
   "outputs": [],
   "source": [
    "cell = openmc.Cell()\n",
    "cell.region = insideCube"
   ]
  },
  {
   "cell_type": "code",
   "execution_count": 13,
   "id": "9ec4e7b8-9e29-4cd5-b1b8-46c6063a0b35",
   "metadata": {},
   "outputs": [],
   "source": [
    "universe = openmc.Universe()\n",
    "universe.add_cell(cell)"
   ]
  },
  {
   "cell_type": "code",
   "execution_count": 14,
   "id": "1013ad34-c63c-4ec3-862e-1504b92e7ed0",
   "metadata": {},
   "outputs": [
    {
     "data": {
      "text/plain": [
       "<matplotlib.image.AxesImage at 0x14d55121a820>"
      ]
     },
     "execution_count": 14,
     "metadata": {},
     "output_type": "execute_result"
    },
    {
     "data": {
      "image/png": "[encoded data removed]",
      "text/plain": [
       "<Figure size 258.065x259.74 with 1 Axes>"
      ]
     },
     "metadata": {},
     "output_type": "display_data"
    }
   ],
   "source": [
    "universe.plot(width=(5, 5), basis='xz', colors={cell: 'fuchsia'})"
   ]
  },
  {
   "cell_type": "markdown",
   "id": "569ff1fd-f6b5-4f3b-b5eb-52bd9055eed6",
   "metadata": {},
   "source": [
    "## Define Bounding Geometry"
   ]
  },
  {
   "cell_type": "code",
   "execution_count": 15,
   "id": "ca79c413-bc02-4b25-bfdc-45ca01be5390",
   "metadata": {},
   "outputs": [],
   "source": [
    "matBox = openmc.model.RectangularParallelepiped(-matCubeL/2, matCubeL/2, \n",
    "                                                -matCubeL/2, matCubeL/2, \n",
    "                                                -matCubeL/2, matCubeL/2,\n",
    "                                                boundary_type='reflective')"
   ]
  },
  {
   "cell_type": "code",
   "execution_count": 16,
   "id": "8a68c56b",
   "metadata": {},
   "outputs": [
    {
     "data": {
      "text/plain": [
       "openmc.model.surface_composite.RectangularParallelepiped"
      ]
     },
     "execution_count": 16,
     "metadata": {},
     "output_type": "execute_result"
    }
   ],
   "source": [
    "type(matBox)"
   ]
  },
  {
   "cell_type": "code",
   "execution_count": 17,
   "id": "df735618-6e9b-4559-bad7-02c7ac27eec7",
   "metadata": {},
   "outputs": [],
   "source": [
    "material_region = -matBox"
   ]
  },
  {
   "cell_type": "code",
   "execution_count": 18,
   "id": "86c8aa24-d4b1-48c8-a1b1-4ec239ab1d1d",
   "metadata": {},
   "outputs": [],
   "source": [
    "material_Geom = openmc.Cell(name='material_Geom')\n",
    "#material_Geom.fill = materials #<<(SRB) This probably isn't correct.  Needs to be a material.\n",
    "material_Geom.fill = mixMat\n",
    "material_Geom.region = material_region"
   ]
  },
  {
   "cell_type": "code",
   "execution_count": 19,
   "id": "0b75c162-551b-460b-9d4a-994a7e57b70a",
   "metadata": {},
   "outputs": [
    {
     "name": "stdout",
     "output_type": "stream",
     "text": [
      "<?xml version='1.0' encoding='utf-8'?>\r\n",
      "<geometry>\r\n",
      "  <cell id=\"2\" material=\"4\" name=\"material_Geom\" region=\"-8 7 -10 9 -12 11\" universe=\"2\" />\r\n",
      "  <surface boundary=\"reflective\" coeffs=\"-0.5\" id=\"7\" type=\"x-plane\" />\r\n",
      "  <surface boundary=\"reflective\" coeffs=\"0.5\" id=\"8\" type=\"x-plane\" />\r\n",
      "  <surface boundary=\"reflective\" coeffs=\"-0.5\" id=\"9\" type=\"y-plane\" />\r\n",
      "  <surface boundary=\"reflective\" coeffs=\"0.5\" id=\"10\" type=\"y-plane\" />\r\n",
      "  <surface boundary=\"reflective\" coeffs=\"-0.5\" id=\"11\" type=\"z-plane\" />\r\n",
      "  <surface boundary=\"reflective\" coeffs=\"0.5\" id=\"12\" type=\"z-plane\" />\r\n",
      "</geometry>\r\n"
     ]
    }
   ],
   "source": [
    "root_universe = openmc.Universe(cells=[material_Geom])\n",
    "\n",
    "geometry = openmc.Geometry()\n",
    "geometry.root_universe = root_universe\n",
    "geometry.export_to_xml()\n",
    "!cat geometry.xml"
   ]
  },
  {
   "cell_type": "code",
   "execution_count": 20,
   "id": "66f6c1f4",
   "metadata": {},
   "outputs": [
    {
     "data": {
      "text/plain": [
       "<matplotlib.image.AxesImage at 0x14d540e76f70>"
      ]
     },
     "execution_count": 20,
     "metadata": {},
     "output_type": "execute_result"
    },
    {
     "data": {
      "image/png": "[encoded data removed]",
      "text/plain": [
       "<Figure size 258.065x259.74 with 1 Axes>"
      ]
     },
     "metadata": {},
     "output_type": "display_data"
    }
   ],
   "source": [
    "root_universe.plot(width=(2.5, 2.5), basis='xz', colors={cell: 'fuchsia'})"
   ]
  },
  {
   "cell_type": "markdown",
   "id": "a4619459-85fd-4499-9750-64b1b0a273e4",
   "metadata": {},
   "source": [
    "## Cross Sections"
   ]
  },
  {
   "cell_type": "code",
   "execution_count": 21,
   "id": "0e1bd3de-76fb-4746-b4b8-ffb9ea8c1457",
   "metadata": {},
   "outputs": [
    {
     "name": "stdout",
     "output_type": "stream",
     "text": [
      "<?xml version='1.0' encoding='utf-8'?>\n",
      "<cross_sections>\n",
      "  <library materials=\"H1\" path=\"H1.h5\" type=\"neutron\" />\n",
      "  <library materials=\"H2\" path=\"H2.h5\" type=\"neutron\" />\n",
      "  <library materials=\"H3\" path=\"H3.h5\" type=\"neutron\" />\n",
      "  <library materials=\"He3\" path=\"He3.h5\" type=\"neutron\" />\n",
      "  <library materials=\"He4\" path=\"He4.h5\" type=\"neutron\" />\n",
      "  <library materials=\"Li6\" path=\"Li6.h5\" type=\"neutron\" />\n",
      "  <library materials=\"Li7\" path=\"Li7.h5\" type=\"neutron\" />\n",
      "  <library materials=\"Be7\" path=\"Be7.h5\" type=\"neutron\" />\n",
      "    ...\n",
      "  <library materials=\"Cf253\" path=\"wmp/098253.h5\" type=\"wmp\" />\n",
      "  <library materials=\"Cf254\" path=\"wmp/098254.h5\" type=\"wmp\" />\n",
      "  <library materials=\"Es251\" path=\"wmp/099251.h5\" type=\"wmp\" />\n",
      "  <library materials=\"Es252\" path=\"wmp/099252.h5\" type=\"wmp\" />\n",
      "  <library materials=\"Es253\" path=\"wmp/099253.h5\" type=\"wmp\" />\n",
      "  <library materials=\"Es254\" path=\"wmp/099254.h5\" type=\"wmp\" />\n",
      "  <library materials=\"Es254_m1\" path=\"wmp/099254m1.h5\" type=\"wmp\" />\n",
      "  <library materials=\"Es255\" path=\"wmp/099255.h5\" type=\"wmp\" />\n",
      "  <library materials=\"Fm255\" path=\"wmp/100255.h5\" type=\"wmp\" />\n",
      "</cross_sections>\n"
     ]
    }
   ],
   "source": [
    "!cat $OPENMC_CROSS_SECTIONS | head -n 10\n",
    "print('    ...')\n",
    "!cat $OPENMC_CROSS_SECTIONS | tail -n 10"
   ]
  },
  {
   "cell_type": "markdown",
   "id": "f3111231-59e6-4574-b1d3-64e44bd2b5cb",
   "metadata": {},
   "source": [
    "## Source"
   ]
  },
  {
   "cell_type": "code",
   "execution_count": 22,
   "id": "7729d519-9244-46a9-90dd-5131426b7e0b",
   "metadata": {},
   "outputs": [],
   "source": [
    "# create a point source\n",
    "point = openmc.stats.Point((0,0,0))\n",
    "source = openmc.Source(space=point)\n"
   ]
  },
  {
   "cell_type": "code",
   "execution_count": 23,
   "id": "533cc885-a679-4885-a9a1-cbaa016a0b2a",
   "metadata": {},
   "outputs": [],
   "source": [
    "settings = openmc.Settings()\n",
    "settings.source = source\n",
    "settings.batches = 100\n",
    "settings.inactive = 10\n",
    "settings.particles = 1000"
   ]
  },
  {
   "cell_type": "code",
   "execution_count": 24,
   "id": "1cffe48f-230a-44c1-9e16-7eb6342c5757",
   "metadata": {},
   "outputs": [
    {
     "name": "stdout",
     "output_type": "stream",
     "text": [
      "<?xml version='1.0' encoding='utf-8'?>\r\n",
      "<settings>\r\n",
      "  <run_mode>eigenvalue</run_mode>\r\n",
      "  <particles>1000</particles>\r\n",
      "  <batches>100</batches>\r\n",
      "  <inactive>10</inactive>\r\n",
      "  <source strength=\"1.0\">\r\n",
      "    <space type=\"point\">\r\n",
      "      <parameters>0 0 0</parameters>\r\n",
      "    </space>\r\n",
      "  </source>\r\n",
      "</settings>\r\n"
     ]
    }
   ],
   "source": [
    "settings.export_to_xml()\n",
    "!cat settings.xml"
   ]
  },
  {
   "cell_type": "markdown",
   "id": "24c50672-07ec-44ed-a4e5-82eee74ac5c2",
   "metadata": {},
   "source": [
    "## Tallies"
   ]
  },
  {
   "cell_type": "code",
   "execution_count": 25,
   "id": "95b9bf22-2549-44ef-bd81-da29e5bfe002",
   "metadata": {},
   "outputs": [],
   "source": [
    "cell_filter = openmc.CellFilter(material_Geom)\n",
    "\n",
    "tally = openmc.Tally(1)\n",
    "tally.filters = [cell_filter]"
   ]
  },
  {
   "cell_type": "code",
   "execution_count": 26,
   "id": "08f8fe37-2dad-473a-a5f3-89b06df16127",
   "metadata": {},
   "outputs": [],
   "source": [
    "tally.nuclides = ['U235']\n",
    "tally.scores = ['total','fission','absorption','(n,gamma)']"
   ]
  },
  {
   "cell_type": "code",
   "execution_count": 27,
   "id": "31dfccf1-563e-4309-acee-93107699ac5f",
   "metadata": {},
   "outputs": [
    {
     "name": "stdout",
     "output_type": "stream",
     "text": [
      "<?xml version='1.0' encoding='utf-8'?>\r\n",
      "<tallies>\r\n",
      "  <filter id=\"1\" type=\"cell\">\r\n",
      "    <bins>2</bins>\r\n",
      "  </filter>\r\n",
      "  <tally id=\"1\">\r\n",
      "    <filters>1</filters>\r\n",
      "    <nuclides>U235</nuclides>\r\n",
      "    <scores>total fission absorption (n,gamma)</scores>\r\n",
      "  </tally>\r\n",
      "</tallies>\r\n"
     ]
    }
   ],
   "source": [
    "tallies = openmc.Tallies([tally])\n",
    "tallies.export_to_xml()\n",
    "!cat tallies.xml"
   ]
  },
  {
   "cell_type": "code",
   "execution_count": 28,
   "id": "8042d5f2-c952-44cd-9a03-c825f2018fc9",
   "metadata": {},
   "outputs": [
    {
     "name": "stdout",
     "output_type": "stream",
     "text": [
      "hwloc/linux: Ignoring PCI device with non-16bit domain.\n",
      "Pass --enable-32bits-pci-domain to configure to support such devices\n",
      "(warning: it would break the library ABI, don't enable unless really needed).\n",
      "                                %%%%%%%%%%%%%%%\n",
      "                           %%%%%%%%%%%%%%%%%%%%%%%%\n",
      "                        %%%%%%%%%%%%%%%%%%%%%%%%%%%%%%\n",
      "                      %%%%%%%%%%%%%%%%%%%%%%%%%%%%%%%%%%\n",
      "                    %%%%%%%%%%%%%%%%%%%%%%%%%%%%%%%%%%%%%%\n",
      "                   %%%%%%%%%%%%%%%%%%%%%%%%%%%%%%%%%%%%%%%%\n",
      "                                    %%%%%%%%%%%%%%%%%%%%%%%%\n",
      "                                     %%%%%%%%%%%%%%%%%%%%%%%%\n",
      "                 ###############      %%%%%%%%%%%%%%%%%%%%%%%%\n",
      "                ##################     %%%%%%%%%%%%%%%%%%%%%%%\n",
      "                ###################     %%%%%%%%%%%%%%%%%%%%%%%\n",
      "                ####################     %%%%%%%%%%%%%%%%%%%%%%\n",
      "                #####################     %%%%%%%%%%%%%%%%%%%%%\n",
      "                ######################     %%%%%%%%%%%%%%%%%%%%\n",
      "                #######################     %%%%%%%%%%%%%%%%%%\n",
      "                 #######################     %%%%%%%%%%%%%%%%%\n",
      "                 ######################     %%%%%%%%%%%%%%%%%\n",
      "                  ####################     %%%%%%%%%%%%%%%%%\n",
      "                    #################     %%%%%%%%%%%%%%%%%\n",
      "                     ###############     %%%%%%%%%%%%%%%%\n",
      "                       ############     %%%%%%%%%%%%%%%\n",
      "                          ########     %%%%%%%%%%%%%%\n",
      "                                      %%%%%%%%%%%\n",
      "\n",
      "                 | The OpenMC Monte Carlo Code\n",
      "       Copyright | 2011-2023 MIT, UChicago Argonne LLC, and contributors\n",
      "         License | https://docs.openmc.org/en/latest/license.html\n",
      "         Version | 0.13.3\n",
      "        Git SHA1 | 50e39a4e20dc9e0f3d7ccf07333f6a5e6c797c8c\n",
      "       Date/Time | 2023-10-23 07:38:51\n",
      "   MPI Processes | 1\n",
      "  OpenMP Threads | 36\n",
      "\n",
      " Reading settings XML file...\n",
      " Reading cross sections XML file...\n",
      " Reading materials XML file...\n",
      " Reading geometry XML file...\n",
      " Reading Th232 from /home/sblair/OMC_DATA/endfb71_hdf5/Th232.h5\n",
      " Reading U235 from /home/sblair/OMC_DATA/endfb71_hdf5/U235.h5\n",
      " Reading U238 from /home/sblair/OMC_DATA/endfb71_hdf5/U238.h5\n",
      " Reading O16 from /home/sblair/OMC_DATA/endfb71_hdf5/O16.h5\n",
      " Reading O17 from /home/sblair/OMC_DATA/endfb71_hdf5/O17.h5\n",
      " Reading C0 from /home/sblair/OMC_DATA/endfb71_hdf5/C0.h5\n",
      " Reading He3 from /home/sblair/OMC_DATA/endfb71_hdf5/He3.h5\n",
      " Reading He4 from /home/sblair/OMC_DATA/endfb71_hdf5/He4.h5\n",
      " Minimum neutron data temperature: 294 K\n",
      " Maximum neutron data temperature: 294 K\n",
      " Reading tallies XML file...\n",
      " Preparing distributed cell instances...\n",
      " Reading plot XML file...\n",
      " WARNING: Could not find material 1 specified in plot 4\n",
      " WARNING: Could not find material 3 specified in plot 4\n",
      " Writing summary.h5 file...\n",
      " Maximum neutron transport energy: 20000000 eV for U235\n",
      " Initializing source particles...\n",
      "\n",
      " ====================>     K EIGENVALUE SIMULATION     <====================\n",
      "\n",
      "  Bat./Gen.      k            Average k\n",
      "  =========   ========   ====================\n",
      "        1/1    0.87319\n",
      "        2/1    0.93236\n",
      "        3/1    0.96396\n",
      "        4/1    0.93394\n",
      "        5/1    0.87568\n",
      "        6/1    0.83272\n",
      "        7/1    0.86180\n",
      "        8/1    0.84533\n",
      "        9/1    0.87905\n",
      "       10/1    0.91256\n",
      "       11/1    0.90047\n",
      "       12/1    0.85847    0.87947 +/- 0.02100\n",
      "       13/1    0.92862    0.89585 +/- 0.02038\n",
      "       14/1    0.90450    0.89801 +/- 0.01457\n",
      "       15/1    0.83927    0.88626 +/- 0.01629\n",
      "       16/1    0.86755    0.88315 +/- 0.01366\n",
      "       17/1    0.91468    0.88765 +/- 0.01240\n",
      "       18/1    0.85417    0.88347 +/- 0.01152\n",
      "       19/1    0.95091    0.89096 +/- 0.01263\n",
      "       20/1    0.85698    0.88756 +/- 0.01179\n",
      "       21/1    0.81905    0.88133 +/- 0.01235\n",
      "       22/1    0.80489    0.87496 +/- 0.01295\n",
      "       23/1    0.93215    0.87936 +/- 0.01270\n",
      "       24/1    0.85486    0.87761 +/- 0.01189\n",
      "       25/1    0.92478    0.88076 +/- 0.01150\n",
      "       26/1    0.89819    0.88185 +/- 0.01082\n",
      "       27/1    0.87638    0.88152 +/- 0.01017\n",
      "       28/1    0.85953    0.88030 +/- 0.00966\n",
      "       29/1    0.87945    0.88026 +/- 0.00914\n",
      "       30/1    0.89398    0.88094 +/- 0.00870\n",
      "       31/1    0.82268    0.87817 +/- 0.00873\n",
      "       32/1    0.85862    0.87728 +/- 0.00837\n",
      "       33/1    0.91037    0.87872 +/- 0.00812\n",
      "       34/1    0.89995    0.87960 +/- 0.00783\n",
      "       35/1    0.97827    0.88355 +/- 0.00848\n",
      "       36/1    0.97205    0.88695 +/- 0.00883\n",
      "       37/1    0.88882    0.88702 +/- 0.00850\n",
      "       38/1    0.87232    0.88650 +/- 0.00821\n",
      "       39/1    0.87405    0.88607 +/- 0.00793\n",
      "       40/1    1.01546    0.89038 +/- 0.00879\n",
      "       41/1    0.93467    0.89181 +/- 0.00862\n",
      "       42/1    0.90736    0.89230 +/- 0.00836\n",
      "       43/1    0.87133    0.89166 +/- 0.00813\n",
      "       44/1    0.89010    0.89162 +/- 0.00789\n",
      "       45/1    0.92514    0.89257 +/- 0.00772\n",
      "       46/1    0.86011    0.89167 +/- 0.00756\n",
      "       47/1    0.88544    0.89150 +/- 0.00735\n",
      "       48/1    0.96045    0.89332 +/- 0.00738\n",
      "       49/1    0.85824    0.89242 +/- 0.00724\n",
      "       50/1    0.87277    0.89193 +/- 0.00708\n",
      "       51/1    0.95598    0.89349 +/- 0.00708\n",
      "       52/1    0.87327    0.89301 +/- 0.00692\n",
      "       53/1    0.86443    0.89234 +/- 0.00679\n",
      "       54/1    0.96032    0.89389 +/- 0.00682\n",
      "       55/1    0.97865    0.89577 +/- 0.00692\n",
      "       56/1    0.91895    0.89628 +/- 0.00679\n",
      "       57/1    0.92501    0.89689 +/- 0.00667\n",
      "       58/1    0.91404    0.89724 +/- 0.00654\n",
      "       59/1    0.98204    0.89898 +/- 0.00664\n",
      "       60/1    0.90827    0.89916 +/- 0.00650\n",
      "       61/1    0.91593    0.89949 +/- 0.00638\n",
      "       62/1    0.84547    0.89845 +/- 0.00635\n",
      "       63/1    0.94209    0.89927 +/- 0.00628\n",
      "       64/1    0.97897    0.90075 +/- 0.00634\n",
      "       65/1    0.91357    0.90098 +/- 0.00622\n",
      "       66/1    0.80358    0.89924 +/- 0.00635\n",
      "       67/1    0.98924    0.90082 +/- 0.00644\n",
      "       68/1    0.89719    0.90076 +/- 0.00633\n",
      "       69/1    0.85836    0.90004 +/- 0.00626\n",
      "       70/1    0.87517    0.89963 +/- 0.00617\n",
      "       71/1    0.87944    0.89930 +/- 0.00608\n",
      "       72/1    0.93983    0.89995 +/- 0.00601\n",
      "       73/1    0.87059    0.89948 +/- 0.00593\n",
      "       74/1    0.85079    0.89872 +/- 0.00589\n",
      "       75/1    0.91472    0.89897 +/- 0.00580\n",
      "       76/1    0.88758    0.89880 +/- 0.00572\n",
      "       77/1    0.95890    0.89969 +/- 0.00570\n",
      "       78/1    0.93546    0.90022 +/- 0.00564\n",
      "       79/1    0.98724    0.90148 +/- 0.00570\n",
      "       80/1    0.88902    0.90130 +/- 0.00562\n",
      "       81/1    0.89474    0.90121 +/- 0.00554\n",
      "       82/1    0.98616    0.90239 +/- 0.00559\n",
      "       83/1    0.96239    0.90321 +/- 0.00558\n",
      "       84/1    0.84876    0.90248 +/- 0.00555\n",
      "       85/1    0.85384    0.90183 +/- 0.00551\n",
      "       86/1    0.92444    0.90213 +/- 0.00545\n",
      "       87/1    0.94415    0.90267 +/- 0.00540\n",
      "       88/1    0.87309    0.90229 +/- 0.00535\n",
      "       89/1    0.94098    0.90278 +/- 0.00530\n",
      "       90/1    0.97191    0.90365 +/- 0.00531\n",
      "       91/1    0.83497    0.90280 +/- 0.00531\n",
      "       92/1    0.84208    0.90206 +/- 0.00530\n",
      "       93/1    0.86679    0.90163 +/- 0.00525\n",
      "       94/1    0.85312    0.90105 +/- 0.00522\n",
      "       95/1    0.90087    0.90105 +/- 0.00516\n",
      "       96/1    0.86686    0.90066 +/- 0.00511\n",
      "       97/1    0.92919    0.90098 +/- 0.00506\n",
      "       98/1    0.89080    0.90087 +/- 0.00501\n",
      "       99/1    0.79502    0.89968 +/- 0.00509\n",
      "      100/1    0.91950    0.89990 +/- 0.00504\n",
      " Creating state point statepoint.100.h5...\n",
      "\n",
      " =======================>     TIMING STATISTICS     <=======================\n",
      "\n",
      " Total time for initialization     = 4.3085e-01 seconds\n",
      "   Reading cross sections          = 4.0634e-01 seconds\n",
      " Total time in simulation          = 1.2959e+01 seconds\n",
      "   Time in transport only          = 1.2887e+01 seconds\n",
      "   Time in inactive batches        = 1.7564e-01 seconds\n",
      "   Time in active batches          = 1.2783e+01 seconds\n",
      "   Time synchronizing fission bank = 7.8909e-03 seconds\n",
      "     Sampling source sites         = 6.3512e-03 seconds\n",
      "     SEND/RECV source sites        = 8.7534e-04 seconds\n",
      "   Time accumulating tallies       = 3.5845e-02 seconds\n",
      "   Time writing statepoints        = 4.5381e-03 seconds\n",
      " Total time for finalization       = 1.2557e-04 seconds\n",
      " Total time elapsed                = 1.3398e+01 seconds\n",
      " Calculation Rate (inactive)       = 56934.5 particles/second\n",
      " Calculation Rate (active)         = 7040.63 particles/second\n",
      "\n",
      " ============================>     RESULTS     <============================\n",
      "\n",
      " k-effective (Collision)     = 0.89983 +/- 0.00502\n",
      " k-effective (Track-length)  = 0.89990 +/- 0.00504\n",
      " k-effective (Absorption)    = 0.89896 +/- 0.00286\n",
      " Combined k-effective        = 0.89908 +/- 0.00282\n",
      " Leakage Fraction            = 0.00000 +/- 0.00000\n",
      "\n"
     ]
    }
   ],
   "source": [
    "openmc.run()"
   ]
  },
  {
   "cell_type": "code",
   "execution_count": 29,
   "id": "f0c6307a-f7a7-479b-9f8c-c4d08a2c25f7",
   "metadata": {},
   "outputs": [
    {
     "name": "stdout",
     "output_type": "stream",
     "text": [
      " ============================>     TALLY 1     <============================\r\n",
      "\r\n",
      " Cell 2\r\n",
      "   U235\r\n",
      "     Total Reaction Rate                  0.584055 +/- 0.00263982\r\n",
      "     Fission Rate                         0.366825 +/- 0.00206681\r\n",
      "     Absorption Rate                      0.468956 +/- 0.00248892\r\n",
      "     (n,gamma)                            0.102131 +/- 0.000440239\r\n"
     ]
    }
   ],
   "source": [
    "!cat tallies.out"
   ]
  },
  {
   "cell_type": "markdown",
   "id": "a2959a99-e2c7-4461-9d83-83d63d1f0bd8",
   "metadata": {},
   "source": [
    "## Plot Geometry"
   ]
  },
  {
   "cell_type": "code",
   "execution_count": 30,
   "id": "4719882c-6b7b-40b6-a75f-22f3a51b1a42",
   "metadata": {},
   "outputs": [],
   "source": [
    "plot = openmc.Plot()\n",
    "plot.filename = 'pinplot'\n",
    "#plot.width = (pitch,pitch)\n",
    "plot.width = (matCubeL,matCubeL)\n",
    "plot.pixels = (200,200)\n",
    "plot.color_by = 'material'\n",
    "plot.colors = {fuel: 'yellow',hel_Cool: 'blue'}"
   ]
  },
  {
   "cell_type": "code",
   "execution_count": 31,
   "id": "cd861feb-9b0b-4b3e-987e-e2261440a24d",
   "metadata": {},
   "outputs": [
    {
     "name": "stdout",
     "output_type": "stream",
     "text": [
      "<?xml version='1.0' encoding='utf-8'?>\r\n",
      "<plots>\r\n",
      "  <plot basis=\"xy\" color_by=\"material\" filename=\"pinplot\" id=\"3\" type=\"slice\">\r\n",
      "    <origin>0.0 0.0 0.0</origin>\r\n",
      "    <width>1 1</width>\r\n",
      "    <pixels>200 200</pixels>\r\n",
      "    <color id=\"1\" rgb=\"255 255 0\" />\r\n",
      "    <color id=\"3\" rgb=\"0 0 255\" />\r\n",
      "  </plot>\r\n",
      "</plots>\r\n"
     ]
    }
   ],
   "source": [
    "plots = openmc.Plots([plot])\n",
    "plots.export_to_xml()\n",
    "!cat plots.xml"
   ]
  },
  {
   "cell_type": "code",
   "execution_count": 32,
   "id": "7ff35559-c104-4b52-8e07-48f9870a9977",
   "metadata": {},
   "outputs": [
    {
     "name": "stdout",
     "output_type": "stream",
     "text": [
      "hwloc/linux: Ignoring PCI device with non-16bit domain.\n",
      "Pass --enable-32bits-pci-domain to configure to support such devices\n",
      "(warning: it would break the library ABI, don't enable unless really needed).\n",
      "                                %%%%%%%%%%%%%%%\n",
      "                           %%%%%%%%%%%%%%%%%%%%%%%%\n",
      "                        %%%%%%%%%%%%%%%%%%%%%%%%%%%%%%\n",
      "                      %%%%%%%%%%%%%%%%%%%%%%%%%%%%%%%%%%\n",
      "                    %%%%%%%%%%%%%%%%%%%%%%%%%%%%%%%%%%%%%%\n",
      "                   %%%%%%%%%%%%%%%%%%%%%%%%%%%%%%%%%%%%%%%%\n",
      "                                    %%%%%%%%%%%%%%%%%%%%%%%%\n",
      "                                     %%%%%%%%%%%%%%%%%%%%%%%%\n",
      "                 ###############      %%%%%%%%%%%%%%%%%%%%%%%%\n",
      "                ##################     %%%%%%%%%%%%%%%%%%%%%%%\n",
      "                ###################     %%%%%%%%%%%%%%%%%%%%%%%\n",
      "                ####################     %%%%%%%%%%%%%%%%%%%%%%\n",
      "                #####################     %%%%%%%%%%%%%%%%%%%%%\n",
      "                ######################     %%%%%%%%%%%%%%%%%%%%\n",
      "                #######################     %%%%%%%%%%%%%%%%%%\n",
      "                 #######################     %%%%%%%%%%%%%%%%%\n",
      "                 ######################     %%%%%%%%%%%%%%%%%\n",
      "                  ####################     %%%%%%%%%%%%%%%%%\n",
      "                    #################     %%%%%%%%%%%%%%%%%\n",
      "                     ###############     %%%%%%%%%%%%%%%%\n",
      "                       ############     %%%%%%%%%%%%%%%\n",
      "                          ########     %%%%%%%%%%%%%%\n",
      "                                      %%%%%%%%%%%\n",
      "\n",
      "                 | The OpenMC Monte Carlo Code\n",
      "       Copyright | 2011-2023 MIT, UChicago Argonne LLC, and contributors\n",
      "         License | https://docs.openmc.org/en/latest/license.html\n",
      "         Version | 0.13.3\n",
      "        Git SHA1 | 50e39a4e20dc9e0f3d7ccf07333f6a5e6c797c8c\n",
      "       Date/Time | 2023-10-23 07:39:05\n",
      "   MPI Processes | 1\n",
      "  OpenMP Threads | 36\n",
      "\n",
      " Reading settings XML file...\n",
      " Reading cross sections XML file...\n",
      " Reading materials XML file...\n",
      " Reading geometry XML file...\n",
      " Reading tallies XML file...\n",
      " Preparing distributed cell instances...\n",
      " Reading plot XML file...\n",
      " WARNING: Could not find material 1 specified in plot 3\n",
      " WARNING: Could not find material 3 specified in plot 3\n",
      "\n",
      " =======================>     PLOTTING SUMMARY     <========================\n",
      "\n",
      "Plot ID: 3\n",
      "Plot file: pinplot.png\n",
      "Universe depth: -1\n",
      "Plot Type: Slice\n",
      "Origin: 0 0 0\n",
      "Width:    1    1\n",
      "Coloring: Materials\n",
      "Basis: XY\n",
      "Pixels: 200 200\n",
      "\n",
      " Processing plot 3: pinplot.png...\n"
     ]
    }
   ],
   "source": [
    "openmc.plot_geometry()"
   ]
  },
  {
   "cell_type": "code",
   "execution_count": 33,
   "id": "cc793753-2d48-4b74-8b1a-714d1ad8e3fb",
   "metadata": {},
   "outputs": [
    {
     "data": {
      "image/png": "[encoded data removed]",
      "text/plain": [
       "<IPython.core.display.Image object>"
      ]
     },
     "execution_count": 33,
     "metadata": {},
     "output_type": "execute_result"
    }
   ],
   "source": [
    "from IPython.display import Image\n",
    "Image('pinplot.png')"
   ]
  },
  {
   "cell_type": "code",
   "execution_count": 34,
   "id": "46887c0f-2aa2-49fe-b907-fddbd9822d79",
   "metadata": {},
   "outputs": [
    {
     "data": {
      "image/png": "[encoded data removed]",
      "text/plain": [
       "<IPython.core.display.Image object>"
      ]
     },
     "execution_count": 34,
     "metadata": {},
     "output_type": "execute_result"
    }
   ],
   "source": [
    "plot.to_ipython_image()"
   ]
  },
  {
   "cell_type": "code",
   "execution_count": null,
   "id": "19aab30e",
   "metadata": {},
   "outputs": [],
   "source": []
  }
 ],
 "metadata": {
  "kernelspec": {
   "display_name": "Python 3 (ipykernel)",
   "language": "python",
   "name": "python3"
  },
  "language_info": {
   "codemirror_mode": {
    "name": "ipython",
    "version": 3
   },
   "file_extension": ".py",
   "mimetype": "text/x-python",
   "name": "python",
   "nbconvert_exporter": "python",
   "pygments_lexer": "ipython3",
   "version": "3.9.16"
  }
 },
 "nbformat": 4,
 "nbformat_minor": 5
}
