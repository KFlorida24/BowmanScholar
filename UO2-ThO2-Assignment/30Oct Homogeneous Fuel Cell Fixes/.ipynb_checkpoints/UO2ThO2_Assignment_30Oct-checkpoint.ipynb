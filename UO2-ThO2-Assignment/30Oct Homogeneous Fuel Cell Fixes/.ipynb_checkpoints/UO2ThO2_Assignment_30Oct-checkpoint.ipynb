{
 "cells": [
  {
   "cell_type": "markdown",
   "id": "97609094-cf19-4b02-b7d9-3feed71a4d2d",
   "metadata": {},
   "source": [
    "# Florida UO2 ThO2 Mixture Assignment: 30Oct"
   ]
  },
  {
   "cell_type": "code",
   "execution_count": null,
   "id": "38f81133-0b87-48ba-9e95-f45c7d9d5c75",
   "metadata": {},
   "outputs": [],
   "source": [
    "%matplotlib inline\n",
    "import openmc\n",
    "import math"
   ]
  },
  {
   "cell_type": "code",
   "execution_count": 34,
   "id": "e8fb27ee-72dc-490d-bfd7-cc7cf2c65d4a",
   "metadata": {},
   "outputs": [
    {
     "name": "stdout",
     "output_type": "stream",
     "text": [
      "Please select whether you want to do one run with user inputs (1) or a continuous run (2).\n"
     ]
    },
    {
     "name": "stdin",
     "output_type": "stream",
     "text": [
      " 1\n"
     ]
    },
    {
     "name": "stdout",
     "output_type": "stream",
     "text": [
      "Single Run, User Input\n"
     ]
    }
   ],
   "source": [
    "while True:\n",
    "    try:\n",
    "        print('Please select whether you want to do one run with user inputs (1) or a continuous run (2).')\n",
    "        userInputTF = int(input())\n",
    "    except ValueError:\n",
    "        print(\"Please type in a valid number (1 or 2)\")\n",
    "        continue\n",
    "    if userInputTF not in (1,2):\n",
    "        print(\"Please type in a valid entry (1 or 2)\")\n",
    "        continue\n",
    "    else:\n",
    "        break\n",
    "if userInputTF == 1: \n",
    "    print(\"Single Run, User Input\")\n",
    "elif userInputTF == 2:\n",
    "    print(\"Continuous Run (Currently not supported)\")"
   ]
  },
  {
   "cell_type": "code",
   "execution_count": 39,
   "id": "c3b6cafe-b2ad-48e4-aa7d-157431178da9",
   "metadata": {},
   "outputs": [
    {
     "name": "stdin",
     "output_type": "stream",
     "text": [
      "Desired UO2 Mass Density [g/cc]? (Press Enter key for default for default value of 10.45 g/cc) \n"
     ]
    },
    {
     "name": "stdout",
     "output_type": "stream",
     "text": [
      "UO2 Mass Density:  10.45\n"
     ]
    }
   ],
   "source": [
    "if userInputTF == 1:\n",
    "    while True:\n",
    "        try:\n",
    "            UO2MassRho = float(input('Desired UO2 Mass Density [g/cc]? (Press Enter key for default for default value of 10.45 g/cc)') or 10.45)\n",
    "        except ValueError:\n",
    "            print(\"Please type in a valid number (no characters)\")\n",
    "            continue\n",
    "        else:\n",
    "            break\n",
    "    while True:\n",
    "        try:\n",
    "            UO2Enrichment = float(input('UO2 Enrichment [g/cc]? (Press Enter key for default for default value of 10.45 g/cc)') or 10.45)\n",
    "        except ValueError:\n",
    "            print(\"Please type in a valid number (no characters)\")\n",
    "            continue\n",
    "        else:\n",
    "            break\n",
    "    while True:\n",
    "        try:\n",
    "            UO2MassRho = float(input('Desired UO2 Mass Density [g/cc]? (Press Enter key for default for default value of 10.45 g/cc)') or 10.45)\n",
    "        except ValueError:\n",
    "            print(\"Please type in a valid number (no characters)\")\n",
    "            continue\n",
    "        else:\n",
    "            break\n",
    "    print('UO2 Mass Density: ', UO2MassRho, 'g/cc')\n",
    "    print('UO2 Enrichment: ', UO2Enrichment, 'g/cc')\n",
    "    print('Fuel UO2 Percent: ', pctLEU, 'g/cc')\n",
    "    print('Fuel Thorium Percent: ', 1 - pctLEU, 'g/cc')\n"
   ]
  },
  {
   "cell_type": "markdown",
   "id": "4b18edad-601f-4c50-87fe-9f6b64f79b09",
   "metadata": {},
   "source": [
    "## Calculate Weight Percentages"
   ]
  },
  {
   "cell_type": "code",
   "execution_count": null,
   "id": "44e825ce-c957-4596-a76b-19399e522fcc",
   "metadata": {},
   "outputs": [],
   "source": [
    "# Constants - via PNNL Mat'l Comp., Rev-2\n",
    "ThO2OAtomRho = 0.044247 # Oxygen Atom Density in ThO2 [atom/b-cm]\n",
    "ThO2ThAtomRho = 0.022124 # Thorium Atom Density in ThO2 [atom/b-cm]\n",
    "ThMolW = 232. # Molecular Weight of Th [g/mol]\n",
    "OMolW = 16. # Molecular Weight of O [g/mol]\n",
    "ThO2MolW = ThMolW + 2*OMolW # Molecular Weight of ThO2 [g/mol]\n",
    "U235MolW = 235. # Molecular Weight of U-235 [g/mol]\n",
    "U238MolW = 238. # Molecular Weight of U-238 [g/mol]\n",
    "ThO2MassRho = 9.7 # Mass Density of ThO2 [g/cm^3]\n",
    "graphMassRho = 2.26 # Mass Density of Graphite [g/cm^3]\n",
    "he_CoolMassRho = 0.000178 # Mass Density of He @ 293K [g/cm^3]\n",
    "avo = 0.6022 # Avogadro's Number\n",
    "\n",
    "# Results of Constants and Input Parameters\n",
    "# Weight percent of Th in LEU mixture\n",
    "pctTh = 1 - pctLEU \n",
    "# Total Mixture Density\n",
    "UThMixMassRho = (pctLEU/UO2MassRho + pctTh/ThO2MassRho)**-1 # [g/cm]\n",
    "# UO2 Atom Densities\n",
    "UO2UMolW = ((UO2Enrichment/U235MolW) + ((1 - UO2Enrichment)/U238MolW))**-1 # Molecular Weight of U in UO2 [g/mol]\n",
    "UO2MolW = UO2UMolW + 2*16 # Molecular Weight of UO2 [g/mol]\n",
    "UO2OAtomRho = (UO2MassRho/UO2MolW)*2*avo # O Atom Density in UO2 [atom/b-cm]\n",
    "UO2U235AtomRho = (UO2Enrichment*UO2MassRho*(UO2UMolW/UO2MolW)/U235MolW)*avo # U-235 Atom Density in UO2 [atom/b-cm] \n",
    "UO2U238AtomRho = ((1 - UO2Enrichment)*UO2MassRho*(UO2UMolW/UO2MolW)/U238MolW)*avo # U-238 Atom Density in UO2 [atom/b-cm]\n",
    "UO2U235AtomRhoFrac = UO2U235AtomRho/(UO2U235AtomRho+UO2U238AtomRho)\n",
    "UO2U238AtomRhoFrac = UO2U238AtomRho/(UO2U235AtomRho+UO2U238AtomRho)\n",
    "# UO2 ThO2 Mixture Atom Densities\n",
    "UThMixOAtomRho = (pctTh*UThMixMassRho/ThO2MolW)*2*avo + (pctLEU*UThMixMassRho/UO2MolW)*2*avo # Oxygen Atom Density in Fuel Mixture [atom/b-cm]\n",
    "UThMixThAtomRho = (pctTh*UThMixMassRho/ThO2MolW)*avo # Uranium Atom Density in Fuel Mixture [atom/b-cm] \n",
    "UThMixU235AtomRho = (pctLEU*UThMixMassRho/UO2MolW)*avo*UO2U235AtomRhoFrac # Uranium Atom Density in Fuel Mixture [atom/b-cm]\n",
    "UThMixU238AtomRho = (pctLEU*UThMixMassRho/UO2MolW)*avo*UO2U238AtomRhoFrac # Uranium Atom Density in Fuel Mixture [atom/b-cm]\n",
    "# UO2 ThO2 Mixture Atom Fractions\n",
    "# Normalized to 1\n",
    "UThMixOAtomFrac = UThMixOAtomRho/(UThMixOAtomRho + UThMixThAtomRho + UThMixU235AtomRho + UThMixU238AtomRho) # Oxygen Atom Fraction in Fuel Mixture [atom/b-cm]\n",
    "UThMixThAtomFrac = UThMixThAtomRho/(UThMixOAtomRho + UThMixThAtomRho + UThMixU235AtomRho + UThMixU238AtomRho) # Uranium Atom Fraction in Fuel Mixture [atom/b-cm] \n",
    "UThMixU235AtomFrac = UThMixU235AtomRho/(UThMixOAtomRho + UThMixThAtomRho + UThMixU235AtomRho + UThMixU238AtomRho) # Uranium Atom Fraction in Fuel Mixture [atom/b-cm]\n",
    "UThMixU238AtomFrac = UThMixU238AtomRho/(UThMixOAtomRho + UThMixThAtomRho + UThMixU235AtomRho + UThMixU238AtomRho) # Uranium Atom Density in Fuel Mixture [atom/b-cm]\n",
    "# Normalized to 3\n",
    "UThMixOAtomFrac3 = UThMixOAtomFrac*3 # Oxygen Atom Fraction in Fuel Mixture [atom/b-cm]\n",
    "UThMixU235AtomFrac3 = UThMixU235AtomFrac*3 # Uranium Atom Fraction in Fuel Mixture [atom/b-cm] \n",
    "UThMixU238AtomFrac3 = UThMixU238AtomFrac*3 # Uranium Atom Fraction in Fuel Mixture [atom/b-cm]\n",
    "UThMixThAtomFrac3 = UThMixThAtomFrac*3 # Uranium Atom Density in Fuel Mixture [atom/b-cm]"
   ]
  },
  {
   "cell_type": "markdown",
   "id": "c4d2c7d1-838a-45c2-88fb-edbb22e2ee1f",
   "metadata": {},
   "source": [
    "## Calculate Vol %"
   ]
  },
  {
   "cell_type": "code",
   "execution_count": null,
   "id": "5a80e691-2176-4e90-87d6-149c26ba9eea",
   "metadata": {},
   "outputs": [],
   "source": [
    "# Constants\n",
    "vF_Pebbles_Core = 2./3 # Volume Fraction of Pebbles in Core (Max packing factor)\n",
    "vF_TRISO_Pebbles = 0.4 # Volume Fraction of TRISO in Pebbles\n",
    "vF_Fuel_TRISO = 0.15 # Volume Fraction of Fuel in TRISO\n",
    "fuelVolFrac = vF_Pebbles_Core*vF_TRISO_Pebbles*vF_Fuel_TRISO # Volume Fraction of Fuel\n",
    "graphVolFrac = vF_Pebbles_Core*(1 - (vF_TRISO_Pebbles*vF_Fuel_TRISO)) # Total Volume Fraction of Graphite\n",
    "hel_CoolVolFrac = 1 - (fuelVolFrac + graphVolFrac) # Total Volume Fraction of Helium\n",
    "totalVolFrac = fuelVolFrac + graphVolFrac + hel_CoolVolFrac # Total Volume\n",
    "\n",
    "# Parameters\n",
    "# Cube\n",
    "matCubeL = 1 # [cm]\n",
    "cubeVol = matCubeL**3 # [cm^3]\n",
    "# Sphere\n",
    "matSphereRad = 1 # [cm]\n",
    "sphereVol = (4/3)*math.pi*matSphereRad**3\n",
    "\n",
    "# Volume Output\n",
    "#Cube\n",
    "fuelCubeVol = fuelVolFrac*cubeVol\n",
    "graphCubeVol = graphVolFrac*cubeVol\n",
    "hel_CoolCubeVol = hel_CoolVolFrac*cubeVol\n",
    "totalCubeVol = fuelCubeVol + graphCubeVol + hel_CoolCubeVol\n",
    "#Sphere\n",
    "fuelSphereVol = fuelVolFrac*sphereVol\n",
    "graphSphereVol = graphVolFrac*sphereVol\n",
    "hel_CoolSphereVol = hel_CoolVolFrac*sphereVol\n",
    "totalSphereVol = fuelSphereVol + graphSphereVol + hel_CoolSphereVol\n",
    "# Mass Output\n",
    "#Cube\n",
    "fuelCubeMass = UThMixMassRho*graphCubeVol\n",
    "graphCubeMass = graphMassRho*graphCubeVol\n",
    "hel_CoolCubeMass = he_CoolMassRho*graphCubeVol\n",
    "totalCubeMass = fuelCubeMass + graphCubeMass + hel_CoolCubeMass\n",
    "#Sphere\n",
    "fuelSphereMass = UThMixMassRho*graphSphereVol\n",
    "graphSphereMass = graphMassRho*graphSphereVol\n",
    "hel_CoolSphereMass = he_CoolMassRho*graphSphereVol\n",
    "totalSphereMass = fuelSphereMass + graphSphereMass + hel_CoolSphereMass"
   ]
  },
  {
   "cell_type": "markdown",
   "id": "d2239ece-c69c-47e0-ae4a-b3ae71d94cd3",
   "metadata": {},
   "source": [
    "## Define Materials"
   ]
  },
  {
   "cell_type": "code",
   "execution_count": null,
   "id": "fdd19e67-da43-46cd-83a9-5c1e27b115ee",
   "metadata": {},
   "outputs": [],
   "source": [
    "fuel = openmc.Material(name='fuel');\n",
    "#The below ratios were calculated assuming 95%LEU-5%Th Oxide Fuel.\n",
    "fuel.add_nuclide('Th232', UThMixThAtomFrac, 'ao')\n",
    "fuel.add_nuclide('U235', UThMixU235AtomFrac, 'ao') #5% U-235 enrichment\n",
    "fuel.add_nuclide('U238', UThMixU238AtomFrac, 'ao')\n",
    "fuel.add_element('O', UThMixOAtomFrac, 'ao')\n",
    "fuel.set_density('g/cm3', UThMixMassRho) # Based on assumption of fuel density within TRISO\n",
    "fuel.volume = cubeVol\n",
    "print(fuel)"
   ]
  },
  {
   "cell_type": "code",
   "execution_count": null,
   "id": "aabfb205-adea-4cee-abfd-8045c9169098",
   "metadata": {},
   "outputs": [],
   "source": [
    "# Establish Graphite Moderator material\n",
    "graph = openmc.Material(name='graph')\n",
    "# add nuclides to graph\n",
    "graph.add_element('C', 1.00)\n",
    "graph.set_density('g/cm3', graphMassRho)\n",
    "print(graph)"
   ]
  },
  {
   "cell_type": "code",
   "execution_count": null,
   "id": "b9220eb4-f9fa-4358-b453-0bbf367f82d8",
   "metadata": {},
   "outputs": [],
   "source": [
    "# Establish Helium Coolant material\n",
    "hel_Cool = openmc.Material(name='hel_Cool')\n",
    "# add nuclides to hel_Cool\n",
    "hel_Cool.add_nuclide('He3', 0.000002)\n",
    "hel_Cool.add_nuclide('He4', 0.999998)\n",
    "hel_Cool.set_density('g/cm3', he_CoolMassRho)\n",
    "print(hel_Cool)"
   ]
  },
  {
   "cell_type": "code",
   "execution_count": null,
   "id": "a2148824-43c4-4023-b6bf-3364ad96f6fe",
   "metadata": {},
   "outputs": [],
   "source": [
    "#materials = openmc.Materials([fuel, graph, hel_Cool])\n",
    "# instead of doing this, let's try creating a material object that is a mixture\n",
    "# of fuel, graphite and helium coolant\n",
    "\n",
    "mixMat = openmc.Material.mix_materials([fuel,graph,hel_Cool],\n",
    "                                       fracs=[fuelVolFrac,graphVolFrac,hel_CoolCubeVol],\n",
    "                                      percent_type='vo',\n",
    "                                      )\n",
    "\n",
    "print(mixMat)\n",
    "\n"
   ]
  },
  {
   "cell_type": "code",
   "execution_count": null,
   "id": "d2244185-cab3-4b81-a8b0-0fba1f075c59",
   "metadata": {},
   "outputs": [],
   "source": [
    "materials = openmc.Materials()\n",
    "#materials += [fuel, graph, hel_Cool]\n",
    "materials += [mixMat]\n",
    "isinstance(materials,list)"
   ]
  },
  {
   "cell_type": "markdown",
   "id": "442f20be-9153-418c-937e-187777b3411e",
   "metadata": {},
   "source": [
    "## Export Materials as XML"
   ]
  },
  {
   "cell_type": "code",
   "execution_count": null,
   "id": "5396a28b-d67e-4e45-b1f0-8a91323f6d5a",
   "metadata": {},
   "outputs": [],
   "source": [
    "materials.export_to_xml()\n",
    "!cat materials.xml"
   ]
  },
  {
   "cell_type": "markdown",
   "id": "adb5ddd7-4d20-416a-a29e-b424769f9111",
   "metadata": {},
   "source": [
    "## Define Universe Geometry"
   ]
  },
  {
   "cell_type": "code",
   "execution_count": null,
   "id": "6b4cb29b-3be7-4b96-bcbc-535eb8bf9236",
   "metadata": {},
   "outputs": [],
   "source": [
    "l_cube = 2.0;\n",
    "universeCube = openmc.model.RectangularParallelepiped(-l_cube, l_cube, -l_cube, l_cube, -l_cube, l_cube)"
   ]
  },
  {
   "cell_type": "code",
   "execution_count": null,
   "id": "bb1a6d07-bad3-42fb-a6d6-8eb8b8e82b6e",
   "metadata": {},
   "outputs": [],
   "source": [
    "insideCube = -universeCube\n",
    "outsideCube = +universeCube"
   ]
  },
  {
   "cell_type": "code",
   "execution_count": null,
   "id": "a9d26628-a94d-410e-9f2f-4b86b8e82288",
   "metadata": {},
   "outputs": [],
   "source": [
    "cell = openmc.Cell()\n",
    "cell.region = insideCube"
   ]
  },
  {
   "cell_type": "code",
   "execution_count": null,
   "id": "9ec4e7b8-9e29-4cd5-b1b8-46c6063a0b35",
   "metadata": {},
   "outputs": [],
   "source": [
    "universe = openmc.Universe()\n",
    "universe.add_cell(cell)"
   ]
  },
  {
   "cell_type": "code",
   "execution_count": null,
   "id": "1013ad34-c63c-4ec3-862e-1504b92e7ed0",
   "metadata": {},
   "outputs": [],
   "source": [
    "universe.plot(width=(5, 5), basis='xz', colors={cell: 'fuchsia'})"
   ]
  },
  {
   "cell_type": "markdown",
   "id": "569ff1fd-f6b5-4f3b-b5eb-52bd9055eed6",
   "metadata": {},
   "source": [
    "## Define Bounding Geometry"
   ]
  },
  {
   "cell_type": "code",
   "execution_count": null,
   "id": "ca79c413-bc02-4b25-bfdc-45ca01be5390",
   "metadata": {},
   "outputs": [],
   "source": [
    "matBox = openmc.model.RectangularParallelepiped(-matCubeL/2, matCubeL/2, \n",
    "                                                -matCubeL/2, matCubeL/2, \n",
    "                                                -matCubeL/2, matCubeL/2,\n",
    "                                                boundary_type='reflective')"
   ]
  },
  {
   "cell_type": "code",
   "execution_count": null,
   "id": "8a68c56b",
   "metadata": {},
   "outputs": [],
   "source": [
    "type(matBox)"
   ]
  },
  {
   "cell_type": "code",
   "execution_count": null,
   "id": "df735618-6e9b-4559-bad7-02c7ac27eec7",
   "metadata": {},
   "outputs": [],
   "source": [
    "material_region = -matBox"
   ]
  },
  {
   "cell_type": "code",
   "execution_count": null,
   "id": "86c8aa24-d4b1-48c8-a1b1-4ec239ab1d1d",
   "metadata": {},
   "outputs": [],
   "source": [
    "material_Geom = openmc.Cell(name='material_Geom')\n",
    "#material_Geom.fill = materials #<<(SRB) This probably isn't correct.  Needs to be a material.\n",
    "material_Geom.fill = mixMat\n",
    "material_Geom.region = material_region"
   ]
  },
  {
   "cell_type": "code",
   "execution_count": null,
   "id": "0b75c162-551b-460b-9d4a-994a7e57b70a",
   "metadata": {},
   "outputs": [],
   "source": [
    "root_universe = openmc.Universe(cells=[material_Geom])\n",
    "\n",
    "geometry = openmc.Geometry()\n",
    "geometry.root_universe = root_universe\n",
    "geometry.export_to_xml()\n",
    "!cat geometry.xml"
   ]
  },
  {
   "cell_type": "code",
   "execution_count": null,
   "id": "66f6c1f4",
   "metadata": {},
   "outputs": [],
   "source": [
    "root_universe.plot(width=(2.5, 2.5), basis='xz', colors={cell: 'fuchsia'})"
   ]
  },
  {
   "cell_type": "markdown",
   "id": "a4619459-85fd-4499-9750-64b1b0a273e4",
   "metadata": {},
   "source": [
    "## Cross Sections"
   ]
  },
  {
   "cell_type": "code",
   "execution_count": null,
   "id": "0e1bd3de-76fb-4746-b4b8-ffb9ea8c1457",
   "metadata": {},
   "outputs": [],
   "source": [
    "!cat $OPENMC_CROSS_SECTIONS | head -n 10\n",
    "print('    ...')\n",
    "!cat $OPENMC_CROSS_SECTIONS | tail -n 10"
   ]
  },
  {
   "cell_type": "markdown",
   "id": "f3111231-59e6-4574-b1d3-64e44bd2b5cb",
   "metadata": {},
   "source": [
    "## Source"
   ]
  },
  {
   "cell_type": "code",
   "execution_count": null,
   "id": "7729d519-9244-46a9-90dd-5131426b7e0b",
   "metadata": {},
   "outputs": [],
   "source": [
    "# create a point source\n",
    "point = openmc.stats.Point((0,0,0))\n",
    "source = openmc.Source(space=point)\n"
   ]
  },
  {
   "cell_type": "code",
   "execution_count": null,
   "id": "533cc885-a679-4885-a9a1-cbaa016a0b2a",
   "metadata": {},
   "outputs": [],
   "source": [
    "settings = openmc.Settings()\n",
    "settings.source = source\n",
    "settings.batches = 100\n",
    "settings.inactive = 10\n",
    "settings.particles = 1000"
   ]
  },
  {
   "cell_type": "code",
   "execution_count": null,
   "id": "1cffe48f-230a-44c1-9e16-7eb6342c5757",
   "metadata": {},
   "outputs": [],
   "source": [
    "settings.export_to_xml()\n",
    "!cat settings.xml"
   ]
  },
  {
   "cell_type": "markdown",
   "id": "24c50672-07ec-44ed-a4e5-82eee74ac5c2",
   "metadata": {},
   "source": [
    "## Tallies"
   ]
  },
  {
   "cell_type": "code",
   "execution_count": null,
   "id": "95b9bf22-2549-44ef-bd81-da29e5bfe002",
   "metadata": {},
   "outputs": [],
   "source": [
    "cell_filter = openmc.CellFilter(material_Geom)\n",
    "\n",
    "tally = openmc.Tally(1)\n",
    "tally.filters = [cell_filter]"
   ]
  },
  {
   "cell_type": "code",
   "execution_count": null,
   "id": "08f8fe37-2dad-473a-a5f3-89b06df16127",
   "metadata": {},
   "outputs": [],
   "source": [
    "tally.nuclides = ['U235']\n",
    "tally.scores = ['total','fission','absorption','(n,gamma)']"
   ]
  },
  {
   "cell_type": "code",
   "execution_count": null,
   "id": "31dfccf1-563e-4309-acee-93107699ac5f",
   "metadata": {},
   "outputs": [],
   "source": [
    "tallies = openmc.Tallies([tally])\n",
    "tallies.export_to_xml()\n",
    "!cat tallies.xml"
   ]
  },
  {
   "cell_type": "code",
   "execution_count": null,
   "id": "8042d5f2-c952-44cd-9a03-c825f2018fc9",
   "metadata": {},
   "outputs": [],
   "source": [
    "openmc.run()"
   ]
  },
  {
   "cell_type": "code",
   "execution_count": null,
   "id": "f0c6307a-f7a7-479b-9f8c-c4d08a2c25f7",
   "metadata": {},
   "outputs": [],
   "source": [
    "!cat tallies.out"
   ]
  },
  {
   "cell_type": "markdown",
   "id": "a2959a99-e2c7-4461-9d83-83d63d1f0bd8",
   "metadata": {},
   "source": [
    "## Plot Geometry"
   ]
  },
  {
   "cell_type": "code",
   "execution_count": null,
   "id": "4719882c-6b7b-40b6-a75f-22f3a51b1a42",
   "metadata": {},
   "outputs": [],
   "source": [
    "plot = openmc.Plot()\n",
    "plot.filename = 'pinplot'\n",
    "#plot.width = (pitch,pitch)\n",
    "plot.width = (matCubeL,matCubeL)\n",
    "plot.pixels = (200,200)\n",
    "plot.color_by = 'material'\n",
    "plot.colors = {fuel: 'yellow',hel_Cool: 'blue'}"
   ]
  },
  {
   "cell_type": "code",
   "execution_count": null,
   "id": "cd861feb-9b0b-4b3e-987e-e2261440a24d",
   "metadata": {},
   "outputs": [],
   "source": [
    "plots = openmc.Plots([plot])\n",
    "plots.export_to_xml()\n",
    "!cat plots.xml"
   ]
  },
  {
   "cell_type": "code",
   "execution_count": null,
   "id": "7ff35559-c104-4b52-8e07-48f9870a9977",
   "metadata": {},
   "outputs": [],
   "source": [
    "openmc.plot_geometry()"
   ]
  },
  {
   "cell_type": "code",
   "execution_count": null,
   "id": "cc793753-2d48-4b74-8b1a-714d1ad8e3fb",
   "metadata": {},
   "outputs": [],
   "source": [
    "from IPython.display import Image\n",
    "Image('pinplot.png')"
   ]
  },
  {
   "cell_type": "code",
   "execution_count": null,
   "id": "46887c0f-2aa2-49fe-b907-fddbd9822d79",
   "metadata": {},
   "outputs": [],
   "source": [
    "plot.to_ipython_image()"
   ]
  },
  {
   "cell_type": "code",
   "execution_count": null,
   "id": "19aab30e",
   "metadata": {},
   "outputs": [],
   "source": []
  }
 ],
 "metadata": {
  "kernelspec": {
   "display_name": "Python 3 (ipykernel)",
   "language": "python",
   "name": "python3"
  },
  "language_info": {
   "codemirror_mode": {
    "name": "ipython",
    "version": 3
   },
   "file_extension": ".py",
   "mimetype": "text/x-python",
   "name": "python",
   "nbconvert_exporter": "python",
   "pygments_lexer": "ipython3",
   "version": "3.11.5"
  }
 },
 "nbformat": 4,
 "nbformat_minor": 5
}
