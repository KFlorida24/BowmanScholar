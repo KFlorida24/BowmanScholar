{
 "cells": [
  {
   "cell_type": "markdown",
   "id": "7c6750e9",
   "metadata": {},
   "source": [
    "# Attempt 2"
   ]
  },
  {
   "cell_type": "code",
   "execution_count": 1,
   "id": "5d84cb5b",
   "metadata": {},
   "outputs": [
    {
     "name": "stderr",
     "output_type": "stream",
     "text": [
      "hwloc/linux: Ignoring PCI device with non-16bit domain.\n",
      "Pass --enable-32bits-pci-domain to configure to support such devices\n",
      "(warning: it would break the library ABI, don't enable unless really needed).\n"
     ]
    }
   ],
   "source": [
    "from math import pi, sin, cos\n",
    "import numpy as np\n",
    "import openmc\n",
    "import openmc.deplete"
   ]
  },
  {
   "cell_type": "markdown",
   "id": "f15cace8",
   "metadata": {},
   "source": [
    "## Materials\n"
   ]
  },
  {
   "cell_type": "code",
   "execution_count": 2,
   "id": "e9fbe07e",
   "metadata": {},
   "outputs": [],
   "source": [
    "fuel_materials = [] # note: list of fuel materials\n",
    "for i in range(0,35): # had to know in advance how many fuel-containing cells.\n",
    "    fuel = openmc.Material(name='fuel')\n",
    "    # 40%LEU-60%Th Oxide fuel. \n",
    "    fuel.add_nuclide('Th232',0.60611,'ao')\n",
    "    fuel.add_nuclide('U235',0.019695,'ao')\n",
    "    fuel.add_nuclide('U238',0.37420,'ao')\n",
    "    fuel.add_element('O',2.0)\n",
    "    fuel.set_density('g/cm3',9.7); # check out Blair Bromley reference\n",
    "    fuel_materials.append(fuel); \n",
    "    # I don't like these numbers, but shift focus on structure of input\n",
    "    # to get the distributed materials.\n",
    "\n",
    "# Center displacer rod of ZrO2\n",
    "center = openmc.Material(name='rod')\n",
    "center.add_element('Zr',1.0)\n",
    "center.add_element('O',2.0)\n",
    "center.set_density('g/cm3',4.3)\n",
    "\n",
    "# Lisowski approximates Zirc-4 with elemental Zr.\n",
    "# here I will use the PNNL Material compendium composition for Zirc-4\n",
    "clad = openmc.Material(name='zircaloy')\n",
    "clad.add_element('O',0.006790)\n",
    "clad.add_element('Cr',0.001741)\n",
    "clad.add_element('Fe',0.003242)\n",
    "clad.add_element('Zr',0.977550)\n",
    "clad.add_element('Sn',0.010677)\n",
    "clad.set_density('g/cm3',6.56)\n",
    "\n",
    "heavy_water = openmc.Material(name='heavy water')\n",
    "heavy_water.add_nuclide('H2',2.0,'ao')\n",
    "heavy_water.add_nuclide('O16',1.0,'ao')\n",
    "heavy_water.add_s_alpha_beta('c_D_in_D2O')\n",
    "heavy_water.set_density('g/cc',1.1)"
   ]
  },
  {
   "cell_type": "code",
   "execution_count": 3,
   "id": "3e7e40d8",
   "metadata": {},
   "outputs": [],
   "source": [
    "# outer radius of fuel and clad\n",
    "r_fuel_ex = 0.6122 # cm\n",
    "r_clad_ex = 0.6540 # cm\n",
    "clad_thickness = r_clad_ex - r_fuel_ex # cm, ignores CO2-filled gap\n",
    "r_clad = 0.57 # outer radius of Thorium fuel element, given in Bromley paper\n",
    "r_fuel = r_clad - clad_thickness  #cm. Ah.  I see.  \n",
    "# use clad thickness from CANDU OpenMC example; apply that to Bromley\n",
    "# paper example since they do not give clad thickness.\n",
    "\n",
    "# Outer Radius of the center ZrO2 rod\n",
    "r_center = 2.4 # cm\n",
    "\n",
    "# Pressure tube and calendria radii\n",
    "pressure_tube_ir = 5.2\n",
    "pressure_tube_or = 5.6\n",
    "calendria_ir = 6.4\n",
    "calendria_or = 6.6\n",
    "\n",
    "ring_radii = np.array([3.0755,4.3305]);\n",
    "\n",
    "center_radius = np.array([0])\n",
    "\n",
    "# surfaces that will divide each of the rings\n",
    "radial_surf = [openmc.ZCylinder(r=r) for r in \n",
    "              (ring_radii[:-1] + ring_radii[1:])/2]\n",
    "\n",
    "water_cells = []\n",
    "for i in range(ring_radii.size):\n",
    "    if i==0:\n",
    "        water_region = -radial_surf[i]\n",
    "    elif i == ring_radii.size - 1:\n",
    "        water_region = +radial_surf[i-1]\n",
    "    else:\n",
    "        water_region = +radial_surf[i-1] & -radial_surf[i]\n",
    "    water_cells.append(openmc.Cell(fill=heavy_water,region=water_region))"
   ]
  },
  {
   "cell_type": "code",
   "execution_count": 4,
   "id": "3887b490",
   "metadata": {},
   "outputs": [],
   "source": [
    "# also create a water region for the center tube\n",
    "radial_surf_tube = openmc.ZCylinder(r = r_center + clad_thickness)\n",
    "\n",
    "water_cell_tube = []\n",
    "water_region_tube = -radial_surf_tube\n",
    "water_cell_tube.append(openmc.Cell(fill=heavy_water,region=water_region_tube))\n",
    "\n",
    "plot_args = {'width':(2*calendria_or,2*calendria_or)}\n",
    "bundle_universe = openmc.Universe(cells=(water_cells))\n",
    "\n",
    "# pin_cell universe for each fuel pin, divided between inner and outer pins \n",
    "# for ease of iteration when creating fuel pins\n",
    "pin_universes_inner = []\n",
    "pin_universes_outer = []\n",
    "\n",
    "fuel_cells = []\n",
    "\n",
    "for i in range(0,14):\n",
    "    surf_fuel = openmc.ZCylinder(r=r_fuel)\n",
    "    fuel_cell = openmc.Cell(fill=fuel_materials[i],region=-surf_fuel)\n",
    "    clad_cell = openmc.Cell(fill=clad,region=+surf_fuel)\n",
    "    \n",
    "    pin_universes_inner.append(openmc.Universe(cells=(fuel_cell,clad_cell)))\n",
    "    fuel_cells.append(fuel_cell)\n",
    "    \n",
    "    \n",
    "for i in range(14,35):\n",
    "    surf_fuel = openmc.ZCylinder(r=r_fuel)\n",
    "    fuel_cell = openmc.Cell(fill=fuel_materials[i],region=-surf_fuel)\n",
    "    clad_cell = openmc.Cell(fill=clad,region=+surf_fuel)\n",
    "    \n",
    "    pin_universes_outer.append(openmc.Universe(cells=(fuel_cell,clad_cell)))\n",
    "    fuel_cells.append(fuel_cell)\n",
    "    \n",
    "# center rod universe\n",
    "surf_center = openmc.ZCylinder(r=r_center+clad_thickness)\n",
    "center_cell = openmc.Cell(fill=center,region=-surf_center)\n",
    "center_tube_cell = openmc.Cell(fill=clad,region=+surf_center)\n",
    "center_universe = openmc.Universe(cells=(center_cell,center_tube_cell))"
   ]
  },
  {
   "cell_type": "code",
   "execution_count": 5,
   "id": "3b5567b1",
   "metadata": {},
   "outputs": [],
   "source": [
    "# Center tube creation\n",
    "num_tubes = [1]\n",
    "angles = [0]\n",
    "\n",
    "for i, (r,n,a) in enumerate(zip(center_radius,num_tubes,angles)):\n",
    "    tube_boundary = openmc.ZCylinder(x0=0,y0=0,r=r_center+clad_thickness)\n",
    "    water_cells[i].region &= +tube_boundary\n",
    "    tube = openmc.Cell(fill=center_universe,region=-tube_boundary)\n",
    "    bundle_universe.add_cell(tube)\n",
    "    \n",
    "num_pins = [14,21]\n",
    "angles = [0,0]\n",
    "\n",
    "for i,(r,n,a) in enumerate(zip(ring_radii, num_pins,angles)):\n",
    "    for j in range(n):\n",
    "        theta = (a+j/n*360.)*pi/180.\n",
    "        x = r*cos(theta)\n",
    "        y = r*sin(theta)\n",
    "        \n",
    "        pin_boundary = openmc.ZCylinder(x0=x,y0=y,r=r_clad)\n",
    "        water_cells[i].region &= +pin_boundary\n",
    "        \n",
    "        if n==14:\n",
    "            pin=openmc.Cell(fill=pin_universes_inner[j],region=-pin_boundary)\n",
    "            pin.translation = (x,y,0)\n",
    "            pin.id = (i+1)*100 + j\n",
    "            fuel_materials[j].id = pin.id #ID the fuel materials to match the pin ID\n",
    "        if n == 21:\n",
    "            pin = openmc.Cell(fill = pin_universes_outer[j],region=-pin_boundary)\n",
    "            pin.translation = (x,y,0)\n",
    "            pin.id = (i+1)*100 + j\n",
    "            fuel_materials[14+j].id = pin.id # ID the fuel materials to match the pin ID\n",
    "        bundle_universe.add_cell(pin)"
   ]
  },
  {
   "cell_type": "code",
   "execution_count": 6,
   "id": "0c5f52f8",
   "metadata": {},
   "outputs": [
    {
     "data": {
      "text/plain": [
       "<matplotlib.image.AxesImage at 0x14a27cccc1c0>"
      ]
     },
     "execution_count": 6,
     "metadata": {},
     "output_type": "execute_result"
    },
    {
     "data": {
      "image/png": "[encoded data removed]",
      "text/plain": [
       "<Figure size 258.065x259.74 with 1 Axes>"
      ]
     },
     "metadata": {},
     "output_type": "display_data"
    }
   ],
   "source": [
    "bundle_universe.plot(**plot_args)"
   ]
  },
  {
   "cell_type": "code",
   "execution_count": null,
   "id": "ed9ce00c",
   "metadata": {},
   "outputs": [],
   "source": []
  }
 ],
 "metadata": {
  "kernelspec": {
   "display_name": "Python 3 (ipykernel)",
   "language": "python",
   "name": "python3"
  },
  "language_info": {
   "codemirror_mode": {
    "name": "ipython",
    "version": 3
   },
   "file_extension": ".py",
   "mimetype": "text/x-python",
   "name": "python",
   "nbconvert_exporter": "python",
   "pygments_lexer": "ipython3",
   "version": "3.9.16"
  }
 },
 "nbformat": 4,
 "nbformat_minor": 5
}
