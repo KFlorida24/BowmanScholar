{
 "cells": [
  {
   "cell_type": "markdown",
   "id": "97609094-cf19-4b02-b7d9-3feed71a4d2d",
   "metadata": {},
   "source": [
    "# Florida UO2 ThO2 Mixture Criticality Calculator (Infinite Geometry)"
   ]
  },
  {
   "cell_type": "code",
   "execution_count": 1,
   "id": "38f81133-0b87-48ba-9e95-f45c7d9d5c75",
   "metadata": {},
   "outputs": [],
   "source": [
    "%matplotlib inline\n",
    "import openmc\n",
    "import math\n",
    "import numpy as np\n",
    "import pandas as pd\n",
    "from pathlib import Path\n",
    "import homoTOXMaterialModuleInput as matMixMod\n",
    "import matplotlib.pyplot as plt"
   ]
  },
  {
   "cell_type": "markdown",
   "id": "4789fbb2-0563-4408-87a3-a7a2e06c95df",
   "metadata": {},
   "source": [
    "## Run Material Mixture Function Module"
   ]
  },
  {
   "cell_type": "code",
   "execution_count": 2,
   "id": "3dd84923-1acf-4181-a050-1aa20205226a",
   "metadata": {},
   "outputs": [
    {
     "name": "stdout",
     "output_type": "stream",
     "text": [
      "Please select whether you want to do one run with user inputs (1) or a continuous run (2).\n"
     ]
    },
    {
     "name": "stdin",
     "output_type": "stream",
     "text": [
      " 2\n"
     ]
    },
    {
     "name": "stdout",
     "output_type": "stream",
     "text": [
      "Continuous Run\n"
     ]
    },
    {
     "name": "stdin",
     "output_type": "stream",
     "text": [
      "Desired UO2 Mass Density [g/cc]? (Press Enter key for default for default value of 10.45 g/cc) \n",
      "Desired number of enrichments tested? (Press Enter key for default value of 2) \n",
      "Desired number of fuel mixtures tested? (Press Enter key for default value of 2) \n",
      "Starting level of UO2 Enrichment (%)? (Press Enter key for default value of 5%) \n",
      "Final level of UO2 Enrichment (%)? (Press Enter key for default value of 19.75%) \n",
      "Starting TOX Fuel Uranium Fraction (%)? (Press Enter key for default for default value of 5%) \n",
      "Final TOX Fuel Uranium Fraction (%)? (Press Enter key for default for default value of 95%) \n"
     ]
    },
    {
     "name": "stdout",
     "output_type": "stream",
     "text": [
      "Enrichment Values (%): [ 5.   19.75]\n",
      "Thorium %: [95.  5.]\n",
      "[[0.     0.05   0.95  ]\n",
      " [0.05   0.     0.    ]\n",
      " [0.1975 0.     0.    ]]\n",
      "5.00 % Enrichment 95.00 % Thorium 0.2147+/-0.0012\n",
      "5.00 % Enrichment 5.00 % Thorium 0.8650+/-0.0031\n",
      "19.75 % Enrichment 95.00 % Thorium 0.5497+/-0.0029\n",
      "19.75 % Enrichment 5.00 % Thorium 1.0997+/-0.0027\n",
      "[[0.     0.05   0.95  ]\n",
      " [0.05   0.2147 0.865 ]\n",
      " [0.1975 0.5497 1.0997]]\n",
      "[[0.2147 0.865 ]\n",
      " [0.5497 1.0997]]\n"
     ]
    },
    {
     "data": {
      "image/png": "[encoded data removed]",
      "text/plain": [
       "<Figure size 640x480 with 1 Axes>"
      ]
     },
     "metadata": {},
     "output_type": "display_data"
    },
    {
     "data": {
      "text/plain": [
       "<Figure size 640x480 with 0 Axes>"
      ]
     },
     "metadata": {},
     "output_type": "display_data"
    }
   ],
   "source": [
    "matMixOut = matMixMod.matMixFunInput()"
   ]
  }
 ],
 "metadata": {
  "kernelspec": {
   "display_name": "Python 3 (ipykernel)",
   "language": "python",
   "name": "python3"
  },
  "language_info": {
   "codemirror_mode": {
    "name": "ipython",
    "version": 3
   },
   "file_extension": ".py",
   "mimetype": "text/x-python",
   "name": "python",
   "nbconvert_exporter": "python",
   "pygments_lexer": "ipython3",
   "version": "3.11.5"
  }
 },
 "nbformat": 4,
 "nbformat_minor": 5
}
