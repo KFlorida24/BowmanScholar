{
 "cells": [
  {
   "cell_type": "markdown",
   "id": "97609094-cf19-4b02-b7d9-3feed71a4d2d",
   "metadata": {},
   "source": [
    "# Florida UO2 ThO2 Mixture Criticality Calculator (Infinite Geometry)"
   ]
  },
  {
   "cell_type": "code",
   "execution_count": 1,
   "id": "38f81133-0b87-48ba-9e95-f45c7d9d5c75",
   "metadata": {},
   "outputs": [],
   "source": [
    "%matplotlib inline\n",
    "import openmc\n",
    "import math\n",
    "import numpy as np\n",
    "import pandas as pd\n",
    "from pathlib import Path\n",
    "import homoTOXMaterialModuleInput as matMixMod\n",
    "import matplotlib.pyplot as plt"
   ]
  },
  {
   "cell_type": "markdown",
   "id": "4789fbb2-0563-4408-87a3-a7a2e06c95df",
   "metadata": {},
   "source": [
    "## Run Material Mixture Function Module"
   ]
  },
  {
   "cell_type": "code",
   "execution_count": null,
   "id": "3dd84923-1acf-4181-a050-1aa20205226a",
   "metadata": {},
   "outputs": [
    {
     "name": "stdout",
     "output_type": "stream",
     "text": [
      "Please select whether you want to do one run with user inputs (1), a continuous run (2), or Burn-Up (3).\n"
     ]
    },
    {
     "name": "stdin",
     "output_type": "stream",
     "text": [
      " 2\n"
     ]
    },
    {
     "name": "stdout",
     "output_type": "stream",
     "text": [
      "Continuous Run\n"
     ]
    },
    {
     "name": "stdin",
     "output_type": "stream",
     "text": [
      "Desired UO2 Mass Density [g/cc]? (Press Enter key for default for default value of 10.45 g/cc) \n",
      "Desired number of enrichments tested? (Press Enter key for default value of 2) 10\n",
      "Desired number of fuel mixtures tested? (Press Enter key for default value of 2) 10\n",
      "Starting level of UO2 Enrichment (%)? (Press Enter key for default value of 15%) \n",
      "Final level of UO2 Enrichment (%)? (Press Enter key for default value of 19.75%) \n",
      "Starting TOX Fuel Uranium Fraction (%)? (Press Enter key for default for default value of 40%) \n",
      "Final TOX Fuel Uranium Fraction (%)? (Press Enter key for default for default value of 95%) \n"
     ]
    },
    {
     "name": "stdout",
     "output_type": "stream",
     "text": [
      "Enrichment Values (%): [15.         15.52777778 16.05555556 16.58333333 17.11111111 17.63888889\n",
      " 18.16666667 18.69444444 19.22222222 19.75      ]\n",
      "Thorium %: [60.         53.88888889 47.77777778 41.66666667 35.55555556 29.44444444\n",
      " 23.33333333 17.22222222 11.11111111  5.        ]\n",
      "[[0.         0.4        0.46111111 0.52222222 0.58333333 0.64444444\n",
      "  0.70555556 0.76666667 0.82777778 0.88888889 0.95      ]\n",
      " [0.15       0.         0.         0.         0.         0.\n",
      "  0.         0.         0.         0.         0.        ]\n",
      " [0.15527778 0.         0.         0.         0.         0.\n",
      "  0.         0.         0.         0.         0.        ]\n",
      " [0.16055556 0.         0.         0.         0.         0.\n",
      "  0.         0.         0.         0.         0.        ]\n",
      " [0.16583333 0.         0.         0.         0.         0.\n",
      "  0.         0.         0.         0.         0.        ]\n",
      " [0.17111111 0.         0.         0.         0.         0.\n",
      "  0.         0.         0.         0.         0.        ]\n",
      " [0.17638889 0.         0.         0.         0.         0.\n",
      "  0.         0.         0.         0.         0.        ]\n",
      " [0.18166667 0.         0.         0.         0.         0.\n",
      "  0.         0.         0.         0.         0.        ]\n",
      " [0.18694444 0.         0.         0.         0.         0.\n",
      "  0.         0.         0.         0.         0.        ]\n",
      " [0.19222222 0.         0.         0.         0.         0.\n",
      "  0.         0.         0.         0.         0.        ]\n",
      " [0.1975     0.         0.         0.         0.         0.\n",
      "  0.         0.         0.         0.         0.        ]]\n",
      "15.00 % Enrichment, 40.00 % Uranium ( 60.00 % Thorium ): 0.8495+/-0.0028\n",
      "15.00 % Enrichment, 46.11 % Uranium ( 53.89 % Thorium ): 0.8666+/-0.0034\n",
      "15.00 % Enrichment, 52.22 % Uranium ( 47.78 % Thorium ): 0.8910+/-0.0030\n",
      "15.00 % Enrichment, 58.33 % Uranium ( 41.67 % Thorium ): 0.8944+/-0.0028\n",
      "15.00 % Enrichment, 64.44 % Uranium ( 35.56 % Thorium ): 0.9154+/-0.0030\n",
      "15.00 % Enrichment, 70.56 % Uranium ( 29.44 % Thorium ): 0.9339+/-0.0027\n",
      "15.00 % Enrichment, 76.67 % Uranium ( 23.33 % Thorium ): 0.9564+/-0.0030\n",
      "15.00 % Enrichment, 82.78 % Uranium ( 17.22 % Thorium ): 0.9762+/-0.0028\n",
      "15.00 % Enrichment, 88.89 % Uranium ( 11.11 % Thorium ): 1.0065+/-0.0032\n",
      "15.00 % Enrichment, 95.00 % Uranium ( 5.00 % Thorium ): 1.0448+/-0.0024\n",
      "15.53 % Enrichment, 40.00 % Uranium ( 60.00 % Thorium ): 0.8595+/-0.0031\n",
      "15.53 % Enrichment, 46.11 % Uranium ( 53.89 % Thorium ): 0.8685+/-0.0032\n",
      "15.53 % Enrichment, 52.22 % Uranium ( 47.78 % Thorium ): 0.8889+/-0.0033\n",
      "15.53 % Enrichment, 58.33 % Uranium ( 41.67 % Thorium ): 0.9051+/-0.0033\n",
      "15.53 % Enrichment, 64.44 % Uranium ( 35.56 % Thorium ): 0.9225+/-0.0030\n",
      "15.53 % Enrichment, 70.56 % Uranium ( 29.44 % Thorium ): 0.9390+/-0.0030\n",
      "15.53 % Enrichment, 76.67 % Uranium ( 23.33 % Thorium ): 0.9655+/-0.0025\n",
      "15.53 % Enrichment, 82.78 % Uranium ( 17.22 % Thorium ): 0.9796+/-0.0034\n",
      "15.53 % Enrichment, 88.89 % Uranium ( 11.11 % Thorium ): 1.0108+/-0.0032\n",
      "15.53 % Enrichment, 95.00 % Uranium ( 5.00 % Thorium ): 1.0471+/-0.0031\n",
      "16.06 % Enrichment, 40.00 % Uranium ( 60.00 % Thorium ): 0.8604+/-0.0032\n",
      "16.06 % Enrichment, 46.11 % Uranium ( 53.89 % Thorium ): 0.8789+/-0.0027\n",
      "16.06 % Enrichment, 52.22 % Uranium ( 47.78 % Thorium ): 0.8941+/-0.0034\n",
      "16.06 % Enrichment, 58.33 % Uranium ( 41.67 % Thorium ): 0.9070+/-0.0033\n",
      "16.06 % Enrichment, 64.44 % Uranium ( 35.56 % Thorium ): 0.9313+/-0.0030\n",
      "16.06 % Enrichment, 70.56 % Uranium ( 29.44 % Thorium ): 0.9380+/-0.0026\n",
      "16.06 % Enrichment, 76.67 % Uranium ( 23.33 % Thorium ): 0.9628+/-0.0031\n",
      "16.06 % Enrichment, 82.78 % Uranium ( 17.22 % Thorium ): 0.9904+/-0.0026\n",
      "16.06 % Enrichment, 88.89 % Uranium ( 11.11 % Thorium ): 1.0199+/-0.0031\n",
      "16.06 % Enrichment, 95.00 % Uranium ( 5.00 % Thorium ): 1.0522+/-0.0030\n",
      "16.58 % Enrichment, 40.00 % Uranium ( 60.00 % Thorium ): 0.8643+/-0.0029\n",
      "16.58 % Enrichment, 46.11 % Uranium ( 53.89 % Thorium ): 0.8846+/-0.0032\n",
      "16.58 % Enrichment, 52.22 % Uranium ( 47.78 % Thorium ): 0.8955+/-0.0032\n",
      "16.58 % Enrichment, 58.33 % Uranium ( 41.67 % Thorium ): 0.9162+/-0.0033\n",
      "16.58 % Enrichment, 64.44 % Uranium ( 35.56 % Thorium ): 0.9331+/-0.0031\n",
      "16.58 % Enrichment, 70.56 % Uranium ( 29.44 % Thorium ): 0.9542+/-0.0029\n",
      "16.58 % Enrichment, 76.67 % Uranium ( 23.33 % Thorium ): 0.9687+/-0.0029\n",
      "16.58 % Enrichment, 82.78 % Uranium ( 17.22 % Thorium ): 0.9952+/-0.0030\n",
      "16.58 % Enrichment, 88.89 % Uranium ( 11.11 % Thorium ): 1.0273+/-0.0027\n",
      "16.58 % Enrichment, 95.00 % Uranium ( 5.00 % Thorium ): 1.0593+/-0.0032\n",
      "17.11 % Enrichment, 40.00 % Uranium ( 60.00 % Thorium ): 0.8754+/-0.0030\n",
      "17.11 % Enrichment, 46.11 % Uranium ( 53.89 % Thorium ): 0.8906+/-0.0030\n",
      "17.11 % Enrichment, 52.22 % Uranium ( 47.78 % Thorium ): 0.9005+/-0.0033\n",
      "17.11 % Enrichment, 58.33 % Uranium ( 41.67 % Thorium ): 0.9272+/-0.0029\n",
      "17.11 % Enrichment, 64.44 % Uranium ( 35.56 % Thorium ): 0.9366+/-0.0033\n",
      "17.11 % Enrichment, 70.56 % Uranium ( 29.44 % Thorium ): 0.9605+/-0.0029\n",
      "17.11 % Enrichment, 76.67 % Uranium ( 23.33 % Thorium ): 0.9835+/-0.0030\n",
      "17.11 % Enrichment, 82.78 % Uranium ( 17.22 % Thorium ): 1.0109+/-0.0033\n",
      "17.11 % Enrichment, 88.89 % Uranium ( 11.11 % Thorium ): 1.0265+/-0.0025\n",
      "17.11 % Enrichment, 95.00 % Uranium ( 5.00 % Thorium ): 1.0727+/-0.0034\n",
      "17.64 % Enrichment, 40.00 % Uranium ( 60.00 % Thorium ): 0.8755+/-0.0030\n",
      "17.64 % Enrichment, 46.11 % Uranium ( 53.89 % Thorium ): 0.8923+/-0.0033\n",
      "17.64 % Enrichment, 52.22 % Uranium ( 47.78 % Thorium ): 0.9132+/-0.0031\n",
      "17.64 % Enrichment, 58.33 % Uranium ( 41.67 % Thorium ): 0.9271+/-0.0032\n",
      "17.64 % Enrichment, 64.44 % Uranium ( 35.56 % Thorium ): 0.9480+/-0.0032\n",
      "17.64 % Enrichment, 70.56 % Uranium ( 29.44 % Thorium ): 0.9652+/-0.0031\n",
      "17.64 % Enrichment, 76.67 % Uranium ( 23.33 % Thorium ): 0.9865+/-0.0032\n",
      "17.64 % Enrichment, 82.78 % Uranium ( 17.22 % Thorium ): 1.0146+/-0.0033\n",
      "17.64 % Enrichment, 88.89 % Uranium ( 11.11 % Thorium ): 1.0433+/-0.0028\n",
      "17.64 % Enrichment, 95.00 % Uranium ( 5.00 % Thorium ): 1.0692+/-0.0029\n",
      "18.17 % Enrichment, 40.00 % Uranium ( 60.00 % Thorium ): 0.8846+/-0.0033\n",
      "18.17 % Enrichment, 46.11 % Uranium ( 53.89 % Thorium ): 0.8982+/-0.0026\n",
      "18.17 % Enrichment, 52.22 % Uranium ( 47.78 % Thorium ): 0.9076+/-0.0032\n",
      "18.17 % Enrichment, 58.33 % Uranium ( 41.67 % Thorium ): 0.9335+/-0.0030\n",
      "18.17 % Enrichment, 64.44 % Uranium ( 35.56 % Thorium ): 0.9519+/-0.0031\n",
      "18.17 % Enrichment, 70.56 % Uranium ( 29.44 % Thorium ): 0.9726+/-0.0029\n",
      "18.17 % Enrichment, 76.67 % Uranium ( 23.33 % Thorium ): 0.9893+/-0.0030\n",
      "18.17 % Enrichment, 82.78 % Uranium ( 17.22 % Thorium ): 1.0147+/-0.0026\n",
      "18.17 % Enrichment, 88.89 % Uranium ( 11.11 % Thorium ): 1.0457+/-0.0031\n",
      "18.17 % Enrichment, 95.00 % Uranium ( 5.00 % Thorium ): 1.0797+/-0.0027\n",
      "18.69 % Enrichment, 40.00 % Uranium ( 60.00 % Thorium ): 0.8903+/-0.0031\n",
      "18.69 % Enrichment, 46.11 % Uranium ( 53.89 % Thorium ): 0.9028+/-0.0034\n",
      "18.69 % Enrichment, 52.22 % Uranium ( 47.78 % Thorium ): 0.9198+/-0.0030\n",
      "18.69 % Enrichment, 58.33 % Uranium ( 41.67 % Thorium ): 0.9379+/-0.0032\n",
      "18.69 % Enrichment, 64.44 % Uranium ( 35.56 % Thorium ): 0.9581+/-0.0032\n",
      "18.69 % Enrichment, 70.56 % Uranium ( 29.44 % Thorium ): 0.9761+/-0.0033\n",
      "18.69 % Enrichment, 76.67 % Uranium ( 23.33 % Thorium ): 0.9987+/-0.0029\n",
      "18.69 % Enrichment, 82.78 % Uranium ( 17.22 % Thorium ): 1.0264+/-0.0031\n",
      "18.69 % Enrichment, 88.89 % Uranium ( 11.11 % Thorium ): 1.0554+/-0.0032\n",
      "18.69 % Enrichment, 95.00 % Uranium ( 5.00 % Thorium ): 1.0950+/-0.0029\n",
      "19.22 % Enrichment, 40.00 % Uranium ( 60.00 % Thorium ): 0.8942+/-0.0034\n",
      "19.22 % Enrichment, 46.11 % Uranium ( 53.89 % Thorium ): 0.9073+/-0.0028\n",
      "19.22 % Enrichment, 52.22 % Uranium ( 47.78 % Thorium ): 0.9277+/-0.0031\n",
      "19.22 % Enrichment, 58.33 % Uranium ( 41.67 % Thorium ): 0.9422+/-0.0028\n"
     ]
    }
   ],
   "source": [
    "matMixOut = matMixMod.matMixFunInput()"
   ]
  }
 ],
 "metadata": {
  "kernelspec": {
   "display_name": "Python 3 (ipykernel)",
   "language": "python",
   "name": "python3"
  },
  "language_info": {
   "codemirror_mode": {
    "name": "ipython",
    "version": 3
   },
   "file_extension": ".py",
   "mimetype": "text/x-python",
   "name": "python",
   "nbconvert_exporter": "python",
   "pygments_lexer": "ipython3",
   "version": "3.11.5"
  }
 },
 "nbformat": 4,
 "nbformat_minor": 5
}
