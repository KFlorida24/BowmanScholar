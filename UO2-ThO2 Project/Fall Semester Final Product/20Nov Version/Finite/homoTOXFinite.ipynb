{
 "cells": [
  {
   "cell_type": "markdown",
   "id": "97609094-cf19-4b02-b7d9-3feed71a4d2d",
   "metadata": {},
   "source": [
    "# Florida UO2 ThO2 Mixture Criticality Calculator (Infinite Geometry)"
   ]
  },
  {
   "cell_type": "code",
   "execution_count": 1,
   "id": "38f81133-0b87-48ba-9e95-f45c7d9d5c75",
   "metadata": {},
   "outputs": [],
   "source": [
    "%matplotlib inline\n",
    "import openmc\n",
    "import math\n",
    "import numpy as np\n",
    "import pandas as pd\n",
    "from pathlib import Path\n",
    "import homoTOXMaterialModuleInput as matMixMod\n",
    "import matplotlib.pyplot as plt"
   ]
  },
  {
   "cell_type": "markdown",
   "id": "4789fbb2-0563-4408-87a3-a7a2e06c95df",
   "metadata": {},
   "source": [
    "## Run Material Mixture Function Module"
   ]
  },
  {
   "cell_type": "code",
   "execution_count": null,
   "id": "3dd84923-1acf-4181-a050-1aa20205226a",
   "metadata": {},
   "outputs": [
    {
     "name": "stdout",
     "output_type": "stream",
     "text": [
      "Please select whether you want to do one run with user inputs (1), a continuous run (2), or Burn-Up (3).\n"
     ]
    },
    {
     "name": "stdin",
     "output_type": "stream",
     "text": [
      " 2\n"
     ]
    },
    {
     "name": "stdout",
     "output_type": "stream",
     "text": [
      "Continuous Run\n"
     ]
    },
    {
     "name": "stdin",
     "output_type": "stream",
     "text": [
      "Desired UO2 Mass Density [g/cc]? (Press Enter key for default for default value of 10.45 g/cc) \n",
      "Desired number of enrichments tested? (Press Enter key for default value of 2) 34\n",
      "Desired number of fuel mixtures tested? (Press Enter key for default value of 2) 34\n",
      "Starting level of UO2 Enrichment (%)? (Press Enter key for default value of 15%) \n",
      "Final level of UO2 Enrichment (%)? (Press Enter key for default value of 19.75%) \n",
      "Starting TOX Fuel Uranium Fraction (%)? (Press Enter key for default for default value of 40%) \n",
      "Final TOX Fuel Uranium Fraction (%)? (Press Enter key for default for default value of 95%) \n"
     ]
    },
    {
     "name": "stdout",
     "output_type": "stream",
     "text": [
      "Enrichment Values (%): [15.         15.14393939 15.28787879 15.43181818 15.57575758 15.71969697\n",
      " 15.86363636 16.00757576 16.15151515 16.29545455 16.43939394 16.58333333\n",
      " 16.72727273 16.87121212 17.01515152 17.15909091 17.3030303  17.4469697\n",
      " 17.59090909 17.73484848 17.87878788 18.02272727 18.16666667 18.31060606\n",
      " 18.45454545 18.59848485 18.74242424 18.88636364 19.03030303 19.17424242\n",
      " 19.31818182 19.46212121 19.60606061 19.75      ]\n",
      "Thorium %: [60.         58.33333333 56.66666667 55.         53.33333333 51.66666667\n",
      " 50.         48.33333333 46.66666667 45.         43.33333333 41.66666667\n",
      " 40.         38.33333333 36.66666667 35.         33.33333333 31.66666667\n",
      " 30.         28.33333333 26.66666667 25.         23.33333333 21.66666667\n",
      " 20.         18.33333333 16.66666667 15.         13.33333333 11.66666667\n",
      " 10.          8.33333333  6.66666667  5.        ]\n",
      "[[0.         0.4        0.41666667 ... 0.91666667 0.93333333 0.95      ]\n",
      " [0.15       0.         0.         ... 0.         0.         0.        ]\n",
      " [0.15143939 0.         0.         ... 0.         0.         0.        ]\n",
      " ...\n",
      " [0.19462121 0.         0.         ... 0.         0.         0.        ]\n",
      " [0.19606061 0.         0.         ... 0.         0.         0.        ]\n",
      " [0.1975     0.         0.         ... 0.         0.         0.        ]]\n",
      "15.00 % Enrichment, 40.00 % Uranium ( 60.00 % Thorium ): 0.8495+/-0.0028\n",
      "15.00 % Enrichment, 41.67 % Uranium ( 58.33 % Thorium ): 0.8510+/-0.0028\n",
      "15.00 % Enrichment, 43.33 % Uranium ( 56.67 % Thorium ): 0.8559+/-0.0032\n",
      "15.00 % Enrichment, 45.00 % Uranium ( 55.00 % Thorium ): 0.8629+/-0.0032\n",
      "15.00 % Enrichment, 46.67 % Uranium ( 53.33 % Thorium ): 0.8704+/-0.0031\n",
      "15.00 % Enrichment, 48.33 % Uranium ( 51.67 % Thorium ): 0.8736+/-0.0032\n",
      "15.00 % Enrichment, 50.00 % Uranium ( 50.00 % Thorium ): 0.8779+/-0.0028\n",
      "15.00 % Enrichment, 51.67 % Uranium ( 48.33 % Thorium ): 0.8817+/-0.0029\n",
      "15.00 % Enrichment, 53.33 % Uranium ( 46.67 % Thorium ): 0.8863+/-0.0030\n"
     ]
    }
   ],
   "source": [
    "matMixOut = matMixMod.matMixFunInput()"
   ]
  }
 ],
 "metadata": {
  "kernelspec": {
   "display_name": "Python 3 (ipykernel)",
   "language": "python",
   "name": "python3"
  },
  "language_info": {
   "codemirror_mode": {
    "name": "ipython",
    "version": 3
   },
   "file_extension": ".py",
   "mimetype": "text/x-python",
   "name": "python",
   "nbconvert_exporter": "python",
   "pygments_lexer": "ipython3",
   "version": "3.11.5"
  }
 },
 "nbformat": 4,
 "nbformat_minor": 5
}
