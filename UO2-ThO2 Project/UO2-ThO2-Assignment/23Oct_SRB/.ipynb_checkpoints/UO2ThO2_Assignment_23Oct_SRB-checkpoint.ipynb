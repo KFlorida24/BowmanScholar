{
 "cells": [
  {
   "cell_type": "markdown",
   "id": "97609094-cf19-4b02-b7d9-3feed71a4d2d",
   "metadata": {},
   "source": [
    "# Florida UO2 ThO2 Mixture Assignment: 23OCT - SRB adjustments"
   ]
  },
  {
   "cell_type": "code",
   "execution_count": 1,
   "id": "38f81133-0b87-48ba-9e95-f45c7d9d5c75",
   "metadata": {},
   "outputs": [],
   "source": [
    "%matplotlib inline\n",
    "import openmc\n",
    "import math"
   ]
  },
  {
   "cell_type": "markdown",
   "id": "4b18edad-601f-4c50-87fe-9f6b64f79b09",
   "metadata": {},
   "source": [
    "## Calculate Weight Percentages"
   ]
  },
  {
   "cell_type": "code",
   "execution_count": 2,
   "id": "44e825ce-c957-4596-a76b-19399e522fcc",
   "metadata": {},
   "outputs": [],
   "source": [
    "# Constants - via PNNL Mat'l Comp., Rev-2\n",
    "ThO2OAtomRho = 0.044247 # Oxygen Atom Density in ThO2 [atom/b-cm]\n",
    "ThO2ThAtomRho = 0.022124 # Thorium Atom Density in ThO2 [atom/b-cm]\n",
    "ThMolW = 232. # Molecular Weight of Th [g/mol]\n",
    "OMolW = 16. # Molecular Weight of O [g/mol]\n",
    "ThO2MolW = ThMolW + 2*OMolW # Molecular Weight of ThO2 [g/mol]\n",
    "U235MolW = 235. # Molecular Weight of U-235 [g/mol]\n",
    "U238MolW = 238. # Molecular Weight of U-238 [g/mol]\n",
    "ThO2MassRho = 9.7 # Mass Density of ThO2 [g/cm^3]\n",
    "graphMassRho = 2.26 # Mass Density of Graphite [g/cm^3]\n",
    "he_CoolMassRho = 0.000178 # Mass Density of He @ 293K [g/cm^3]\n",
    "avo = 0.6022 # Avogadro's Number\n",
    "\n",
    "# Parameters (Change these)\n",
    "UO2MassRho = 10.45 # UO2 Mass Density [g/cm^3]\n",
    "UO2Enrichment = 0.05 # UO2 Enrichment [w/o]\n",
    "pctLEU = 0.05 # weight percent of LEU\n",
    "pctTh = 1 - pctLEU # weight percent of Th in LEU mixture\n",
    "\n",
    "# Results of Constants and Parameters\n",
    "# Total Mixture Density\n",
    "UThMixMassRho = (pctLEU/UO2MassRho + pctTh/ThO2MassRho)**-1 # [g/cm]\n",
    "# UO2 Atom Densities\n",
    "UO2UMolW = ((UO2Enrichment/U235MolW) + ((1 - UO2Enrichment)/U238MolW))**-1 # Molecular Weight of U in UO2 [g/mol]\n",
    "UO2MolW = UO2UMolW + 2*16 # Molecular Weight of UO2 [g/mol]\n",
    "UO2OAtomRho = (UO2MassRho/UO2MolW)*2*avo # O Atom Density in UO2 [atom/b-cm]\n",
    "UO2U235AtomRho = (UO2Enrichment*UO2MassRho*(UO2UMolW/UO2MolW)/U235MolW)*avo # U-235 Atom Density in UO2 [atom/b-cm] \n",
    "UO2U238AtomRho = ((1 - UO2Enrichment)*UO2MassRho*(UO2UMolW/UO2MolW)/U238MolW)*avo # U-238 Atom Density in UO2 [atom/b-cm]\n",
    "# UO2 ThO2 Mixture Atom Densities\n",
    "UThMixOAtomRho = (pctTh*UThMixMassRho/ThO2MolW)*2*avo + (pctLEU*UThMixMassRho/UO2MolW)*2*avo # Oxygen Atom Density in Fuel Mixture [atom/b-cm]\n",
    "UThMixThAtomRho = (pctTh*UThMixMassRho/ThO2MolW)*avo # Uranium Atom Density in Fuel Mixture [atom/b-cm] \n",
    "UThMixU235AtomRho = (pctLEU*UThMixMassRho/UO2MolW)*avo # Uranium Atom Density in Fuel Mixture [atom/b-cm]\n",
    "UThMixU238AtomRho = (pctLEU*UThMixMassRho/UO2MolW)*avo # Uranium Atom Density in Fuel Mixture [atom/b-cm]\n",
    "# UO2 ThO2 Mixture Atom Fractions\n",
    "# Normalized to 1\n",
    "UThMixOAtomFrac = UThMixOAtomRho/(UThMixOAtomRho + UThMixThAtomRho + UThMixU235AtomRho + UThMixU238AtomRho) # Oxygen Atom Fraction in Fuel Mixture [atom/b-cm]\n",
    "UThMixThAtomFrac = UThMixThAtomRho/(UThMixOAtomRho + UThMixThAtomRho + UThMixU235AtomRho + UThMixU238AtomRho) # Uranium Atom Fraction in Fuel Mixture [atom/b-cm] \n",
    "UThMixU235AtomFrac = UThMixU235AtomRho/(UThMixOAtomRho + UThMixThAtomRho + UThMixU235AtomRho + UThMixU238AtomRho) # Uranium Atom Fraction in Fuel Mixture [atom/b-cm]\n",
    "UThMixU238AtomFrac = UThMixU238AtomRho/(UThMixOAtomRho + UThMixThAtomRho + UThMixU235AtomRho + UThMixU238AtomRho) # Uranium Atom Density in Fuel Mixture [atom/b-cm]\n",
    "# Normalized to 3\n",
    "UThMixOAtomFrac3 = UThMixOAtomFrac*3 # Oxygen Atom Fraction in Fuel Mixture [atom/b-cm]\n",
    "UThMixU235AtomFrac3 = UThMixU235AtomFrac*3 # Uranium Atom Fraction in Fuel Mixture [atom/b-cm] \n",
    "UThMixU238AtomFrac3 = UThMixU238AtomFrac*3 # Uranium Atom Fraction in Fuel Mixture [atom/b-cm]\n",
    "UThMixThAtomFrac3 = UThMixThAtomFrac*3 # Uranium Atom Density in Fuel Mixture [atom/b-cm]"
   ]
  },
  {
   "cell_type": "markdown",
   "id": "c4d2c7d1-838a-45c2-88fb-edbb22e2ee1f",
   "metadata": {},
   "source": [
    "## Calculate Vol %"
   ]
  },
  {
   "cell_type": "code",
   "execution_count": 3,
   "id": "5a80e691-2176-4e90-87d6-149c26ba9eea",
   "metadata": {},
   "outputs": [],
   "source": [
    "# Constants\n",
    "vF_Pebbles_Core = 2./3 # Volume Fraction of Pebbles in Core (Max packing factor)\n",
    "vF_TRISO_Pebbles = 0.4 # Volume Fraction of TRISO in Pebbles\n",
    "vF_Fuel_TRISO = 0.15 # Volume Fraction of Fuel in TRISO\n",
    "fuelVolFrac = vF_Pebbles_Core*vF_TRISO_Pebbles*vF_Fuel_TRISO # Volume Fraction of Fuel\n",
    "graphVolFrac = vF_Pebbles_Core*(1 - (vF_TRISO_Pebbles*vF_Fuel_TRISO)) # Total Volume Fraction of Graphite\n",
    "hel_CoolVolFrac = 1 - (fuelVolFrac + graphVolFrac) # Total Volume Fraction of Helium\n",
    "totalVolFrac = fuelVolFrac + graphVolFrac + hel_CoolVolFrac # Total Volume\n",
    "\n",
    "# Parameters\n",
    "# Cube\n",
    "matCubeL = 1 # [cm]\n",
    "cubeVol = matCubeL**3 # [cm^3]\n",
    "# Sphere\n",
    "matSphereRad = 1 # [cm]\n",
    "sphereVol = (4/3)*math.pi*matSphereRad**3\n",
    "\n",
    "# Volume Output\n",
    "#Cube\n",
    "fuelCubeVol = fuelVolFrac*cubeVol\n",
    "graphCubeVol = graphVolFrac*cubeVol\n",
    "hel_CoolCubeVol = hel_CoolVolFrac*cubeVol\n",
    "totalCubeVol = fuelCubeVol + graphCubeVol + hel_CoolCubeVol\n",
    "#Sphere\n",
    "fuelSphereVol = fuelVolFrac*sphereVol\n",
    "graphSphereVol = graphVolFrac*sphereVol\n",
    "hel_CoolSphereVol = hel_CoolVolFrac*sphereVol\n",
    "totalSphereVol = fuelSphereVol + graphSphereVol + hel_CoolSphereVol\n",
    "# Mass Output\n",
    "#Cube\n",
    "fuelCubeMass = UThMixMassRho*graphCubeVol\n",
    "graphCubeMass = graphMassRho*graphCubeVol\n",
    "hel_CoolCubeMass = he_CoolMassRho*graphCubeVol\n",
    "totalCubeMass = fuelCubeMass + graphCubeMass + hel_CoolCubeMass\n",
    "#Sphere\n",
    "fuelSphereMass = UThMixMassRho*graphSphereVol\n",
    "graphSphereMass = graphMassRho*graphSphereVol\n",
    "hel_CoolSphereMass = he_CoolMassRho*graphSphereVol\n",
    "totalSphereMass = fuelSphereMass + graphSphereMass + hel_CoolSphereMass"
   ]
  },
  {
   "cell_type": "markdown",
   "id": "d2239ece-c69c-47e0-ae4a-b3ae71d94cd3",
   "metadata": {},
   "source": [
    "## Define Materials"
   ]
  },
  {
   "cell_type": "code",
   "execution_count": 4,
   "id": "fdd19e67-da43-46cd-83a9-5c1e27b115ee",
   "metadata": {},
   "outputs": [
    {
     "name": "stdout",
     "output_type": "stream",
     "text": [
      "Material\n",
      "\tID             =\t1\n",
      "\tName           =\tfuel\n",
      "\tTemperature    =\tNone\n",
      "\tDensity        =\t9.734933973589436 [g/cm3]\n",
      "\tVolume         =\t1 [cm^3]\n",
      "\tS(a,b) Tables  \n",
      "\tNuclides       \n",
      "\tTh232          =\t0.311918684522211 [ao]\n",
      "\tU235           =\t0.01606098660834173 [ao]\n",
      "\tU238           =\t0.01606098660834173 [ao]\n",
      "\tO16            =\t0.6557107336703885 [ao]\n",
      "\tO17            =\t0.00024860859071695895 [ao]\n",
      "\n"
     ]
    }
   ],
   "source": [
    "fuel = openmc.Material(name='fuel');\n",
    "#The below ratios were calculated assuming 95%LEU-5%Th Oxide Fuel.\n",
    "fuel.add_nuclide('Th232', UThMixThAtomFrac, 'ao')\n",
    "fuel.add_nuclide('U235', UThMixU235AtomFrac, 'ao') #5% U-235 enrichment\n",
    "fuel.add_nuclide('U238', UThMixU238AtomFrac, 'ao')\n",
    "fuel.add_element('O', UThMixOAtomFrac, 'ao')\n",
    "fuel.set_density('g/cm3', UThMixMassRho) # Based on assumption of fuel density within TRISO\n",
    "fuel.volume = cubeVol\n",
    "print(fuel)"
   ]
  },
  {
   "cell_type": "code",
   "execution_count": 5,
   "id": "aabfb205-adea-4cee-abfd-8045c9169098",
   "metadata": {},
   "outputs": [
    {
     "name": "stdout",
     "output_type": "stream",
     "text": [
      "Material\n",
      "\tID             =\t2\n",
      "\tName           =\tgraph\n",
      "\tTemperature    =\tNone\n",
      "\tDensity        =\t2.26 [g/cm3]\n",
      "\tVolume         =\tNone [cm^3]\n",
      "\tS(a,b) Tables  \n",
      "\tNuclides       \n",
      "\tC0             =\t1.0          [ao]\n",
      "\n"
     ]
    }
   ],
   "source": [
    "# Establish Graphite Moderator material\n",
    "graph = openmc.Material(name='graph')\n",
    "# add nuclides to graph\n",
    "graph.add_element('C', 1.00)\n",
    "graph.set_density('g/cm3', graphMassRho)\n",
    "print(graph)"
   ]
  },
  {
   "cell_type": "code",
   "execution_count": 6,
   "id": "b9220eb4-f9fa-4358-b453-0bbf367f82d8",
   "metadata": {},
   "outputs": [
    {
     "name": "stdout",
     "output_type": "stream",
     "text": [
      "Material\n",
      "\tID             =\t3\n",
      "\tName           =\thel_Cool\n",
      "\tTemperature    =\tNone\n",
      "\tDensity        =\t0.000178 [g/cm3]\n",
      "\tVolume         =\tNone [cm^3]\n",
      "\tS(a,b) Tables  \n",
      "\tNuclides       \n",
      "\tHe3            =\t2e-06        [ao]\n",
      "\tHe4            =\t0.999998     [ao]\n",
      "\n"
     ]
    }
   ],
   "source": [
    "# Establish Helium Coolant material\n",
    "hel_Cool = openmc.Material(name='hel_Cool')\n",
    "# add nuclides to hel_Cool\n",
    "hel_Cool.add_nuclide('He3', 0.000002)\n",
    "hel_Cool.add_nuclide('He4', 0.999998)\n",
    "hel_Cool.set_density('g/cm3', he_CoolMassRho)\n",
    "print(hel_Cool)"
   ]
  },
  {
   "cell_type": "code",
   "execution_count": 7,
   "id": "a2148824-43c4-4023-b6bf-3364ad96f6fe",
   "metadata": {},
   "outputs": [],
   "source": [
    "materials = openmc.Materials([fuel, graph, hel_Cool])"
   ]
  },
  {
   "cell_type": "code",
   "execution_count": 8,
   "id": "d2244185-cab3-4b81-a8b0-0fba1f075c59",
   "metadata": {},
   "outputs": [
    {
     "data": {
      "text/plain": [
       "True"
      ]
     },
     "execution_count": 8,
     "metadata": {},
     "output_type": "execute_result"
    }
   ],
   "source": [
    "materials = openmc.Materials()\n",
    "materials += [fuel, graph, hel_Cool]\n",
    "isinstance(materials,list)"
   ]
  },
  {
   "cell_type": "markdown",
   "id": "442f20be-9153-418c-937e-187777b3411e",
   "metadata": {},
   "source": [
    "## Export Materials as XML"
   ]
  },
  {
   "cell_type": "code",
   "execution_count": 9,
   "id": "5396a28b-d67e-4e45-b1f0-8a91323f6d5a",
   "metadata": {},
   "outputs": [
    {
     "name": "stdout",
     "output_type": "stream",
     "text": [
      "<?xml version='1.0' encoding='utf-8'?>\r\n",
      "<materials>\r\n",
      "  <material depletable=\"true\" id=\"1\" name=\"fuel\" volume=\"1\">\r\n",
      "    <density units=\"g/cm3\" value=\"9.734933973589436\" />\r\n",
      "    <nuclide ao=\"0.311918684522211\" name=\"Th232\" />\r\n",
      "    <nuclide ao=\"0.01606098660834173\" name=\"U235\" />\r\n",
      "    <nuclide ao=\"0.01606098660834173\" name=\"U238\" />\r\n",
      "    <nuclide ao=\"0.6557107336703885\" name=\"O16\" />\r\n",
      "    <nuclide ao=\"0.00024860859071695895\" name=\"O17\" />\r\n",
      "  </material>\r\n",
      "  <material id=\"2\" name=\"graph\">\r\n",
      "    <density units=\"g/cm3\" value=\"2.26\" />\r\n",
      "    <nuclide ao=\"1.0\" name=\"C0\" />\r\n",
      "  </material>\r\n",
      "  <material id=\"3\" name=\"hel_Cool\">\r\n",
      "    <density units=\"g/cm3\" value=\"0.000178\" />\r\n",
      "    <nuclide ao=\"2e-06\" name=\"He3\" />\r\n",
      "    <nuclide ao=\"0.999998\" name=\"He4\" />\r\n",
      "  </material>\r\n",
      "</materials>\r\n"
     ]
    }
   ],
   "source": [
    "materials.export_to_xml()\n",
    "!cat materials.xml"
   ]
  },
  {
   "cell_type": "markdown",
   "id": "adb5ddd7-4d20-416a-a29e-b424769f9111",
   "metadata": {},
   "source": [
    "## Define Universe Geometry"
   ]
  },
  {
   "cell_type": "code",
   "execution_count": 10,
   "id": "6b4cb29b-3be7-4b96-bcbc-535eb8bf9236",
   "metadata": {},
   "outputs": [],
   "source": [
    "l_cube = 2.0;\n",
    "universeCube = openmc.model.RectangularParallelepiped(-l_cube, l_cube, -l_cube, l_cube, -l_cube, l_cube)"
   ]
  },
  {
   "cell_type": "code",
   "execution_count": 11,
   "id": "bb1a6d07-bad3-42fb-a6d6-8eb8b8e82b6e",
   "metadata": {},
   "outputs": [],
   "source": [
    "insideCube = -universeCube\n",
    "outsideCube = +universeCube"
   ]
  },
  {
   "cell_type": "code",
   "execution_count": 12,
   "id": "a9d26628-a94d-410e-9f2f-4b86b8e82288",
   "metadata": {},
   "outputs": [],
   "source": [
    "cell = openmc.Cell()\n",
    "cell.region = insideCube"
   ]
  },
  {
   "cell_type": "code",
   "execution_count": 13,
   "id": "9ec4e7b8-9e29-4cd5-b1b8-46c6063a0b35",
   "metadata": {},
   "outputs": [],
   "source": [
    "universe = openmc.Universe()\n",
    "universe.add_cell(cell)"
   ]
  },
  {
   "cell_type": "code",
   "execution_count": 14,
   "id": "1013ad34-c63c-4ec3-862e-1504b92e7ed0",
   "metadata": {},
   "outputs": [
    {
     "data": {
      "text/plain": [
       "<matplotlib.image.AxesImage at 0x7f2c12184c50>"
      ]
     },
     "execution_count": 14,
     "metadata": {},
     "output_type": "execute_result"
    },
    {
     "data": {
      "image/png": "[encoded data removed]",
      "text/plain": [
       "<Figure size 258.065x259.74 with 1 Axes>"
      ]
     },
     "metadata": {},
     "output_type": "display_data"
    }
   ],
   "source": [
    "universe.plot(width=(5, 5), basis='xz', colors={cell: 'fuchsia'})"
   ]
  },
  {
   "cell_type": "markdown",
   "id": "569ff1fd-f6b5-4f3b-b5eb-52bd9055eed6",
   "metadata": {},
   "source": [
    "## Define Bounding Geometry"
   ]
  },
  {
   "cell_type": "code",
   "execution_count": 46,
   "id": "ca79c413-bc02-4b25-bfdc-45ca01be5390",
   "metadata": {},
   "outputs": [],
   "source": [
    "matBox = openmc.model.RectangularParallelepiped(-matCubeL/2, matCubeL/2, -matCubeL/2, matCubeL/2, -matCubeL/2, matCubeL/2,\n",
    "                                            boundary_type='reflective')"
   ]
  },
  {
   "cell_type": "code",
   "execution_count": 47,
   "id": "df735618-6e9b-4559-bad7-02c7ac27eec7",
   "metadata": {},
   "outputs": [],
   "source": [
    "material_region = -matBox"
   ]
  },
  {
   "cell_type": "code",
   "execution_count": 61,
   "id": "86c8aa24-d4b1-48c8-a1b1-4ec239ab1d1d",
   "metadata": {},
   "outputs": [],
   "source": [
    "material_Geom = openmc.Cell(name='material_Geom')\n",
    "material_Geom.fill = materials\n",
    "material_Geom.region = material_region"
   ]
  },
  {
   "cell_type": "code",
   "execution_count": 60,
   "id": "0b75c162-551b-460b-9d4a-994a7e57b70a",
   "metadata": {},
   "outputs": [
    {
     "ename": "TypeError",
     "evalue": "Unable to add Cells to Universe ID=\"7\" since \"Cell\n\tID             =\t13\n\tName           =\tmaterial_Geom\n\tFill           =\tMaterial 1\n\tRegion         =\t(-30 29 -32 31 -34 33)\n\tRotation       =\tNone\n\tTemperature    =\tNone\n\tTranslation    =\tNone\n\tVolume         =\tNone\n\" is not iterable",
     "output_type": "error",
     "traceback": [
      "\u001b[0;31m---------------------------------------------------------------------------\u001b[0m",
      "\u001b[0;31mTypeError\u001b[0m                                 Traceback (most recent call last)",
      "Cell \u001b[0;32mIn[60], line 1\u001b[0m\n\u001b[0;32m----> 1\u001b[0m root_universe \u001b[38;5;241m=\u001b[39m \u001b[43mopenmc\u001b[49m\u001b[38;5;241;43m.\u001b[39;49m\u001b[43mUniverse\u001b[49m\u001b[43m(\u001b[49m\u001b[43mcells\u001b[49m\u001b[38;5;241;43m=\u001b[39;49m\u001b[43m(\u001b[49m\u001b[43mmaterial_Geom\u001b[49m\u001b[43m)\u001b[49m\u001b[43m)\u001b[49m\n\u001b[1;32m      3\u001b[0m geometry \u001b[38;5;241m=\u001b[39m openmc\u001b[38;5;241m.\u001b[39mGeometry()\n\u001b[1;32m      4\u001b[0m geometry\u001b[38;5;241m.\u001b[39mroot_universe \u001b[38;5;241m=\u001b[39m root_universe\n",
      "File \u001b[0;32m~/anaconda3/envs/openmc-env/lib/python3.11/site-packages/openmc/universe.py:215\u001b[0m, in \u001b[0;36mUniverse.__init__\u001b[0;34m(self, universe_id, name, cells)\u001b[0m\n\u001b[1;32m    212\u001b[0m \u001b[38;5;28msuper\u001b[39m()\u001b[38;5;241m.\u001b[39m\u001b[38;5;21m__init__\u001b[39m(universe_id, name)\n\u001b[1;32m    214\u001b[0m \u001b[38;5;28;01mif\u001b[39;00m cells \u001b[38;5;129;01mis\u001b[39;00m \u001b[38;5;129;01mnot\u001b[39;00m \u001b[38;5;28;01mNone\u001b[39;00m:\n\u001b[0;32m--> 215\u001b[0m     \u001b[38;5;28;43mself\u001b[39;49m\u001b[38;5;241;43m.\u001b[39;49m\u001b[43madd_cells\u001b[49m\u001b[43m(\u001b[49m\u001b[43mcells\u001b[49m\u001b[43m)\u001b[49m\n",
      "File \u001b[0;32m~/anaconda3/envs/openmc-env/lib/python3.11/site-packages/openmc/universe.py:435\u001b[0m, in \u001b[0;36mUniverse.add_cells\u001b[0;34m(self, cells)\u001b[0m\n\u001b[1;32m    432\u001b[0m \u001b[38;5;28;01mif\u001b[39;00m \u001b[38;5;129;01mnot\u001b[39;00m \u001b[38;5;28misinstance\u001b[39m(cells, Iterable):\n\u001b[1;32m    433\u001b[0m     msg \u001b[38;5;241m=\u001b[39m \u001b[38;5;124mf\u001b[39m\u001b[38;5;124m'\u001b[39m\u001b[38;5;124mUnable to add Cells to Universe ID=\u001b[39m\u001b[38;5;124m\"\u001b[39m\u001b[38;5;132;01m{\u001b[39;00m\u001b[38;5;28mself\u001b[39m\u001b[38;5;241m.\u001b[39m_id\u001b[38;5;132;01m}\u001b[39;00m\u001b[38;5;124m\"\u001b[39m\u001b[38;5;124m since \u001b[39m\u001b[38;5;124m'\u001b[39m \\\n\u001b[1;32m    434\u001b[0m           \u001b[38;5;124mf\u001b[39m\u001b[38;5;124m'\u001b[39m\u001b[38;5;124m\"\u001b[39m\u001b[38;5;132;01m{\u001b[39;00mcells\u001b[38;5;132;01m}\u001b[39;00m\u001b[38;5;124m\"\u001b[39m\u001b[38;5;124m is not iterable\u001b[39m\u001b[38;5;124m'\u001b[39m\n\u001b[0;32m--> 435\u001b[0m     \u001b[38;5;28;01mraise\u001b[39;00m \u001b[38;5;167;01mTypeError\u001b[39;00m(msg)\n\u001b[1;32m    437\u001b[0m \u001b[38;5;28;01mfor\u001b[39;00m cell \u001b[38;5;129;01min\u001b[39;00m cells:\n\u001b[1;32m    438\u001b[0m     \u001b[38;5;28mself\u001b[39m\u001b[38;5;241m.\u001b[39madd_cell(cell)\n",
      "\u001b[0;31mTypeError\u001b[0m: Unable to add Cells to Universe ID=\"7\" since \"Cell\n\tID             =\t13\n\tName           =\tmaterial_Geom\n\tFill           =\tMaterial 1\n\tRegion         =\t(-30 29 -32 31 -34 33)\n\tRotation       =\tNone\n\tTemperature    =\tNone\n\tTranslation    =\tNone\n\tVolume         =\tNone\n\" is not iterable"
     ]
    }
   ],
   "source": [
    "root_universe = openmc.Universe(cells=(material_Geom))\n",
    "\n",
    "geometry = openmc.Geometry()\n",
    "geometry.root_universe = root_universe\n",
    "geometry.export_to_xml()\n",
    "!cat geometry.xml"
   ]
  },
  {
   "cell_type": "code",
   "execution_count": 21,
   "id": "66f6c1f4",
   "metadata": {},
   "outputs": [
    {
     "data": {
      "text/plain": [
       "<matplotlib.image.AxesImage at 0x7f2c12014590>"
      ]
     },
     "execution_count": 21,
     "metadata": {},
     "output_type": "execute_result"
    },
    {
     "data": {
      "image/png": "[encoded data removed]",
      "text/plain": [
       "<Figure size 258.065x259.74 with 1 Axes>"
      ]
     },
     "metadata": {},
     "output_type": "display_data"
    }
   ],
   "source": [
    "root_universe.plot(width=(2.5, 2.5), basis='xz', colors={cell: 'fuchsia'})"
   ]
  },
  {
   "cell_type": "markdown",
   "id": "a4619459-85fd-4499-9750-64b1b0a273e4",
   "metadata": {},
   "source": [
    "## Cross Sections"
   ]
  },
  {
   "cell_type": "code",
   "execution_count": 22,
   "id": "0e1bd3de-76fb-4746-b4b8-ffb9ea8c1457",
   "metadata": {},
   "outputs": [
    {
     "name": "stdout",
     "output_type": "stream",
     "text": [
      "<?xml version='1.0' encoding='utf-8'?>\n",
      "<cross_sections>\n",
      "  <library materials=\"H1\" path=\"neutron/H1.h5\" type=\"neutron\" />\n",
      "  <library materials=\"H2\" path=\"neutron/H2.h5\" type=\"neutron\" />\n",
      "  <library materials=\"H3\" path=\"neutron/H3.h5\" type=\"neutron\" />\n",
      "  <library materials=\"He3\" path=\"neutron/He3.h5\" type=\"neutron\" />\n",
      "  <library materials=\"He4\" path=\"neutron/He4.h5\" type=\"neutron\" />\n",
      "  <library materials=\"Li6\" path=\"neutron/Li6.h5\" type=\"neutron\" />\n",
      "  <library materials=\"Li7\" path=\"neutron/Li7.h5\" type=\"neutron\" />\n",
      "  <library materials=\"Be7\" path=\"neutron/Be7.h5\" type=\"neutron\" />\n",
      "    ...\n",
      "  <library materials=\"Cf253\" path=\"wmp/098253.h5\" type=\"wmp\" />\n",
      "  <library materials=\"Cf254\" path=\"wmp/098254.h5\" type=\"wmp\" />\n",
      "  <library materials=\"Es251\" path=\"wmp/099251.h5\" type=\"wmp\" />\n",
      "  <library materials=\"Es252\" path=\"wmp/099252.h5\" type=\"wmp\" />\n",
      "  <library materials=\"Es253\" path=\"wmp/099253.h5\" type=\"wmp\" />\n",
      "  <library materials=\"Es254\" path=\"wmp/099254.h5\" type=\"wmp\" />\n",
      "  <library materials=\"Es254_m1\" path=\"wmp/099254m1.h5\" type=\"wmp\" />\n",
      "  <library materials=\"Es255\" path=\"wmp/099255.h5\" type=\"wmp\" />\n",
      "  <library materials=\"Fm255\" path=\"wmp/100255.h5\" type=\"wmp\" />\n",
      "</cross_sections>\n"
     ]
    }
   ],
   "source": [
    "!cat $OPENMC_CROSS_SECTIONS | head -n 10\n",
    "print('    ...')\n",
    "!cat $OPENMC_CROSS_SECTIONS | tail -n 10"
   ]
  },
  {
   "cell_type": "markdown",
   "id": "f3111231-59e6-4574-b1d3-64e44bd2b5cb",
   "metadata": {},
   "source": [
    "## Source"
   ]
  },
  {
   "cell_type": "code",
   "execution_count": 23,
   "id": "7729d519-9244-46a9-90dd-5131426b7e0b",
   "metadata": {},
   "outputs": [],
   "source": [
    "# create a point source\n",
    "point = openmc.stats.Point((0,0,0))\n",
    "source = openmc.Source(space=point)\n"
   ]
  },
  {
   "cell_type": "code",
   "execution_count": 24,
   "id": "533cc885-a679-4885-a9a1-cbaa016a0b2a",
   "metadata": {},
   "outputs": [],
   "source": [
    "settings = openmc.Settings()\n",
    "settings.source = source\n",
    "settings.batches = 100\n",
    "settings.inactive = 10\n",
    "settings.particles = 1000"
   ]
  },
  {
   "cell_type": "code",
   "execution_count": 25,
   "id": "1cffe48f-230a-44c1-9e16-7eb6342c5757",
   "metadata": {},
   "outputs": [
    {
     "name": "stdout",
     "output_type": "stream",
     "text": [
      "<?xml version='1.0' encoding='utf-8'?>\n",
      "<settings>\n",
      "  <run_mode>eigenvalue</run_mode>\n",
      "  <particles>1000</particles>\n",
      "  <batches>100</batches>\n",
      "  <inactive>10</inactive>\n",
      "  <source strength=\"1.0\">\n",
      "    <space type=\"point\">\n",
      "      <parameters>0 0 0</parameters>\n",
      "    </space>\n",
      "  </source>\n",
      "</settings>\n"
     ]
    }
   ],
   "source": [
    "settings.export_to_xml()\n",
    "!cat settings.xml"
   ]
  },
  {
   "cell_type": "markdown",
   "id": "24c50672-07ec-44ed-a4e5-82eee74ac5c2",
   "metadata": {},
   "source": [
    "## Tallies"
   ]
  },
  {
   "cell_type": "code",
   "execution_count": 26,
   "id": "95b9bf22-2549-44ef-bd81-da29e5bfe002",
   "metadata": {},
   "outputs": [],
   "source": [
    "cell_filter = openmc.CellFilter(fuel_Geom)\n",
    "\n",
    "tally = openmc.Tally(1)\n",
    "tally.filters = [cell_filter]"
   ]
  },
  {
   "cell_type": "code",
   "execution_count": 27,
   "id": "08f8fe37-2dad-473a-a5f3-89b06df16127",
   "metadata": {},
   "outputs": [],
   "source": [
    "tally.nuclides = ['U235']\n",
    "tally.scores = ['total','fission','absorption','(n,gamma)']"
   ]
  },
  {
   "cell_type": "code",
   "execution_count": 28,
   "id": "31dfccf1-563e-4309-acee-93107699ac5f",
   "metadata": {},
   "outputs": [
    {
     "name": "stdout",
     "output_type": "stream",
     "text": [
      "<?xml version='1.0' encoding='utf-8'?>\n",
      "<tallies>\n",
      "  <filter id=\"1\" type=\"cell\">\n",
      "    <bins>2</bins>\n",
      "  </filter>\n",
      "  <tally id=\"1\">\n",
      "    <filters>1</filters>\n",
      "    <nuclides>U235</nuclides>\n",
      "    <scores>total fission absorption (n,gamma)</scores>\n",
      "  </tally>\n",
      "</tallies>\n"
     ]
    }
   ],
   "source": [
    "tallies = openmc.Tallies([tally])\n",
    "tallies.export_to_xml()\n",
    "!cat tallies.xml"
   ]
  },
  {
   "cell_type": "code",
   "execution_count": 29,
   "id": "8042d5f2-c952-44cd-9a03-c825f2018fc9",
   "metadata": {},
   "outputs": [
    {
     "name": "stdout",
     "output_type": "stream",
     "text": [
      "                                %%%%%%%%%%%%%%%\n",
      "                           %%%%%%%%%%%%%%%%%%%%%%%%\n",
      "                        %%%%%%%%%%%%%%%%%%%%%%%%%%%%%%\n",
      "                      %%%%%%%%%%%%%%%%%%%%%%%%%%%%%%%%%%\n",
      "                    %%%%%%%%%%%%%%%%%%%%%%%%%%%%%%%%%%%%%%\n",
      "                   %%%%%%%%%%%%%%%%%%%%%%%%%%%%%%%%%%%%%%%%\n",
      "                                    %%%%%%%%%%%%%%%%%%%%%%%%\n",
      "                                     %%%%%%%%%%%%%%%%%%%%%%%%\n",
      "                 ###############      %%%%%%%%%%%%%%%%%%%%%%%%\n",
      "                ##################     %%%%%%%%%%%%%%%%%%%%%%%\n",
      "                ###################     %%%%%%%%%%%%%%%%%%%%%%%\n",
      "                ####################     %%%%%%%%%%%%%%%%%%%%%%\n",
      "                #####################     %%%%%%%%%%%%%%%%%%%%%\n",
      "                ######################     %%%%%%%%%%%%%%%%%%%%\n",
      "                #######################     %%%%%%%%%%%%%%%%%%\n",
      "                 #######################     %%%%%%%%%%%%%%%%%\n",
      "                 ######################     %%%%%%%%%%%%%%%%%\n",
      "                  ####################     %%%%%%%%%%%%%%%%%\n",
      "                    #################     %%%%%%%%%%%%%%%%%\n",
      "                     ###############     %%%%%%%%%%%%%%%%\n",
      "                       ############     %%%%%%%%%%%%%%%\n",
      "                          ########     %%%%%%%%%%%%%%\n",
      "                                      %%%%%%%%%%%\n",
      "\n",
      "                 | The OpenMC Monte Carlo Code\n",
      "       Copyright | 2011-2023 MIT, UChicago Argonne LLC, and contributors\n",
      "         License | https://docs.openmc.org/en/latest/license.html\n",
      "         Version | 0.13.3\n",
      "        Git SHA1 | 50e39a4e20dc9e0f3d7ccf07333f6a5e6c797c8c\n",
      "       Date/Time | 2023-10-23 04:25:29\n",
      "  OpenMP Threads | 24\n",
      "\n",
      " Reading settings XML file...\n",
      " Reading cross sections XML file...\n",
      " Reading materials XML file...\n",
      " Reading geometry XML file...\n",
      " Reading Th232 from\n",
      " /home/karlflorida/openmc/openmc/data/endfb71/endfb-vii.1-hdf5/neutron/Th232.h5\n",
      " Reading U235 from\n",
      " /home/karlflorida/openmc/openmc/data/endfb71/endfb-vii.1-hdf5/neutron/U235.h5\n",
      " Reading U238 from\n",
      " /home/karlflorida/openmc/openmc/data/endfb71/endfb-vii.1-hdf5/neutron/U238.h5\n",
      " Reading O16 from\n",
      " /home/karlflorida/openmc/openmc/data/endfb71/endfb-vii.1-hdf5/neutron/O16.h5\n",
      " Reading O17 from\n",
      " /home/karlflorida/openmc/openmc/data/endfb71/endfb-vii.1-hdf5/neutron/O17.h5\n",
      " Reading C0 from\n",
      " /home/karlflorida/openmc/openmc/data/endfb71/endfb-vii.1-hdf5/neutron/C0.h5\n",
      " Reading He3 from\n",
      " /home/karlflorida/openmc/openmc/data/endfb71/endfb-vii.1-hdf5/neutron/He3.h5\n",
      " Reading He4 from\n",
      " /home/karlflorida/openmc/openmc/data/endfb71/endfb-vii.1-hdf5/neutron/He4.h5\n",
      " Minimum neutron data temperature: 294 K\n",
      " Maximum neutron data temperature: 294 K\n",
      " Reading tallies XML file...\n",
      " Preparing distributed cell instances...\n",
      " Reading plot XML file...\n",
      " Writing summary.h5 file...\n",
      " Maximum neutron transport energy: 20000000 eV for U235\n",
      " Initializing source particles...\n",
      "\n",
      " ====================>     K EIGENVALUE SIMULATION     <====================\n",
      "\n",
      "  Bat./Gen.      k            Average k\n",
      "  =========   ========   ====================\n",
      "        1/1    0.62282\n",
      "        2/1    0.56656\n",
      "        3/1    0.55557\n",
      "        4/1    0.60827\n",
      "        5/1    0.56426\n",
      "        6/1    0.59159\n",
      "        7/1    0.60875\n",
      "        8/1    0.61130\n",
      "        9/1    0.57173\n",
      "       10/1    0.56216\n",
      "       11/1    0.61289\n",
      "       12/1    0.57562    0.59425 +/- 0.01863\n",
      "       13/1    0.58661    0.59171 +/- 0.01105\n",
      "       14/1    0.59184    0.59174 +/- 0.00782\n",
      "       15/1    0.59265    0.59192 +/- 0.00606\n",
      "       16/1    0.58842    0.59134 +/- 0.00498\n",
      "       17/1    0.58736    0.59077 +/- 0.00425\n",
      "       18/1    0.60809    0.59293 +/- 0.00427\n",
      "       19/1    0.60280    0.59403 +/- 0.00392\n",
      "       20/1    0.58773    0.59340 +/- 0.00356\n",
      "       21/1    0.58265    0.59242 +/- 0.00337\n",
      "       22/1    0.59805    0.59289 +/- 0.00311\n",
      "       23/1    0.58748    0.59248 +/- 0.00289\n",
      "       24/1    0.57789    0.59143 +/- 0.00287\n",
      "       25/1    0.57562    0.59038 +/- 0.00287\n",
      "       26/1    0.59841    0.59088 +/- 0.00273\n",
      "       27/1    0.60710    0.59184 +/- 0.00274\n",
      "       28/1    0.59548    0.59204 +/- 0.00259\n",
      "       29/1    0.56067    0.59039 +/- 0.00296\n",
      "       30/1    0.62511    0.59212 +/- 0.00330\n",
      "       31/1    0.57797    0.59145 +/- 0.00321\n",
      "       32/1    0.62706    0.59307 +/- 0.00346\n",
      "       33/1    0.61635    0.59408 +/- 0.00346\n",
      "       34/1    0.60641    0.59459 +/- 0.00335\n",
      "       35/1    0.60511    0.59501 +/- 0.00324\n",
      "       36/1    0.60541    0.59541 +/- 0.00314\n",
      "       37/1    0.57826    0.59478 +/- 0.00309\n",
      "       38/1    0.58463    0.59442 +/- 0.00300\n",
      "       39/1    0.59993    0.59461 +/- 0.00290\n",
      "       40/1    0.60846    0.59507 +/- 0.00284\n",
      "       41/1    0.61709    0.59578 +/- 0.00283\n",
      "       42/1    0.59637    0.59580 +/- 0.00274\n",
      "       43/1    0.55676    0.59461 +/- 0.00291\n",
      "       44/1    0.60080    0.59480 +/- 0.00283\n",
      "       45/1    0.60731    0.59515 +/- 0.00277\n",
      "       46/1    0.61709    0.59576 +/- 0.00276\n",
      "       47/1    0.51813    0.59367 +/- 0.00341\n",
      "       48/1    0.61970    0.59435 +/- 0.00339\n",
      "       49/1    0.58120    0.59401 +/- 0.00332\n",
      "       50/1    0.60408    0.59426 +/- 0.00324\n",
      "       51/1    0.59092    0.59418 +/- 0.00316\n",
      "       52/1    0.56136    0.59340 +/- 0.00318\n",
      "       53/1    0.63206    0.59430 +/- 0.00324\n",
      "       54/1    0.60283    0.59449 +/- 0.00317\n",
      "       55/1    0.59244    0.59445 +/- 0.00310\n",
      "       56/1    0.60671    0.59472 +/- 0.00304\n",
      "       57/1    0.60827    0.59500 +/- 0.00299\n",
      "       58/1    0.61213    0.59536 +/- 0.00295\n",
      "       59/1    0.60855    0.59563 +/- 0.00290\n",
      "       60/1    0.60777    0.59587 +/- 0.00285\n",
      "       61/1    0.57409    0.59545 +/- 0.00283\n",
      "       62/1    0.57819    0.59511 +/- 0.00279\n",
      "       63/1    0.57480    0.59473 +/- 0.00277\n",
      "       64/1    0.58447    0.59454 +/- 0.00272\n",
      "       65/1    0.62169    0.59503 +/- 0.00272\n",
      "       66/1    0.59790    0.59509 +/- 0.00267\n",
      "       67/1    0.59997    0.59517 +/- 0.00262\n",
      "       68/1    0.57684    0.59486 +/- 0.00260\n",
      "       69/1    0.63668    0.59556 +/- 0.00265\n",
      "       70/1    0.61913    0.59596 +/- 0.00263\n",
      "       71/1    0.60149    0.59605 +/- 0.00259\n",
      "       72/1    0.59500    0.59603 +/- 0.00255\n",
      "       73/1    0.60727    0.59621 +/- 0.00251\n",
      "       74/1    0.58562    0.59604 +/- 0.00248\n",
      "       75/1    0.60353    0.59616 +/- 0.00244\n",
      "       76/1    0.62204    0.59655 +/- 0.00244\n",
      "       77/1    0.61603    0.59684 +/- 0.00242\n",
      "       78/1    0.58195    0.59662 +/- 0.00239\n",
      "       79/1    0.60202    0.59670 +/- 0.00236\n",
      "       80/1    0.61589    0.59697 +/- 0.00234\n",
      "       81/1    0.55864    0.59643 +/- 0.00237\n",
      "       82/1    0.59104    0.59636 +/- 0.00234\n",
      "       83/1    0.56971    0.59599 +/- 0.00234\n",
      "       84/1    0.61348    0.59623 +/- 0.00232\n",
      "       85/1    0.59129    0.59617 +/- 0.00229\n",
      "       86/1    0.60216    0.59624 +/- 0.00226\n",
      "       87/1    0.56613    0.59585 +/- 0.00226\n",
      "       88/1    0.65980    0.59667 +/- 0.00238\n",
      "       89/1    0.60934    0.59683 +/- 0.00235\n",
      "       90/1    0.55153    0.59627 +/- 0.00239\n",
      "       91/1    0.61430    0.59649 +/- 0.00237\n",
      "       92/1    0.61089    0.59667 +/- 0.00235\n",
      "       93/1    0.60630    0.59678 +/- 0.00232\n",
      "       94/1    0.56015    0.59635 +/- 0.00234\n",
      "       95/1    0.61131    0.59652 +/- 0.00232\n",
      "       96/1    0.57484    0.59627 +/- 0.00230\n",
      "       97/1    0.62013    0.59654 +/- 0.00229\n",
      "       98/1    0.55961    0.59612 +/- 0.00231\n",
      "       99/1    0.56897    0.59582 +/- 0.00230\n",
      "      100/1    0.61222    0.59600 +/- 0.00228\n",
      " Creating state point statepoint.100.h5...\n",
      "\n",
      " =======================>     TIMING STATISTICS     <=======================\n",
      "\n",
      " Total time for initialization     = 3.6300e-01 seconds\n",
      "   Reading cross sections          = 3.3436e-01 seconds\n",
      " Total time in simulation          = 4.3368e+00 seconds\n",
      "   Time in transport only          = 4.1804e+00 seconds\n",
      "   Time in inactive batches        = 4.5101e-01 seconds\n",
      "   Time in active batches          = 3.8858e+00 seconds\n",
      "   Time synchronizing fission bank = 8.4979e-03 seconds\n",
      "     Sampling source sites         = 7.3124e-03 seconds\n",
      "     SEND/RECV source sites        = 1.0634e-03 seconds\n",
      "   Time accumulating tallies       = 1.2517e-01 seconds\n",
      "   Time writing statepoints        = 3.0886e-03 seconds\n",
      " Total time for finalization       = 1.8635e-04 seconds\n",
      " Total time elapsed                = 4.7110e+00 seconds\n",
      " Calculation Rate (inactive)       = 22172.7 particles/second\n",
      " Calculation Rate (active)         = 23161.1 particles/second\n",
      "\n",
      " ============================>     RESULTS     <============================\n",
      "\n",
      " k-effective (Collision)     = 0.59674 +/- 0.00229\n",
      " k-effective (Track-length)  = 0.59600 +/- 0.00228\n",
      " k-effective (Absorption)    = 0.59627 +/- 0.00327\n",
      " Combined k-effective        = 0.59623 +/- 0.00208\n",
      " Leakage Fraction            = 0.00000 +/- 0.00000\n",
      "\n"
     ]
    }
   ],
   "source": [
    "openmc.run()"
   ]
  },
  {
   "cell_type": "code",
   "execution_count": 30,
   "id": "f0c6307a-f7a7-479b-9f8c-c4d08a2c25f7",
   "metadata": {},
   "outputs": [
    {
     "name": "stdout",
     "output_type": "stream",
     "text": [
      " ============================>     TALLY 1     <============================\n",
      "\n",
      " Cell 2\n",
      "   U235\n",
      "     Total Reaction Rate                  0.91114 +/- 0.00224088\n",
      "     Fission Rate                         0.227295 +/- 0.000915789\n",
      "     Absorption Rate                      0.317908 +/- 0.00139014\n",
      "     (n,gamma)                            0.0906126 +/- 0.000500268\n"
     ]
    }
   ],
   "source": [
    "!cat tallies.out"
   ]
  },
  {
   "cell_type": "markdown",
   "id": "a2959a99-e2c7-4461-9d83-83d63d1f0bd8",
   "metadata": {},
   "source": [
    "## Plot Geometry"
   ]
  },
  {
   "cell_type": "code",
   "execution_count": 31,
   "id": "4719882c-6b7b-40b6-a75f-22f3a51b1a42",
   "metadata": {},
   "outputs": [],
   "source": [
    "plot = openmc.Plot()\n",
    "plot.filename = 'pinplot'\n",
    "plot.width = (pitch,pitch)\n",
    "plot.pixels = (200,200)\n",
    "plot.color_by = 'material'\n",
    "plot.colors = {fuel: 'yellow',hel_Cool: 'blue'}"
   ]
  },
  {
   "cell_type": "code",
   "execution_count": 32,
   "id": "cd861feb-9b0b-4b3e-987e-e2261440a24d",
   "metadata": {},
   "outputs": [
    {
     "name": "stdout",
     "output_type": "stream",
     "text": [
      "<?xml version='1.0' encoding='utf-8'?>\n",
      "<plots>\n",
      "  <plot basis=\"xy\" color_by=\"material\" filename=\"pinplot\" id=\"3\" type=\"slice\">\n",
      "    <origin>0.0 0.0 0.0</origin>\n",
      "    <width>2.0 2.0</width>\n",
      "    <pixels>200 200</pixels>\n",
      "    <color id=\"1\" rgb=\"255 255 0\" />\n",
      "    <color id=\"3\" rgb=\"0 0 255\" />\n",
      "  </plot>\n",
      "</plots>\n"
     ]
    }
   ],
   "source": [
    "plots = openmc.Plots([plot])\n",
    "plots.export_to_xml()\n",
    "!cat plots.xml"
   ]
  },
  {
   "cell_type": "code",
   "execution_count": 33,
   "id": "7ff35559-c104-4b52-8e07-48f9870a9977",
   "metadata": {},
   "outputs": [
    {
     "name": "stdout",
     "output_type": "stream",
     "text": [
      "                                %%%%%%%%%%%%%%%\n",
      "                           %%%%%%%%%%%%%%%%%%%%%%%%\n",
      "                        %%%%%%%%%%%%%%%%%%%%%%%%%%%%%%\n",
      "                      %%%%%%%%%%%%%%%%%%%%%%%%%%%%%%%%%%\n",
      "                    %%%%%%%%%%%%%%%%%%%%%%%%%%%%%%%%%%%%%%\n",
      "                   %%%%%%%%%%%%%%%%%%%%%%%%%%%%%%%%%%%%%%%%\n",
      "                                    %%%%%%%%%%%%%%%%%%%%%%%%\n",
      "                                     %%%%%%%%%%%%%%%%%%%%%%%%\n",
      "                 ###############      %%%%%%%%%%%%%%%%%%%%%%%%\n",
      "                ##################     %%%%%%%%%%%%%%%%%%%%%%%\n",
      "                ###################     %%%%%%%%%%%%%%%%%%%%%%%\n",
      "                ####################     %%%%%%%%%%%%%%%%%%%%%%\n",
      "                #####################     %%%%%%%%%%%%%%%%%%%%%\n",
      "                ######################     %%%%%%%%%%%%%%%%%%%%\n",
      "                #######################     %%%%%%%%%%%%%%%%%%\n",
      "                 #######################     %%%%%%%%%%%%%%%%%\n",
      "                 ######################     %%%%%%%%%%%%%%%%%\n",
      "                  ####################     %%%%%%%%%%%%%%%%%\n",
      "                    #################     %%%%%%%%%%%%%%%%%\n",
      "                     ###############     %%%%%%%%%%%%%%%%\n",
      "                       ############     %%%%%%%%%%%%%%%\n",
      "                          ########     %%%%%%%%%%%%%%\n",
      "                                      %%%%%%%%%%%\n",
      "\n",
      "                 | The OpenMC Monte Carlo Code\n",
      "       Copyright | 2011-2023 MIT, UChicago Argonne LLC, and contributors\n",
      "         License | https://docs.openmc.org/en/latest/license.html\n",
      "         Version | 0.13.3\n",
      "        Git SHA1 | 50e39a4e20dc9e0f3d7ccf07333f6a5e6c797c8c\n",
      "       Date/Time | 2023-10-23 04:25:34\n",
      "  OpenMP Threads | 24\n",
      "\n",
      " Reading settings XML file...\n",
      " Reading cross sections XML file...\n",
      " Reading materials XML file...\n",
      " Reading geometry XML file...\n",
      " Reading tallies XML file...\n",
      " Preparing distributed cell instances...\n",
      " Reading plot XML file...\n",
      "\n",
      " =======================>     PLOTTING SUMMARY     <========================\n",
      "\n",
      "Plot ID: 3\n",
      "Plot file: pinplot.png\n",
      "Universe depth: -1\n",
      "Plot Type: Slice\n",
      "Origin: 0 0 0\n",
      "Width:    2    2\n",
      "Coloring: Materials\n",
      "Basis: XY\n",
      "Pixels: 200 200\n",
      "\n",
      " Processing plot 3: pinplot.png...\n"
     ]
    }
   ],
   "source": [
    "openmc.plot_geometry()"
   ]
  },
  {
   "cell_type": "code",
   "execution_count": 34,
   "id": "cc793753-2d48-4b74-8b1a-714d1ad8e3fb",
   "metadata": {},
   "outputs": [
    {
     "data": {
      "image/png": "[encoded data removed]",
      "text/plain": [
       "<IPython.core.display.Image object>"
      ]
     },
     "execution_count": 34,
     "metadata": {},
     "output_type": "execute_result"
    }
   ],
   "source": [
    "from IPython.display import Image\n",
    "Image('pinplot.png')"
   ]
  },
  {
   "cell_type": "code",
   "execution_count": 35,
   "id": "46887c0f-2aa2-49fe-b907-fddbd9822d79",
   "metadata": {},
   "outputs": [
    {
     "data": {
      "image/png": "[encoded data removed]",
      "text/plain": [
       "<IPython.core.display.Image object>"
      ]
     },
     "execution_count": 35,
     "metadata": {},
     "output_type": "execute_result"
    }
   ],
   "source": [
    "plot.to_ipython_image()"
   ]
  }
 ],
 "metadata": {
  "kernelspec": {
   "display_name": "Python 3 (ipykernel)",
   "language": "python",
   "name": "python3"
  },
  "language_info": {
   "codemirror_mode": {
    "name": "ipython",
    "version": 3
   },
   "file_extension": ".py",
   "mimetype": "text/x-python",
   "name": "python",
   "nbconvert_exporter": "python",
   "pygments_lexer": "ipython3",
   "version": "3.9.16"
  }
 },
 "nbformat": 4,
 "nbformat_minor": 5
}
