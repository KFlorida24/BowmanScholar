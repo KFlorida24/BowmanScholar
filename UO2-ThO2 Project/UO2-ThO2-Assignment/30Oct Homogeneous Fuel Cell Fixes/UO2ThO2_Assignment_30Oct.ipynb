{
 "cells": [
  {
   "cell_type": "markdown",
   "id": "97609094-cf19-4b02-b7d9-3feed71a4d2d",
   "metadata": {},
   "source": [
    "# Florida UO2 ThO2 Mixture Assignment: 30Oct"
   ]
  },
  {
   "cell_type": "code",
   "execution_count": 1,
   "id": "38f81133-0b87-48ba-9e95-f45c7d9d5c75",
   "metadata": {},
   "outputs": [],
   "source": [
    "%matplotlib inline\n",
    "import openmc\n",
    "import math"
   ]
  },
  {
   "cell_type": "code",
   "execution_count": 2,
   "id": "e8fb27ee-72dc-490d-bfd7-cc7cf2c65d4a",
   "metadata": {},
   "outputs": [
    {
     "name": "stdout",
     "output_type": "stream",
     "text": [
      "Please select whether you want to do one run with user inputs (1) or a continuous run (2).\n"
     ]
    },
    {
     "name": "stdin",
     "output_type": "stream",
     "text": [
      " 1\n"
     ]
    },
    {
     "name": "stdout",
     "output_type": "stream",
     "text": [
      "Single Run, User Input\n"
     ]
    }
   ],
   "source": [
    "while True:\n",
    "    try:\n",
    "        print('Please select whether you want to do one run with user inputs (1) or a continuous run (2).')\n",
    "        userInputTF = int(input())\n",
    "    except ValueError:\n",
    "        print(\"Please type in a valid number (1 or 2)\")\n",
    "        continue\n",
    "    if userInputTF not in (1,2):\n",
    "        print(\"Please type in a valid entry (1 or 2)\")\n",
    "        continue\n",
    "    else:\n",
    "        break\n",
    "if userInputTF == 1: \n",
    "    print(\"Single Run, User Input\")\n",
    "elif userInputTF == 2:\n",
    "    print(\"Continuous Run (Currently not supported, please restart)\")"
   ]
  },
  {
   "cell_type": "code",
   "execution_count": 3,
   "id": "c3b6cafe-b2ad-48e4-aa7d-157431178da9",
   "metadata": {},
   "outputs": [
    {
     "name": "stdin",
     "output_type": "stream",
     "text": [
      "Desired UO2 Mass Density [g/cc]? (Press Enter key for default for default value of 10.45 g/cc) \n",
      "Desired level of UO2 Enrichment (%)? (Press Enter key for default for default value of 5%) 19.75\n",
      "Desired Uranium/Thorium Fuel Mixture Uranium Fraction (%)? (Press Enter key for default for default value of 40%) 90\n"
     ]
    },
    {
     "name": "stdout",
     "output_type": "stream",
     "text": [
      "UO2 Mass Density:  10.45 g/cc\n",
      "UO2 Enrichment:  19.75 %\n",
      "Fuel UO2 Percent:  90.0 %\n",
      "Fuel Thorium Percent:  9.999999999999998 %\n"
     ]
    }
   ],
   "source": [
    "if userInputTF == 1:\n",
    "    while True:\n",
    "        try:\n",
    "            UO2MassRho = float(input('Desired UO2 Mass Density [g/cc]? (Press Enter key for default for default value of 10.45 g/cc)') or 10.45)\n",
    "        except ValueError:\n",
    "            print(\"Please type in a valid number (no characters)\")\n",
    "            continue\n",
    "        else:\n",
    "            break\n",
    "    while True:\n",
    "        try:\n",
    "            UO2Enrichment = float(input('Desired level of UO2 Enrichment (%)? (Press Enter key for default for default value of 5%)') or 5)/100\n",
    "        except ValueError:\n",
    "            print(\"Please type in a valid number (no characters)\")\n",
    "            continue\n",
    "        else:\n",
    "            break\n",
    "    while True:\n",
    "        try:\n",
    "            pctLEU = float(input('Desired Uranium/Thorium Fuel Mixture Uranium Fraction (%)? (Press Enter key for default for default value of 40%)') or 40)/100\n",
    "        except ValueError:\n",
    "            print(\"Please type in a valid number (no characters)\")\n",
    "            continue\n",
    "        else:\n",
    "            break\n",
    "    print('UO2 Mass Density: ', UO2MassRho, 'g/cc')\n",
    "    print('UO2 Enrichment: ', UO2Enrichment*100, '%')\n",
    "    print('Fuel UO2 Percent: ', pctLEU*100, '%')\n",
    "    print('Fuel Thorium Percent: ', (1 - pctLEU)*100, '%')\n"
   ]
  },
  {
   "cell_type": "markdown",
   "id": "4b18edad-601f-4c50-87fe-9f6b64f79b09",
   "metadata": {},
   "source": [
    "## Calculate Weight Percentages"
   ]
  },
  {
   "cell_type": "code",
   "execution_count": 4,
   "id": "44e825ce-c957-4596-a76b-19399e522fcc",
   "metadata": {},
   "outputs": [],
   "source": [
    "# Constants - via PNNL Mat'l Comp., Rev-2\n",
    "ThO2OAtomRho = 0.044247 # Oxygen Atom Density in ThO2 [atom/b-cm]\n",
    "ThO2ThAtomRho = 0.022124 # Thorium Atom Density in ThO2 [atom/b-cm]\n",
    "ThMolW = 232. # Molecular Weight of Th [g/mol]\n",
    "OMolW = 16. # Molecular Weight of O [g/mol]\n",
    "ThO2MolW = ThMolW + 2*OMolW # Molecular Weight of ThO2 [g/mol]\n",
    "U235MolW = 235. # Molecular Weight of U-235 [g/mol]\n",
    "U238MolW = 238. # Molecular Weight of U-238 [g/mol]\n",
    "ThO2MassRho = 9.7 # Mass Density of ThO2 [g/cm^3]\n",
    "graphMassRho = 2.26 # Mass Density of Graphite [g/cm^3]\n",
    "he_CoolMassRho = 0.000178 # Mass Density of He @ 293K [g/cm^3]\n",
    "avo = 0.6022 # Avogadro's Number\n",
    "\n",
    "# Results of Constants and Input Parameters\n",
    "# Weight percent of Th in LEU mixture\n",
    "pctTh = 1 - pctLEU \n",
    "# Total Mixture Density\n",
    "UThMixMassRho = (pctLEU/UO2MassRho + pctTh/ThO2MassRho)**-1 # [g/cm]\n",
    "# UO2 Atom Densities\n",
    "UO2UMolW = ((UO2Enrichment/U235MolW) + ((1 - UO2Enrichment)/U238MolW))**-1 # Molecular Weight of U in UO2 [g/mol]\n",
    "UO2MolW = UO2UMolW + 2*16 # Molecular Weight of UO2 [g/mol]\n",
    "UO2OAtomRho = (UO2MassRho/UO2MolW)*2*avo # O Atom Density in UO2 [atom/b-cm]\n",
    "UO2U235AtomRho = (UO2Enrichment*UO2MassRho*(UO2UMolW/UO2MolW)/U235MolW)*avo # U-235 Atom Density in UO2 [atom/b-cm] \n",
    "UO2U238AtomRho = ((1 - UO2Enrichment)*UO2MassRho*(UO2UMolW/UO2MolW)/U238MolW)*avo # U-238 Atom Density in UO2 [atom/b-cm]\n",
    "UO2U235AtomRhoFrac = UO2U235AtomRho/(UO2U235AtomRho+UO2U238AtomRho)\n",
    "UO2U238AtomRhoFrac = UO2U238AtomRho/(UO2U235AtomRho+UO2U238AtomRho)\n",
    "# UO2 ThO2 Mixture Atom Densities\n",
    "UThMixOAtomRho = (pctTh*UThMixMassRho/ThO2MolW)*2*avo + (pctLEU*UThMixMassRho/UO2MolW)*2*avo # Oxygen Atom Density in Fuel Mixture [atom/b-cm]\n",
    "UThMixThAtomRho = (pctTh*UThMixMassRho/ThO2MolW)*avo # Uranium Atom Density in Fuel Mixture [atom/b-cm] \n",
    "UThMixU235AtomRho = (pctLEU*UThMixMassRho/UO2MolW)*avo*UO2U235AtomRhoFrac # Uranium Atom Density in Fuel Mixture [atom/b-cm]\n",
    "UThMixU238AtomRho = (pctLEU*UThMixMassRho/UO2MolW)*avo*UO2U238AtomRhoFrac # Uranium Atom Density in Fuel Mixture [atom/b-cm]\n",
    "# UO2 ThO2 Mixture Atom Fractions\n",
    "# Normalized to 1\n",
    "UThMixOAtomFrac = UThMixOAtomRho/(UThMixOAtomRho + UThMixThAtomRho + UThMixU235AtomRho + UThMixU238AtomRho) # Oxygen Atom Fraction in Fuel Mixture [atom/b-cm]\n",
    "UThMixThAtomFrac = UThMixThAtomRho/(UThMixOAtomRho + UThMixThAtomRho + UThMixU235AtomRho + UThMixU238AtomRho) # Uranium Atom Fraction in Fuel Mixture [atom/b-cm] \n",
    "UThMixU235AtomFrac = UThMixU235AtomRho/(UThMixOAtomRho + UThMixThAtomRho + UThMixU235AtomRho + UThMixU238AtomRho) # Uranium Atom Fraction in Fuel Mixture [atom/b-cm]\n",
    "UThMixU238AtomFrac = UThMixU238AtomRho/(UThMixOAtomRho + UThMixThAtomRho + UThMixU235AtomRho + UThMixU238AtomRho) # Uranium Atom Density in Fuel Mixture [atom/b-cm]\n",
    "# Normalized to 3\n",
    "UThMixOAtomFrac3 = UThMixOAtomFrac*3 # Oxygen Atom Fraction in Fuel Mixture [atom/b-cm]\n",
    "UThMixU235AtomFrac3 = UThMixU235AtomFrac*3 # Uranium Atom Fraction in Fuel Mixture [atom/b-cm] \n",
    "UThMixU238AtomFrac3 = UThMixU238AtomFrac*3 # Uranium Atom Fraction in Fuel Mixture [atom/b-cm]\n",
    "UThMixThAtomFrac3 = UThMixThAtomFrac*3 # Uranium Atom Density in Fuel Mixture [atom/b-cm]"
   ]
  },
  {
   "cell_type": "markdown",
   "id": "c4d2c7d1-838a-45c2-88fb-edbb22e2ee1f",
   "metadata": {},
   "source": [
    "## Calculate Vol %"
   ]
  },
  {
   "cell_type": "code",
   "execution_count": 5,
   "id": "5a80e691-2176-4e90-87d6-149c26ba9eea",
   "metadata": {},
   "outputs": [],
   "source": [
    "# Constants\n",
    "vF_Pebbles_Core = 2./3 # Volume Fraction of Pebbles in Core (Max packing factor)\n",
    "vF_TRISO_Pebbles = 0.4 # Volume Fraction of TRISO in Pebbles\n",
    "vF_Fuel_TRISO = 0.15 # Volume Fraction of Fuel in TRISO\n",
    "fuelVolFrac = vF_Pebbles_Core*vF_TRISO_Pebbles*vF_Fuel_TRISO # Volume Fraction of Fuel\n",
    "graphVolFrac = vF_Pebbles_Core*(1 - (vF_TRISO_Pebbles*vF_Fuel_TRISO)) # Total Volume Fraction of Graphite\n",
    "hel_CoolVolFrac = 1 - (fuelVolFrac + graphVolFrac) # Total Volume Fraction of Helium\n",
    "totalVolFrac = fuelVolFrac + graphVolFrac + hel_CoolVolFrac # Total Volume\n",
    "\n",
    "# Parameters\n",
    "# Cube\n",
    "matCubeL = 1 # [cm]\n",
    "cubeVol = matCubeL**3 # [cm^3]\n",
    "# Sphere\n",
    "matSphereRad = 1 # [cm]\n",
    "sphereVol = (4/3)*math.pi*matSphereRad**3\n",
    "\n",
    "# Volume Output\n",
    "#Cube\n",
    "fuelCubeVol = fuelVolFrac*cubeVol\n",
    "graphCubeVol = graphVolFrac*cubeVol\n",
    "hel_CoolCubeVol = hel_CoolVolFrac*cubeVol\n",
    "totalCubeVol = fuelCubeVol + graphCubeVol + hel_CoolCubeVol\n",
    "#Sphere\n",
    "fuelSphereVol = fuelVolFrac*sphereVol\n",
    "graphSphereVol = graphVolFrac*sphereVol\n",
    "hel_CoolSphereVol = hel_CoolVolFrac*sphereVol\n",
    "totalSphereVol = fuelSphereVol + graphSphereVol + hel_CoolSphereVol\n",
    "# Mass Output\n",
    "#Cube\n",
    "fuelCubeMass = UThMixMassRho*graphCubeVol\n",
    "graphCubeMass = graphMassRho*graphCubeVol\n",
    "hel_CoolCubeMass = he_CoolMassRho*graphCubeVol\n",
    "totalCubeMass = fuelCubeMass + graphCubeMass + hel_CoolCubeMass\n",
    "#Sphere\n",
    "fuelSphereMass = UThMixMassRho*graphSphereVol\n",
    "graphSphereMass = graphMassRho*graphSphereVol\n",
    "hel_CoolSphereMass = he_CoolMassRho*graphSphereVol\n",
    "totalSphereMass = fuelSphereMass + graphSphereMass + hel_CoolSphereMass"
   ]
  },
  {
   "cell_type": "markdown",
   "id": "d2239ece-c69c-47e0-ae4a-b3ae71d94cd3",
   "metadata": {},
   "source": [
    "## Define Materials"
   ]
  },
  {
   "cell_type": "code",
   "execution_count": 6,
   "id": "fdd19e67-da43-46cd-83a9-5c1e27b115ee",
   "metadata": {},
   "outputs": [
    {
     "name": "stdout",
     "output_type": "stream",
     "text": [
      "Material\n",
      "\tID             =\t1\n",
      "\tName           =\tfuel\n",
      "\tTemperature    =\tNone\n",
      "\tDensity        =\t10.369820971867009 [g/cm3]\n",
      "\tVolume         =\t1 [cm^3]\n",
      "\tS(a,b) Tables  \n",
      "\tNuclides       \n",
      "\tTh232          =\t0.033945880661656755 [ao]\n",
      "\tU235           =\t0.05973325641874065 [ao]\n",
      "\tU238           =\t0.23965419625293596 [ao]\n",
      "\tO16            =\t0.6664140000000001 [ao]\n",
      "\tO17            =\t0.0002526666666666667 [ao]\n",
      "\n"
     ]
    }
   ],
   "source": [
    "fuel = openmc.Material(name='fuel');\n",
    "#The below ratios were calculated assuming 95%LEU-5%Th Oxide Fuel.\n",
    "fuel.add_nuclide('Th232', UThMixThAtomFrac, 'ao')\n",
    "fuel.add_nuclide('U235', UThMixU235AtomFrac, 'ao') #5% U-235 enrichment\n",
    "fuel.add_nuclide('U238', UThMixU238AtomFrac, 'ao')\n",
    "fuel.add_element('O', UThMixOAtomFrac, 'ao')\n",
    "fuel.set_density('g/cm3', UThMixMassRho) # Based on assumption of fuel density within TRISO\n",
    "fuel.volume = cubeVol\n",
    "print(fuel)"
   ]
  },
  {
   "cell_type": "code",
   "execution_count": 7,
   "id": "aabfb205-adea-4cee-abfd-8045c9169098",
   "metadata": {},
   "outputs": [
    {
     "name": "stdout",
     "output_type": "stream",
     "text": [
      "Material\n",
      "\tID             =\t2\n",
      "\tName           =\tgraph\n",
      "\tTemperature    =\tNone\n",
      "\tDensity        =\t2.26 [g/cm3]\n",
      "\tVolume         =\tNone [cm^3]\n",
      "\tS(a,b) Tables  \n",
      "\tNuclides       \n",
      "\tC0             =\t1.0          [ao]\n",
      "\n"
     ]
    }
   ],
   "source": [
    "# Establish Graphite Moderator material\n",
    "graph = openmc.Material(name='graph')\n",
    "# add nuclides to graph\n",
    "graph.add_element('C', 1.00)\n",
    "graph.set_density('g/cm3', graphMassRho)\n",
    "print(graph)"
   ]
  },
  {
   "cell_type": "code",
   "execution_count": 8,
   "id": "b9220eb4-f9fa-4358-b453-0bbf367f82d8",
   "metadata": {},
   "outputs": [
    {
     "name": "stdout",
     "output_type": "stream",
     "text": [
      "Material\n",
      "\tID             =\t3\n",
      "\tName           =\thel_Cool\n",
      "\tTemperature    =\tNone\n",
      "\tDensity        =\t0.000178 [g/cm3]\n",
      "\tVolume         =\tNone [cm^3]\n",
      "\tS(a,b) Tables  \n",
      "\tNuclides       \n",
      "\tHe3            =\t2e-06        [ao]\n",
      "\tHe4            =\t0.999998     [ao]\n",
      "\n"
     ]
    }
   ],
   "source": [
    "# Establish Helium Coolant material\n",
    "hel_Cool = openmc.Material(name='hel_Cool')\n",
    "# add nuclides to hel_Cool\n",
    "hel_Cool.add_nuclide('He3', 0.000002)\n",
    "hel_Cool.add_nuclide('He4', 0.999998)\n",
    "hel_Cool.set_density('g/cm3', he_CoolMassRho)\n",
    "print(hel_Cool)"
   ]
  },
  {
   "cell_type": "code",
   "execution_count": 9,
   "id": "a2148824-43c4-4023-b6bf-3364ad96f6fe",
   "metadata": {},
   "outputs": [
    {
     "name": "stdout",
     "output_type": "stream",
     "text": [
      "Material\n",
      "\tID             =\t4\n",
      "\tName           =\tfuel(0.04)-graph(0.6266666666666666)-hel_Cool(0.33333333333333337)\n",
      "\tTemperature    =\tNone\n",
      "\tDensity        =\t1.83111883887468 [g/cm3]\n",
      "\tVolume         =\tNone [cm^3]\n",
      "\tS(a,b) Tables  \n",
      "\tNuclides       \n",
      "\tTh232          =\t0.0012818322702001388 [ao]\n",
      "\tU235           =\t0.0022555907871368913 [ao]\n",
      "\tU238           =\t0.009049595310481407 [ao]\n",
      "\tO16            =\t0.025164495775714064 [ao]\n",
      "\tO17            =\t9.540959922806377e-06 [ao]\n",
      "\tC0             =\t0.9621179901125235 [ao]\n",
      "\tHe3            =\t2.41909568042413e-10 [ao]\n",
      "\tHe4            =\t0.00012095454211163849 [ao]\n",
      "\n"
     ]
    }
   ],
   "source": [
    "#materials = openmc.Materials([fuel, graph, hel_Cool])\n",
    "# instead of doing this, let's try creating a material object that is a mixture\n",
    "# of fuel, graphite and helium coolant\n",
    "\n",
    "mixMat = openmc.Material.mix_materials([fuel,graph,hel_Cool],\n",
    "                                       fracs=[fuelVolFrac,graphVolFrac,hel_CoolCubeVol],\n",
    "                                      percent_type='vo',\n",
    "                                      )\n",
    "\n",
    "print(mixMat)\n",
    "\n"
   ]
  },
  {
   "cell_type": "code",
   "execution_count": 10,
   "id": "d2244185-cab3-4b81-a8b0-0fba1f075c59",
   "metadata": {},
   "outputs": [
    {
     "data": {
      "text/plain": [
       "True"
      ]
     },
     "execution_count": 10,
     "metadata": {},
     "output_type": "execute_result"
    }
   ],
   "source": [
    "materials = openmc.Materials()\n",
    "#materials += [fuel, graph, hel_Cool]\n",
    "materials += [mixMat]\n",
    "isinstance(materials,list)"
   ]
  },
  {
   "cell_type": "markdown",
   "id": "442f20be-9153-418c-937e-187777b3411e",
   "metadata": {},
   "source": [
    "## Export Materials as XML"
   ]
  },
  {
   "cell_type": "code",
   "execution_count": 11,
   "id": "5396a28b-d67e-4e45-b1f0-8a91323f6d5a",
   "metadata": {},
   "outputs": [
    {
     "name": "stdout",
     "output_type": "stream",
     "text": [
      "<?xml version='1.0' encoding='utf-8'?>\n",
      "<materials>\n",
      "  <material depletable=\"true\" id=\"4\" name=\"fuel(0.04)-graph(0.6266666666666666)-hel_Cool(0.33333333333333337)\">\n",
      "    <density units=\"g/cm3\" value=\"1.83111883887468\" />\n",
      "    <nuclide ao=\"0.0012818322702001388\" name=\"Th232\" />\n",
      "    <nuclide ao=\"0.0022555907871368913\" name=\"U235\" />\n",
      "    <nuclide ao=\"0.009049595310481407\" name=\"U238\" />\n",
      "    <nuclide ao=\"0.025164495775714064\" name=\"O16\" />\n",
      "    <nuclide ao=\"9.540959922806377e-06\" name=\"O17\" />\n",
      "    <nuclide ao=\"0.9621179901125235\" name=\"C0\" />\n",
      "    <nuclide ao=\"2.41909568042413e-10\" name=\"He3\" />\n",
      "    <nuclide ao=\"0.00012095454211163849\" name=\"He4\" />\n",
      "  </material>\n",
      "</materials>\n"
     ]
    }
   ],
   "source": [
    "materials.export_to_xml()\n",
    "!cat materials.xml"
   ]
  },
  {
   "cell_type": "markdown",
   "id": "adb5ddd7-4d20-416a-a29e-b424769f9111",
   "metadata": {},
   "source": [
    "## Define Universe Geometry"
   ]
  },
  {
   "cell_type": "code",
   "execution_count": 12,
   "id": "6b4cb29b-3be7-4b96-bcbc-535eb8bf9236",
   "metadata": {},
   "outputs": [],
   "source": [
    "l_cube = 2.0;\n",
    "universeCube = openmc.model.RectangularParallelepiped(-l_cube, l_cube, -l_cube, l_cube, -l_cube, l_cube)"
   ]
  },
  {
   "cell_type": "code",
   "execution_count": 13,
   "id": "bb1a6d07-bad3-42fb-a6d6-8eb8b8e82b6e",
   "metadata": {},
   "outputs": [],
   "source": [
    "insideCube = -universeCube\n",
    "outsideCube = +universeCube"
   ]
  },
  {
   "cell_type": "code",
   "execution_count": 14,
   "id": "a9d26628-a94d-410e-9f2f-4b86b8e82288",
   "metadata": {},
   "outputs": [],
   "source": [
    "cell = openmc.Cell()\n",
    "cell.region = insideCube"
   ]
  },
  {
   "cell_type": "code",
   "execution_count": 15,
   "id": "9ec4e7b8-9e29-4cd5-b1b8-46c6063a0b35",
   "metadata": {},
   "outputs": [],
   "source": [
    "universe = openmc.Universe()\n",
    "universe.add_cell(cell)"
   ]
  },
  {
   "cell_type": "code",
   "execution_count": 16,
   "id": "1013ad34-c63c-4ec3-862e-1504b92e7ed0",
   "metadata": {},
   "outputs": [
    {
     "data": {
      "text/plain": [
       "<matplotlib.image.AxesImage at 0x7f1662d91010>"
      ]
     },
     "execution_count": 16,
     "metadata": {},
     "output_type": "execute_result"
    },
    {
     "data": {
      "image/png": "[encoded data removed]",
      "text/plain": [
       "<Figure size 258.065x259.74 with 1 Axes>"
      ]
     },
     "metadata": {},
     "output_type": "display_data"
    }
   ],
   "source": [
    "universe.plot(width=(5, 5), basis='xz', colors={cell: 'fuchsia'})"
   ]
  },
  {
   "cell_type": "markdown",
   "id": "569ff1fd-f6b5-4f3b-b5eb-52bd9055eed6",
   "metadata": {},
   "source": [
    "## Define Bounding Geometry"
   ]
  },
  {
   "cell_type": "code",
   "execution_count": 17,
   "id": "ca79c413-bc02-4b25-bfdc-45ca01be5390",
   "metadata": {},
   "outputs": [],
   "source": [
    "matBox = openmc.model.RectangularParallelepiped(-matCubeL/2, matCubeL/2, \n",
    "                                                -matCubeL/2, matCubeL/2, \n",
    "                                                -matCubeL/2, matCubeL/2,\n",
    "                                                boundary_type='reflective')"
   ]
  },
  {
   "cell_type": "code",
   "execution_count": 18,
   "id": "8a68c56b",
   "metadata": {},
   "outputs": [
    {
     "data": {
      "text/plain": [
       "openmc.model.surface_composite.RectangularParallelepiped"
      ]
     },
     "execution_count": 18,
     "metadata": {},
     "output_type": "execute_result"
    }
   ],
   "source": [
    "type(matBox)"
   ]
  },
  {
   "cell_type": "code",
   "execution_count": 19,
   "id": "df735618-6e9b-4559-bad7-02c7ac27eec7",
   "metadata": {},
   "outputs": [],
   "source": [
    "material_region = -matBox"
   ]
  },
  {
   "cell_type": "code",
   "execution_count": 20,
   "id": "86c8aa24-d4b1-48c8-a1b1-4ec239ab1d1d",
   "metadata": {},
   "outputs": [],
   "source": [
    "material_Geom = openmc.Cell(name='material_Geom')\n",
    "#material_Geom.fill = materials #<<(SRB) This probably isn't correct.  Needs to be a material.\n",
    "material_Geom.fill = mixMat\n",
    "material_Geom.region = material_region"
   ]
  },
  {
   "cell_type": "code",
   "execution_count": 21,
   "id": "0b75c162-551b-460b-9d4a-994a7e57b70a",
   "metadata": {},
   "outputs": [
    {
     "name": "stdout",
     "output_type": "stream",
     "text": [
      "<?xml version='1.0' encoding='utf-8'?>\n",
      "<geometry>\n",
      "  <cell id=\"2\" material=\"4\" name=\"material_Geom\" region=\"-8 7 -10 9 -12 11\" universe=\"2\" />\n",
      "  <surface boundary=\"reflective\" coeffs=\"-0.5\" id=\"7\" type=\"x-plane\" />\n",
      "  <surface boundary=\"reflective\" coeffs=\"0.5\" id=\"8\" type=\"x-plane\" />\n",
      "  <surface boundary=\"reflective\" coeffs=\"-0.5\" id=\"9\" type=\"y-plane\" />\n",
      "  <surface boundary=\"reflective\" coeffs=\"0.5\" id=\"10\" type=\"y-plane\" />\n",
      "  <surface boundary=\"reflective\" coeffs=\"-0.5\" id=\"11\" type=\"z-plane\" />\n",
      "  <surface boundary=\"reflective\" coeffs=\"0.5\" id=\"12\" type=\"z-plane\" />\n",
      "</geometry>\n"
     ]
    }
   ],
   "source": [
    "root_universe = openmc.Universe(cells=[material_Geom])\n",
    "\n",
    "geometry = openmc.Geometry()\n",
    "geometry.root_universe = root_universe\n",
    "geometry.export_to_xml()\n",
    "!cat geometry.xml"
   ]
  },
  {
   "cell_type": "code",
   "execution_count": 22,
   "id": "66f6c1f4",
   "metadata": {},
   "outputs": [
    {
     "data": {
      "text/plain": [
       "<matplotlib.image.AxesImage at 0x7f1729dd9010>"
      ]
     },
     "execution_count": 22,
     "metadata": {},
     "output_type": "execute_result"
    },
    {
     "data": {
      "image/png": "[encoded data removed]",
      "text/plain": [
       "<Figure size 258.065x259.74 with 1 Axes>"
      ]
     },
     "metadata": {},
     "output_type": "display_data"
    }
   ],
   "source": [
    "root_universe.plot(width=(2.5, 2.5), basis='xz', colors={cell: 'fuchsia'})"
   ]
  },
  {
   "cell_type": "markdown",
   "id": "a4619459-85fd-4499-9750-64b1b0a273e4",
   "metadata": {},
   "source": [
    "## Cross Sections"
   ]
  },
  {
   "cell_type": "code",
   "execution_count": 23,
   "id": "0e1bd3de-76fb-4746-b4b8-ffb9ea8c1457",
   "metadata": {},
   "outputs": [
    {
     "name": "stdout",
     "output_type": "stream",
     "text": [
      "<?xml version='1.0' encoding='utf-8'?>\n",
      "<cross_sections>\n",
      "  <library materials=\"H1\" path=\"neutron/H1.h5\" type=\"neutron\" />\n",
      "  <library materials=\"H2\" path=\"neutron/H2.h5\" type=\"neutron\" />\n",
      "  <library materials=\"H3\" path=\"neutron/H3.h5\" type=\"neutron\" />\n",
      "  <library materials=\"He3\" path=\"neutron/He3.h5\" type=\"neutron\" />\n",
      "  <library materials=\"He4\" path=\"neutron/He4.h5\" type=\"neutron\" />\n",
      "  <library materials=\"Li6\" path=\"neutron/Li6.h5\" type=\"neutron\" />\n",
      "  <library materials=\"Li7\" path=\"neutron/Li7.h5\" type=\"neutron\" />\n",
      "  <library materials=\"Be7\" path=\"neutron/Be7.h5\" type=\"neutron\" />\n",
      "    ...\n",
      "  <library materials=\"Cf253\" path=\"wmp/098253.h5\" type=\"wmp\" />\n",
      "  <library materials=\"Cf254\" path=\"wmp/098254.h5\" type=\"wmp\" />\n",
      "  <library materials=\"Es251\" path=\"wmp/099251.h5\" type=\"wmp\" />\n",
      "  <library materials=\"Es252\" path=\"wmp/099252.h5\" type=\"wmp\" />\n",
      "  <library materials=\"Es253\" path=\"wmp/099253.h5\" type=\"wmp\" />\n",
      "  <library materials=\"Es254\" path=\"wmp/099254.h5\" type=\"wmp\" />\n",
      "  <library materials=\"Es254_m1\" path=\"wmp/099254m1.h5\" type=\"wmp\" />\n",
      "  <library materials=\"Es255\" path=\"wmp/099255.h5\" type=\"wmp\" />\n",
      "  <library materials=\"Fm255\" path=\"wmp/100255.h5\" type=\"wmp\" />\n",
      "</cross_sections>\n"
     ]
    }
   ],
   "source": [
    "!cat $OPENMC_CROSS_SECTIONS | head -n 10\n",
    "print('    ...')\n",
    "!cat $OPENMC_CROSS_SECTIONS | tail -n 10"
   ]
  },
  {
   "cell_type": "markdown",
   "id": "f3111231-59e6-4574-b1d3-64e44bd2b5cb",
   "metadata": {},
   "source": [
    "## Source"
   ]
  },
  {
   "cell_type": "code",
   "execution_count": 24,
   "id": "7729d519-9244-46a9-90dd-5131426b7e0b",
   "metadata": {},
   "outputs": [],
   "source": [
    "# create a point source\n",
    "point = openmc.stats.Point((0,0,0))\n",
    "source = openmc.Source(space=point)\n"
   ]
  },
  {
   "cell_type": "code",
   "execution_count": 25,
   "id": "533cc885-a679-4885-a9a1-cbaa016a0b2a",
   "metadata": {},
   "outputs": [],
   "source": [
    "settings = openmc.Settings()\n",
    "settings.source = source\n",
    "settings.batches = 100\n",
    "settings.inactive = 10\n",
    "settings.particles = 1000"
   ]
  },
  {
   "cell_type": "code",
   "execution_count": 26,
   "id": "1cffe48f-230a-44c1-9e16-7eb6342c5757",
   "metadata": {},
   "outputs": [
    {
     "name": "stdout",
     "output_type": "stream",
     "text": [
      "<?xml version='1.0' encoding='utf-8'?>\n",
      "<settings>\n",
      "  <run_mode>eigenvalue</run_mode>\n",
      "  <particles>1000</particles>\n",
      "  <batches>100</batches>\n",
      "  <inactive>10</inactive>\n",
      "  <source strength=\"1.0\">\n",
      "    <space type=\"point\">\n",
      "      <parameters>0 0 0</parameters>\n",
      "    </space>\n",
      "  </source>\n",
      "</settings>\n"
     ]
    }
   ],
   "source": [
    "settings.export_to_xml()\n",
    "!cat settings.xml"
   ]
  },
  {
   "cell_type": "markdown",
   "id": "24c50672-07ec-44ed-a4e5-82eee74ac5c2",
   "metadata": {},
   "source": [
    "## Tallies"
   ]
  },
  {
   "cell_type": "code",
   "execution_count": 27,
   "id": "95b9bf22-2549-44ef-bd81-da29e5bfe002",
   "metadata": {},
   "outputs": [],
   "source": [
    "cell_filter = openmc.CellFilter(material_Geom)\n",
    "\n",
    "tally = openmc.Tally(1)\n",
    "tally.filters = [cell_filter]"
   ]
  },
  {
   "cell_type": "code",
   "execution_count": 28,
   "id": "08f8fe37-2dad-473a-a5f3-89b06df16127",
   "metadata": {},
   "outputs": [],
   "source": [
    "tally.nuclides = ['U235']\n",
    "tally.scores = ['total','fission','absorption','(n,gamma)']"
   ]
  },
  {
   "cell_type": "code",
   "execution_count": 29,
   "id": "31dfccf1-563e-4309-acee-93107699ac5f",
   "metadata": {},
   "outputs": [
    {
     "name": "stdout",
     "output_type": "stream",
     "text": [
      "<?xml version='1.0' encoding='utf-8'?>\n",
      "<tallies>\n",
      "  <filter id=\"1\" type=\"cell\">\n",
      "    <bins>2</bins>\n",
      "  </filter>\n",
      "  <tally id=\"1\">\n",
      "    <filters>1</filters>\n",
      "    <nuclides>U235</nuclides>\n",
      "    <scores>total fission absorption (n,gamma)</scores>\n",
      "  </tally>\n",
      "</tallies>\n"
     ]
    }
   ],
   "source": [
    "tallies = openmc.Tallies([tally])\n",
    "tallies.export_to_xml()\n",
    "!cat tallies.xml"
   ]
  },
  {
   "cell_type": "code",
   "execution_count": 30,
   "id": "8042d5f2-c952-44cd-9a03-c825f2018fc9",
   "metadata": {},
   "outputs": [
    {
     "name": "stdout",
     "output_type": "stream",
     "text": [
      "                                %%%%%%%%%%%%%%%\n",
      "                           %%%%%%%%%%%%%%%%%%%%%%%%\n",
      "                        %%%%%%%%%%%%%%%%%%%%%%%%%%%%%%\n",
      "                      %%%%%%%%%%%%%%%%%%%%%%%%%%%%%%%%%%\n",
      "                    %%%%%%%%%%%%%%%%%%%%%%%%%%%%%%%%%%%%%%\n",
      "                   %%%%%%%%%%%%%%%%%%%%%%%%%%%%%%%%%%%%%%%%\n",
      "                                    %%%%%%%%%%%%%%%%%%%%%%%%\n",
      "                                     %%%%%%%%%%%%%%%%%%%%%%%%\n",
      "                 ###############      %%%%%%%%%%%%%%%%%%%%%%%%\n",
      "                ##################     %%%%%%%%%%%%%%%%%%%%%%%\n",
      "                ###################     %%%%%%%%%%%%%%%%%%%%%%%\n",
      "                ####################     %%%%%%%%%%%%%%%%%%%%%%\n",
      "                #####################     %%%%%%%%%%%%%%%%%%%%%\n",
      "                ######################     %%%%%%%%%%%%%%%%%%%%\n",
      "                #######################     %%%%%%%%%%%%%%%%%%\n",
      "                 #######################     %%%%%%%%%%%%%%%%%\n",
      "                 ######################     %%%%%%%%%%%%%%%%%\n",
      "                  ####################     %%%%%%%%%%%%%%%%%\n",
      "                    #################     %%%%%%%%%%%%%%%%%\n",
      "                     ###############     %%%%%%%%%%%%%%%%\n",
      "                       ############     %%%%%%%%%%%%%%%\n",
      "                          ########     %%%%%%%%%%%%%%\n",
      "                                      %%%%%%%%%%%\n",
      "\n",
      "                 | The OpenMC Monte Carlo Code\n",
      "       Copyright | 2011-2023 MIT, UChicago Argonne LLC, and contributors\n",
      "         License | https://docs.openmc.org/en/latest/license.html\n",
      "         Version | 0.13.3\n",
      "        Git SHA1 | 50e39a4e20dc9e0f3d7ccf07333f6a5e6c797c8c\n",
      "       Date/Time | 2023-10-30 13:10:53\n",
      "  OpenMP Threads | 24\n",
      "\n",
      " Reading settings XML file...\n",
      " Reading cross sections XML file...\n",
      " Reading materials XML file...\n",
      " Reading geometry XML file...\n",
      " Reading Th232 from\n",
      " /home/karlflorida/openmc/openmc/data/endfb71/endfb-vii.1-hdf5/neutron/Th232.h5\n",
      " Reading U235 from\n",
      " /home/karlflorida/openmc/openmc/data/endfb71/endfb-vii.1-hdf5/neutron/U235.h5\n",
      " Reading U238 from\n",
      " /home/karlflorida/openmc/openmc/data/endfb71/endfb-vii.1-hdf5/neutron/U238.h5\n",
      " Reading O16 from\n",
      " /home/karlflorida/openmc/openmc/data/endfb71/endfb-vii.1-hdf5/neutron/O16.h5\n",
      " Reading O17 from\n",
      " /home/karlflorida/openmc/openmc/data/endfb71/endfb-vii.1-hdf5/neutron/O17.h5\n",
      " Reading C0 from\n",
      " /home/karlflorida/openmc/openmc/data/endfb71/endfb-vii.1-hdf5/neutron/C0.h5\n",
      " Reading He3 from\n",
      " /home/karlflorida/openmc/openmc/data/endfb71/endfb-vii.1-hdf5/neutron/He3.h5\n",
      " Reading He4 from\n",
      " /home/karlflorida/openmc/openmc/data/endfb71/endfb-vii.1-hdf5/neutron/He4.h5\n",
      " Minimum neutron data temperature: 294 K\n",
      " Maximum neutron data temperature: 294 K\n",
      " Reading tallies XML file...\n",
      " Preparing distributed cell instances...\n",
      " Reading plot XML file...\n",
      " WARNING: Could not find material 1 specified in plot 3\n",
      " WARNING: Could not find material 3 specified in plot 3\n",
      " Writing summary.h5 file...\n",
      " Maximum neutron transport energy: 20000000 eV for U235\n",
      " Initializing source particles...\n",
      "\n",
      " ====================>     K EIGENVALUE SIMULATION     <====================\n",
      "\n",
      "  Bat./Gen.      k            Average k\n",
      "  =========   ========   ====================\n",
      "        1/1    1.09960\n",
      "        2/1    1.08247\n",
      "        3/1    1.02940\n",
      "        4/1    1.16101\n",
      "        5/1    1.03365\n",
      "        6/1    1.18097\n",
      "        7/1    1.08878\n",
      "        8/1    1.06585\n",
      "        9/1    1.05092\n",
      "       10/1    1.09157\n",
      "       11/1    1.09546\n",
      "       12/1    1.08355    1.08951 +/- 0.00596\n",
      "       13/1    1.07043    1.08315 +/- 0.00723\n",
      "       14/1    1.10146    1.08773 +/- 0.00686\n",
      "       15/1    1.05940    1.08206 +/- 0.00777\n",
      "       16/1    1.09326    1.08393 +/- 0.00661\n",
      "       17/1    1.13122    1.09068 +/- 0.00877\n",
      "       18/1    1.09269    1.09093 +/- 0.00760\n",
      "       19/1    1.05503    1.08694 +/- 0.00780\n",
      "       20/1    1.01311    1.07956 +/- 0.01016\n",
      "       21/1    1.13271    1.08439 +/- 0.01038\n",
      "       22/1    1.07546    1.08365 +/- 0.00951\n",
      "       23/1    1.04693    1.08082 +/- 0.00919\n",
      "       24/1    1.03514    1.07756 +/- 0.00911\n",
      "       25/1    1.11882    1.08031 +/- 0.00892\n",
      "       26/1    1.03270    1.07734 +/- 0.00886\n",
      "       27/1    1.02120    1.07403 +/- 0.00895\n",
      "       28/1    1.02383    1.07124 +/- 0.00889\n",
      "       29/1    1.12924    1.07430 +/- 0.00894\n",
      "       30/1    1.08187    1.07468 +/- 0.00849\n",
      "       31/1    1.12113    1.07689 +/- 0.00838\n",
      "       32/1    1.08478    1.07725 +/- 0.00799\n",
      "       33/1    1.04948    1.07604 +/- 0.00773\n",
      "       34/1    1.09240    1.07672 +/- 0.00744\n",
      "       35/1    1.19041    1.08127 +/- 0.00846\n",
      "       36/1    1.06912    1.08080 +/- 0.00814\n",
      "       37/1    1.10475    1.08169 +/- 0.00788\n",
      "       38/1    0.97066    1.07772 +/- 0.00857\n",
      "       39/1    0.99892    1.07501 +/- 0.00870\n",
      "       40/1    1.12411    1.07664 +/- 0.00857\n",
      "       41/1    1.06671    1.07632 +/- 0.00829\n",
      "       42/1    1.11664    1.07758 +/- 0.00813\n",
      "       43/1    1.07029    1.07736 +/- 0.00788\n",
      "       44/1    1.14196    1.07926 +/- 0.00788\n",
      "       45/1    1.05697    1.07862 +/- 0.00767\n",
      "       46/1    0.99622    1.07633 +/- 0.00780\n",
      "       47/1    1.04512    1.07549 +/- 0.00763\n",
      "       48/1    1.08549    1.07575 +/- 0.00744\n",
      "       49/1    1.10968    1.07662 +/- 0.00729\n",
      "       50/1    1.08248    1.07677 +/- 0.00711\n",
      "       51/1    1.09699    1.07726 +/- 0.00695\n",
      "       52/1    1.03904    1.07635 +/- 0.00685\n",
      "       53/1    1.12755    1.07754 +/- 0.00679\n",
      "       54/1    1.08973    1.07782 +/- 0.00664\n",
      "       55/1    1.03723    1.07692 +/- 0.00655\n",
      "       56/1    1.11671    1.07778 +/- 0.00647\n",
      "       57/1    1.09255    1.07810 +/- 0.00634\n",
      "       58/1    1.05685    1.07766 +/- 0.00622\n",
      "       59/1    1.12842    1.07869 +/- 0.00618\n",
      "       60/1    1.07513    1.07862 +/- 0.00605\n",
      "       61/1    1.00217    1.07712 +/- 0.00612\n",
      "       62/1    1.09118    1.07739 +/- 0.00601\n",
      "       63/1    1.14922    1.07875 +/- 0.00605\n",
      "       64/1    1.01799    1.07762 +/- 0.00604\n",
      "       65/1    1.16327    1.07918 +/- 0.00613\n",
      "       66/1    1.07323    1.07907 +/- 0.00602\n",
      "       67/1    1.09502    1.07935 +/- 0.00592\n",
      "       68/1    1.01569    1.07825 +/- 0.00592\n",
      "       69/1    1.05844    1.07792 +/- 0.00583\n",
      "       70/1    1.03073    1.07713 +/- 0.00578\n",
      "       71/1    1.03444    1.07643 +/- 0.00573\n",
      "       72/1    1.10246    1.07685 +/- 0.00565\n",
      "       73/1    1.09152    1.07709 +/- 0.00557\n",
      "       74/1    1.08869    1.07727 +/- 0.00548\n",
      "       75/1    0.98121    1.07579 +/- 0.00560\n",
      "       76/1    1.08160    1.07588 +/- 0.00551\n",
      "       77/1    1.01928    1.07503 +/- 0.00549\n",
      "       78/1    1.05279    1.07471 +/- 0.00542\n",
      "       79/1    1.07652    1.07473 +/- 0.00534\n",
      "       80/1    1.09338    1.07500 +/- 0.00527\n",
      "       81/1    1.08037    1.07507 +/- 0.00520\n",
      "       82/1    1.15112    1.07613 +/- 0.00523\n",
      "       83/1    1.12383    1.07678 +/- 0.00520\n",
      "       84/1    1.02508    1.07608 +/- 0.00518\n",
      "       85/1    1.08137    1.07615 +/- 0.00511\n",
      "       86/1    1.12587    1.07681 +/- 0.00509\n",
      "       87/1    1.07035    1.07673 +/- 0.00502\n",
      "       88/1    1.17083    1.07793 +/- 0.00510\n",
      "       89/1    1.06550    1.07777 +/- 0.00504\n",
      "       90/1    1.05256    1.07746 +/- 0.00498\n",
      "       91/1    1.11412    1.07791 +/- 0.00494\n",
      "       92/1    1.01583    1.07715 +/- 0.00494\n",
      "       93/1    0.95641    1.07570 +/- 0.00509\n",
      "       94/1    1.07913    1.07574 +/- 0.00503\n",
      "       95/1    1.00434    1.07490 +/- 0.00504\n",
      "       96/1    1.03243    1.07441 +/- 0.00501\n",
      "       97/1    1.00952    1.07366 +/- 0.00501\n",
      "       98/1    1.03166    1.07318 +/- 0.00497\n",
      "       99/1    1.13818    1.07391 +/- 0.00497\n",
      "      100/1    1.12500    1.07448 +/- 0.00495\n",
      " Creating state point statepoint.100.h5...\n",
      "\n",
      " =======================>     TIMING STATISTICS     <=======================\n",
      "\n",
      " Total time for initialization     = 3.6668e-01 seconds\n",
      "   Reading cross sections          = 3.4420e-01 seconds\n",
      " Total time in simulation          = 4.9242e+00 seconds\n",
      "   Time in transport only          = 4.6953e+00 seconds\n",
      "   Time in inactive batches        = 1.3048e-01 seconds\n",
      "   Time in active batches          = 4.7937e+00 seconds\n",
      "   Time synchronizing fission bank = 7.2995e-03 seconds\n",
      "     Sampling source sites         = 5.9586e-03 seconds\n",
      "     SEND/RECV source sites        = 9.5297e-04 seconds\n",
      "   Time accumulating tallies       = 2.0208e-01 seconds\n",
      "   Time writing statepoints        = 4.2423e-03 seconds\n",
      " Total time for finalization       = 1.9182e-04 seconds\n",
      " Total time elapsed                = 5.2966e+00 seconds\n",
      " Calculation Rate (inactive)       = 76638.5 particles/second\n",
      " Calculation Rate (active)         = 18774.6 particles/second\n",
      "\n",
      " ============================>     RESULTS     <============================\n",
      "\n",
      " k-effective (Collision)     = 1.07571 +/- 0.00486\n",
      " k-effective (Track-length)  = 1.07448 +/- 0.00495\n",
      " k-effective (Absorption)    = 1.07814 +/- 0.00310\n",
      " Combined k-effective        = 1.07727 +/- 0.00292\n",
      " Leakage Fraction            = 0.00000 +/- 0.00000\n",
      "\n"
     ]
    }
   ],
   "source": [
    "openmc.run()"
   ]
  },
  {
   "cell_type": "code",
   "execution_count": 31,
   "id": "f0c6307a-f7a7-479b-9f8c-c4d08a2c25f7",
   "metadata": {},
   "outputs": [
    {
     "name": "stdout",
     "output_type": "stream",
     "text": [
      " ============================>     TALLY 1     <============================\n",
      "\n",
      " Cell 2\n",
      "   U235\n",
      "     Total Reaction Rate                  0.980985 +/- 0.00303117\n",
      "     Fission Rate                         0.432666 +/- 0.00202472\n",
      "     Absorption Rate                      0.61327 +/- 0.00264133\n",
      "     (n,gamma)                            0.180604 +/- 0.000679527\n"
     ]
    }
   ],
   "source": [
    "!cat tallies.out"
   ]
  },
  {
   "cell_type": "markdown",
   "id": "a2959a99-e2c7-4461-9d83-83d63d1f0bd8",
   "metadata": {},
   "source": [
    "## Plot Geometry"
   ]
  },
  {
   "cell_type": "code",
   "execution_count": 32,
   "id": "4719882c-6b7b-40b6-a75f-22f3a51b1a42",
   "metadata": {},
   "outputs": [],
   "source": [
    "plot = openmc.Plot()\n",
    "plot.filename = 'homogeneousMatMixPlot'\n",
    "#plot.width = (pitch,pitch)\n",
    "plot.width = (matCubeL,matCubeL)\n",
    "plot.pixels = (200,200)\n",
    "plot.color_by = 'material'\n",
    "plot.colors = {fuel: 'yellow',hel_Cool: 'blue'}"
   ]
  },
  {
   "cell_type": "code",
   "execution_count": 33,
   "id": "cd861feb-9b0b-4b3e-987e-e2261440a24d",
   "metadata": {},
   "outputs": [
    {
     "name": "stdout",
     "output_type": "stream",
     "text": [
      "<?xml version='1.0' encoding='utf-8'?>\n",
      "<plots>\n",
      "  <plot basis=\"xy\" color_by=\"material\" filename=\"homogeneousMatMixPlot\" id=\"3\" type=\"slice\">\n",
      "    <origin>0.0 0.0 0.0</origin>\n",
      "    <width>1 1</width>\n",
      "    <pixels>200 200</pixels>\n",
      "    <color id=\"1\" rgb=\"255 255 0\" />\n",
      "    <color id=\"3\" rgb=\"0 0 255\" />\n",
      "  </plot>\n",
      "</plots>\n"
     ]
    }
   ],
   "source": [
    "plots = openmc.Plots([plot])\n",
    "plots.export_to_xml()\n",
    "!cat plots.xml"
   ]
  },
  {
   "cell_type": "code",
   "execution_count": 34,
   "id": "7ff35559-c104-4b52-8e07-48f9870a9977",
   "metadata": {},
   "outputs": [
    {
     "name": "stdout",
     "output_type": "stream",
     "text": [
      "                                %%%%%%%%%%%%%%%\n",
      "                           %%%%%%%%%%%%%%%%%%%%%%%%\n",
      "                        %%%%%%%%%%%%%%%%%%%%%%%%%%%%%%\n",
      "                      %%%%%%%%%%%%%%%%%%%%%%%%%%%%%%%%%%\n",
      "                    %%%%%%%%%%%%%%%%%%%%%%%%%%%%%%%%%%%%%%\n",
      "                   %%%%%%%%%%%%%%%%%%%%%%%%%%%%%%%%%%%%%%%%\n",
      "                                    %%%%%%%%%%%%%%%%%%%%%%%%\n",
      "                                     %%%%%%%%%%%%%%%%%%%%%%%%\n",
      "                 ###############      %%%%%%%%%%%%%%%%%%%%%%%%\n",
      "                ##################     %%%%%%%%%%%%%%%%%%%%%%%\n",
      "                ###################     %%%%%%%%%%%%%%%%%%%%%%%\n",
      "                ####################     %%%%%%%%%%%%%%%%%%%%%%\n",
      "                #####################     %%%%%%%%%%%%%%%%%%%%%\n",
      "                ######################     %%%%%%%%%%%%%%%%%%%%\n",
      "                #######################     %%%%%%%%%%%%%%%%%%\n",
      "                 #######################     %%%%%%%%%%%%%%%%%\n",
      "                 ######################     %%%%%%%%%%%%%%%%%\n",
      "                  ####################     %%%%%%%%%%%%%%%%%\n",
      "                    #################     %%%%%%%%%%%%%%%%%\n",
      "                     ###############     %%%%%%%%%%%%%%%%\n",
      "                       ############     %%%%%%%%%%%%%%%\n",
      "                          ########     %%%%%%%%%%%%%%\n",
      "                                      %%%%%%%%%%%\n",
      "\n",
      "                 | The OpenMC Monte Carlo Code\n",
      "       Copyright | 2011-2023 MIT, UChicago Argonne LLC, and contributors\n",
      "         License | https://docs.openmc.org/en/latest/license.html\n",
      "         Version | 0.13.3\n",
      "        Git SHA1 | 50e39a4e20dc9e0f3d7ccf07333f6a5e6c797c8c\n",
      "       Date/Time | 2023-10-30 13:10:59\n",
      "  OpenMP Threads | 24\n",
      "\n",
      " Reading settings XML file...\n",
      " Reading cross sections XML file...\n",
      " Reading materials XML file...\n",
      " Reading geometry XML file...\n",
      " Reading tallies XML file...\n",
      " Preparing distributed cell instances...\n",
      " Reading plot XML file...\n",
      " WARNING: Could not find material 1 specified in plot 3\n",
      " WARNING: Could not find material 3 specified in plot 3\n",
      "\n",
      " =======================>     PLOTTING SUMMARY     <========================\n",
      "\n",
      "Plot ID: 3\n",
      "Plot file: homogeneousMatMixPlot.png\n",
      "Universe depth: -1\n",
      "Plot Type: Slice\n",
      "Origin: 0 0 0\n",
      "Width:    1    1\n",
      "Coloring: Materials\n",
      "Basis: XY\n",
      "Pixels: 200 200\n",
      "\n",
      " Processing plot 3: homogeneousMatMixPlot.png...\n"
     ]
    }
   ],
   "source": [
    "openmc.plot_geometry()"
   ]
  },
  {
   "cell_type": "code",
   "execution_count": 35,
   "id": "cc793753-2d48-4b74-8b1a-714d1ad8e3fb",
   "metadata": {},
   "outputs": [
    {
     "data": {
      "image/png": "[encoded data removed]",
      "text/plain": [
       "<IPython.core.display.Image object>"
      ]
     },
     "execution_count": 35,
     "metadata": {},
     "output_type": "execute_result"
    }
   ],
   "source": [
    "from IPython.display import Image\n",
    "Image('homogeneousMatMixPlot.png')"
   ]
  },
  {
   "cell_type": "code",
   "execution_count": 36,
   "id": "46887c0f-2aa2-49fe-b907-fddbd9822d79",
   "metadata": {},
   "outputs": [
    {
     "data": {
      "image/png": "[encoded data removed]",
      "text/plain": [
       "<IPython.core.display.Image object>"
      ]
     },
     "execution_count": 36,
     "metadata": {},
     "output_type": "execute_result"
    }
   ],
   "source": [
    "plot.to_ipython_image()"
   ]
  },
  {
   "cell_type": "markdown",
   "id": "ca4bb7a6-43ba-491e-81e6-8d7083a58012",
   "metadata": {},
   "source": [
    "# "
   ]
  }
 ],
 "metadata": {
  "kernelspec": {
   "display_name": "Python 3 (ipykernel)",
   "language": "python",
   "name": "python3"
  },
  "language_info": {
   "codemirror_mode": {
    "name": "ipython",
    "version": 3
   },
   "file_extension": ".py",
   "mimetype": "text/x-python",
   "name": "python",
   "nbconvert_exporter": "python",
   "pygments_lexer": "ipython3",
   "version": "3.11.5"
  }
 },
 "nbformat": 4,
 "nbformat_minor": 5
}
