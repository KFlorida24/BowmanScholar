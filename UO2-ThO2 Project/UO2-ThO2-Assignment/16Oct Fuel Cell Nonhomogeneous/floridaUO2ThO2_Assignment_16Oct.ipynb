{
 "cells": [
  {
   "cell_type": "markdown",
   "id": "97609094-cf19-4b02-b7d9-3feed71a4d2d",
   "metadata": {},
   "source": [
    "# Florida UO2 ThO2 Mixture Assignment: 16OCt"
   ]
  },
  {
   "cell_type": "code",
   "execution_count": 2,
   "id": "38f81133-0b87-48ba-9e95-f45c7d9d5c75",
   "metadata": {},
   "outputs": [],
   "source": [
    "%matplotlib inline\n",
    "import openmc"
   ]
  },
  {
   "cell_type": "markdown",
   "id": "d2239ece-c69c-47e0-ae4a-b3ae71d94cd3",
   "metadata": {},
   "source": [
    "## Define Materials"
   ]
  },
  {
   "cell_type": "code",
   "execution_count": 3,
   "id": "bedbff8e-48fa-401e-b798-6cf10e987ab7",
   "metadata": {},
   "outputs": [],
   "source": [
    "# Establish Thorium Oxide Fuel Mixture Component material (unused)\n",
    "uo2 = openmc.Material(name='uo2')\n"
   ]
  },
  {
   "cell_type": "code",
   "execution_count": 4,
   "id": "176bfa49-46c2-4678-a4b3-452be3ce3f18",
   "metadata": {},
   "outputs": [],
   "source": [
    "# add nuclides to uo2\n",
    "uo2.add_nuclide('U235', 0.03)\n",
    "uo2.add_nuclide('U238', 0.97)\n",
    "uo2.add_nuclide('O16', 2.0)"
   ]
  },
  {
   "cell_type": "code",
   "execution_count": 5,
   "id": "dbdd6791-fde2-47b0-8925-0dc2ee4bbc83",
   "metadata": {},
   "outputs": [],
   "source": [
    "# set UO2 Density (based on TRISO Density of 10.5 g/cm^3)\n",
    "uo2.set_density('g/cm3', 10.5)"
   ]
  },
  {
   "cell_type": "code",
   "execution_count": 6,
   "id": "c787c400-1167-4e8f-8aa9-4902de0288b2",
   "metadata": {},
   "outputs": [
    {
     "name": "stdout",
     "output_type": "stream",
     "text": [
      "Material\n",
      "\tID             =\t2\n",
      "\tName           =\ttho2\n",
      "\tTemperature    =\tNone\n",
      "\tDensity        =\tNone [sum]\n",
      "\tVolume         =\tNone [cm^3]\n",
      "\tS(a,b) Tables  \n",
      "\tNuclides       \n",
      "\n"
     ]
    }
   ],
   "source": [
    "# Establish Thorium Oxide Fuel Mixture Component material (unused)\n",
    "tho2 = openmc.Material(name='tho2')\n",
    "print(tho2)"
   ]
  },
  {
   "cell_type": "code",
   "execution_count": 7,
   "id": "fdd19e67-da43-46cd-83a9-5c1e27b115ee",
   "metadata": {},
   "outputs": [
    {
     "name": "stdout",
     "output_type": "stream",
     "text": [
      "Material\n",
      "\tID             =\t3\n",
      "\tName           =\tfuel\n",
      "\tTemperature    =\tNone\n",
      "\tDensity        =\t10.46 [g/cm3]\n",
      "\tVolume         =\tNone [cm^3]\n",
      "\tS(a,b) Tables  \n",
      "\tNuclides       \n",
      "\tTh232          =\t0.04734      [ao]\n",
      "\tU235           =\t0.04821      [ao]\n",
      "\tU238           =\t0.90445      [ao]\n",
      "\tO16            =\t1.999242     [ao]\n",
      "\tO17            =\t0.000758     [ao]\n",
      "\n"
     ]
    }
   ],
   "source": [
    "fuel = openmc.Material(name='fuel');\n",
    "#The below ratios were calculated assuming 95%LEU-5%Th Oxide Fuel.\n",
    "fuel.add_nuclide('Th232', 0.04734, 'ao')\n",
    "fuel.add_nuclide('U235', 0.04821, 'ao') #5% U-235 enrichment\n",
    "fuel.add_nuclide('U238', 0.90445, 'ao')\n",
    "fuel.add_element('O', 2.0)\n",
    "fuel.set_density('g/cm3', 10.46) # BAsed on assumption of fuel density within TRISO\n",
    "print(fuel)"
   ]
  },
  {
   "cell_type": "code",
   "execution_count": 8,
   "id": "a78b744e-dafe-4b8d-8483-e289cb5b313d",
   "metadata": {},
   "outputs": [],
   "source": [
    "# add nuclides to tho2\n",
    "tho2.add_nuclide('Th232', 0.9998)\n",
    "tho2.add_nuclide('Th230', 0.0002)\n",
    "tho2.add_nuclide('O16', 2.0)"
   ]
  },
  {
   "cell_type": "code",
   "execution_count": 9,
   "id": "45410a3b-c17e-4aeb-b237-e834a21df92c",
   "metadata": {},
   "outputs": [],
   "source": [
    "# set ThO2 Density (based on TRISO UO2 Density of 10.5 g/cm^3, assumption that density is distributed)\n",
    "tho2.set_density('g/cm3', 9.7)"
   ]
  },
  {
   "cell_type": "code",
   "execution_count": 10,
   "id": "aabfb205-adea-4cee-abfd-8045c9169098",
   "metadata": {},
   "outputs": [
    {
     "name": "stdout",
     "output_type": "stream",
     "text": [
      "Material\n",
      "\tID             =\t4\n",
      "\tName           =\tgraph\n",
      "\tTemperature    =\tNone\n",
      "\tDensity        =\tNone [sum]\n",
      "\tVolume         =\tNone [cm^3]\n",
      "\tS(a,b) Tables  \n",
      "\tNuclides       \n",
      "\n"
     ]
    }
   ],
   "source": [
    "# Establish Graphite Moderator material\n",
    "graph = openmc.Material(name='graph')\n",
    "print(graph)"
   ]
  },
  {
   "cell_type": "code",
   "execution_count": 11,
   "id": "eb1a7ab2-c158-4155-bd9e-e3501728f851",
   "metadata": {},
   "outputs": [],
   "source": [
    "# add nuclides to graph\n",
    "graph.add_element('C', 1.00)"
   ]
  },
  {
   "cell_type": "code",
   "execution_count": 12,
   "id": "b9220eb4-f9fa-4358-b453-0bbf367f82d8",
   "metadata": {},
   "outputs": [
    {
     "name": "stdout",
     "output_type": "stream",
     "text": [
      "Material\n",
      "\tID             =\t5\n",
      "\tName           =\thel_Cool\n",
      "\tTemperature    =\tNone\n",
      "\tDensity        =\tNone [sum]\n",
      "\tVolume         =\tNone [cm^3]\n",
      "\tS(a,b) Tables  \n",
      "\tNuclides       \n",
      "\n"
     ]
    }
   ],
   "source": [
    "# Establish Helium Coolant material\n",
    "hel_Cool = openmc.Material(name='hel_Cool')\n",
    "print(hel_Cool)"
   ]
  },
  {
   "cell_type": "code",
   "execution_count": 13,
   "id": "3b1af0ed-f0c8-4b13-8b24-6d5820f9e31f",
   "metadata": {},
   "outputs": [],
   "source": [
    "# add nuclides to hel_Cool\n",
    "hel_Cool.add_nuclide('He3', 0.000002)\n",
    "hel_Cool.add_nuclide('He4', 0.999998)"
   ]
  },
  {
   "cell_type": "code",
   "execution_count": 14,
   "id": "a2148824-43c4-4023-b6bf-3364ad96f6fe",
   "metadata": {},
   "outputs": [],
   "source": [
    "materials = openmc.Materials([uo2, tho2, fuel, graph, hel_Cool])"
   ]
  },
  {
   "cell_type": "code",
   "execution_count": 15,
   "id": "d2244185-cab3-4b81-a8b0-0fba1f075c59",
   "metadata": {},
   "outputs": [
    {
     "data": {
      "text/plain": [
       "True"
      ]
     },
     "execution_count": 15,
     "metadata": {},
     "output_type": "execute_result"
    }
   ],
   "source": [
    "materials = openmc.Materials()\n",
    "materials.append(uo2)\n",
    "materials += [tho2, fuel, graph, hel_Cool]\n",
    "isinstance(materials,list)"
   ]
  },
  {
   "cell_type": "markdown",
   "id": "442f20be-9153-418c-937e-187777b3411e",
   "metadata": {},
   "source": [
    "## Export Materials as XML"
   ]
  },
  {
   "cell_type": "code",
   "execution_count": 16,
   "id": "5396a28b-d67e-4e45-b1f0-8a91323f6d5a",
   "metadata": {},
   "outputs": [
    {
     "name": "stdout",
     "output_type": "stream",
     "text": [
      "<?xml version='1.0' encoding='utf-8'?>\n",
      "<materials>\n",
      "  <material depletable=\"true\" id=\"1\" name=\"uo2\">\n",
      "    <density units=\"g/cm3\" value=\"10.5\" />\n",
      "    <nuclide ao=\"0.03\" name=\"U235\" />\n",
      "    <nuclide ao=\"0.97\" name=\"U238\" />\n",
      "    <nuclide ao=\"2.0\" name=\"O16\" />\n",
      "  </material>\n",
      "  <material depletable=\"true\" id=\"2\" name=\"tho2\">\n",
      "    <density units=\"g/cm3\" value=\"9.7\" />\n",
      "    <nuclide ao=\"0.9998\" name=\"Th232\" />\n",
      "    <nuclide ao=\"0.0002\" name=\"Th230\" />\n",
      "    <nuclide ao=\"2.0\" name=\"O16\" />\n",
      "  </material>\n",
      "  <material depletable=\"true\" id=\"3\" name=\"fuel\">\n",
      "    <density units=\"g/cm3\" value=\"10.46\" />\n",
      "    <nuclide ao=\"0.04734\" name=\"Th232\" />\n",
      "    <nuclide ao=\"0.04821\" name=\"U235\" />\n",
      "    <nuclide ao=\"0.90445\" name=\"U238\" />\n",
      "    <nuclide ao=\"1.999242\" name=\"O16\" />\n",
      "    <nuclide ao=\"0.000758\" name=\"O17\" />\n",
      "  </material>\n",
      "  <material id=\"4\" name=\"graph\">\n",
      "    <density units=\"sum\" />\n",
      "    <nuclide ao=\"1.0\" name=\"C0\" />\n",
      "  </material>\n",
      "  <material id=\"5\" name=\"hel_Cool\">\n",
      "    <density units=\"sum\" />\n",
      "    <nuclide ao=\"2e-06\" name=\"He3\" />\n",
      "    <nuclide ao=\"0.999998\" name=\"He4\" />\n",
      "  </material>\n",
      "</materials>\n"
     ]
    }
   ],
   "source": [
    "materials.export_to_xml()\n",
    "!cat materials.xml"
   ]
  },
  {
   "cell_type": "markdown",
   "id": "adb5ddd7-4d20-416a-a29e-b424769f9111",
   "metadata": {},
   "source": [
    "## Define Geometry"
   ]
  },
  {
   "cell_type": "code",
   "execution_count": 17,
   "id": "6b4cb29b-3be7-4b96-bcbc-535eb8bf9236",
   "metadata": {},
   "outputs": [],
   "source": [
    "r_sphere = 1.0;\n",
    "sphere = openmc.Sphere(r=r_sphere)"
   ]
  },
  {
   "cell_type": "code",
   "execution_count": 18,
   "id": "58588aeb-71af-4168-ae3d-2fd9069f2779",
   "metadata": {},
   "outputs": [],
   "source": [
    "inside_sphere = -sphere\n",
    "outside_sphere = +sphere"
   ]
  },
  {
   "cell_type": "code",
   "execution_count": 19,
   "id": "5106203a-8013-4128-a31b-978ab1d34716",
   "metadata": {},
   "outputs": [
    {
     "name": "stdout",
     "output_type": "stream",
     "text": [
      "True False\n",
      "False True\n"
     ]
    }
   ],
   "source": [
    "# Test for whether points are within or outside of sphere region\n",
    "print((0,0,0) in inside_sphere, (0,0,2) in inside_sphere)\n",
    "print((0,0,0) in outside_sphere, (0,0,2) in outside_sphere)"
   ]
  },
  {
   "cell_type": "code",
   "execution_count": 20,
   "id": "d5f0f101-9519-4a8b-a188-5b108e2f9693",
   "metadata": {},
   "outputs": [],
   "source": [
    "cell = openmc.Cell()\n",
    "cell.region = inside_sphere"
   ]
  },
  {
   "cell_type": "code",
   "execution_count": 21,
   "id": "a6cd6d34-a5ee-4303-a3bc-1201fe4aa47c",
   "metadata": {},
   "outputs": [],
   "source": [
    "cell.fill = hel_Cool"
   ]
  },
  {
   "cell_type": "markdown",
   "id": "c955a339-ed4e-4ed8-917a-da213b28d04f",
   "metadata": {},
   "source": [
    "## Create Universe"
   ]
  },
  {
   "cell_type": "code",
   "execution_count": 22,
   "id": "9ec4e7b8-9e29-4cd5-b1b8-46c6063a0b35",
   "metadata": {},
   "outputs": [],
   "source": [
    "universe = openmc.Universe()\n",
    "universe.add_cell(cell)"
   ]
  },
  {
   "cell_type": "code",
   "execution_count": 23,
   "id": "11cd48c0-671b-4f10-9aaa-f3f66ffae44b",
   "metadata": {},
   "outputs": [
    {
     "data": {
      "text/plain": [
       "<matplotlib.image.AxesImage at 0x7fd924455310>"
      ]
     },
     "execution_count": 23,
     "metadata": {},
     "output_type": "execute_result"
    },
    {
     "data": {
      "image/png": "[encoded data removed]",
      "text/plain": [
       "<Figure size 258.065x259.74 with 1 Axes>"
      ]
     },
     "metadata": {},
     "output_type": "display_data"
    }
   ],
   "source": [
    "universe.plot(width=(2.5, 2.5), basis='xz', colors={cell: 'fuchsia'})"
   ]
  },
  {
   "cell_type": "markdown",
   "id": "569ff1fd-f6b5-4f3b-b5eb-52bd9055eed6",
   "metadata": {},
   "source": [
    "## Define Bounding Geometry"
   ]
  },
  {
   "cell_type": "code",
   "execution_count": 24,
   "id": "ca79c413-bc02-4b25-bfdc-45ca01be5390",
   "metadata": {},
   "outputs": [],
   "source": [
    "fuel_outer_rad = openmc.Sphere(r=0.4)\n",
    "clad_inner_rad = fuel_outer_rad\n",
    "clad_outer_rad = openmc.Sphere(r=0.5)"
   ]
  },
  {
   "cell_type": "code",
   "execution_count": 25,
   "id": "df735618-6e9b-4559-bad7-02c7ac27eec7",
   "metadata": {},
   "outputs": [],
   "source": [
    "fuel_region = -fuel_outer_rad\n",
    "graph_region = +clad_inner_rad & -clad_outer_rad"
   ]
  },
  {
   "cell_type": "code",
   "execution_count": 26,
   "id": "86c8aa24-d4b1-48c8-a1b1-4ec239ab1d1d",
   "metadata": {},
   "outputs": [],
   "source": [
    "fuel_Geom = openmc.Cell(name='fuel_Geom')\n",
    "fuel_Geom.fill = materials\n",
    "fuel_Geom.region = fuel_region\n",
    "\n",
    "graph_Geom = openmc.Cell(name='graph_Geom')\n",
    "graph_Geom.fill = graph\n",
    "graph_Geom.region = graph_region"
   ]
  },
  {
   "cell_type": "code",
   "execution_count": 27,
   "id": "305b8a00-d480-4d9c-b29c-b26f80dfb823",
   "metadata": {},
   "outputs": [],
   "source": [
    "pitch = 2.0\n",
    "\n",
    "#box = openmc.rectangular_prism(width=pitch, height=pitch, boundary_type='reflective')\n",
    "#type(box)\n",
    "box = openmc.model.RectangularParallelepiped(-pitch/2.,pitch/2.,-pitch/2.,pitch/2.,-pitch/2.,pitch/2.,\n",
    "                                            boundary_type='reflective');"
   ]
  },
  {
   "cell_type": "code",
   "execution_count": 28,
   "id": "c52d7e9e-7930-42ba-88ec-5e8d15ddef11",
   "metadata": {},
   "outputs": [],
   "source": [
    "hel_Cool_region = -box & +clad_outer_rad\n",
    "\n",
    "moderator = openmc.Cell(name='moderator')\n",
    "moderator.fill = hel_Cool\n",
    "moderator.region = hel_Cool_region"
   ]
  },
  {
   "cell_type": "code",
   "execution_count": 29,
   "id": "0b75c162-551b-460b-9d4a-994a7e57b70a",
   "metadata": {},
   "outputs": [
    {
     "name": "stdout",
     "output_type": "stream",
     "text": [
      "<?xml version='1.0' encoding='utf-8'?>\n",
      "<geometry>\n",
      "  <cell id=\"2\" material=\"1 2 3 4 5\" name=\"fuel_Geom\" region=\"-2\" universe=\"2\" />\n",
      "  <cell id=\"3\" material=\"4\" name=\"graph_Geom\" region=\"2 -3\" universe=\"2\" />\n",
      "  <cell id=\"4\" material=\"5\" name=\"moderator\" region=\"-5 4 -7 6 -9 8 3\" universe=\"2\" />\n",
      "  <surface coeffs=\"0.0 0.0 0.0 0.4\" id=\"2\" type=\"sphere\" />\n",
      "  <surface coeffs=\"0.0 0.0 0.0 0.5\" id=\"3\" type=\"sphere\" />\n",
      "  <surface boundary=\"reflective\" coeffs=\"-1.0\" id=\"4\" type=\"x-plane\" />\n",
      "  <surface boundary=\"reflective\" coeffs=\"1.0\" id=\"5\" type=\"x-plane\" />\n",
      "  <surface boundary=\"reflective\" coeffs=\"-1.0\" id=\"6\" type=\"y-plane\" />\n",
      "  <surface boundary=\"reflective\" coeffs=\"1.0\" id=\"7\" type=\"y-plane\" />\n",
      "  <surface boundary=\"reflective\" coeffs=\"-1.0\" id=\"8\" type=\"z-plane\" />\n",
      "  <surface boundary=\"reflective\" coeffs=\"1.0\" id=\"9\" type=\"z-plane\" />\n",
      "</geometry>\n"
     ]
    }
   ],
   "source": [
    "root_universe = openmc.Universe(cells=(fuel_Geom, graph_Geom, moderator))\n",
    "\n",
    "geometry = openmc.Geometry()\n",
    "geometry.root_universe = root_universe\n",
    "geometry.export_to_xml()\n",
    "!cat geometry.xml"
   ]
  },
  {
   "cell_type": "code",
   "execution_count": 30,
   "id": "66f6c1f4",
   "metadata": {},
   "outputs": [
    {
     "ename": "RuntimeError",
     "evalue": "Cell 2 was specified with 5 materials but has 1 distributed instances. The number of materials must equal one or the number of instances.",
     "output_type": "error",
     "traceback": [
      "\u001b[0;31m---------------------------------------------------------------------------\u001b[0m",
      "\u001b[0;31mRuntimeError\u001b[0m                              Traceback (most recent call last)",
      "Cell \u001b[0;32mIn[30], line 1\u001b[0m\n\u001b[0;32m----> 1\u001b[0m \u001b[43mroot_universe\u001b[49m\u001b[38;5;241;43m.\u001b[39;49m\u001b[43mplot\u001b[49m\u001b[43m(\u001b[49m\u001b[43mwidth\u001b[49m\u001b[38;5;241;43m=\u001b[39;49m\u001b[43m(\u001b[49m\u001b[38;5;241;43m2.5\u001b[39;49m\u001b[43m,\u001b[49m\u001b[43m \u001b[49m\u001b[38;5;241;43m2.5\u001b[39;49m\u001b[43m)\u001b[49m\u001b[43m,\u001b[49m\u001b[43m \u001b[49m\u001b[43mbasis\u001b[49m\u001b[38;5;241;43m=\u001b[39;49m\u001b[38;5;124;43m'\u001b[39;49m\u001b[38;5;124;43mxz\u001b[39;49m\u001b[38;5;124;43m'\u001b[39;49m\u001b[43m,\u001b[49m\u001b[43m \u001b[49m\u001b[43mcolors\u001b[49m\u001b[38;5;241;43m=\u001b[39;49m\u001b[43m{\u001b[49m\u001b[43mcell\u001b[49m\u001b[43m:\u001b[49m\u001b[43m \u001b[49m\u001b[38;5;124;43m'\u001b[39;49m\u001b[38;5;124;43mfuchsia\u001b[39;49m\u001b[38;5;124;43m'\u001b[39;49m\u001b[43m}\u001b[49m\u001b[43m)\u001b[49m\n",
      "File \u001b[0;32m~/anaconda3/envs/openmc-env/lib/python3.11/site-packages/openmc/universe.py:381\u001b[0m, in \u001b[0;36mUniverse.plot\u001b[0;34m(self, origin, width, pixels, basis, color_by, colors, seed, openmc_exec, axes, **kwargs)\u001b[0m\n\u001b[1;32m    378\u001b[0m model\u001b[38;5;241m.\u001b[39mplots\u001b[38;5;241m.\u001b[39mappend(plot)\n\u001b[1;32m    380\u001b[0m \u001b[38;5;66;03m# Run OpenMC in geometry plotting mode\u001b[39;00m\n\u001b[0;32m--> 381\u001b[0m \u001b[43mmodel\u001b[49m\u001b[38;5;241;43m.\u001b[39;49m\u001b[43mplot_geometry\u001b[49m\u001b[43m(\u001b[49m\u001b[38;5;28;43;01mFalse\u001b[39;49;00m\u001b[43m,\u001b[49m\u001b[43m \u001b[49m\u001b[43mcwd\u001b[49m\u001b[38;5;241;43m=\u001b[39;49m\u001b[43mtmpdir\u001b[49m\u001b[43m,\u001b[49m\u001b[43m \u001b[49m\u001b[43mopenmc_exec\u001b[49m\u001b[38;5;241;43m=\u001b[39;49m\u001b[43mopenmc_exec\u001b[49m\u001b[43m)\u001b[49m\n\u001b[1;32m    383\u001b[0m \u001b[38;5;66;03m# Read image from file\u001b[39;00m\n\u001b[1;32m    384\u001b[0m img_path \u001b[38;5;241m=\u001b[39m Path(tmpdir) \u001b[38;5;241m/\u001b[39m \u001b[38;5;124mf\u001b[39m\u001b[38;5;124m'\u001b[39m\u001b[38;5;124mplot_\u001b[39m\u001b[38;5;132;01m{\u001b[39;00mplot\u001b[38;5;241m.\u001b[39mid\u001b[38;5;132;01m}\u001b[39;00m\u001b[38;5;124m.png\u001b[39m\u001b[38;5;124m'\u001b[39m\n",
      "File \u001b[0;32m~/anaconda3/envs/openmc-env/lib/python3.11/site-packages/openmc/model/model.py:818\u001b[0m, in \u001b[0;36mModel.plot_geometry\u001b[0;34m(self, output, cwd, openmc_exec)\u001b[0m\n\u001b[1;32m    816\u001b[0m \u001b[38;5;28;01melse\u001b[39;00m:\n\u001b[1;32m    817\u001b[0m     \u001b[38;5;28mself\u001b[39m\u001b[38;5;241m.\u001b[39mexport_to_xml()\n\u001b[0;32m--> 818\u001b[0m     \u001b[43mopenmc\u001b[49m\u001b[38;5;241;43m.\u001b[39;49m\u001b[43mplot_geometry\u001b[49m\u001b[43m(\u001b[49m\u001b[43moutput\u001b[49m\u001b[38;5;241;43m=\u001b[39;49m\u001b[43moutput\u001b[49m\u001b[43m,\u001b[49m\u001b[43m \u001b[49m\u001b[43mopenmc_exec\u001b[49m\u001b[38;5;241;43m=\u001b[39;49m\u001b[43mopenmc_exec\u001b[49m\u001b[43m)\u001b[49m\n",
      "File \u001b[0;32m~/anaconda3/envs/openmc-env/lib/python3.11/site-packages/openmc/executor.py:154\u001b[0m, in \u001b[0;36mplot_geometry\u001b[0;34m(output, openmc_exec, cwd, path_input)\u001b[0m\n\u001b[1;32m    152\u001b[0m \u001b[38;5;28;01mif\u001b[39;00m path_input \u001b[38;5;129;01mis\u001b[39;00m \u001b[38;5;129;01mnot\u001b[39;00m \u001b[38;5;28;01mNone\u001b[39;00m:\n\u001b[1;32m    153\u001b[0m     args \u001b[38;5;241m+\u001b[39m\u001b[38;5;241m=\u001b[39m [path_input]\n\u001b[0;32m--> 154\u001b[0m \u001b[43m_run\u001b[49m\u001b[43m(\u001b[49m\u001b[43margs\u001b[49m\u001b[43m,\u001b[49m\u001b[43m \u001b[49m\u001b[43moutput\u001b[49m\u001b[43m,\u001b[49m\u001b[43m \u001b[49m\u001b[43mcwd\u001b[49m\u001b[43m)\u001b[49m\n",
      "File \u001b[0;32m~/anaconda3/envs/openmc-env/lib/python3.11/site-packages/openmc/executor.py:125\u001b[0m, in \u001b[0;36m_run\u001b[0;34m(args, output, cwd)\u001b[0m\n\u001b[1;32m    122\u001b[0m     error_msg \u001b[38;5;241m=\u001b[39m \u001b[38;5;124m'\u001b[39m\u001b[38;5;124mOpenMC aborted unexpectedly.\u001b[39m\u001b[38;5;124m'\u001b[39m\n\u001b[1;32m    123\u001b[0m error_msg \u001b[38;5;241m=\u001b[39m \u001b[38;5;124m'\u001b[39m\u001b[38;5;124m \u001b[39m\u001b[38;5;124m'\u001b[39m\u001b[38;5;241m.\u001b[39mjoin(error_msg\u001b[38;5;241m.\u001b[39msplit())\n\u001b[0;32m--> 125\u001b[0m \u001b[38;5;28;01mraise\u001b[39;00m \u001b[38;5;167;01mRuntimeError\u001b[39;00m(error_msg)\n",
      "\u001b[0;31mRuntimeError\u001b[0m: Cell 2 was specified with 5 materials but has 1 distributed instances. The number of materials must equal one or the number of instances."
     ]
    }
   ],
   "source": [
    "root_universe.plot(width=(2.5, 2.5), basis='xz', colors={cell: 'fuchsia'})"
   ]
  },
  {
   "cell_type": "markdown",
   "id": "a4619459-85fd-4499-9750-64b1b0a273e4",
   "metadata": {},
   "source": [
    "## Cross Sections"
   ]
  },
  {
   "cell_type": "code",
   "execution_count": null,
   "id": "0e1bd3de-76fb-4746-b4b8-ffb9ea8c1457",
   "metadata": {},
   "outputs": [],
   "source": [
    "!cat $OPENMC_CROSS_SECTIONS | head -n 10\n",
    "print('    ...')\n",
    "!cat $OPENMC_CROSS_SECTIONS | tail -n 10"
   ]
  },
  {
   "cell_type": "markdown",
   "id": "f3111231-59e6-4574-b1d3-64e44bd2b5cb",
   "metadata": {},
   "source": [
    "## Source"
   ]
  },
  {
   "cell_type": "code",
   "execution_count": null,
   "id": "7729d519-9244-46a9-90dd-5131426b7e0b",
   "metadata": {},
   "outputs": [],
   "source": [
    "# create a point source\n",
    "point = openmc.stats.Point((0,0,0))\n",
    "source = openmc.Source(space=point)\n"
   ]
  },
  {
   "cell_type": "code",
   "execution_count": null,
   "id": "533cc885-a679-4885-a9a1-cbaa016a0b2a",
   "metadata": {},
   "outputs": [],
   "source": [
    "settings = openmc.Settings()\n",
    "settings.source = source\n",
    "settings.batches = 100\n",
    "settings.inactive = 10\n",
    "settings.particles = 1000"
   ]
  },
  {
   "cell_type": "code",
   "execution_count": null,
   "id": "1cffe48f-230a-44c1-9e16-7eb6342c5757",
   "metadata": {},
   "outputs": [],
   "source": [
    "settings.export_to_xml()\n",
    "!cat settings.xml"
   ]
  },
  {
   "cell_type": "code",
   "execution_count": null,
   "id": "5ff8947f-fdb4-4614-af2e-f7323027c38a",
   "metadata": {},
   "outputs": [],
   "source": [
    "## Tallies"
   ]
  },
  {
   "cell_type": "code",
   "execution_count": null,
   "id": "95b9bf22-2549-44ef-bd81-da29e5bfe002",
   "metadata": {},
   "outputs": [],
   "source": [
    "cell_filter = openmc.CellFilter(fuel_Geom)\n",
    "\n",
    "tally = openmc.Tally(1)\n",
    "tally.filters = [cell_filter]"
   ]
  },
  {
   "cell_type": "code",
   "execution_count": null,
   "id": "08f8fe37-2dad-473a-a5f3-89b06df16127",
   "metadata": {},
   "outputs": [],
   "source": [
    "tally.nuclides = ['U235']\n",
    "tally.scores = ['total','fission','absorption','(n,gamma)']"
   ]
  },
  {
   "cell_type": "code",
   "execution_count": null,
   "id": "31dfccf1-563e-4309-acee-93107699ac5f",
   "metadata": {},
   "outputs": [],
   "source": [
    "tallies = openmc.Tallies([tally])\n",
    "tallies.export_to_xml()\n",
    "!cat tallies.xml"
   ]
  },
  {
   "cell_type": "code",
   "execution_count": null,
   "id": "8042d5f2-c952-44cd-9a03-c825f2018fc9",
   "metadata": {},
   "outputs": [],
   "source": [
    "openmc.run()"
   ]
  },
  {
   "cell_type": "code",
   "execution_count": null,
   "id": "f0c6307a-f7a7-479b-9f8c-c4d08a2c25f7",
   "metadata": {},
   "outputs": [],
   "source": [
    "!cat tallies.out"
   ]
  },
  {
   "cell_type": "markdown",
   "id": "a2959a99-e2c7-4461-9d83-83d63d1f0bd8",
   "metadata": {},
   "source": [
    "## Plot Geometry"
   ]
  },
  {
   "cell_type": "code",
   "execution_count": null,
   "id": "4719882c-6b7b-40b6-a75f-22f3a51b1a42",
   "metadata": {},
   "outputs": [],
   "source": [
    "plot = openmc.Plot()\n",
    "plot.filename = 'pinplot'\n",
    "plot.width = (pitch,pitch)\n",
    "plot.pixels = (200,200)\n",
    "plot.color_by = 'material'\n",
    "plot.colors = {fuel: 'yellow',hel_Cool: 'blue'}"
   ]
  },
  {
   "cell_type": "code",
   "execution_count": null,
   "id": "cd861feb-9b0b-4b3e-987e-e2261440a24d",
   "metadata": {},
   "outputs": [],
   "source": [
    "plots = openmc.Plots([plot])\n",
    "plots.export_to_xml()\n",
    "!cat plots.xml"
   ]
  },
  {
   "cell_type": "code",
   "execution_count": null,
   "id": "7ff35559-c104-4b52-8e07-48f9870a9977",
   "metadata": {},
   "outputs": [],
   "source": [
    "openmc.plot_geometry()"
   ]
  },
  {
   "cell_type": "code",
   "execution_count": null,
   "id": "cc793753-2d48-4b74-8b1a-714d1ad8e3fb",
   "metadata": {},
   "outputs": [],
   "source": [
    "from IPython.display import Image\n",
    "Image('pinplot.png')"
   ]
  },
  {
   "cell_type": "code",
   "execution_count": null,
   "id": "46887c0f-2aa2-49fe-b907-fddbd9822d79",
   "metadata": {},
   "outputs": [],
   "source": [
    "plot.to_ipython_image()"
   ]
  }
 ],
 "metadata": {
  "kernelspec": {
   "display_name": "Python 3 (ipykernel)",
   "language": "python",
   "name": "python3"
  },
  "language_info": {
   "codemirror_mode": {
    "name": "ipython",
    "version": 3
   },
   "file_extension": ".py",
   "mimetype": "text/x-python",
   "name": "python",
   "nbconvert_exporter": "python",
   "pygments_lexer": "ipython3",
   "version": "3.11.5"
  }
 },
 "nbformat": 4,
 "nbformat_minor": 5
}
