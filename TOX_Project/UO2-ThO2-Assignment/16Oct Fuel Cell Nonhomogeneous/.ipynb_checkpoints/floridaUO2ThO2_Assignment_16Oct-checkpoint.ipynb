{
 "cells": [
  {
   "cell_type": "markdown",
   "id": "97609094-cf19-4b02-b7d9-3feed71a4d2d",
   "metadata": {},
   "source": [
    "# Florida UO2 ThO2 Mixture Assignment: 16OCt"
   ]
  },
  {
   "cell_type": "code",
   "execution_count": 1,
   "id": "38f81133-0b87-48ba-9e95-f45c7d9d5c75",
   "metadata": {},
   "outputs": [],
   "source": [
    "%matplotlib inline\n",
    "import openmc"
   ]
  },
  {
   "cell_type": "markdown",
   "id": "d2239ece-c69c-47e0-ae4a-b3ae71d94cd3",
   "metadata": {},
   "source": [
    "## Define Materials"
   ]
  },
  {
   "cell_type": "code",
   "execution_count": 2,
   "id": "bedbff8e-48fa-401e-b798-6cf10e987ab7",
   "metadata": {},
   "outputs": [],
   "source": [
    "# Establish Thorium Oxide Fuel Mixture Component material (unused)\n",
    "uo2 = openmc.Material(name='uo2')\n"
   ]
  },
  {
   "cell_type": "code",
   "execution_count": 3,
   "id": "176bfa49-46c2-4678-a4b3-452be3ce3f18",
   "metadata": {},
   "outputs": [],
   "source": [
    "# add nuclides to uo2\n",
    "uo2.add_nuclide('U235', 0.03)\n",
    "uo2.add_nuclide('U238', 0.97)\n",
    "uo2.add_nuclide('O16', 2.0)"
   ]
  },
  {
   "cell_type": "code",
   "execution_count": 4,
   "id": "dbdd6791-fde2-47b0-8925-0dc2ee4bbc83",
   "metadata": {},
   "outputs": [],
   "source": [
    "# set UO2 Density (based on TRISO Density of 10.5 g/cm^3)\n",
    "uo2.set_density('g/cm3', 10.5)"
   ]
  },
  {
   "cell_type": "code",
   "execution_count": 5,
   "id": "c787c400-1167-4e8f-8aa9-4902de0288b2",
   "metadata": {},
   "outputs": [
    {
     "name": "stdout",
     "output_type": "stream",
     "text": [
      "Material\n",
      "\tID             =\t2\n",
      "\tName           =\ttho2\n",
      "\tTemperature    =\tNone\n",
      "\tDensity        =\tNone [sum]\n",
      "\tVolume         =\tNone [cm^3]\n",
      "\tS(a,b) Tables  \n",
      "\tNuclides       \n",
      "\n"
     ]
    }
   ],
   "source": [
    "# Establish Thorium Oxide Fuel Mixture Component material (unused)\n",
    "tho2 = openmc.Material(name='tho2')\n",
    "print(tho2)"
   ]
  },
  {
   "cell_type": "code",
   "execution_count": 6,
   "id": "fdd19e67-da43-46cd-83a9-5c1e27b115ee",
   "metadata": {},
   "outputs": [
    {
     "name": "stdout",
     "output_type": "stream",
     "text": [
      "Material\n",
      "\tID             =\t3\n",
      "\tName           =\tfuel\n",
      "\tTemperature    =\tNone\n",
      "\tDensity        =\t10.46 [g/cm3]\n",
      "\tVolume         =\tNone [cm^3]\n",
      "\tS(a,b) Tables  \n",
      "\tNuclides       \n",
      "\tTh232          =\t0.04734      [ao]\n",
      "\tU235           =\t0.04821      [ao]\n",
      "\tU238           =\t0.90445      [ao]\n",
      "\tO16            =\t1.999242     [ao]\n",
      "\tO17            =\t0.000758     [ao]\n",
      "\n"
     ]
    }
   ],
   "source": [
    "fuel = openmc.Material(name='fuel');\n",
    "#The below ratios were calculated assuming 95%LEU-5%Th Oxide Fuel.\n",
    "fuel.add_nuclide('Th232', 0.04734, 'ao')\n",
    "fuel.add_nuclide('U235', 0.04821, 'ao') #5% U-235 enrichment\n",
    "fuel.add_nuclide('U238', 0.90445, 'ao')\n",
    "fuel.add_element('O', 2.0)\n",
    "fuel.set_density('g/cm3', 10.46) # BAsed on assumption of fuel density within TRISO\n",
    "print(fuel)"
   ]
  },
  {
   "cell_type": "code",
   "execution_count": 7,
   "id": "a78b744e-dafe-4b8d-8483-e289cb5b313d",
   "metadata": {},
   "outputs": [],
   "source": [
    "# add nuclides to tho2\n",
    "tho2.add_nuclide('Th232', 0.9998)\n",
    "tho2.add_nuclide('Th230', 0.0002)\n",
    "tho2.add_nuclide('O16', 2.0)"
   ]
  },
  {
   "cell_type": "code",
   "execution_count": 8,
   "id": "45410a3b-c17e-4aeb-b237-e834a21df92c",
   "metadata": {},
   "outputs": [],
   "source": [
    "# set ThO2 Density (based on TRISO UO2 Density of 10.5 g/cm^3, assumption that density is distributed)\n",
    "tho2.set_density('g/cm3', 9.7)"
   ]
  },
  {
   "cell_type": "code",
   "execution_count": 9,
   "id": "aabfb205-adea-4cee-abfd-8045c9169098",
   "metadata": {},
   "outputs": [
    {
     "name": "stdout",
     "output_type": "stream",
     "text": [
      "Material\n",
      "\tID             =\t4\n",
      "\tName           =\tgraph\n",
      "\tTemperature    =\tNone\n",
      "\tDensity        =\tNone [sum]\n",
      "\tVolume         =\tNone [cm^3]\n",
      "\tS(a,b) Tables  \n",
      "\tNuclides       \n",
      "\n"
     ]
    }
   ],
   "source": [
    "# Establish Graphite Moderator material\n",
    "graph = openmc.Material(name='graph')\n",
    "print(graph)"
   ]
  },
  {
   "cell_type": "code",
   "execution_count": 10,
   "id": "eb1a7ab2-c158-4155-bd9e-e3501728f851",
   "metadata": {},
   "outputs": [],
   "source": [
    "# add nuclides to graph\n",
    "graph.add_element('C', 1.00)"
   ]
  },
  {
   "cell_type": "code",
   "execution_count": 11,
   "id": "b9220eb4-f9fa-4358-b453-0bbf367f82d8",
   "metadata": {},
   "outputs": [
    {
     "name": "stdout",
     "output_type": "stream",
     "text": [
      "Material\n",
      "\tID             =\t5\n",
      "\tName           =\thel_Cool\n",
      "\tTemperature    =\tNone\n",
      "\tDensity        =\tNone [sum]\n",
      "\tVolume         =\tNone [cm^3]\n",
      "\tS(a,b) Tables  \n",
      "\tNuclides       \n",
      "\n"
     ]
    }
   ],
   "source": [
    "# Establish Helium Coolant material\n",
    "hel_Cool = openmc.Material(name='hel_Cool')\n",
    "print(hel_Cool)"
   ]
  },
  {
   "cell_type": "code",
   "execution_count": 12,
   "id": "3b1af0ed-f0c8-4b13-8b24-6d5820f9e31f",
   "metadata": {},
   "outputs": [],
   "source": [
    "# add nuclides to hel_Cool\n",
    "hel_Cool.add_nuclide('He3', 0.000002)\n",
    "hel_Cool.add_nuclide('He4', 0.999998)"
   ]
  },
  {
   "cell_type": "code",
   "execution_count": 13,
   "id": "a2148824-43c4-4023-b6bf-3364ad96f6fe",
   "metadata": {},
   "outputs": [],
   "source": [
    "materials = openmc.Materials([uo2, tho2, fuel, graph, hel_Cool])"
   ]
  },
  {
   "cell_type": "code",
   "execution_count": 14,
   "id": "d2244185-cab3-4b81-a8b0-0fba1f075c59",
   "metadata": {},
   "outputs": [
    {
     "data": {
      "text/plain": [
       "True"
      ]
     },
     "execution_count": 14,
     "metadata": {},
     "output_type": "execute_result"
    }
   ],
   "source": [
    "materials = openmc.Materials()\n",
    "materials.append(uo2)\n",
    "materials += [tho2, fuel, graph, hel_Cool]\n",
    "isinstance(materials,list)"
   ]
  },
  {
   "cell_type": "markdown",
   "id": "442f20be-9153-418c-937e-187777b3411e",
   "metadata": {},
   "source": [
    "## Export Materials as XML"
   ]
  },
  {
   "cell_type": "code",
   "execution_count": 15,
   "id": "5396a28b-d67e-4e45-b1f0-8a91323f6d5a",
   "metadata": {},
   "outputs": [
    {
     "name": "stdout",
     "output_type": "stream",
     "text": [
      "<?xml version='1.0' encoding='utf-8'?>\n",
      "<materials>\n",
      "  <material depletable=\"true\" id=\"1\" name=\"uo2\">\n",
      "    <density units=\"g/cm3\" value=\"10.5\" />\n",
      "    <nuclide ao=\"0.03\" name=\"U235\" />\n",
      "    <nuclide ao=\"0.97\" name=\"U238\" />\n",
      "    <nuclide ao=\"2.0\" name=\"O16\" />\n",
      "  </material>\n",
      "  <material depletable=\"true\" id=\"2\" name=\"tho2\">\n",
      "    <density units=\"g/cm3\" value=\"9.7\" />\n",
      "    <nuclide ao=\"0.9998\" name=\"Th232\" />\n",
      "    <nuclide ao=\"0.0002\" name=\"Th230\" />\n",
      "    <nuclide ao=\"2.0\" name=\"O16\" />\n",
      "  </material>\n",
      "  <material depletable=\"true\" id=\"3\" name=\"fuel\">\n",
      "    <density units=\"g/cm3\" value=\"10.46\" />\n",
      "    <nuclide ao=\"0.04734\" name=\"Th232\" />\n",
      "    <nuclide ao=\"0.04821\" name=\"U235\" />\n",
      "    <nuclide ao=\"0.90445\" name=\"U238\" />\n",
      "    <nuclide ao=\"1.999242\" name=\"O16\" />\n",
      "    <nuclide ao=\"0.000758\" name=\"O17\" />\n",
      "  </material>\n",
      "  <material id=\"4\" name=\"graph\">\n",
      "    <density units=\"sum\" />\n",
      "    <nuclide ao=\"1.0\" name=\"C0\" />\n",
      "  </material>\n",
      "  <material id=\"5\" name=\"hel_Cool\">\n",
      "    <density units=\"sum\" />\n",
      "    <nuclide ao=\"2e-06\" name=\"He3\" />\n",
      "    <nuclide ao=\"0.999998\" name=\"He4\" />\n",
      "  </material>\n",
      "</materials>\n"
     ]
    }
   ],
   "source": [
    "materials.export_to_xml()\n",
    "!cat materials.xml"
   ]
  },
  {
   "cell_type": "markdown",
   "id": "adb5ddd7-4d20-416a-a29e-b424769f9111",
   "metadata": {},
   "source": [
    "## Define Geometry"
   ]
  },
  {
   "cell_type": "code",
   "execution_count": 16,
   "id": "6b4cb29b-3be7-4b96-bcbc-535eb8bf9236",
   "metadata": {},
   "outputs": [],
   "source": [
    "r_sphere = 1.0;\n",
    "sphere = openmc.Sphere(r=r_sphere)"
   ]
  },
  {
   "cell_type": "code",
   "execution_count": 17,
   "id": "58588aeb-71af-4168-ae3d-2fd9069f2779",
   "metadata": {},
   "outputs": [],
   "source": [
    "inside_sphere = -sphere\n",
    "outside_sphere = +sphere"
   ]
  },
  {
   "cell_type": "code",
   "execution_count": 18,
   "id": "5106203a-8013-4128-a31b-978ab1d34716",
   "metadata": {},
   "outputs": [
    {
     "name": "stdout",
     "output_type": "stream",
     "text": [
      "True False\n",
      "False True\n"
     ]
    }
   ],
   "source": [
    "# Test for whether points are within or outside of sphere region\n",
    "print((0,0,0) in inside_sphere, (0,0,2) in inside_sphere)\n",
    "print((0,0,0) in outside_sphere, (0,0,2) in outside_sphere)"
   ]
  },
  {
   "cell_type": "code",
   "execution_count": 19,
   "id": "d5f0f101-9519-4a8b-a188-5b108e2f9693",
   "metadata": {},
   "outputs": [],
   "source": [
    "cell = openmc.Cell()\n",
    "cell.region = inside_sphere"
   ]
  },
  {
   "cell_type": "code",
   "execution_count": 20,
   "id": "a6cd6d34-a5ee-4303-a3bc-1201fe4aa47c",
   "metadata": {},
   "outputs": [],
   "source": [
    "cell.fill = hel_Cool"
   ]
  },
  {
   "cell_type": "markdown",
   "id": "c955a339-ed4e-4ed8-917a-da213b28d04f",
   "metadata": {},
   "source": [
    "## Create Universe"
   ]
  },
  {
   "cell_type": "code",
   "execution_count": 21,
   "id": "9ec4e7b8-9e29-4cd5-b1b8-46c6063a0b35",
   "metadata": {},
   "outputs": [],
   "source": [
    "universe = openmc.Universe()\n",
    "universe.add_cell(cell)"
   ]
  },
  {
   "cell_type": "code",
   "execution_count": 22,
   "id": "11cd48c0-671b-4f10-9aaa-f3f66ffae44b",
   "metadata": {},
   "outputs": [
    {
     "data": {
      "text/plain": [
       "<matplotlib.image.AxesImage at 0x7f9cb038fd90>"
      ]
     },
     "execution_count": 22,
     "metadata": {},
     "output_type": "execute_result"
    },
    {
     "data": {
      "image/png": "[encoded data removed]",
      "text/plain": [
       "<Figure size 258.065x259.74 with 1 Axes>"
      ]
     },
     "metadata": {},
     "output_type": "display_data"
    }
   ],
   "source": [
    "universe.plot(width=(2.5, 2.5), basis='xz', colors={cell: 'fuchsia'})"
   ]
  },
  {
   "cell_type": "markdown",
   "id": "569ff1fd-f6b5-4f3b-b5eb-52bd9055eed6",
   "metadata": {},
   "source": [
    "## Define Bounding Geometry"
   ]
  },
  {
   "cell_type": "code",
   "execution_count": 23,
   "id": "ca79c413-bc02-4b25-bfdc-45ca01be5390",
   "metadata": {},
   "outputs": [],
   "source": [
    "fuel_outer_rad = openmc.Sphere(r=0.4)\n",
    "clad_inner_rad = fuel_outer_rad\n",
    "clad_outer_rad = openmc.Sphere(r=0.5)"
   ]
  },
  {
   "cell_type": "code",
   "execution_count": 24,
   "id": "df735618-6e9b-4559-bad7-02c7ac27eec7",
   "metadata": {},
   "outputs": [],
   "source": [
    "fuel_region = -fuel_outer_rad\n",
    "graph_region = +clad_inner_rad & -clad_outer_rad"
   ]
  },
  {
   "cell_type": "code",
   "execution_count": 25,
   "id": "86c8aa24-d4b1-48c8-a1b1-4ec239ab1d1d",
   "metadata": {},
   "outputs": [],
   "source": [
    "fuel_Geom = openmc.Cell(name='fuel_Geom')\n",
    "fuel_Geom.fill = fuel\n",
    "fuel_Geom.region = fuel_region\n",
    "\n",
    "graph_Geom = openmc.Cell(name='graph_Geom')\n",
    "graph_Geom.fill = graph\n",
    "graph_Geom.region = graph_region"
   ]
  },
  {
   "cell_type": "code",
   "execution_count": 26,
   "id": "305b8a00-d480-4d9c-b29c-b26f80dfb823",
   "metadata": {},
   "outputs": [],
   "source": [
    "pitch = 2.0\n",
    "\n",
    "#box = openmc.rectangular_prism(width=pitch, height=pitch, boundary_type='reflective')\n",
    "#type(box)\n",
    "box = openmc.model.RectangularParallelepiped(-pitch/2.,pitch/2.,-pitch/2.,pitch/2.,-pitch/2.,pitch/2.,\n",
    "                                            boundary_type='reflective');"
   ]
  },
  {
   "cell_type": "code",
   "execution_count": 27,
   "id": "c52d7e9e-7930-42ba-88ec-5e8d15ddef11",
   "metadata": {},
   "outputs": [],
   "source": [
    "hel_Cool_region = -box & +clad_outer_rad\n",
    "\n",
    "moderator = openmc.Cell(name='moderator')\n",
    "moderator.fill = hel_Cool\n",
    "moderator.region = hel_Cool_region"
   ]
  },
  {
   "cell_type": "code",
   "execution_count": 28,
   "id": "0b75c162-551b-460b-9d4a-994a7e57b70a",
   "metadata": {},
   "outputs": [
    {
     "name": "stdout",
     "output_type": "stream",
     "text": [
      "<?xml version='1.0' encoding='utf-8'?>\n",
      "<geometry>\n",
      "  <cell id=\"2\" material=\"3\" name=\"fuel_Geom\" region=\"-2\" universe=\"2\" />\n",
      "  <cell id=\"3\" material=\"4\" name=\"graph_Geom\" region=\"2 -3\" universe=\"2\" />\n",
      "  <cell id=\"4\" material=\"5\" name=\"moderator\" region=\"-5 4 -7 6 -9 8 3\" universe=\"2\" />\n",
      "  <surface coeffs=\"0.0 0.0 0.0 0.4\" id=\"2\" type=\"sphere\" />\n",
      "  <surface coeffs=\"0.0 0.0 0.0 0.5\" id=\"3\" type=\"sphere\" />\n",
      "  <surface boundary=\"reflective\" coeffs=\"-1.0\" id=\"4\" type=\"x-plane\" />\n",
      "  <surface boundary=\"reflective\" coeffs=\"1.0\" id=\"5\" type=\"x-plane\" />\n",
      "  <surface boundary=\"reflective\" coeffs=\"-1.0\" id=\"6\" type=\"y-plane\" />\n",
      "  <surface boundary=\"reflective\" coeffs=\"1.0\" id=\"7\" type=\"y-plane\" />\n",
      "  <surface boundary=\"reflective\" coeffs=\"-1.0\" id=\"8\" type=\"z-plane\" />\n",
      "  <surface boundary=\"reflective\" coeffs=\"1.0\" id=\"9\" type=\"z-plane\" />\n",
      "</geometry>\n"
     ]
    }
   ],
   "source": [
    "root_universe = openmc.Universe(cells=(fuel_Geom, graph_Geom, moderator))\n",
    "\n",
    "geometry = openmc.Geometry()\n",
    "geometry.root_universe = root_universe\n",
    "geometry.export_to_xml()\n",
    "!cat geometry.xml"
   ]
  },
  {
   "cell_type": "code",
   "execution_count": 29,
   "id": "66f6c1f4",
   "metadata": {},
   "outputs": [
    {
     "data": {
      "text/plain": [
       "<matplotlib.image.AxesImage at 0x7f9cb030e6d0>"
      ]
     },
     "execution_count": 29,
     "metadata": {},
     "output_type": "execute_result"
    },
    {
     "data": {
      "image/png": "[encoded data removed]",
      "text/plain": [
       "<Figure size 258.065x259.74 with 1 Axes>"
      ]
     },
     "metadata": {},
     "output_type": "display_data"
    }
   ],
   "source": [
    "root_universe.plot(width=(2.5, 2.5), basis='xz', colors={cell: 'fuchsia'})"
   ]
  },
  {
   "cell_type": "markdown",
   "id": "a4619459-85fd-4499-9750-64b1b0a273e4",
   "metadata": {},
   "source": [
    "## Cross Sections"
   ]
  },
  {
   "cell_type": "code",
   "execution_count": 30,
   "id": "0e1bd3de-76fb-4746-b4b8-ffb9ea8c1457",
   "metadata": {},
   "outputs": [
    {
     "name": "stdout",
     "output_type": "stream",
     "text": [
      "<?xml version='1.0' encoding='utf-8'?>\n",
      "<cross_sections>\n",
      "  <library materials=\"H1\" path=\"neutron/H1.h5\" type=\"neutron\" />\n",
      "  <library materials=\"H2\" path=\"neutron/H2.h5\" type=\"neutron\" />\n",
      "  <library materials=\"H3\" path=\"neutron/H3.h5\" type=\"neutron\" />\n",
      "  <library materials=\"He3\" path=\"neutron/He3.h5\" type=\"neutron\" />\n",
      "  <library materials=\"He4\" path=\"neutron/He4.h5\" type=\"neutron\" />\n",
      "  <library materials=\"Li6\" path=\"neutron/Li6.h5\" type=\"neutron\" />\n",
      "  <library materials=\"Li7\" path=\"neutron/Li7.h5\" type=\"neutron\" />\n",
      "  <library materials=\"Be7\" path=\"neutron/Be7.h5\" type=\"neutron\" />\n",
      "    ...\n",
      "  <library materials=\"Cf253\" path=\"wmp/098253.h5\" type=\"wmp\" />\n",
      "  <library materials=\"Cf254\" path=\"wmp/098254.h5\" type=\"wmp\" />\n",
      "  <library materials=\"Es251\" path=\"wmp/099251.h5\" type=\"wmp\" />\n",
      "  <library materials=\"Es252\" path=\"wmp/099252.h5\" type=\"wmp\" />\n",
      "  <library materials=\"Es253\" path=\"wmp/099253.h5\" type=\"wmp\" />\n",
      "  <library materials=\"Es254\" path=\"wmp/099254.h5\" type=\"wmp\" />\n",
      "  <library materials=\"Es254_m1\" path=\"wmp/099254m1.h5\" type=\"wmp\" />\n",
      "  <library materials=\"Es255\" path=\"wmp/099255.h5\" type=\"wmp\" />\n",
      "  <library materials=\"Fm255\" path=\"wmp/100255.h5\" type=\"wmp\" />\n",
      "</cross_sections>\n"
     ]
    }
   ],
   "source": [
    "!cat $OPENMC_CROSS_SECTIONS | head -n 10\n",
    "print('    ...')\n",
    "!cat $OPENMC_CROSS_SECTIONS | tail -n 10"
   ]
  },
  {
   "cell_type": "markdown",
   "id": "f3111231-59e6-4574-b1d3-64e44bd2b5cb",
   "metadata": {},
   "source": [
    "## Source"
   ]
  },
  {
   "cell_type": "code",
   "execution_count": 31,
   "id": "7729d519-9244-46a9-90dd-5131426b7e0b",
   "metadata": {},
   "outputs": [],
   "source": [
    "# create a point source\n",
    "point = openmc.stats.Point((0,0,0))\n",
    "source = openmc.Source(space=point)\n"
   ]
  },
  {
   "cell_type": "code",
   "execution_count": 32,
   "id": "533cc885-a679-4885-a9a1-cbaa016a0b2a",
   "metadata": {},
   "outputs": [],
   "source": [
    "settings = openmc.Settings()\n",
    "settings.source = source\n",
    "settings.batches = 100\n",
    "settings.inactive = 10\n",
    "settings.particles = 1000"
   ]
  },
  {
   "cell_type": "code",
   "execution_count": 33,
   "id": "1cffe48f-230a-44c1-9e16-7eb6342c5757",
   "metadata": {},
   "outputs": [
    {
     "name": "stdout",
     "output_type": "stream",
     "text": [
      "<?xml version='1.0' encoding='utf-8'?>\n",
      "<settings>\n",
      "  <run_mode>eigenvalue</run_mode>\n",
      "  <particles>1000</particles>\n",
      "  <batches>100</batches>\n",
      "  <inactive>10</inactive>\n",
      "  <source strength=\"1.0\">\n",
      "    <space type=\"point\">\n",
      "      <parameters>0 0 0</parameters>\n",
      "    </space>\n",
      "  </source>\n",
      "</settings>\n"
     ]
    }
   ],
   "source": [
    "settings.export_to_xml()\n",
    "!cat settings.xml"
   ]
  },
  {
   "cell_type": "code",
   "execution_count": 34,
   "id": "5ff8947f-fdb4-4614-af2e-f7323027c38a",
   "metadata": {},
   "outputs": [],
   "source": [
    "## Tallies"
   ]
  },
  {
   "cell_type": "code",
   "execution_count": 35,
   "id": "95b9bf22-2549-44ef-bd81-da29e5bfe002",
   "metadata": {},
   "outputs": [],
   "source": [
    "cell_filter = openmc.CellFilter(fuel_Geom)\n",
    "\n",
    "tally = openmc.Tally(1)\n",
    "tally.filters = [cell_filter]"
   ]
  },
  {
   "cell_type": "code",
   "execution_count": 36,
   "id": "08f8fe37-2dad-473a-a5f3-89b06df16127",
   "metadata": {},
   "outputs": [],
   "source": [
    "tally.nuclides = ['U235']\n",
    "tally.scores = ['total','fission','absorption','(n,gamma)']"
   ]
  },
  {
   "cell_type": "code",
   "execution_count": 37,
   "id": "31dfccf1-563e-4309-acee-93107699ac5f",
   "metadata": {},
   "outputs": [
    {
     "name": "stdout",
     "output_type": "stream",
     "text": [
      "<?xml version='1.0' encoding='utf-8'?>\n",
      "<tallies>\n",
      "  <filter id=\"1\" type=\"cell\">\n",
      "    <bins>2</bins>\n",
      "  </filter>\n",
      "  <tally id=\"1\">\n",
      "    <filters>1</filters>\n",
      "    <nuclides>U235</nuclides>\n",
      "    <scores>total fission absorption (n,gamma)</scores>\n",
      "  </tally>\n",
      "</tallies>\n"
     ]
    }
   ],
   "source": [
    "tallies = openmc.Tallies([tally])\n",
    "tallies.export_to_xml()\n",
    "!cat tallies.xml"
   ]
  },
  {
   "cell_type": "code",
   "execution_count": 38,
   "id": "8042d5f2-c952-44cd-9a03-c825f2018fc9",
   "metadata": {},
   "outputs": [
    {
     "name": "stdout",
     "output_type": "stream",
     "text": [
      "                                %%%%%%%%%%%%%%%\n",
      "                           %%%%%%%%%%%%%%%%%%%%%%%%\n",
      "                        %%%%%%%%%%%%%%%%%%%%%%%%%%%%%%\n",
      "                      %%%%%%%%%%%%%%%%%%%%%%%%%%%%%%%%%%\n",
      "                    %%%%%%%%%%%%%%%%%%%%%%%%%%%%%%%%%%%%%%\n",
      "                   %%%%%%%%%%%%%%%%%%%%%%%%%%%%%%%%%%%%%%%%\n",
      "                                    %%%%%%%%%%%%%%%%%%%%%%%%\n",
      "                                     %%%%%%%%%%%%%%%%%%%%%%%%\n",
      "                 ###############      %%%%%%%%%%%%%%%%%%%%%%%%\n",
      "                ##################     %%%%%%%%%%%%%%%%%%%%%%%\n",
      "                ###################     %%%%%%%%%%%%%%%%%%%%%%%\n",
      "                ####################     %%%%%%%%%%%%%%%%%%%%%%\n",
      "                #####################     %%%%%%%%%%%%%%%%%%%%%\n",
      "                ######################     %%%%%%%%%%%%%%%%%%%%\n",
      "                #######################     %%%%%%%%%%%%%%%%%%\n",
      "                 #######################     %%%%%%%%%%%%%%%%%\n",
      "                 ######################     %%%%%%%%%%%%%%%%%\n",
      "                  ####################     %%%%%%%%%%%%%%%%%\n",
      "                    #################     %%%%%%%%%%%%%%%%%\n",
      "                     ###############     %%%%%%%%%%%%%%%%\n",
      "                       ############     %%%%%%%%%%%%%%%\n",
      "                          ########     %%%%%%%%%%%%%%\n",
      "                                      %%%%%%%%%%%\n",
      "\n",
      "                 | The OpenMC Monte Carlo Code\n",
      "       Copyright | 2011-2023 MIT, UChicago Argonne LLC, and contributors\n",
      "         License | https://docs.openmc.org/en/latest/license.html\n",
      "         Version | 0.13.3\n",
      "        Git SHA1 | 50e39a4e20dc9e0f3d7ccf07333f6a5e6c797c8c\n",
      "       Date/Time | 2023-10-20 10:47:00\n",
      "  OpenMP Threads | 24\n",
      "\n",
      " Reading settings XML file...\n",
      " Reading cross sections XML file...\n",
      " Reading materials XML file...\n",
      " Reading geometry XML file...\n",
      " Reading U235 from\n",
      " /home/karlflorida/openmc/openmc/data/endfb71/endfb-vii.1-hdf5/neutron/U235.h5\n",
      " Reading U238 from\n",
      " /home/karlflorida/openmc/openmc/data/endfb71/endfb-vii.1-hdf5/neutron/U238.h5\n",
      " Reading O16 from\n",
      " /home/karlflorida/openmc/openmc/data/endfb71/endfb-vii.1-hdf5/neutron/O16.h5\n",
      " Reading Th232 from\n",
      " /home/karlflorida/openmc/openmc/data/endfb71/endfb-vii.1-hdf5/neutron/Th232.h5\n",
      " Reading Th230 from\n",
      " /home/karlflorida/openmc/openmc/data/endfb71/endfb-vii.1-hdf5/neutron/Th230.h5\n",
      " Reading O17 from\n",
      " /home/karlflorida/openmc/openmc/data/endfb71/endfb-vii.1-hdf5/neutron/O17.h5\n",
      " Reading C0 from\n",
      " /home/karlflorida/openmc/openmc/data/endfb71/endfb-vii.1-hdf5/neutron/C0.h5\n",
      " Reading He3 from\n",
      " /home/karlflorida/openmc/openmc/data/endfb71/endfb-vii.1-hdf5/neutron/He3.h5\n",
      " Reading He4 from\n",
      " /home/karlflorida/openmc/openmc/data/endfb71/endfb-vii.1-hdf5/neutron/He4.h5\n",
      " Minimum neutron data temperature: 250 K\n",
      " Maximum neutron data temperature: 2500 K\n",
      " Reading tallies XML file...\n",
      " Preparing distributed cell instances...\n",
      " Reading plot XML file...\n",
      " Writing summary.h5 file...\n",
      " Maximum neutron transport energy: 20000000 eV for U235\n",
      " Initializing source particles...\n",
      "\n",
      " ====================>     K EIGENVALUE SIMULATION     <====================\n",
      "\n",
      "  Bat./Gen.      k            Average k\n",
      "  =========   ========   ====================\n",
      "        1/1    1.19951\n",
      "        2/1    1.28735\n",
      "        3/1    1.19648\n",
      "        4/1    1.19589\n",
      "        5/1    1.14137\n",
      "        6/1    1.17839\n",
      "        7/1    1.31902\n",
      "        8/1    1.20568\n",
      "        9/1    1.13972\n",
      "       10/1    1.18974\n",
      "       11/1    1.18783\n",
      "       12/1    1.20750    1.19767 +/- 0.00983\n",
      "       13/1    1.10331    1.16621 +/- 0.03196\n",
      "       14/1    1.19336    1.17300 +/- 0.02360\n",
      "       15/1    1.11181    1.16076 +/- 0.02200\n",
      "       16/1    1.26773    1.17859 +/- 0.02531\n",
      "       17/1    1.20350    1.18215 +/- 0.02168\n",
      "       18/1    1.20615    1.18515 +/- 0.01902\n",
      "       19/1    1.22401    1.18947 +/- 0.01732\n",
      "       20/1    1.21330    1.19185 +/- 0.01567\n",
      "       21/1    1.17583    1.19039 +/- 0.01425\n",
      "       22/1    1.17191    1.18885 +/- 0.01310\n",
      "       23/1    1.20257    1.18991 +/- 0.01210\n",
      "       24/1    1.09932    1.18344 +/- 0.01293\n",
      "       25/1    1.17707    1.18301 +/- 0.01205\n",
      "       26/1    1.16813    1.18208 +/- 0.01131\n",
      "       27/1    1.25216    1.18621 +/- 0.01139\n",
      "       28/1    1.21956    1.18806 +/- 0.01090\n",
      "       29/1    1.17975    1.18762 +/- 0.01032\n",
      "       30/1    1.22495    1.18949 +/- 0.00997\n",
      "       31/1    1.14256    1.18725 +/- 0.00974\n",
      "       32/1    1.20596    1.18810 +/- 0.00933\n",
      "       33/1    1.20734    1.18894 +/- 0.00895\n",
      "       34/1    1.20072    1.18943 +/- 0.00858\n",
      "       35/1    1.29413    1.19362 +/- 0.00924\n",
      "       36/1    1.20676    1.19412 +/- 0.00889\n",
      "       37/1    1.17650    1.19347 +/- 0.00858\n",
      "       38/1    1.22245    1.19451 +/- 0.00833\n",
      "       39/1    1.21698    1.19528 +/- 0.00808\n",
      "       40/1    1.29746    1.19869 +/- 0.00851\n",
      "       41/1    1.18309    1.19818 +/- 0.00825\n",
      "       42/1    1.16117    1.19703 +/- 0.00807\n",
      "       43/1    1.15560    1.19577 +/- 0.00792\n",
      "       44/1    1.18828    1.19555 +/- 0.00769\n",
      "       45/1    1.16487    1.19468 +/- 0.00752\n",
      "       46/1    1.24095    1.19596 +/- 0.00742\n",
      "       47/1    1.23078    1.19690 +/- 0.00728\n",
      "       48/1    1.14873    1.19563 +/- 0.00719\n",
      "       49/1    1.22682    1.19643 +/- 0.00705\n",
      "       50/1    1.14511    1.19515 +/- 0.00699\n",
      "       51/1    1.28236    1.19728 +/- 0.00714\n",
      "       52/1    1.26014    1.19877 +/- 0.00713\n",
      "       53/1    1.22917    1.19948 +/- 0.00700\n",
      "       54/1    1.21556    1.19985 +/- 0.00685\n",
      "       55/1    1.17733    1.19935 +/- 0.00671\n",
      "       56/1    1.11623    1.19754 +/- 0.00681\n",
      "       57/1    1.21407    1.19789 +/- 0.00667\n",
      "       58/1    1.16220    1.19715 +/- 0.00657\n",
      "       59/1    1.21331    1.19748 +/- 0.00645\n",
      "       60/1    1.14569    1.19644 +/- 0.00640\n",
      "       61/1    1.19306    1.19637 +/- 0.00627\n",
      "       62/1    1.23927    1.19720 +/- 0.00621\n",
      "       63/1    1.18460    1.19696 +/- 0.00609\n",
      "       64/1    1.15043    1.19610 +/- 0.00604\n",
      "       65/1    1.25577    1.19719 +/- 0.00603\n",
      "       66/1    1.14740    1.19630 +/- 0.00599\n",
      "       67/1    1.21947    1.19670 +/- 0.00589\n",
      "       68/1    1.16761    1.19620 +/- 0.00581\n",
      "       69/1    1.19363    1.19616 +/- 0.00571\n",
      "       70/1    1.24909    1.19704 +/- 0.00569\n",
      "       71/1    1.20144    1.19711 +/- 0.00559\n",
      "       72/1    1.20879    1.19730 +/- 0.00551\n",
      "       73/1    1.23903    1.19796 +/- 0.00546\n",
      "       74/1    1.14930    1.19720 +/- 0.00543\n",
      "       75/1    1.23646    1.19781 +/- 0.00538\n",
      "       76/1    1.16545    1.19732 +/- 0.00532\n",
      "       77/1    1.15576    1.19670 +/- 0.00527\n",
      "       78/1    1.15633    1.19610 +/- 0.00523\n",
      "       79/1    1.22349    1.19650 +/- 0.00517\n",
      "       80/1    1.26856    1.19753 +/- 0.00520\n",
      "       81/1    1.18915    1.19741 +/- 0.00512\n",
      "       82/1    1.10253    1.19609 +/- 0.00522\n",
      "       83/1    1.27638    1.19719 +/- 0.00527\n",
      "       84/1    1.20546    1.19730 +/- 0.00520\n",
      "       85/1    1.26129    1.19816 +/- 0.00520\n",
      "       86/1    1.11187    1.19702 +/- 0.00525\n",
      "       87/1    1.27386    1.19802 +/- 0.00528\n",
      "       88/1    1.23185    1.19845 +/- 0.00523\n",
      "       89/1    1.22240    1.19876 +/- 0.00517\n",
      "       90/1    1.22435    1.19908 +/- 0.00512\n",
      "       91/1    1.21118    1.19923 +/- 0.00505\n",
      "       92/1    1.21249    1.19939 +/- 0.00499\n",
      "       93/1    1.20557    1.19946 +/- 0.00493\n",
      "       94/1    1.21079    1.19960 +/- 0.00488\n",
      "       95/1    1.21011    1.19972 +/- 0.00482\n",
      "       96/1    1.13268    1.19894 +/- 0.00483\n",
      "       97/1    1.27753    1.19984 +/- 0.00486\n",
      "       98/1    1.25222    1.20044 +/- 0.00484\n",
      "       99/1    1.17540    1.20016 +/- 0.00479\n",
      "      100/1    1.21053    1.20027 +/- 0.00474\n",
      " Creating state point statepoint.100.h5...\n",
      "\n",
      " =======================>     TIMING STATISTICS     <=======================\n",
      "\n",
      " Total time for initialization     = 1.1978e+00 seconds\n",
      "   Reading cross sections          = 1.1728e+00 seconds\n",
      " Total time in simulation          = 5.2382e-01 seconds\n",
      "   Time in transport only          = 4.6506e-01 seconds\n",
      "   Time in inactive batches        = 5.5175e-02 seconds\n",
      "   Time in active batches          = 4.6864e-01 seconds\n",
      "   Time synchronizing fission bank = 6.8258e-03 seconds\n",
      "     Sampling source sites         = 6.2597e-03 seconds\n",
      "     SEND/RECV source sites        = 4.9245e-04 seconds\n",
      "   Time accumulating tallies       = 4.0504e-02 seconds\n",
      "   Time writing statepoints        = 5.3099e-03 seconds\n",
      " Total time for finalization       = 1.0601e-04 seconds\n",
      " Total time elapsed                = 1.7318e+00 seconds\n",
      " Calculation Rate (inactive)       = 181241 particles/second\n",
      " Calculation Rate (active)         = 192044 particles/second\n",
      "\n",
      " ============================>     RESULTS     <============================\n",
      "\n",
      " k-effective (Collision)     = 1.20071 +/- 0.00414\n",
      " k-effective (Track-length)  = 1.20027 +/- 0.00474\n",
      " k-effective (Absorption)    = 1.19893 +/- 0.00384\n",
      " Combined k-effective        = 1.19957 +/- 0.00336\n",
      " Leakage Fraction            = 0.00000 +/- 0.00000\n",
      "\n"
     ]
    }
   ],
   "source": [
    "openmc.run()"
   ]
  },
  {
   "cell_type": "code",
   "execution_count": 39,
   "id": "f0c6307a-f7a7-479b-9f8c-c4d08a2c25f7",
   "metadata": {},
   "outputs": [
    {
     "name": "stdout",
     "output_type": "stream",
     "text": [
      " ============================>     TALLY 1     <============================\n",
      "\n",
      " Cell 2\n",
      "   U235\n",
      "     Total Reaction Rate                  0.617849 +/- 0.0023605\n",
      "     Fission Rate                         0.490038 +/- 0.00194753\n",
      "     Absorption Rate                      0.582379 +/- 0.00229311\n",
      "     (n,gamma)                            0.0923406 +/- 0.000355392\n"
     ]
    }
   ],
   "source": [
    "!cat tallies.out"
   ]
  },
  {
   "cell_type": "markdown",
   "id": "a2959a99-e2c7-4461-9d83-83d63d1f0bd8",
   "metadata": {},
   "source": [
    "## Plot Geometry"
   ]
  },
  {
   "cell_type": "code",
   "execution_count": 40,
   "id": "4719882c-6b7b-40b6-a75f-22f3a51b1a42",
   "metadata": {},
   "outputs": [],
   "source": [
    "plot = openmc.Plot()\n",
    "plot.filename = 'pinplot'\n",
    "plot.width = (pitch,pitch)\n",
    "plot.pixels = (200,200)\n",
    "plot.color_by = 'material'\n",
    "plot.colors = {fuel: 'yellow',hel_Cool: 'blue'}"
   ]
  },
  {
   "cell_type": "code",
   "execution_count": 41,
   "id": "cd861feb-9b0b-4b3e-987e-e2261440a24d",
   "metadata": {},
   "outputs": [
    {
     "name": "stdout",
     "output_type": "stream",
     "text": [
      "<?xml version='1.0' encoding='utf-8'?>\n",
      "<plots>\n",
      "  <plot basis=\"xy\" color_by=\"material\" filename=\"pinplot\" id=\"3\" type=\"slice\">\n",
      "    <origin>0.0 0.0 0.0</origin>\n",
      "    <width>2.0 2.0</width>\n",
      "    <pixels>200 200</pixels>\n",
      "    <color id=\"3\" rgb=\"255 255 0\" />\n",
      "    <color id=\"5\" rgb=\"0 0 255\" />\n",
      "  </plot>\n",
      "</plots>\n"
     ]
    }
   ],
   "source": [
    "plots = openmc.Plots([plot])\n",
    "plots.export_to_xml()\n",
    "!cat plots.xml"
   ]
  },
  {
   "cell_type": "code",
   "execution_count": 42,
   "id": "7ff35559-c104-4b52-8e07-48f9870a9977",
   "metadata": {},
   "outputs": [
    {
     "name": "stdout",
     "output_type": "stream",
     "text": [
      "                                %%%%%%%%%%%%%%%\n",
      "                           %%%%%%%%%%%%%%%%%%%%%%%%\n",
      "                        %%%%%%%%%%%%%%%%%%%%%%%%%%%%%%\n",
      "                      %%%%%%%%%%%%%%%%%%%%%%%%%%%%%%%%%%\n",
      "                    %%%%%%%%%%%%%%%%%%%%%%%%%%%%%%%%%%%%%%\n",
      "                   %%%%%%%%%%%%%%%%%%%%%%%%%%%%%%%%%%%%%%%%\n",
      "                                    %%%%%%%%%%%%%%%%%%%%%%%%\n",
      "                                     %%%%%%%%%%%%%%%%%%%%%%%%\n",
      "                 ###############      %%%%%%%%%%%%%%%%%%%%%%%%\n",
      "                ##################     %%%%%%%%%%%%%%%%%%%%%%%\n",
      "                ###################     %%%%%%%%%%%%%%%%%%%%%%%\n",
      "                ####################     %%%%%%%%%%%%%%%%%%%%%%\n",
      "                #####################     %%%%%%%%%%%%%%%%%%%%%\n",
      "                ######################     %%%%%%%%%%%%%%%%%%%%\n",
      "                #######################     %%%%%%%%%%%%%%%%%%\n",
      "                 #######################     %%%%%%%%%%%%%%%%%\n",
      "                 ######################     %%%%%%%%%%%%%%%%%\n",
      "                  ####################     %%%%%%%%%%%%%%%%%\n",
      "                    #################     %%%%%%%%%%%%%%%%%\n",
      "                     ###############     %%%%%%%%%%%%%%%%\n",
      "                       ############     %%%%%%%%%%%%%%%\n",
      "                          ########     %%%%%%%%%%%%%%\n",
      "                                      %%%%%%%%%%%\n",
      "\n",
      "                 | The OpenMC Monte Carlo Code\n",
      "       Copyright | 2011-2023 MIT, UChicago Argonne LLC, and contributors\n",
      "         License | https://docs.openmc.org/en/latest/license.html\n",
      "         Version | 0.13.3\n",
      "        Git SHA1 | 50e39a4e20dc9e0f3d7ccf07333f6a5e6c797c8c\n",
      "       Date/Time | 2023-10-20 10:47:02\n",
      "  OpenMP Threads | 24\n",
      "\n",
      " Reading settings XML file...\n",
      " Reading cross sections XML file...\n",
      " Reading materials XML file...\n",
      " Reading geometry XML file...\n",
      " Reading tallies XML file...\n",
      " Preparing distributed cell instances...\n",
      " Reading plot XML file...\n",
      "\n",
      " =======================>     PLOTTING SUMMARY     <========================\n",
      "\n",
      "Plot ID: 3\n",
      "Plot file: pinplot.png\n",
      "Universe depth: -1\n",
      "Plot Type: Slice\n",
      "Origin: 0 0 0\n",
      "Width:    2    2\n",
      "Coloring: Materials\n",
      "Basis: XY\n",
      "Pixels: 200 200\n",
      "\n",
      " Processing plot 3: pinplot.png...\n"
     ]
    }
   ],
   "source": [
    "openmc.plot_geometry()"
   ]
  },
  {
   "cell_type": "code",
   "execution_count": 43,
   "id": "cc793753-2d48-4b74-8b1a-714d1ad8e3fb",
   "metadata": {},
   "outputs": [
    {
     "data": {
      "image/png": "[encoded data removed]",
      "text/plain": [
       "<IPython.core.display.Image object>"
      ]
     },
     "execution_count": 43,
     "metadata": {},
     "output_type": "execute_result"
    }
   ],
   "source": [
    "from IPython.display import Image\n",
    "Image('pinplot.png')"
   ]
  },
  {
   "cell_type": "code",
   "execution_count": 44,
   "id": "46887c0f-2aa2-49fe-b907-fddbd9822d79",
   "metadata": {},
   "outputs": [
    {
     "data": {
      "image/png": "[encoded data removed]",
      "text/plain": [
       "<IPython.core.display.Image object>"
      ]
     },
     "execution_count": 44,
     "metadata": {},
     "output_type": "execute_result"
    }
   ],
   "source": [
    "plot.to_ipython_image()"
   ]
  }
 ],
 "metadata": {
  "kernelspec": {
   "display_name": "Python 3 (ipykernel)",
   "language": "python",
   "name": "python3"
  },
  "language_info": {
   "codemirror_mode": {
    "name": "ipython",
    "version": 3
   },
   "file_extension": ".py",
   "mimetype": "text/x-python",
   "name": "python",
   "nbconvert_exporter": "python",
   "pygments_lexer": "ipython3",
   "version": "3.11.5"
  }
 },
 "nbformat": 4,
 "nbformat_minor": 5
}
