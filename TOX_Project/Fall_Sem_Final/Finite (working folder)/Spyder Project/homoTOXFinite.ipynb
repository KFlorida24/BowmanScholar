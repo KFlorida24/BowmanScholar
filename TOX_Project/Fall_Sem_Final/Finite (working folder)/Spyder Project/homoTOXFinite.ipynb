{
 "cells": [
  {
   "cell_type": "markdown",
   "id": "43a8849d-a2c2-4462-8d49-d39b2a21eb56",
   "metadata": {},
   "source": [
    "# Florida UO2 ThO2 Mixture Criticality Calculator (Infinite Geometry)"
   ]
  },
  {
   "cell_type": "code",
   "execution_count": null,
   "id": "a4beb320-f690-4854-a18f-267558f01249",
   "metadata": {},
   "outputs": [],
   "source": [
    "%matplotlib inline\n",
    "import openmc\n",
    "import math\n",
    "import numpy as np\n",
    "import pandas as pd\n",
    "from pathlib import Path\n",
    "import homoTOXMaterialModuleInput as matMixMod\n",
    "import matplotlib.pyplot as plt"
   ]
  },
  {
   "cell_type": "markdown",
   "id": "f5e159a7-6107-473f-975a-d5590249ba85",
   "metadata": {},
   "source": [
    "# Run Material Mixture Function Module"
   ]
  },
  {
   "cell_type": "code",
   "execution_count": null,
   "id": "7f9dc2cb-c6b7-4ee6-a4cb-9da9e7dd0c27",
   "metadata": {},
   "outputs": [],
   "source": [
    "matMixOut = matMixMod.matMixFunInput()"
   ]
  }
 ],
 "metadata": {
  "kernelspec": {
   "display_name": "Python 3 (ipykernel)",
   "language": "python",
   "name": "python3"
  },
  "language_info": {
   "codemirror_mode": {
    "name": "ipython",
    "version": 3
   },
   "file_extension": ".py",
   "mimetype": "text/x-python",
   "name": "python",
   "nbconvert_exporter": "python",
   "pygments_lexer": "ipython3",
   "version": "3.11.5"
  }
 },
 "nbformat": 4,
 "nbformat_minor": 5
}
