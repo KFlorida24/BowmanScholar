{
 "cells": [
  {
   "cell_type": "markdown",
   "id": "712903de",
   "metadata": {},
   "source": [
    "# Cullinan Pincell Practice\n",
    "Code from OpenMC examples/modeling a pin-cell"
   ]
  },
  {
   "cell_type": "code",
   "execution_count": 48,
   "id": "963ab92e",
   "metadata": {},
   "outputs": [],
   "source": [
    "%matplotlib inline\n",
    "import openmc"
   ]
  },
  {
   "cell_type": "markdown",
   "id": "6a94725e",
   "metadata": {},
   "source": [
    "## Define Materials"
   ]
  },
  {
   "cell_type": "code",
   "execution_count": 49,
   "id": "75f59fe4",
   "metadata": {},
   "outputs": [
    {
     "name": "stdout",
     "output_type": "stream",
     "text": [
      "Material\n",
      "\tID             =\t1\n",
      "\tName           =\tuo2\n",
      "\tTemperature    =\tNone\n",
      "\tDensity        =\tNone [sum]\n",
      "\tVolume         =\tNone [cm^3]\n",
      "\tS(a,b) Tables  \n",
      "\tNuclides       \n",
      "\n"
     ]
    },
    {
     "name": "stderr",
     "output_type": "stream",
     "text": [
      "/home/karlflorida/anaconda3/envs/openmc-env/lib/python3.11/site-packages/openmc/mixin.py:70: IDWarning: Another Material instance already exists with id=1.\n",
      "  warn(msg, IDWarning)\n"
     ]
    }
   ],
   "source": [
    "uo2 = openmc.Material(1,'uo2')\n",
    "print(uo2)"
   ]
  },
  {
   "cell_type": "code",
   "execution_count": 50,
   "id": "344ef484",
   "metadata": {},
   "outputs": [
    {
     "name": "stdout",
     "output_type": "stream",
     "text": [
      "Material\n",
      "\tID             =\t8\n",
      "\tName           =\t\n",
      "\tTemperature    =\tNone\n",
      "\tDensity        =\tNone [sum]\n",
      "\tVolume         =\tNone [cm^3]\n",
      "\tS(a,b) Tables  \n",
      "\tNuclides       \n",
      "\n"
     ]
    }
   ],
   "source": [
    "mat = openmc.Material()\n",
    "print(mat)"
   ]
  },
  {
   "cell_type": "code",
   "execution_count": 51,
   "id": "c9803585",
   "metadata": {},
   "outputs": [
    {
     "name": "stdout",
     "output_type": "stream",
     "text": [
      "Help on method add_nuclide in module openmc.material:\n",
      "\n",
      "add_nuclide(nuclide: str, percent: float, percent_type: str = 'ao') method of openmc.material.Material instance\n",
      "    Add a nuclide to the material\n",
      "    \n",
      "    Parameters\n",
      "    ----------\n",
      "    nuclide : str\n",
      "        Nuclide to add, e.g., 'Mo95'\n",
      "    percent : float\n",
      "        Atom or weight percent\n",
      "    percent_type : {'ao', 'wo'}\n",
      "        'ao' for atom percent and 'wo' for weight percent\n",
      "\n"
     ]
    }
   ],
   "source": [
    "help(uo2.add_nuclide)"
   ]
  },
  {
   "cell_type": "code",
   "execution_count": 52,
   "id": "e13cd0af",
   "metadata": {},
   "outputs": [],
   "source": [
    "# add nuclides to uo2\n",
    "uo2.add_nuclide('U235', 0.03)\n",
    "uo2.add_nuclide('U238', 0.97)\n",
    "uo2.add_nuclide('O16', 2.0)"
   ]
  },
  {
   "cell_type": "code",
   "execution_count": 53,
   "id": "62505d04",
   "metadata": {},
   "outputs": [],
   "source": [
    "uo2.set_density('g/cm3', 10.0)"
   ]
  },
  {
   "cell_type": "code",
   "execution_count": 54,
   "id": "fa1292f9",
   "metadata": {},
   "outputs": [],
   "source": [
    "zirconium = openmc.Material(name='zirconium')\n",
    "zirconium.add_element('Zr', 1.0)\n",
    "zirconium.set_density('g/cm3', 6.6)\n",
    "\n",
    "water = openmc.Material(name='h2o')\n",
    "water.add_nuclide('H1', 2.0)\n",
    "water.add_nuclide('O16', 1.0)\n",
    "water.set_density('g/cm3', 1.0)"
   ]
  },
  {
   "cell_type": "code",
   "execution_count": 55,
   "id": "61702ccf",
   "metadata": {},
   "outputs": [],
   "source": [
    "water.add_s_alpha_beta('c_H_in_H2O')"
   ]
  },
  {
   "cell_type": "code",
   "execution_count": 56,
   "id": "fe871122",
   "metadata": {},
   "outputs": [],
   "source": [
    "materials = openmc.Materials([uo2, zirconium, water])"
   ]
  },
  {
   "cell_type": "code",
   "execution_count": 57,
   "id": "9d10775c",
   "metadata": {},
   "outputs": [
    {
     "data": {
      "text/plain": [
       "True"
      ]
     },
     "execution_count": 57,
     "metadata": {},
     "output_type": "execute_result"
    }
   ],
   "source": [
    "materials = openmc.Materials()\n",
    "materials.append(uo2)\n",
    "materials += [zirconium, water]\n",
    "isinstance(materials,list)"
   ]
  },
  {
   "cell_type": "markdown",
   "id": "ba8b2516",
   "metadata": {},
   "source": [
    "### Export Materials as XML"
   ]
  },
  {
   "cell_type": "code",
   "execution_count": 58,
   "id": "a66a383b",
   "metadata": {},
   "outputs": [
    {
     "name": "stdout",
     "output_type": "stream",
     "text": [
      "<?xml version='1.0' encoding='utf-8'?>\n",
      "<materials>\n",
      "  <material depletable=\"true\" id=\"1\" name=\"uo2\">\n",
      "    <density units=\"g/cm3\" value=\"10.0\" />\n",
      "    <nuclide ao=\"0.03\" name=\"U235\" />\n",
      "    <nuclide ao=\"0.97\" name=\"U238\" />\n",
      "    <nuclide ao=\"2.0\" name=\"O16\" />\n",
      "  </material>\n",
      "  <material id=\"9\" name=\"zirconium\">\n",
      "    <density units=\"g/cm3\" value=\"6.6\" />\n",
      "    <nuclide ao=\"0.5145\" name=\"Zr90\" />\n",
      "    <nuclide ao=\"0.1122\" name=\"Zr91\" />\n",
      "    <nuclide ao=\"0.1715\" name=\"Zr92\" />\n",
      "    <nuclide ao=\"0.1738\" name=\"Zr94\" />\n",
      "    <nuclide ao=\"0.028\" name=\"Zr96\" />\n",
      "  </material>\n",
      "  <material id=\"10\" name=\"h2o\">\n",
      "    <density units=\"g/cm3\" value=\"1.0\" />\n",
      "    <nuclide ao=\"2.0\" name=\"H1\" />\n",
      "    <nuclide ao=\"1.0\" name=\"O16\" />\n",
      "    <sab name=\"c_H_in_H2O\" />\n",
      "  </material>\n",
      "</materials>\n"
     ]
    }
   ],
   "source": [
    "materials.export_to_xml()\n",
    "!cat materials.xml"
   ]
  },
  {
   "cell_type": "code",
   "execution_count": 59,
   "id": "3c2ee06f",
   "metadata": {},
   "outputs": [
    {
     "name": "stdout",
     "output_type": "stream",
     "text": [
      "<?xml version='1.0' encoding='utf-8'?>\n",
      "<materials>\n",
      "  <material depletable=\"true\" id=\"1\" name=\"uo2\">\n",
      "    <density units=\"g/cm3\" value=\"10.0\" />\n",
      "    <nuclide ao=\"0.03\" name=\"U235\" />\n",
      "    <nuclide ao=\"0.97\" name=\"U238\" />\n",
      "    <nuclide ao=\"2.0\" name=\"O16\" />\n",
      "  </material>\n",
      "  <material id=\"9\" name=\"zirconium\">\n",
      "    <density units=\"g/cm3\" value=\"6.6\" />\n",
      "    <nuclide ao=\"0.5145\" name=\"Zr90\" />\n",
      "    <nuclide ao=\"0.1122\" name=\"Zr91\" />\n",
      "    <nuclide ao=\"0.1715\" name=\"Zr92\" />\n",
      "    <nuclide ao=\"0.1738\" name=\"Zr94\" />\n",
      "    <nuclide ao=\"0.028\" name=\"Zr96\" />\n",
      "  </material>\n",
      "  <material id=\"10\" name=\"h2o\">\n",
      "    <density units=\"g/cm3\" value=\"1.0\" />\n",
      "    <nuclide ao=\"2.0\" name=\"H1\" />\n",
      "    <nuclide ao=\"0.999621\" name=\"O16\" />\n",
      "    <nuclide ao=\"0.000379\" name=\"O17\" />\n",
      "    <sab name=\"c_H_in_H2O\" />\n",
      "  </material>\n",
      "</materials>\n"
     ]
    }
   ],
   "source": [
    "water.remove_nuclide('O16')\n",
    "water.add_element('O', 1.0)\n",
    "\n",
    "materials.export_to_xml()\n",
    "!cat materials.xml"
   ]
  },
  {
   "cell_type": "markdown",
   "id": "0c7d2dc3",
   "metadata": {},
   "source": [
    "## Cross Sections"
   ]
  },
  {
   "cell_type": "code",
   "execution_count": 60,
   "id": "30729389",
   "metadata": {},
   "outputs": [
    {
     "name": "stdout",
     "output_type": "stream",
     "text": [
      "<?xml version='1.0' encoding='utf-8'?>\n",
      "<cross_sections>\n",
      "  <library materials=\"H1\" path=\"neutron/H1.h5\" type=\"neutron\" />\n",
      "  <library materials=\"H2\" path=\"neutron/H2.h5\" type=\"neutron\" />\n",
      "  <library materials=\"H3\" path=\"neutron/H3.h5\" type=\"neutron\" />\n",
      "  <library materials=\"He3\" path=\"neutron/He3.h5\" type=\"neutron\" />\n",
      "  <library materials=\"He4\" path=\"neutron/He4.h5\" type=\"neutron\" />\n",
      "  <library materials=\"Li6\" path=\"neutron/Li6.h5\" type=\"neutron\" />\n",
      "  <library materials=\"Li7\" path=\"neutron/Li7.h5\" type=\"neutron\" />\n",
      "  <library materials=\"Be7\" path=\"neutron/Be7.h5\" type=\"neutron\" />\n",
      "    ...\n",
      "  <library materials=\"Cf253\" path=\"wmp/098253.h5\" type=\"wmp\" />\n",
      "  <library materials=\"Cf254\" path=\"wmp/098254.h5\" type=\"wmp\" />\n",
      "  <library materials=\"Es251\" path=\"wmp/099251.h5\" type=\"wmp\" />\n",
      "  <library materials=\"Es252\" path=\"wmp/099252.h5\" type=\"wmp\" />\n",
      "  <library materials=\"Es253\" path=\"wmp/099253.h5\" type=\"wmp\" />\n",
      "  <library materials=\"Es254\" path=\"wmp/099254.h5\" type=\"wmp\" />\n",
      "  <library materials=\"Es254_m1\" path=\"wmp/099254m1.h5\" type=\"wmp\" />\n",
      "  <library materials=\"Es255\" path=\"wmp/099255.h5\" type=\"wmp\" />\n",
      "  <library materials=\"Fm255\" path=\"wmp/100255.h5\" type=\"wmp\" />\n",
      "</cross_sections>\n"
     ]
    }
   ],
   "source": [
    "!cat $OPENMC_CROSS_SECTIONS | head -n 10\n",
    "print('    ...')\n",
    "!cat $OPENMC_CROSS_SECTIONS | tail -n 10"
   ]
  },
  {
   "cell_type": "markdown",
   "id": "706a1010",
   "metadata": {},
   "source": [
    "### Enrichment"
   ]
  },
  {
   "cell_type": "code",
   "execution_count": 61,
   "id": "40918f99",
   "metadata": {},
   "outputs": [],
   "source": [
    "uo2_three = openmc.Material()\n",
    "uo2_three.add_element('U',1.0, enrichment=3.0)\n",
    "uo2_three.add_element('O', 2.0)\n",
    "uo2_three.set_density('g/cc', 10.0)"
   ]
  },
  {
   "cell_type": "markdown",
   "id": "be9ea44e",
   "metadata": {},
   "source": [
    "### Mixtures"
   ]
  },
  {
   "cell_type": "code",
   "execution_count": 62,
   "id": "b8be147c",
   "metadata": {},
   "outputs": [],
   "source": [
    "# create PuO2 material\n",
    "puo2 = openmc.Material()\n",
    "puo2.add_nuclide('Pu239', 0.94)\n",
    "puo2.add_nuclide('Pu240', 0.06)\n",
    "puo2.add_nuclide('O16', 2.0)\n",
    "puo2.set_density('g/cm3', 11.5)\n",
    "\n",
    "# create the mixture\n",
    "mox = openmc.Material.mix_materials([uo2, puo2], [0.97, 0.03], 'wo')"
   ]
  },
  {
   "cell_type": "markdown",
   "id": "da11f838",
   "metadata": {},
   "source": [
    "## Define Geometry"
   ]
  },
  {
   "cell_type": "code",
   "execution_count": 63,
   "id": "4fdc33bf",
   "metadata": {},
   "outputs": [],
   "source": [
    "sphere = openmc.Sphere(r=1.0)"
   ]
  },
  {
   "cell_type": "code",
   "execution_count": 64,
   "id": "90fd8dcd",
   "metadata": {},
   "outputs": [],
   "source": [
    "inside_sphere = -sphere\n",
    "outside_sphere = +sphere"
   ]
  },
  {
   "cell_type": "code",
   "execution_count": 65,
   "id": "dbe02103",
   "metadata": {},
   "outputs": [
    {
     "name": "stdout",
     "output_type": "stream",
     "text": [
      "True False\n",
      "False True\n"
     ]
    }
   ],
   "source": [
    "print((0,0,0) in inside_sphere, (0,0,2) in inside_sphere)\n",
    "print((0,0,0) in outside_sphere, (0,0,2) in outside_sphere)"
   ]
  },
  {
   "cell_type": "code",
   "execution_count": 66,
   "id": "dad47e96",
   "metadata": {},
   "outputs": [],
   "source": [
    "z_plane = openmc.ZPlane(0)\n",
    "northern_hemi = -sphere & +z_plane"
   ]
  },
  {
   "cell_type": "code",
   "execution_count": 67,
   "id": "0eccefef",
   "metadata": {},
   "outputs": [
    {
     "data": {
      "text/plain": [
       "(array([-1., -1.,  0.]), array([1., 1., 1.]))"
      ]
     },
     "execution_count": 67,
     "metadata": {},
     "output_type": "execute_result"
    }
   ],
   "source": [
    "northern_hemi.bounding_box"
   ]
  },
  {
   "cell_type": "code",
   "execution_count": 68,
   "id": "3e03b4b6",
   "metadata": {},
   "outputs": [],
   "source": [
    "cell = openmc.Cell()\n",
    "cell.region = northern_hemi"
   ]
  },
  {
   "cell_type": "code",
   "execution_count": 69,
   "id": "3e30d05e",
   "metadata": {},
   "outputs": [],
   "source": [
    "cell.fill = water"
   ]
  },
  {
   "cell_type": "markdown",
   "id": "b00f19d9",
   "metadata": {},
   "source": [
    "## Create Universe"
   ]
  },
  {
   "cell_type": "code",
   "execution_count": 70,
   "id": "551ec3a9",
   "metadata": {},
   "outputs": [],
   "source": [
    "universe = openmc.Universe()\n",
    "universe.add_cell(cell)"
   ]
  },
  {
   "cell_type": "code",
   "execution_count": 71,
   "id": "f72e1c3f",
   "metadata": {},
   "outputs": [
    {
     "data": {
      "text/plain": [
       "<matplotlib.image.AxesImage at 0x7f57249168d0>"
      ]
     },
     "execution_count": 71,
     "metadata": {},
     "output_type": "execute_result"
    },
    {
     "data": {
      "image/png": "[encoded data removed]",
      "text/plain": [
       "<Figure size 258.065x259.74 with 1 Axes>"
      ]
     },
     "metadata": {},
     "output_type": "display_data"
    }
   ],
   "source": [
    "universe.plot(width=(2.0, 2.0))"
   ]
  },
  {
   "cell_type": "code",
   "execution_count": 72,
   "id": "66545799",
   "metadata": {},
   "outputs": [
    {
     "data": {
      "text/plain": [
       "<matplotlib.image.AxesImage at 0x7f572c647790>"
      ]
     },
     "execution_count": 72,
     "metadata": {},
     "output_type": "execute_result"
    },
    {
     "data": {
      "image/png": "[encoded data removed]",
      "text/plain": [
       "<Figure size 258.065x259.74 with 1 Axes>"
      ]
     },
     "metadata": {},
     "output_type": "display_data"
    }
   ],
   "source": [
    "universe.plot(width=(2.0, 2.0), basis = 'xz')"
   ]
  },
  {
   "cell_type": "code",
   "execution_count": 73,
   "id": "b1d83297",
   "metadata": {},
   "outputs": [
    {
     "data": {
      "text/plain": [
       "<matplotlib.image.AxesImage at 0x7f572c69d110>"
      ]
     },
     "execution_count": 73,
     "metadata": {},
     "output_type": "execute_result"
    },
    {
     "data": {
      "image/png": "[encoded data removed]",
      "text/plain": [
       "<Figure size 258.065x259.74 with 1 Axes>"
      ]
     },
     "metadata": {},
     "output_type": "display_data"
    }
   ],
   "source": [
    "universe.plot(width=(2.0, 2.0), basis='xz', colors={cell: 'fuchsia'})"
   ]
  },
  {
   "cell_type": "markdown",
   "id": "fdc8c539",
   "metadata": {},
   "source": [
    "## Pincell Geometry"
   ]
  },
  {
   "cell_type": "code",
   "execution_count": 74,
   "id": "fac3d174",
   "metadata": {},
   "outputs": [],
   "source": [
    "fuel_outer_rad = openmc.ZCylinder(r=0.39)\n",
    "clad_inner_rad = openmc.ZCylinder(r=0.40)\n",
    "clad_outer_rad = openmc.ZCylinder(r=0.46)"
   ]
  },
  {
   "cell_type": "code",
   "execution_count": 75,
   "id": "8fee3418",
   "metadata": {},
   "outputs": [],
   "source": [
    "fuel_region = -fuel_outer_rad\n",
    "gap_region = +fuel_outer_rad & -clad_inner_rad\n",
    "clad_region = +clad_inner_rad & -clad_outer_rad"
   ]
  },
  {
   "cell_type": "code",
   "execution_count": 76,
   "id": "fe6d1e70",
   "metadata": {},
   "outputs": [],
   "source": [
    "fuel = openmc.Cell(name='fuel')\n",
    "fuel.fill = uo2\n",
    "fuel.region = fuel_region\n",
    "\n",
    "gap = openmc.Cell(name='air gap')\n",
    "gap.region = gap_region\n",
    "\n",
    "clad = openmc.Cell(name='clad')\n",
    "clad.fill = zirconium\n",
    "clad.region = clad_region"
   ]
  },
  {
   "cell_type": "code",
   "execution_count": 77,
   "id": "2443900f",
   "metadata": {},
   "outputs": [],
   "source": [
    "pitch = 1.26\n",
    "left = openmc.XPlane(-pitch/2, boundary_type='reflective')\n",
    "right = openmc.XPlane(pitch/2, boundary_type='reflective')\n",
    "bottom = openmc.YPlane(-pitch/2, boundary_type='reflective')\n",
    "top = openmc.YPlane(pitch/2, boundary_type='reflective')"
   ]
  },
  {
   "cell_type": "code",
   "execution_count": 78,
   "id": "9511ae44",
   "metadata": {},
   "outputs": [],
   "source": [
    "water_region = +left & -right & +bottom & - top & + clad_outer_rad\n",
    "\n",
    "moderator = openmc.Cell(name='moderator')\n",
    "moderator.fill = water\n",
    "moderator.region = water_region"
   ]
  },
  {
   "cell_type": "code",
   "execution_count": 79,
   "id": "08b7ed01",
   "metadata": {},
   "outputs": [
    {
     "data": {
      "text/plain": [
       "openmc.region.Intersection"
      ]
     },
     "execution_count": 79,
     "metadata": {},
     "output_type": "execute_result"
    }
   ],
   "source": [
    "box = openmc.rectangular_prism(width=pitch, height=pitch, boundary_type='reflective')\n",
    "type(box)"
   ]
  },
  {
   "cell_type": "code",
   "execution_count": 80,
   "id": "1a3bb37f",
   "metadata": {},
   "outputs": [],
   "source": [
    "water_region = box & +clad_outer_rad"
   ]
  },
  {
   "cell_type": "code",
   "execution_count": 81,
   "id": "7c8a8243",
   "metadata": {},
   "outputs": [
    {
     "name": "stdout",
     "output_type": "stream",
     "text": [
      "<?xml version='1.0' encoding='utf-8'?>\n",
      "<geometry>\n",
      "  <cell id=\"7\" material=\"1\" name=\"fuel\" region=\"-16\" universe=\"4\" />\n",
      "  <cell id=\"8\" material=\"void\" name=\"air gap\" region=\"16 -17\" universe=\"4\" />\n",
      "  <cell id=\"9\" material=\"9\" name=\"clad\" region=\"17 -18\" universe=\"4\" />\n",
      "  <cell id=\"10\" material=\"10\" name=\"moderator\" region=\"19 -20 21 -22 18\" universe=\"4\" />\n",
      "  <surface coeffs=\"0.0 0.0 0.39\" id=\"16\" type=\"z-cylinder\" />\n",
      "  <surface coeffs=\"0.0 0.0 0.4\" id=\"17\" type=\"z-cylinder\" />\n",
      "  <surface coeffs=\"0.0 0.0 0.46\" id=\"18\" type=\"z-cylinder\" />\n",
      "  <surface boundary=\"reflective\" coeffs=\"-0.63\" id=\"19\" type=\"x-plane\" />\n",
      "  <surface boundary=\"reflective\" coeffs=\"0.63\" id=\"20\" type=\"x-plane\" />\n",
      "  <surface boundary=\"reflective\" coeffs=\"-0.63\" id=\"21\" type=\"y-plane\" />\n",
      "  <surface boundary=\"reflective\" coeffs=\"0.63\" id=\"22\" type=\"y-plane\" />\n",
      "</geometry>\n"
     ]
    }
   ],
   "source": [
    "root_universe = openmc.Universe(cells=(fuel, gap, clad, moderator))\n",
    "\n",
    "geometry = openmc.Geometry()\n",
    "geometry.root_universe = root_universe\n",
    "geometry.export_to_xml()\n",
    "!cat geometry.xml"
   ]
  },
  {
   "cell_type": "markdown",
   "id": "3e34656b",
   "metadata": {},
   "source": [
    "## Source definition"
   ]
  },
  {
   "cell_type": "code",
   "execution_count": 82,
   "id": "470c0dcf",
   "metadata": {},
   "outputs": [],
   "source": [
    "# create a point source\n",
    "point = openmc.stats.Point((0,0,0))\n",
    "source = openmc.Source(space=point)\n"
   ]
  },
  {
   "cell_type": "code",
   "execution_count": 83,
   "id": "ceaaca46",
   "metadata": {},
   "outputs": [],
   "source": [
    "settings = openmc.Settings()\n",
    "settings.source = source\n",
    "settings.batches = 100\n",
    "settings.inactive = 10\n",
    "settings.particles = 1000"
   ]
  },
  {
   "cell_type": "code",
   "execution_count": 84,
   "id": "4dadabf6",
   "metadata": {},
   "outputs": [
    {
     "name": "stdout",
     "output_type": "stream",
     "text": [
      "<?xml version='1.0' encoding='utf-8'?>\n",
      "<settings>\n",
      "  <run_mode>eigenvalue</run_mode>\n",
      "  <particles>1000</particles>\n",
      "  <batches>100</batches>\n",
      "  <inactive>10</inactive>\n",
      "  <source strength=\"1.0\">\n",
      "    <space type=\"point\">\n",
      "      <parameters>0 0 0</parameters>\n",
      "    </space>\n",
      "  </source>\n",
      "</settings>\n"
     ]
    }
   ],
   "source": [
    "settings.export_to_xml()\n",
    "!cat settings.xml"
   ]
  },
  {
   "cell_type": "markdown",
   "id": "b4af30d4",
   "metadata": {},
   "source": [
    "## tallies\n"
   ]
  },
  {
   "cell_type": "code",
   "execution_count": 85,
   "id": "dff66b67",
   "metadata": {},
   "outputs": [
    {
     "name": "stderr",
     "output_type": "stream",
     "text": [
      "/home/karlflorida/anaconda3/envs/openmc-env/lib/python3.11/site-packages/openmc/mixin.py:70: IDWarning: Another Tally instance already exists with id=1.\n",
      "  warn(msg, IDWarning)\n"
     ]
    }
   ],
   "source": [
    "cell_filter = openmc.CellFilter(fuel)\n",
    "\n",
    "tally = openmc.Tally(1)\n",
    "tally.filters = [cell_filter]"
   ]
  },
  {
   "cell_type": "code",
   "execution_count": 86,
   "id": "68c57f4a",
   "metadata": {},
   "outputs": [],
   "source": [
    "tally.nuclides = ['U235']\n",
    "tally.scores = ['total','fission','absorption','(n,gamma)']"
   ]
  },
  {
   "cell_type": "code",
   "execution_count": 87,
   "id": "78d75e0a",
   "metadata": {},
   "outputs": [
    {
     "name": "stdout",
     "output_type": "stream",
     "text": [
      "<?xml version='1.0' encoding='utf-8'?>\n",
      "<tallies>\n",
      "  <filter id=\"2\" type=\"cell\">\n",
      "    <bins>7</bins>\n",
      "  </filter>\n",
      "  <tally id=\"1\">\n",
      "    <filters>2</filters>\n",
      "    <nuclides>U235</nuclides>\n",
      "    <scores>total fission absorption (n,gamma)</scores>\n",
      "  </tally>\n",
      "</tallies>\n"
     ]
    }
   ],
   "source": [
    "tallies = openmc.Tallies([tally])\n",
    "tallies.export_to_xml()\n",
    "!cat tallies.xml"
   ]
  },
  {
   "cell_type": "code",
   "execution_count": 88,
   "id": "5984386b",
   "metadata": {},
   "outputs": [
    {
     "name": "stdout",
     "output_type": "stream",
     "text": [
      "                                %%%%%%%%%%%%%%%\n",
      "                           %%%%%%%%%%%%%%%%%%%%%%%%\n",
      "                        %%%%%%%%%%%%%%%%%%%%%%%%%%%%%%\n",
      "                      %%%%%%%%%%%%%%%%%%%%%%%%%%%%%%%%%%\n",
      "                    %%%%%%%%%%%%%%%%%%%%%%%%%%%%%%%%%%%%%%\n",
      "                   %%%%%%%%%%%%%%%%%%%%%%%%%%%%%%%%%%%%%%%%\n",
      "                                    %%%%%%%%%%%%%%%%%%%%%%%%\n",
      "                                     %%%%%%%%%%%%%%%%%%%%%%%%\n",
      "                 ###############      %%%%%%%%%%%%%%%%%%%%%%%%\n",
      "                ##################     %%%%%%%%%%%%%%%%%%%%%%%\n",
      "                ###################     %%%%%%%%%%%%%%%%%%%%%%%\n",
      "                ####################     %%%%%%%%%%%%%%%%%%%%%%\n",
      "                #####################     %%%%%%%%%%%%%%%%%%%%%\n",
      "                ######################     %%%%%%%%%%%%%%%%%%%%\n",
      "                #######################     %%%%%%%%%%%%%%%%%%\n",
      "                 #######################     %%%%%%%%%%%%%%%%%\n",
      "                 ######################     %%%%%%%%%%%%%%%%%\n",
      "                  ####################     %%%%%%%%%%%%%%%%%\n",
      "                    #################     %%%%%%%%%%%%%%%%%\n",
      "                     ###############     %%%%%%%%%%%%%%%%\n",
      "                       ############     %%%%%%%%%%%%%%%\n",
      "                          ########     %%%%%%%%%%%%%%\n",
      "                                      %%%%%%%%%%%\n",
      "\n",
      "                 | The OpenMC Monte Carlo Code\n",
      "       Copyright | 2011-2023 MIT, UChicago Argonne LLC, and contributors\n",
      "         License | https://docs.openmc.org/en/latest/license.html\n",
      "         Version | 0.13.3\n",
      "        Git SHA1 | 50e39a4e20dc9e0f3d7ccf07333f6a5e6c797c8c\n",
      "       Date/Time | 2023-10-16 08:36:39\n",
      "  OpenMP Threads | 24\n",
      "\n",
      " Reading settings XML file...\n",
      " Reading cross sections XML file...\n",
      " Reading materials XML file...\n",
      " Reading geometry XML file...\n",
      " Reading U235 from\n",
      " /home/karlflorida/openmc/openmc/data/endfb71/endfb-vii.1-hdf5/neutron/U235.h5\n",
      " Reading U238 from\n",
      " /home/karlflorida/openmc/openmc/data/endfb71/endfb-vii.1-hdf5/neutron/U238.h5\n",
      " Reading O16 from\n",
      " /home/karlflorida/openmc/openmc/data/endfb71/endfb-vii.1-hdf5/neutron/O16.h5\n",
      " Reading Zr90 from\n",
      " /home/karlflorida/openmc/openmc/data/endfb71/endfb-vii.1-hdf5/neutron/Zr90.h5\n",
      " Reading Zr91 from\n",
      " /home/karlflorida/openmc/openmc/data/endfb71/endfb-vii.1-hdf5/neutron/Zr91.h5\n",
      " Reading Zr92 from\n",
      " /home/karlflorida/openmc/openmc/data/endfb71/endfb-vii.1-hdf5/neutron/Zr92.h5\n",
      " Reading Zr94 from\n",
      " /home/karlflorida/openmc/openmc/data/endfb71/endfb-vii.1-hdf5/neutron/Zr94.h5\n",
      " Reading Zr96 from\n",
      " /home/karlflorida/openmc/openmc/data/endfb71/endfb-vii.1-hdf5/neutron/Zr96.h5\n",
      " Reading H1 from\n",
      " /home/karlflorida/openmc/openmc/data/endfb71/endfb-vii.1-hdf5/neutron/H1.h5\n",
      " Reading O17 from\n",
      " /home/karlflorida/openmc/openmc/data/endfb71/endfb-vii.1-hdf5/neutron/O17.h5\n",
      " Reading c_H_in_H2O from\n",
      " /home/karlflorida/openmc/openmc/data/endfb71/endfb-vii.1-hdf5/neutron/c_H_in_H2O\n",
      " .h5\n",
      " Minimum neutron data temperature: 294 K\n",
      " Maximum neutron data temperature: 294 K\n",
      " Reading tallies XML file...\n",
      " Preparing distributed cell instances...\n",
      " Reading plot XML file...\n",
      " WARNING: Could not find material 4 specified in plot 4\n",
      " Writing summary.h5 file...\n",
      " Maximum neutron transport energy: 20000000 eV for U235\n",
      " Initializing source particles...\n",
      "\n",
      " ====================>     K EIGENVALUE SIMULATION     <====================\n",
      "\n",
      "  Bat./Gen.      k            Average k\n",
      "  =========   ========   ====================\n",
      "        1/1    1.28557\n",
      "        2/1    1.38359\n",
      "        3/1    1.48194\n",
      "        4/1    1.40839\n",
      "        5/1    1.37203\n",
      "        6/1    1.33970\n",
      "        7/1    1.37205\n",
      "        8/1    1.45109\n",
      "        9/1    1.37783\n",
      "       10/1    1.46673\n",
      "       11/1    1.52568\n",
      "       12/1    1.37672    1.45120 +/- 0.07448\n",
      "       13/1    1.38581    1.42940 +/- 0.04821\n",
      "       14/1    1.49500    1.44580 +/- 0.03783\n",
      "       15/1    1.40609    1.43786 +/- 0.03036\n",
      "       16/1    1.43634    1.43761 +/- 0.02479\n",
      "       17/1    1.42657    1.43603 +/- 0.02101\n",
      "       18/1    1.40295    1.43189 +/- 0.01866\n",
      "       19/1    1.38747    1.42696 +/- 0.01718\n",
      "       20/1    1.45606    1.42987 +/- 0.01564\n",
      "       21/1    1.44217    1.43099 +/- 0.01419\n",
      "       22/1    1.34756    1.42403 +/- 0.01470\n",
      "       23/1    1.45044    1.42607 +/- 0.01368\n",
      "       24/1    1.42312    1.42586 +/- 0.01266\n",
      "       25/1    1.35431    1.42109 +/- 0.01272\n",
      "       26/1    1.47158    1.42424 +/- 0.01231\n",
      "       27/1    1.47644    1.42731 +/- 0.01196\n",
      "       28/1    1.39710    1.42563 +/- 0.01140\n",
      "       29/1    1.38797    1.42365 +/- 0.01097\n",
      "       30/1    1.31943    1.41844 +/- 0.01164\n",
      "       31/1    1.40510    1.41781 +/- 0.01109\n",
      "       32/1    1.43802    1.41872 +/- 0.01061\n",
      "       33/1    1.40772    1.41825 +/- 0.01015\n",
      "       34/1    1.47134    1.42046 +/- 0.00997\n",
      "       35/1    1.41965    1.42043 +/- 0.00956\n",
      "       36/1    1.43528    1.42100 +/- 0.00920\n",
      "       37/1    1.35916    1.41871 +/- 0.00915\n",
      "       38/1    1.42786    1.41903 +/- 0.00882\n",
      "       39/1    1.45798    1.42038 +/- 0.00861\n",
      "       40/1    1.42270    1.42045 +/- 0.00832\n",
      "       41/1    1.39198    1.41954 +/- 0.00810\n",
      "       42/1    1.33778    1.41698 +/- 0.00825\n",
      "       43/1    1.36200    1.41531 +/- 0.00817\n",
      "       44/1    1.46280    1.41671 +/- 0.00805\n",
      "       45/1    1.41079    1.41654 +/- 0.00782\n",
      "       46/1    1.37309    1.41533 +/- 0.00769\n",
      "       47/1    1.37847    1.41434 +/- 0.00755\n",
      "       48/1    1.43647    1.41492 +/- 0.00737\n",
      "       49/1    1.40105    1.41457 +/- 0.00718\n",
      "       50/1    1.47056    1.41596 +/- 0.00714\n",
      "       51/1    1.37575    1.41498 +/- 0.00703\n",
      "       52/1    1.30226    1.41230 +/- 0.00737\n",
      "       53/1    1.40047    1.41202 +/- 0.00720\n",
      "       54/1    1.41567    1.41211 +/- 0.00704\n",
      "       55/1    1.36080    1.41097 +/- 0.00697\n",
      "       56/1    1.30720    1.40871 +/- 0.00718\n",
      "       57/1    1.42748    1.40911 +/- 0.00704\n",
      "       58/1    1.41771    1.40929 +/- 0.00689\n",
      "       59/1    1.41302    1.40937 +/- 0.00675\n",
      "       60/1    1.38383    1.40886 +/- 0.00664\n",
      "       61/1    1.36375    1.40797 +/- 0.00656\n",
      "       62/1    1.46998    1.40916 +/- 0.00655\n",
      "       63/1    1.31717    1.40743 +/- 0.00665\n",
      "       64/1    1.51015    1.40933 +/- 0.00680\n",
      "       65/1    1.45785    1.41021 +/- 0.00673\n",
      "       66/1    1.33934    1.40895 +/- 0.00673\n",
      "       67/1    1.42775    1.40928 +/- 0.00662\n",
      "       68/1    1.49282    1.41072 +/- 0.00666\n",
      "       69/1    1.40839    1.41068 +/- 0.00655\n",
      "       70/1    1.36334    1.40989 +/- 0.00649\n",
      "       71/1    1.43189    1.41025 +/- 0.00639\n",
      "       72/1    1.31092    1.40865 +/- 0.00649\n",
      "       73/1    1.46905    1.40961 +/- 0.00645\n",
      "       74/1    1.41292    1.40966 +/- 0.00635\n",
      "       75/1    1.42371    1.40987 +/- 0.00626\n",
      "       76/1    1.49648    1.41119 +/- 0.00630\n",
      "       77/1    1.40637    1.41111 +/- 0.00621\n",
      "       78/1    1.42193    1.41127 +/- 0.00612\n",
      "       79/1    1.31114    1.40982 +/- 0.00620\n",
      "       80/1    1.41708    1.40993 +/- 0.00611\n",
      "       81/1    1.44762    1.41046 +/- 0.00605\n",
      "       82/1    1.41609    1.41053 +/- 0.00596\n",
      "       83/1    1.38157    1.41014 +/- 0.00589\n",
      "       84/1    1.36953    1.40959 +/- 0.00584\n",
      "       85/1    1.35013    1.40880 +/- 0.00582\n",
      "       86/1    1.32609    1.40771 +/- 0.00584\n",
      "       87/1    1.44441    1.40818 +/- 0.00579\n",
      "       88/1    1.41810    1.40831 +/- 0.00571\n",
      "       89/1    1.50221    1.40950 +/- 0.00576\n",
      "       90/1    1.46712    1.41022 +/- 0.00574\n",
      "       91/1    1.43446    1.41052 +/- 0.00567\n",
      "       92/1    1.32988    1.40954 +/- 0.00569\n",
      "       93/1    1.36095    1.40895 +/- 0.00565\n",
      "       94/1    1.35957    1.40836 +/- 0.00561\n",
      "       95/1    1.47970    1.40920 +/- 0.00561\n",
      "       96/1    1.51796    1.41047 +/- 0.00569\n",
      "       97/1    1.41885    1.41056 +/- 0.00562\n",
      "       98/1    1.37193    1.41012 +/- 0.00557\n",
      "       99/1    1.50970    1.41124 +/- 0.00562\n",
      "      100/1    1.34660    1.41052 +/- 0.00561\n",
      " Creating state point statepoint.100.h5...\n",
      "\n",
      " =======================>     TIMING STATISTICS     <=======================\n",
      "\n",
      " Total time for initialization     = 4.4542e-01 seconds\n",
      "   Reading cross sections          = 4.3032e-01 seconds\n",
      " Total time in simulation          = 4.9481e-01 seconds\n",
      "   Time in transport only          = 4.3953e-01 seconds\n",
      "   Time in inactive batches        = 4.2333e-02 seconds\n",
      "   Time in active batches          = 4.5248e-01 seconds\n",
      "   Time synchronizing fission bank = 4.8777e-03 seconds\n",
      "     Sampling source sites         = 4.3905e-03 seconds\n",
      "     SEND/RECV source sites        = 4.1385e-04 seconds\n",
      "   Time accumulating tallies       = 4.0758e-02 seconds\n",
      "   Time writing statepoints        = 2.2972e-03 seconds\n",
      " Total time for finalization       = 1.3277e-04 seconds\n",
      " Total time elapsed                = 9.5093e-01 seconds\n",
      " Calculation Rate (inactive)       = 236222 particles/second\n",
      " Calculation Rate (active)         = 198904 particles/second\n",
      "\n",
      " ============================>     RESULTS     <============================\n",
      "\n",
      " k-effective (Collision)     = 1.40544 +/- 0.00441\n",
      " k-effective (Track-length)  = 1.41052 +/- 0.00561\n",
      " k-effective (Absorption)    = 1.40031 +/- 0.00358\n",
      " Combined k-effective        = 1.40253 +/- 0.00322\n",
      " Leakage Fraction            = 0.00000 +/- 0.00000\n",
      "\n"
     ]
    }
   ],
   "source": [
    "openmc.run()"
   ]
  },
  {
   "cell_type": "code",
   "execution_count": 89,
   "id": "457dae19",
   "metadata": {},
   "outputs": [
    {
     "name": "stdout",
     "output_type": "stream",
     "text": [
      " ============================>     TALLY 1     <============================\n",
      "\n",
      " Cell 7\n",
      "   U235\n",
      "     Total Reaction Rate                  0.735496 +/- 0.00278567\n",
      "     Fission Rate                         0.551656 +/- 0.00229309\n",
      "     Absorption Rate                      0.662046 +/- 0.00270151\n",
      "     (n,gamma)                            0.11039 +/- 0.000422238\n"
     ]
    }
   ],
   "source": [
    "!cat tallies.out"
   ]
  },
  {
   "cell_type": "markdown",
   "id": "f72cee6d",
   "metadata": {},
   "source": [
    "## Plot Geometry"
   ]
  },
  {
   "cell_type": "code",
   "execution_count": 90,
   "id": "d8f1d94a",
   "metadata": {},
   "outputs": [],
   "source": [
    "plot = openmc.Plot()\n",
    "plot.filename = 'pinplot'\n",
    "plot.width = (pitch,pitch)\n",
    "plot.pixels = (200,200)\n",
    "plot.color_by = 'material'\n",
    "plot.colors = {uo2: 'yellow',water: 'blue'}"
   ]
  },
  {
   "cell_type": "code",
   "execution_count": 91,
   "id": "26a1c6de",
   "metadata": {},
   "outputs": [
    {
     "name": "stdout",
     "output_type": "stream",
     "text": [
      "<?xml version='1.0' encoding='utf-8'?>\n",
      "<plots>\n",
      "  <plot basis=\"xy\" color_by=\"material\" filename=\"pinplot\" id=\"8\" type=\"slice\">\n",
      "    <origin>0.0 0.0 0.0</origin>\n",
      "    <width>1.26 1.26</width>\n",
      "    <pixels>200 200</pixels>\n",
      "    <color id=\"1\" rgb=\"255 255 0\" />\n",
      "    <color id=\"10\" rgb=\"0 0 255\" />\n",
      "  </plot>\n",
      "</plots>\n"
     ]
    }
   ],
   "source": [
    "plots = openmc.Plots([plot])\n",
    "plots.export_to_xml()\n",
    "!cat plots.xml"
   ]
  },
  {
   "cell_type": "code",
   "execution_count": 92,
   "id": "42bbdb6b",
   "metadata": {},
   "outputs": [
    {
     "name": "stdout",
     "output_type": "stream",
     "text": [
      "                                %%%%%%%%%%%%%%%\n",
      "                           %%%%%%%%%%%%%%%%%%%%%%%%\n",
      "                        %%%%%%%%%%%%%%%%%%%%%%%%%%%%%%\n",
      "                      %%%%%%%%%%%%%%%%%%%%%%%%%%%%%%%%%%\n",
      "                    %%%%%%%%%%%%%%%%%%%%%%%%%%%%%%%%%%%%%%\n",
      "                   %%%%%%%%%%%%%%%%%%%%%%%%%%%%%%%%%%%%%%%%\n",
      "                                    %%%%%%%%%%%%%%%%%%%%%%%%\n",
      "                                     %%%%%%%%%%%%%%%%%%%%%%%%\n",
      "                 ###############      %%%%%%%%%%%%%%%%%%%%%%%%\n",
      "                ##################     %%%%%%%%%%%%%%%%%%%%%%%\n",
      "                ###################     %%%%%%%%%%%%%%%%%%%%%%%\n",
      "                ####################     %%%%%%%%%%%%%%%%%%%%%%\n",
      "                #####################     %%%%%%%%%%%%%%%%%%%%%\n",
      "                ######################     %%%%%%%%%%%%%%%%%%%%\n",
      "                #######################     %%%%%%%%%%%%%%%%%%\n",
      "                 #######################     %%%%%%%%%%%%%%%%%\n",
      "                 ######################     %%%%%%%%%%%%%%%%%\n",
      "                  ####################     %%%%%%%%%%%%%%%%%\n",
      "                    #################     %%%%%%%%%%%%%%%%%\n",
      "                     ###############     %%%%%%%%%%%%%%%%\n",
      "                       ############     %%%%%%%%%%%%%%%\n",
      "                          ########     %%%%%%%%%%%%%%\n",
      "                                      %%%%%%%%%%%\n",
      "\n",
      "                 | The OpenMC Monte Carlo Code\n",
      "       Copyright | 2011-2023 MIT, UChicago Argonne LLC, and contributors\n",
      "         License | https://docs.openmc.org/en/latest/license.html\n",
      "         Version | 0.13.3\n",
      "        Git SHA1 | 50e39a4e20dc9e0f3d7ccf07333f6a5e6c797c8c\n",
      "       Date/Time | 2023-10-16 08:36:41\n",
      "  OpenMP Threads | 24\n",
      "\n",
      " Reading settings XML file...\n",
      " Reading cross sections XML file...\n",
      " Reading materials XML file...\n",
      " Reading geometry XML file...\n",
      " Reading tallies XML file...\n",
      " Preparing distributed cell instances...\n",
      " Reading plot XML file...\n",
      "\n",
      " =======================>     PLOTTING SUMMARY     <========================\n",
      "\n",
      "Plot ID: 8\n",
      "Plot file: pinplot.png\n",
      "Universe depth: -1\n",
      "Plot Type: Slice\n",
      "Origin: 0 0 0\n",
      "Width: 1.26 1.26\n",
      "Coloring: Materials\n",
      "Basis: XY\n",
      "Pixels: 200 200\n",
      "\n",
      " Processing plot 8: pinplot.png...\n"
     ]
    }
   ],
   "source": [
    "openmc.plot_geometry()"
   ]
  },
  {
   "cell_type": "code",
   "execution_count": 93,
   "id": "e6d6b877",
   "metadata": {},
   "outputs": [
    {
     "data": {
      "image/png": "[encoded data removed]",
      "text/plain": [
       "<IPython.core.display.Image object>"
      ]
     },
     "execution_count": 93,
     "metadata": {},
     "output_type": "execute_result"
    }
   ],
   "source": [
    "from IPython.display import Image\n",
    "Image('pinplot.png')"
   ]
  },
  {
   "cell_type": "code",
   "execution_count": 94,
   "id": "9fc5c08d",
   "metadata": {},
   "outputs": [
    {
     "data": {
      "image/png": "[encoded data removed]",
      "text/plain": [
       "<IPython.core.display.Image object>"
      ]
     },
     "execution_count": 94,
     "metadata": {},
     "output_type": "execute_result"
    }
   ],
   "source": [
    "plot.to_ipython_image()"
   ]
  },
  {
   "cell_type": "code",
   "execution_count": null,
   "id": "9521de36",
   "metadata": {},
   "outputs": [],
   "source": []
  }
 ],
 "metadata": {
  "kernelspec": {
   "display_name": "Python 3 (ipykernel)",
   "language": "python",
   "name": "python3"
  },
  "language_info": {
   "codemirror_mode": {
    "name": "ipython",
    "version": 3
   },
   "file_extension": ".py",
   "mimetype": "text/x-python",
   "name": "python",
   "nbconvert_exporter": "python",
   "pygments_lexer": "ipython3",
   "version": "3.11.5"
  }
 },
 "nbformat": 4,
 "nbformat_minor": 5
}
