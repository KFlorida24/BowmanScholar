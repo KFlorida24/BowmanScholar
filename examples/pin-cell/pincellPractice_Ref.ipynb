{
 "cells": [
  {
   "cell_type": "markdown",
   "id": "712903de",
   "metadata": {},
   "source": [
    "# Cullinan Pincell Practice\n",
    "Code from OpenMC examples/modeling a pin-cell"
   ]
  },
  {
   "cell_type": "code",
   "execution_count": null,
   "id": "963ab92e",
   "metadata": {},
   "outputs": [],
   "source": [
    "%matplotlib inline\n",
    "import openmc"
   ]
  },
  {
   "cell_type": "markdown",
   "id": "6a94725e",
   "metadata": {},
   "source": [
    "## Define Materials"
   ]
  },
  {
   "cell_type": "code",
   "execution_count": null,
   "id": "75f59fe4",
   "metadata": {},
   "outputs": [],
   "source": [
    "uo2 = openmc.Material(1,'uo2')\n",
    "print(uo2)"
   ]
  },
  {
   "cell_type": "code",
   "execution_count": null,
   "id": "344ef484",
   "metadata": {},
   "outputs": [],
   "source": [
    "mat = openmc.Material()\n",
    "print(mat)"
   ]
  },
  {
   "cell_type": "code",
   "execution_count": null,
   "id": "c9803585",
   "metadata": {},
   "outputs": [],
   "source": [
    "help(uo2.add_nuclide)"
   ]
  },
  {
   "cell_type": "code",
   "execution_count": null,
   "id": "e13cd0af",
   "metadata": {},
   "outputs": [],
   "source": [
    "# add nuclides to uo2\n",
    "uo2.add_nuclide('U235', 0.03)\n",
    "uo2.add_nuclide('U238', 0.97)\n",
    "uo2.add_nuclide('O16', 2.0)"
   ]
  },
  {
   "cell_type": "code",
   "execution_count": null,
   "id": "62505d04",
   "metadata": {},
   "outputs": [],
   "source": [
    "uo2.set_density('g/cm3', 10.0)"
   ]
  },
  {
   "cell_type": "code",
   "execution_count": null,
   "id": "fa1292f9",
   "metadata": {},
   "outputs": [],
   "source": [
    "zirconium = openmc.Material(name='zirconium')\n",
    "zirconium.add_element('Zr', 1.0)\n",
    "zirconium.set_density('g/cm3', 6.6)\n",
    "\n",
    "water = openmc.Material(name='h2o')\n",
    "water.add_nuclide('H1', 2.0)\n",
    "water.add_nuclide('O16', 1.0)\n",
    "water.set_density('g/cm3', 1.0)"
   ]
  },
  {
   "cell_type": "code",
   "execution_count": null,
   "id": "61702ccf",
   "metadata": {},
   "outputs": [],
   "source": [
    "water.add_s_alpha_beta('c_H_in_H2O')"
   ]
  },
  {
   "cell_type": "code",
   "execution_count": null,
   "id": "fe871122",
   "metadata": {},
   "outputs": [],
   "source": [
    "materials = openmc.Materials([uo2, zirconium, water])"
   ]
  },
  {
   "cell_type": "code",
   "execution_count": null,
   "id": "9d10775c",
   "metadata": {},
   "outputs": [],
   "source": [
    "materials = openmc.Materials()\n",
    "materials.append(uo2)\n",
    "materials += [zirconium, water]\n",
    "isinstance(materials,list)"
   ]
  },
  {
   "cell_type": "markdown",
   "id": "ba8b2516",
   "metadata": {},
   "source": [
    "### Export Materials as XML"
   ]
  },
  {
   "cell_type": "code",
   "execution_count": null,
   "id": "a66a383b",
   "metadata": {},
   "outputs": [],
   "source": [
    "materials.export_to_xml()\n",
    "!cat materials.xml"
   ]
  },
  {
   "cell_type": "code",
   "execution_count": null,
   "id": "3c2ee06f",
   "metadata": {},
   "outputs": [],
   "source": [
    "water.remove_nuclide('O16')\n",
    "water.add_element('O', 1.0)\n",
    "\n",
    "materials.export_to_xml()\n",
    "!cat materials.xml"
   ]
  },
  {
   "cell_type": "markdown",
   "id": "0c7d2dc3",
   "metadata": {},
   "source": [
    "## Cross Sections"
   ]
  },
  {
   "cell_type": "code",
   "execution_count": null,
   "id": "30729389",
   "metadata": {},
   "outputs": [],
   "source": [
    "!cat $OPENMC_CROSS_SECTIONS | head -n 10\n",
    "print('    ...')\n",
    "!cat $OPENMC_CROSS_SECTIONS | tail -n 10"
   ]
  },
  {
   "cell_type": "markdown",
   "id": "706a1010",
   "metadata": {},
   "source": [
    "### Enrichment"
   ]
  },
  {
   "cell_type": "code",
   "execution_count": null,
   "id": "40918f99",
   "metadata": {},
   "outputs": [],
   "source": [
    "uo2_three = openmc.Material()\n",
    "uo2_three.add_element('U',1.0, enrichment=3.0)\n",
    "uo2_three.add_element('O', 2.0)\n",
    "uo2_three.set_density('g/cc', 10.0)"
   ]
  },
  {
   "cell_type": "markdown",
   "id": "be9ea44e",
   "metadata": {},
   "source": [
    "### Mixtures"
   ]
  },
  {
   "cell_type": "code",
   "execution_count": null,
   "id": "b8be147c",
   "metadata": {},
   "outputs": [],
   "source": [
    "# create PuO2 material\n",
    "puo2 = openmc.Material()\n",
    "puo2.add_nuclide('Pu239', 0.94)\n",
    "puo2.add_nuclide('Pu240', 0.06)\n",
    "puo2.add_nuclide('O16', 2.0)\n",
    "puo2.set_density('g/cm3', 11.5)\n",
    "\n",
    "# create the mixture\n",
    "mox = openmc.Material.mix_materials([uo2, puo2], [0.97, 0.03], 'wo')"
   ]
  },
  {
   "cell_type": "markdown",
   "id": "da11f838",
   "metadata": {},
   "source": [
    "## Define Geometry"
   ]
  },
  {
   "cell_type": "code",
   "execution_count": null,
   "id": "4fdc33bf",
   "metadata": {},
   "outputs": [],
   "source": [
    "sphere = openmc.Sphere(r=1.0)"
   ]
  },
  {
   "cell_type": "code",
   "execution_count": null,
   "id": "90fd8dcd",
   "metadata": {},
   "outputs": [],
   "source": [
    "inside_sphere = -sphere\n",
    "outside_sphere = +sphere"
   ]
  },
  {
   "cell_type": "code",
   "execution_count": null,
   "id": "dbe02103",
   "metadata": {},
   "outputs": [],
   "source": [
    "print((0,0,0) in inside_sphere, (0,0,2) in inside_sphere)\n",
    "print((0,0,0) in outside_sphere, (0,0,2) in outside_sphere)"
   ]
  },
  {
   "cell_type": "code",
   "execution_count": null,
   "id": "dad47e96",
   "metadata": {},
   "outputs": [],
   "source": [
    "z_plane = openmc.ZPlane(0)\n",
    "northern_hemi = -sphere & +z_plane"
   ]
  },
  {
   "cell_type": "code",
   "execution_count": null,
   "id": "0eccefef",
   "metadata": {},
   "outputs": [],
   "source": [
    "northern_hemi.bounding_box"
   ]
  },
  {
   "cell_type": "code",
   "execution_count": null,
   "id": "3e03b4b6",
   "metadata": {},
   "outputs": [],
   "source": [
    "cell = openmc.Cell()\n",
    "cell.region = northern_hemi"
   ]
  },
  {
   "cell_type": "code",
   "execution_count": null,
   "id": "3e30d05e",
   "metadata": {},
   "outputs": [],
   "source": [
    "cell.fill = water"
   ]
  },
  {
   "cell_type": "markdown",
   "id": "b00f19d9",
   "metadata": {},
   "source": [
    "## Create Universe"
   ]
  },
  {
   "cell_type": "code",
   "execution_count": null,
   "id": "551ec3a9",
   "metadata": {},
   "outputs": [],
   "source": [
    "universe = openmc.Universe()\n",
    "universe.add_cell(cell)"
   ]
  },
  {
   "cell_type": "code",
   "execution_count": null,
   "id": "f72e1c3f",
   "metadata": {},
   "outputs": [],
   "source": [
    "universe.plot(width=(2.0, 2.0))"
   ]
  },
  {
   "cell_type": "code",
   "execution_count": null,
   "id": "66545799",
   "metadata": {},
   "outputs": [],
   "source": [
    "universe.plot(width=(2.0, 2.0), basis = 'xz')"
   ]
  },
  {
   "cell_type": "code",
   "execution_count": null,
   "id": "b1d83297",
   "metadata": {},
   "outputs": [],
   "source": [
    "universe.plot(width=(2.0, 2.0), basis='xz', colors={cell: 'fuchsia'})"
   ]
  },
  {
   "cell_type": "markdown",
   "id": "fdc8c539",
   "metadata": {},
   "source": [
    "## Pincell Geometry"
   ]
  },
  {
   "cell_type": "code",
   "execution_count": null,
   "id": "fac3d174",
   "metadata": {},
   "outputs": [],
   "source": [
    "fuel_outer_rad = openmc.ZCylinder(r=0.39)\n",
    "clad_inner_rad = openmc.ZCylinder(r=0.40)\n",
    "clad_outer_rad = openmc.ZCylinder(r=0.46)"
   ]
  },
  {
   "cell_type": "code",
   "execution_count": null,
   "id": "8fee3418",
   "metadata": {},
   "outputs": [],
   "source": [
    "fuel_region = -fuel_outer_rad\n",
    "gap_region = +fuel_outer_rad & -clad_inner_rad\n",
    "clad_region = +clad_inner_rad & -clad_outer_rad"
   ]
  },
  {
   "cell_type": "code",
   "execution_count": null,
   "id": "fe6d1e70",
   "metadata": {},
   "outputs": [],
   "source": [
    "fuel = openmc.Cell(name='fuel')\n",
    "fuel.fill = uo2\n",
    "fuel.region = fuel_region\n",
    "\n",
    "gap = openmc.Cell(name='air gap')\n",
    "gap.region = gap_region\n",
    "\n",
    "clad = openmc.Cell(name='clad')\n",
    "clad.fill = zirconium\n",
    "clad.region = clad_region"
   ]
  },
  {
   "cell_type": "code",
   "execution_count": null,
   "id": "2443900f",
   "metadata": {},
   "outputs": [],
   "source": [
    "pitch = 1.26\n",
    "left = openmc.XPlane(-pitch/2, boundary_type='reflective')\n",
    "right = openmc.XPlane(pitch/2, boundary_type='reflective')\n",
    "bottom = openmc.YPlane(-pitch/2, boundary_type='reflective')\n",
    "top = openmc.YPlane(pitch/2, boundary_type='reflective')"
   ]
  },
  {
   "cell_type": "code",
   "execution_count": null,
   "id": "9511ae44",
   "metadata": {},
   "outputs": [],
   "source": [
    "water_region = +left & -right & +bottom & - top & + clad_outer_rad\n",
    "\n",
    "moderator = openmc.Cell(name='moderator')\n",
    "moderator.fill = water\n",
    "moderator.region = water_region"
   ]
  },
  {
   "cell_type": "code",
   "execution_count": null,
   "id": "08b7ed01",
   "metadata": {},
   "outputs": [],
   "source": [
    "box = openmc.rectangular_prism(width=pitch, height=pitch, boundary_type='reflective')\n",
    "type(box)"
   ]
  },
  {
   "cell_type": "code",
   "execution_count": null,
   "id": "1a3bb37f",
   "metadata": {},
   "outputs": [],
   "source": [
    "water_region = box & +clad_outer_rad"
   ]
  },
  {
   "cell_type": "code",
   "execution_count": null,
   "id": "7c8a8243",
   "metadata": {},
   "outputs": [],
   "source": [
    "root_universe = openmc.Universe(cells=(fuel, gap, clad, moderator))\n",
    "\n",
    "geometry = openmc.Geometry()\n",
    "geometry.root_universe = root_universe\n",
    "geometry.export_to_xml()\n",
    "!cat geometry.xml"
   ]
  },
  {
   "cell_type": "markdown",
   "id": "3e34656b",
   "metadata": {},
   "source": [
    "## Source definition"
   ]
  },
  {
   "cell_type": "code",
   "execution_count": null,
   "id": "470c0dcf",
   "metadata": {},
   "outputs": [],
   "source": [
    "# create a point source\n",
    "point = openmc.stats.Point((0,0,0))\n",
    "source = openmc.Source(space=point)\n"
   ]
  },
  {
   "cell_type": "code",
   "execution_count": null,
   "id": "ceaaca46",
   "metadata": {},
   "outputs": [],
   "source": [
    "settings = openmc.Settings()\n",
    "settings.source = source\n",
    "settings.batches = 100\n",
    "settings.inactive = 10\n",
    "settings.particles = 1000"
   ]
  },
  {
   "cell_type": "code",
   "execution_count": null,
   "id": "4dadabf6",
   "metadata": {},
   "outputs": [],
   "source": [
    "settings.export_to_xml()\n",
    "!cat settings.xml"
   ]
  },
  {
   "cell_type": "markdown",
   "id": "b4af30d4",
   "metadata": {},
   "source": [
    "## tallies\n"
   ]
  },
  {
   "cell_type": "code",
   "execution_count": null,
   "id": "dff66b67",
   "metadata": {},
   "outputs": [],
   "source": [
    "cell_filter = openmc.CellFilter(fuel)\n",
    "\n",
    "tally = openmc.Tally(1)\n",
    "tally.filters = [cell_filter]"
   ]
  },
  {
   "cell_type": "code",
   "execution_count": null,
   "id": "68c57f4a",
   "metadata": {},
   "outputs": [],
   "source": [
    "tally.nuclides = ['U235']\n",
    "tally.scores = ['total','fission','absorption','(n,gamma)']"
   ]
  },
  {
   "cell_type": "code",
   "execution_count": null,
   "id": "78d75e0a",
   "metadata": {},
   "outputs": [],
   "source": [
    "tallies = openmc.Tallies([tally])\n",
    "tallies.export_to_xml()\n",
    "!cat tallies.xml"
   ]
  },
  {
   "cell_type": "code",
   "execution_count": null,
   "id": "5984386b",
   "metadata": {},
   "outputs": [],
   "source": [
    "openmc.run()"
   ]
  },
  {
   "cell_type": "code",
   "execution_count": null,
   "id": "457dae19",
   "metadata": {},
   "outputs": [],
   "source": [
    "!cat tallies.out"
   ]
  },
  {
   "cell_type": "markdown",
   "id": "f72cee6d",
   "metadata": {},
   "source": [
    "## Plot Geometry"
   ]
  },
  {
   "cell_type": "code",
   "execution_count": null,
   "id": "d8f1d94a",
   "metadata": {},
   "outputs": [],
   "source": [
    "plot = openmc.Plot()\n",
    "plot.filename = 'pinplot'\n",
    "plot.width = (pitch,pitch)\n",
    "plot.pixels = (200,200)\n",
    "plot.color_by = 'material'\n",
    "plot.colors = {uo2: 'yellow',water: 'blue'}"
   ]
  },
  {
   "cell_type": "code",
   "execution_count": null,
   "id": "26a1c6de",
   "metadata": {},
   "outputs": [],
   "source": [
    "plots = openmc.Plots([plot])\n",
    "plots.export_to_xml()\n",
    "!cat plots.xml"
   ]
  },
  {
   "cell_type": "code",
   "execution_count": null,
   "id": "42bbdb6b",
   "metadata": {},
   "outputs": [],
   "source": [
    "openmc.plot_geometry()"
   ]
  },
  {
   "cell_type": "code",
   "execution_count": null,
   "id": "e6d6b877",
   "metadata": {},
   "outputs": [],
   "source": [
    "from IPython.display import Image\n",
    "Image('pinplot.png')"
   ]
  },
  {
   "cell_type": "code",
   "execution_count": null,
   "id": "9fc5c08d",
   "metadata": {},
   "outputs": [],
   "source": [
    "plot.to_ipython_image()"
   ]
  },
  {
   "cell_type": "code",
   "execution_count": null,
   "id": "9521de36",
   "metadata": {},
   "outputs": [],
   "source": []
  }
 ],
 "metadata": {
  "kernelspec": {
   "display_name": "Python 3 (ipykernel)",
   "language": "python",
   "name": "python3"
  },
  "language_info": {
   "codemirror_mode": {
    "name": "ipython",
    "version": 3
   },
   "file_extension": ".py",
   "mimetype": "text/x-python",
   "name": "python",
   "nbconvert_exporter": "python",
   "pygments_lexer": "ipython3",
   "version": "3.11.5"
  }
 },
 "nbformat": 4,
 "nbformat_minor": 5
}
