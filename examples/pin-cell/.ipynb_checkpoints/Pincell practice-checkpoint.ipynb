{
 "cells": [
  {
   "cell_type": "markdown",
   "id": "712903de",
   "metadata": {},
   "source": [
    "# Cullinan Pincell Practice\n",
    "Code from OpenMC examples/modeling a pin-cell"
   ]
  },
  {
   "cell_type": "code",
   "execution_count": 3,
   "id": "963ab92e",
   "metadata": {},
   "outputs": [],
   "source": [
    "%matplotlib inline\n",
    "import openmc"
   ]
  },
  {
   "cell_type": "markdown",
   "id": "6a94725e",
   "metadata": {},
   "source": [
    "## Define Materials"
   ]
  },
  {
   "cell_type": "code",
   "execution_count": 4,
   "id": "75f59fe4",
   "metadata": {},
   "outputs": [
    {
     "name": "stdout",
     "output_type": "stream",
     "text": [
      "Material\n",
      "\tID             =\t1\n",
      "\tName           =\tuo2\n",
      "\tTemperature    =\tNone\n",
      "\tDensity        =\tNone [sum]\n",
      "\tS(a,b) Tables  \n",
      "\tNuclides       \n",
      "\n"
     ]
    }
   ],
   "source": [
    "uo2 = openmc.Material(1,'uo2')\n",
    "print(uo2)"
   ]
  },
  {
   "cell_type": "code",
   "execution_count": 5,
   "id": "344ef484",
   "metadata": {},
   "outputs": [
    {
     "name": "stdout",
     "output_type": "stream",
     "text": [
      "Material\n",
      "\tID             =\t2\n",
      "\tName           =\t\n",
      "\tTemperature    =\tNone\n",
      "\tDensity        =\tNone [sum]\n",
      "\tS(a,b) Tables  \n",
      "\tNuclides       \n",
      "\n"
     ]
    }
   ],
   "source": [
    "mat = openmc.Material()\n",
    "print(mat)"
   ]
  },
  {
   "cell_type": "code",
   "execution_count": 6,
   "id": "c9803585",
   "metadata": {},
   "outputs": [
    {
     "name": "stdout",
     "output_type": "stream",
     "text": [
      "Help on method add_nuclide in module openmc.material:\n",
      "\n",
      "add_nuclide(nuclide, percent, percent_type='ao') method of openmc.material.Material instance\n",
      "    Add a nuclide to the material\n",
      "    \n",
      "    Parameters\n",
      "    ----------\n",
      "    nuclide : str\n",
      "        Nuclide to add, e.g., 'Mo95'\n",
      "    percent : float\n",
      "        Atom or weight percent\n",
      "    percent_type : {'ao', 'wo'}\n",
      "        'ao' for atom percent and 'wo' for weight percent\n",
      "\n"
     ]
    }
   ],
   "source": [
    "help(uo2.add_nuclide)"
   ]
  },
  {
   "cell_type": "code",
   "execution_count": 7,
   "id": "e13cd0af",
   "metadata": {},
   "outputs": [],
   "source": [
    "# add nuclides to uo2\n",
    "uo2.add_nuclide('U235', 0.03)\n",
    "uo2.add_nuclide('U238', 0.97)\n",
    "uo2.add_nuclide('O16', 2.0)"
   ]
  },
  {
   "cell_type": "code",
   "execution_count": 8,
   "id": "62505d04",
   "metadata": {},
   "outputs": [],
   "source": [
    "uo2.set_density('g/cm3', 10.0)"
   ]
  },
  {
   "cell_type": "code",
   "execution_count": 9,
   "id": "fa1292f9",
   "metadata": {},
   "outputs": [],
   "source": [
    "zirconium = openmc.Material(name='zirconium')\n",
    "zirconium.add_element('Zr', 1.0)\n",
    "zirconium.set_density('g/cm3', 6.6)\n",
    "\n",
    "water = openmc.Material(name='h2o')\n",
    "water.add_nuclide('H1', 2.0)\n",
    "water.add_nuclide('O16', 1.0)\n",
    "water.set_density('g/cm3', 1.0)"
   ]
  },
  {
   "cell_type": "code",
   "execution_count": 10,
   "id": "61702ccf",
   "metadata": {},
   "outputs": [],
   "source": [
    "water.add_s_alpha_beta('c_H_in_H2O')"
   ]
  },
  {
   "cell_type": "code",
   "execution_count": 11,
   "id": "fe871122",
   "metadata": {},
   "outputs": [],
   "source": [
    "materials = openmc.Materials([uo2, zirconium, water])"
   ]
  },
  {
   "cell_type": "code",
   "execution_count": 12,
   "id": "9d10775c",
   "metadata": {},
   "outputs": [
    {
     "data": {
      "text/plain": [
       "True"
      ]
     },
     "execution_count": 12,
     "metadata": {},
     "output_type": "execute_result"
    }
   ],
   "source": [
    "materials = openmc.Materials()\n",
    "materials.append(uo2)\n",
    "materials += [zirconium, water]\n",
    "isinstance(materials,list)"
   ]
  },
  {
   "cell_type": "markdown",
   "id": "ba8b2516",
   "metadata": {},
   "source": [
    "### Export Materials as XML"
   ]
  },
  {
   "cell_type": "code",
   "execution_count": 13,
   "id": "a66a383b",
   "metadata": {},
   "outputs": [
    {
     "name": "stdout",
     "output_type": "stream",
     "text": [
      "<?xml version='1.0' encoding='utf-8'?>\r\n",
      "<materials>\r\n",
      "  <material depletable=\"true\" id=\"1\" name=\"uo2\">\r\n",
      "    <density units=\"g/cm3\" value=\"10.0\" />\r\n",
      "    <nuclide ao=\"0.03\" name=\"U235\" />\r\n",
      "    <nuclide ao=\"0.97\" name=\"U238\" />\r\n",
      "    <nuclide ao=\"2.0\" name=\"O16\" />\r\n",
      "  </material>\r\n",
      "  <material id=\"3\" name=\"zirconium\">\r\n",
      "    <density units=\"g/cm3\" value=\"6.6\" />\r\n",
      "    <nuclide ao=\"0.5145\" name=\"Zr90\" />\r\n",
      "    <nuclide ao=\"0.1122\" name=\"Zr91\" />\r\n",
      "    <nuclide ao=\"0.1715\" name=\"Zr92\" />\r\n",
      "    <nuclide ao=\"0.1738\" name=\"Zr94\" />\r\n",
      "    <nuclide ao=\"0.028\" name=\"Zr96\" />\r\n",
      "  </material>\r\n",
      "  <material id=\"4\" name=\"h2o\">\r\n",
      "    <density units=\"g/cm3\" value=\"1.0\" />\r\n",
      "    <nuclide ao=\"2.0\" name=\"H1\" />\r\n",
      "    <nuclide ao=\"1.0\" name=\"O16\" />\r\n",
      "    <sab name=\"c_H_in_H2O\" />\r\n",
      "  </material>\r\n",
      "</materials>\r\n"
     ]
    }
   ],
   "source": [
    "materials.export_to_xml()\n",
    "!cat materials.xml"
   ]
  },
  {
   "cell_type": "code",
   "execution_count": 14,
   "id": "3c2ee06f",
   "metadata": {},
   "outputs": [
    {
     "name": "stdout",
     "output_type": "stream",
     "text": [
      "<?xml version='1.0' encoding='utf-8'?>\r\n",
      "<materials>\r\n",
      "  <material depletable=\"true\" id=\"1\" name=\"uo2\">\r\n",
      "    <density units=\"g/cm3\" value=\"10.0\" />\r\n",
      "    <nuclide ao=\"0.03\" name=\"U235\" />\r\n",
      "    <nuclide ao=\"0.97\" name=\"U238\" />\r\n",
      "    <nuclide ao=\"2.0\" name=\"O16\" />\r\n",
      "  </material>\r\n",
      "  <material id=\"3\" name=\"zirconium\">\r\n",
      "    <density units=\"g/cm3\" value=\"6.6\" />\r\n",
      "    <nuclide ao=\"0.5145\" name=\"Zr90\" />\r\n",
      "    <nuclide ao=\"0.1122\" name=\"Zr91\" />\r\n",
      "    <nuclide ao=\"0.1715\" name=\"Zr92\" />\r\n",
      "    <nuclide ao=\"0.1738\" name=\"Zr94\" />\r\n",
      "    <nuclide ao=\"0.028\" name=\"Zr96\" />\r\n",
      "  </material>\r\n",
      "  <material id=\"4\" name=\"h2o\">\r\n",
      "    <density units=\"g/cm3\" value=\"1.0\" />\r\n",
      "    <nuclide ao=\"2.0\" name=\"H1\" />\r\n",
      "    <nuclide ao=\"0.999621\" name=\"O16\" />\r\n",
      "    <nuclide ao=\"0.000379\" name=\"O17\" />\r\n",
      "    <sab name=\"c_H_in_H2O\" />\r\n",
      "  </material>\r\n",
      "</materials>\r\n"
     ]
    }
   ],
   "source": [
    "water.remove_nuclide('O16')\n",
    "water.add_element('O', 1.0)\n",
    "\n",
    "materials.export_to_xml()\n",
    "!cat materials.xml"
   ]
  },
  {
   "cell_type": "markdown",
   "id": "0c7d2dc3",
   "metadata": {},
   "source": [
    "## Cross Sections"
   ]
  },
  {
   "cell_type": "code",
   "execution_count": 15,
   "id": "30729389",
   "metadata": {},
   "outputs": [
    {
     "name": "stdout",
     "output_type": "stream",
     "text": [
      "<?xml version='1.0' encoding='utf-8'?>\n",
      "<cross_sections>\n",
      "  <library materials=\"H1\" path=\"H1.h5\" type=\"neutron\" />\n",
      "  <library materials=\"H2\" path=\"H2.h5\" type=\"neutron\" />\n",
      "  <library materials=\"H3\" path=\"H3.h5\" type=\"neutron\" />\n",
      "  <library materials=\"He3\" path=\"He3.h5\" type=\"neutron\" />\n",
      "  <library materials=\"He4\" path=\"He4.h5\" type=\"neutron\" />\n",
      "  <library materials=\"Li6\" path=\"Li6.h5\" type=\"neutron\" />\n",
      "  <library materials=\"Li7\" path=\"Li7.h5\" type=\"neutron\" />\n",
      "  <library materials=\"Be7\" path=\"Be7.h5\" type=\"neutron\" />\n",
      "    ...\n",
      "  <library materials=\"Cf253\" path=\"wmp/098253.h5\" type=\"wmp\" />\n",
      "  <library materials=\"Cf254\" path=\"wmp/098254.h5\" type=\"wmp\" />\n",
      "  <library materials=\"Es251\" path=\"wmp/099251.h5\" type=\"wmp\" />\n",
      "  <library materials=\"Es252\" path=\"wmp/099252.h5\" type=\"wmp\" />\n",
      "  <library materials=\"Es253\" path=\"wmp/099253.h5\" type=\"wmp\" />\n",
      "  <library materials=\"Es254\" path=\"wmp/099254.h5\" type=\"wmp\" />\n",
      "  <library materials=\"Es254_m1\" path=\"wmp/099254m1.h5\" type=\"wmp\" />\n",
      "  <library materials=\"Es255\" path=\"wmp/099255.h5\" type=\"wmp\" />\n",
      "  <library materials=\"Fm255\" path=\"wmp/100255.h5\" type=\"wmp\" />\n",
      "</cross_sections>\n"
     ]
    }
   ],
   "source": [
    "!cat $OPENMC_CROSS_SECTIONS | head -n 10\n",
    "print('    ...')\n",
    "!cat $OPENMC_CROSS_SECTIONS | tail -n 10"
   ]
  },
  {
   "cell_type": "markdown",
   "id": "706a1010",
   "metadata": {},
   "source": [
    "### Enrichment"
   ]
  },
  {
   "cell_type": "code",
   "execution_count": 16,
   "id": "40918f99",
   "metadata": {},
   "outputs": [],
   "source": [
    "uo2_three = openmc.Material()\n",
    "uo2_three.add_element('U',1.0, enrichment=3.0)\n",
    "uo2_three.add_element('O', 2.0)\n",
    "uo2_three.set_density('g/cc', 10.0)"
   ]
  },
  {
   "cell_type": "markdown",
   "id": "be9ea44e",
   "metadata": {},
   "source": [
    "### Mixtures"
   ]
  },
  {
   "cell_type": "code",
   "execution_count": 17,
   "id": "b8be147c",
   "metadata": {},
   "outputs": [],
   "source": [
    "# create PuO2 material\n",
    "puo2 = openmc.Material()\n",
    "puo2.add_nuclide('Pu239', 0.94)\n",
    "puo2.add_nuclide('Pu240', 0.06)\n",
    "puo2.add_nuclide('O16', 2.0)\n",
    "puo2.set_density('g/cm3', 11.5)\n",
    "\n",
    "# create the mixture\n",
    "mox = openmc.Material.mix_materials([uo2, puo2], [0.97, 0.03], 'wo')"
   ]
  },
  {
   "cell_type": "markdown",
   "id": "da11f838",
   "metadata": {},
   "source": [
    "## Define Geometry"
   ]
  },
  {
   "cell_type": "code",
   "execution_count": 18,
   "id": "4fdc33bf",
   "metadata": {},
   "outputs": [],
   "source": [
    "sphere = openmc.Sphere(r=1.0)"
   ]
  },
  {
   "cell_type": "code",
   "execution_count": 19,
   "id": "90fd8dcd",
   "metadata": {},
   "outputs": [],
   "source": [
    "inside_sphere = -sphere\n",
    "outside_sphere = +sphere"
   ]
  },
  {
   "cell_type": "code",
   "execution_count": 20,
   "id": "dbe02103",
   "metadata": {},
   "outputs": [
    {
     "name": "stdout",
     "output_type": "stream",
     "text": [
      "True False\n",
      "False True\n"
     ]
    }
   ],
   "source": [
    "print((0,0,0) in inside_sphere, (0,0,2) in inside_sphere)\n",
    "print((0,0,0) in outside_sphere, (0,0,2) in outside_sphere)"
   ]
  },
  {
   "cell_type": "code",
   "execution_count": 22,
   "id": "dad47e96",
   "metadata": {},
   "outputs": [],
   "source": [
    "z_plane = openmc.ZPlane(0)\n",
    "northern_hemi = -sphere & +z_plane"
   ]
  },
  {
   "cell_type": "code",
   "execution_count": 25,
   "id": "0eccefef",
   "metadata": {},
   "outputs": [
    {
     "data": {
      "text/plain": [
       "(array([-1., -1.,  0.]), array([1., 1., 1.]))"
      ]
     },
     "execution_count": 25,
     "metadata": {},
     "output_type": "execute_result"
    }
   ],
   "source": [
    "northern_hemi.bounding_box"
   ]
  },
  {
   "cell_type": "code",
   "execution_count": 27,
   "id": "3e03b4b6",
   "metadata": {},
   "outputs": [],
   "source": [
    "cell = openmc.Cell()\n",
    "cell.region = northern_hemi"
   ]
  },
  {
   "cell_type": "code",
   "execution_count": 28,
   "id": "3e30d05e",
   "metadata": {},
   "outputs": [],
   "source": [
    "cell.fill = water"
   ]
  },
  {
   "cell_type": "markdown",
   "id": "b00f19d9",
   "metadata": {},
   "source": [
    "## Create Universe"
   ]
  },
  {
   "cell_type": "code",
   "execution_count": 29,
   "id": "551ec3a9",
   "metadata": {},
   "outputs": [],
   "source": [
    "universe = openmc.Universe()\n",
    "universe.add_cell(cell)"
   ]
  },
  {
   "cell_type": "code",
   "execution_count": 30,
   "id": "f72e1c3f",
   "metadata": {},
   "outputs": [
    {
     "data": {
      "text/plain": [
       "<matplotlib.image.AxesImage at 0x7f4a59a9e8c0>"
      ]
     },
     "execution_count": 30,
     "metadata": {},
     "output_type": "execute_result"
    },
    {
     "data": {
      "image/png": "[encoded data removed]",
      "text/plain": [
       "<Figure size 432x288 with 1 Axes>"
      ]
     },
     "metadata": {
      "needs_background": "light"
     },
     "output_type": "display_data"
    }
   ],
   "source": [
    "universe.plot(width=(2.0, 2.0))"
   ]
  },
  {
   "cell_type": "code",
   "execution_count": 31,
   "id": "66545799",
   "metadata": {},
   "outputs": [
    {
     "data": {
      "text/plain": [
       "<matplotlib.image.AxesImage at 0x7f4a5978ee60>"
      ]
     },
     "execution_count": 31,
     "metadata": {},
     "output_type": "execute_result"
    },
    {
     "data": {
      "image/png": "[encoded data removed]",
      "text/plain": [
       "<Figure size 432x288 with 1 Axes>"
      ]
     },
     "metadata": {
      "needs_background": "light"
     },
     "output_type": "display_data"
    }
   ],
   "source": [
    "universe.plot(width=(2.0, 2.0), basis = 'xz')"
   ]
  },
  {
   "cell_type": "code",
   "execution_count": 32,
   "id": "b1d83297",
   "metadata": {},
   "outputs": [
    {
     "data": {
      "text/plain": [
       "<matplotlib.image.AxesImage at 0x7f4a59806e60>"
      ]
     },
     "execution_count": 32,
     "metadata": {},
     "output_type": "execute_result"
    },
    {
     "data": {
      "image/png": "[encoded data removed]",
      "text/plain": [
       "<Figure size 432x288 with 1 Axes>"
      ]
     },
     "metadata": {
      "needs_background": "light"
     },
     "output_type": "display_data"
    }
   ],
   "source": [
    "universe.plot(width=(2.0, 2.0), basis='xz', colors={cell: 'fuchsia'})"
   ]
  },
  {
   "cell_type": "markdown",
   "id": "fdc8c539",
   "metadata": {},
   "source": [
    "## Pincell Geometry"
   ]
  },
  {
   "cell_type": "code",
   "execution_count": 33,
   "id": "fac3d174",
   "metadata": {},
   "outputs": [],
   "source": [
    "fuel_outer_rad = openmc.ZCylinder(r=0.39)\n",
    "clad_inner_rad = openmc.ZCylinder(r=0.40)\n",
    "clad_outer_rad = openmc.ZCylinder(r=0.46)"
   ]
  },
  {
   "cell_type": "code",
   "execution_count": 34,
   "id": "8fee3418",
   "metadata": {},
   "outputs": [],
   "source": [
    "fuel_region = -fuel_outer_rad\n",
    "gap_region = +fuel_outer_rad & -clad_inner_rad\n",
    "clad_region = +clad_inner_rad & -clad_outer_rad"
   ]
  },
  {
   "cell_type": "code",
   "execution_count": 35,
   "id": "fe6d1e70",
   "metadata": {},
   "outputs": [],
   "source": [
    "fuel = openmc.Cell(name='fuel')\n",
    "fuel.fill = uo2\n",
    "fuel.region = fuel_region\n",
    "\n",
    "gap = openmc.Cell(name='air gap')\n",
    "gap.region = gap_region\n",
    "\n",
    "clad = openmc.Cell(name='clad')\n",
    "clad.fill = zirconium\n",
    "clad.region = clad_region"
   ]
  },
  {
   "cell_type": "code",
   "execution_count": 37,
   "id": "2443900f",
   "metadata": {},
   "outputs": [],
   "source": [
    "pitch = 1.26\n",
    "left = openmc.XPlane(-pitch/2, boundary_type='reflective')\n",
    "right = openmc.XPlane(pitch/2, boundary_type='reflective')\n",
    "bottom = openmc.YPlane(-pitch/2, boundary_type='reflective')\n",
    "top = openmc.YPlane(pitch/2, boundary_type='reflective')"
   ]
  },
  {
   "cell_type": "code",
   "execution_count": 39,
   "id": "9511ae44",
   "metadata": {},
   "outputs": [],
   "source": [
    "water_region = +left & -right & +bottom & - top & + clad_outer_rad\n",
    "\n",
    "moderator = openmc.Cell(name='moderator')\n",
    "moderator.fill = water\n",
    "moderator.region = water_region"
   ]
  },
  {
   "cell_type": "code",
   "execution_count": 40,
   "id": "08b7ed01",
   "metadata": {},
   "outputs": [
    {
     "data": {
      "text/plain": [
       "openmc.region.Intersection"
      ]
     },
     "execution_count": 40,
     "metadata": {},
     "output_type": "execute_result"
    }
   ],
   "source": [
    "box = openmc.rectangular_prism(width=pitch, height=pitch, boundary_type='reflective')\n",
    "type(box)"
   ]
  },
  {
   "cell_type": "code",
   "execution_count": 41,
   "id": "1a3bb37f",
   "metadata": {},
   "outputs": [],
   "source": [
    "water_region = box & +clad_outer_rad"
   ]
  },
  {
   "cell_type": "code",
   "execution_count": 43,
   "id": "7c8a8243",
   "metadata": {},
   "outputs": [
    {
     "name": "stdout",
     "output_type": "stream",
     "text": [
      "<?xml version='1.0' encoding='utf-8'?>\r\n",
      "<geometry>\r\n",
      "  <cell id=\"3\" material=\"1\" name=\"fuel\" region=\"-3\" universe=\"2\" />\r\n",
      "  <cell id=\"4\" material=\"void\" name=\"air gap\" region=\"3 -4\" universe=\"2\" />\r\n",
      "  <cell id=\"5\" material=\"3\" name=\"clad\" region=\"4 -5\" universe=\"2\" />\r\n",
      "  <cell id=\"6\" material=\"4\" name=\"moderator\" region=\"6 -7 8 -9 5\" universe=\"2\" />\r\n",
      "  <surface coeffs=\"0.0 0.0 0.39\" id=\"3\" type=\"z-cylinder\" />\r\n",
      "  <surface coeffs=\"0.0 0.0 0.4\" id=\"4\" type=\"z-cylinder\" />\r\n",
      "  <surface coeffs=\"0.0 0.0 0.46\" id=\"5\" type=\"z-cylinder\" />\r\n",
      "  <surface boundary=\"reflective\" coeffs=\"-0.63\" id=\"6\" type=\"x-plane\" />\r\n",
      "  <surface boundary=\"reflective\" coeffs=\"0.63\" id=\"7\" type=\"x-plane\" />\r\n",
      "  <surface boundary=\"reflective\" coeffs=\"-0.63\" id=\"8\" type=\"y-plane\" />\r\n",
      "  <surface boundary=\"reflective\" coeffs=\"0.63\" id=\"9\" type=\"y-plane\" />\r\n",
      "</geometry>\r\n"
     ]
    }
   ],
   "source": [
    "root_universe = openmc.Universe(cells=(fuel, gap, clad, moderator))\n",
    "\n",
    "geometry = openmc.Geometry()\n",
    "geometry.root_universe = root_universe\n",
    "geometry.export_to_xml()\n",
    "!cat geometry.xml"
   ]
  },
  {
   "cell_type": "markdown",
   "id": "3e34656b",
   "metadata": {},
   "source": [
    "## Source definition"
   ]
  },
  {
   "cell_type": "code",
   "execution_count": 44,
   "id": "470c0dcf",
   "metadata": {},
   "outputs": [],
   "source": [
    "# create a point source\n",
    "point = openmc.stats.Point((0,0,0))\n",
    "source = openmc.Source(space=point)\n"
   ]
  },
  {
   "cell_type": "code",
   "execution_count": 45,
   "id": "ceaaca46",
   "metadata": {},
   "outputs": [],
   "source": [
    "settings = openmc.Settings()\n",
    "settings.source = source\n",
    "settings.batches = 100\n",
    "settings.inactive = 10\n",
    "settings.particles = 1000"
   ]
  },
  {
   "cell_type": "code",
   "execution_count": 46,
   "id": "4dadabf6",
   "metadata": {},
   "outputs": [
    {
     "name": "stdout",
     "output_type": "stream",
     "text": [
      "<?xml version='1.0' encoding='utf-8'?>\r\n",
      "<settings>\r\n",
      "  <run_mode>eigenvalue</run_mode>\r\n",
      "  <particles>1000</particles>\r\n",
      "  <batches>100</batches>\r\n",
      "  <inactive>10</inactive>\r\n",
      "  <source strength=\"1.0\">\r\n",
      "    <space type=\"point\">\r\n",
      "      <parameters>0 0 0</parameters>\r\n",
      "    </space>\r\n",
      "  </source>\r\n",
      "</settings>\r\n"
     ]
    }
   ],
   "source": [
    "settings.export_to_xml()\n",
    "!cat settings.xml"
   ]
  },
  {
   "cell_type": "markdown",
   "id": "b4af30d4",
   "metadata": {},
   "source": [
    "## tallies\n"
   ]
  },
  {
   "cell_type": "code",
   "execution_count": 47,
   "id": "dff66b67",
   "metadata": {},
   "outputs": [],
   "source": [
    "cell_filter = openmc.CellFilter(fuel)\n",
    "\n",
    "tally = openmc.Tally(1)\n",
    "tally.filters = [cell_filter]"
   ]
  },
  {
   "cell_type": "code",
   "execution_count": 48,
   "id": "68c57f4a",
   "metadata": {},
   "outputs": [],
   "source": [
    "tally.nuclides = ['U235']\n",
    "tally.scores = ['total','fission','absorption','(n,gamma)']"
   ]
  },
  {
   "cell_type": "code",
   "execution_count": 49,
   "id": "78d75e0a",
   "metadata": {},
   "outputs": [
    {
     "name": "stdout",
     "output_type": "stream",
     "text": [
      "<?xml version='1.0' encoding='utf-8'?>\r\n",
      "<tallies>\r\n",
      "  <filter id=\"1\" type=\"cell\">\r\n",
      "    <bins>3</bins>\r\n",
      "  </filter>\r\n",
      "  <tally id=\"1\">\r\n",
      "    <filters>1</filters>\r\n",
      "    <nuclides>U235</nuclides>\r\n",
      "    <scores>total fission absorption (n,gamma)</scores>\r\n",
      "  </tally>\r\n",
      "</tallies>\r\n"
     ]
    }
   ],
   "source": [
    "tallies = openmc.Tallies([tally])\n",
    "tallies.export_to_xml()\n",
    "!cat tallies.xml"
   ]
  },
  {
   "cell_type": "code",
   "execution_count": 50,
   "id": "5984386b",
   "metadata": {},
   "outputs": [
    {
     "name": "stdout",
     "output_type": "stream",
     "text": [
      "                                %%%%%%%%%%%%%%%\n",
      "                           %%%%%%%%%%%%%%%%%%%%%%%%\n",
      "                        %%%%%%%%%%%%%%%%%%%%%%%%%%%%%%\n",
      "                      %%%%%%%%%%%%%%%%%%%%%%%%%%%%%%%%%%\n",
      "                    %%%%%%%%%%%%%%%%%%%%%%%%%%%%%%%%%%%%%%\n",
      "                   %%%%%%%%%%%%%%%%%%%%%%%%%%%%%%%%%%%%%%%%\n",
      "                                    %%%%%%%%%%%%%%%%%%%%%%%%\n",
      "                                     %%%%%%%%%%%%%%%%%%%%%%%%\n",
      "                 ###############      %%%%%%%%%%%%%%%%%%%%%%%%\n",
      "                ##################     %%%%%%%%%%%%%%%%%%%%%%%\n",
      "                ###################     %%%%%%%%%%%%%%%%%%%%%%%\n",
      "                ####################     %%%%%%%%%%%%%%%%%%%%%%\n",
      "                #####################     %%%%%%%%%%%%%%%%%%%%%\n",
      "                ######################     %%%%%%%%%%%%%%%%%%%%\n",
      "                #######################     %%%%%%%%%%%%%%%%%%\n",
      "                 #######################     %%%%%%%%%%%%%%%%%\n",
      "                 ######################     %%%%%%%%%%%%%%%%%\n",
      "                  ####################     %%%%%%%%%%%%%%%%%\n",
      "                    #################     %%%%%%%%%%%%%%%%%\n",
      "                     ###############     %%%%%%%%%%%%%%%%\n",
      "                       ############     %%%%%%%%%%%%%%%\n",
      "                          ########     %%%%%%%%%%%%%%\n",
      "                                      %%%%%%%%%%%\n",
      "\n",
      "                 | The OpenMC Monte Carlo Code\n",
      "       Copyright | 2011-2022 MIT, UChicago Argonne LLC, and contributors\n",
      "         License | https://docs.openmc.org/en/latest/license.html\n",
      "         Version | 0.13.0\n",
      "        Git SHA1 | 926cb818dc80533c95d0c46f0fc4261efe784179\n",
      "       Date/Time | 2022-09-20 09:21:34\n",
      "   MPI Processes | 1\n",
      "  OpenMP Threads | 192\n",
      "\n",
      " Reading settings XML file...\n",
      " Reading cross sections XML file...\n",
      " Reading materials XML file...\n",
      " Reading geometry XML file...\n",
      " Reading U235 from /home/m231326/omc_data/endfb71_hdf5/U235.h5\n",
      " Reading U238 from /home/m231326/omc_data/endfb71_hdf5/U238.h5\n",
      " Reading O16 from /home/m231326/omc_data/endfb71_hdf5/O16.h5\n",
      " Reading Zr90 from /home/m231326/omc_data/endfb71_hdf5/Zr90.h5\n",
      " Reading Zr91 from /home/m231326/omc_data/endfb71_hdf5/Zr91.h5\n",
      " Reading Zr92 from /home/m231326/omc_data/endfb71_hdf5/Zr92.h5\n",
      " Reading Zr94 from /home/m231326/omc_data/endfb71_hdf5/Zr94.h5\n",
      " Reading Zr96 from /home/m231326/omc_data/endfb71_hdf5/Zr96.h5\n",
      " Reading H1 from /home/m231326/omc_data/endfb71_hdf5/H1.h5\n",
      " Reading O17 from /home/m231326/omc_data/endfb71_hdf5/O17.h5\n",
      " Reading c_H_in_H2O from /home/m231326/omc_data/endfb71_hdf5/c_H_in_H2O.h5\n",
      " Minimum neutron data temperature: 294 K\n",
      " Maximum neutron data temperature: 294 K\n",
      " Reading tallies XML file...\n",
      " Preparing distributed cell instances...\n",
      " Reading plot XML file...\n",
      " Writing summary.h5 file...\n",
      " Maximum neutron transport energy: 20000000 eV for U235\n",
      " Initializing source particles...\n",
      "\n",
      " ====================>     K EIGENVALUE SIMULATION     <====================\n",
      "\n",
      "  Bat./Gen.      k            Average k\n",
      "  =========   ========   ====================\n",
      "        1/1    1.28383\n",
      "        2/1    1.40282\n",
      "        3/1    1.35728\n",
      "        4/1    1.35072\n",
      "        5/1    1.44244\n",
      "        6/1    1.38634\n",
      "        7/1    1.39225\n",
      "        8/1    1.38919\n",
      "        9/1    1.38419\n",
      "       10/1    1.46717\n",
      "       11/1    1.31491\n",
      "       12/1    1.41628    1.36559 +/- 0.05069\n",
      "       13/1    1.49458    1.40859 +/- 0.05201\n",
      "       14/1    1.54254    1.44208 +/- 0.04974\n",
      "       15/1    1.45269    1.44420 +/- 0.03859\n",
      "       16/1    1.42294    1.44066 +/- 0.03170\n",
      "       17/1    1.38886    1.43326 +/- 0.02780\n",
      "       18/1    1.36978    1.42532 +/- 0.02535\n",
      "       19/1    1.43231    1.42610 +/- 0.02237\n",
      "       20/1    1.40404    1.42389 +/- 0.02013\n",
      "       21/1    1.39470    1.42124 +/- 0.01840\n",
      "       22/1    1.39479    1.41903 +/- 0.01694\n",
      "       23/1    1.40601    1.41803 +/- 0.01561\n",
      "       24/1    1.33557    1.41214 +/- 0.01561\n",
      "       25/1    1.44433    1.41429 +/- 0.01469\n",
      "       26/1    1.42775    1.41513 +/- 0.01377\n",
      "       27/1    1.37296    1.41265 +/- 0.01317\n",
      "       28/1    1.38058    1.41087 +/- 0.01254\n",
      "       29/1    1.39141    1.40984 +/- 0.01191\n",
      "       30/1    1.37654    1.40818 +/- 0.01142\n",
      "       31/1    1.38898    1.40726 +/- 0.01090\n",
      "       32/1    1.35815    1.40503 +/- 0.01063\n",
      "       33/1    1.35964    1.40306 +/- 0.01035\n",
      "       34/1    1.37522    1.40190 +/- 0.00997\n",
      "       35/1    1.36559    1.40045 +/- 0.00968\n",
      "       36/1    1.42490    1.40139 +/- 0.00934\n",
      "       37/1    1.44159    1.40288 +/- 0.00911\n",
      "       38/1    1.43271    1.40394 +/- 0.00885\n",
      "       39/1    1.38245    1.40320 +/- 0.00857\n",
      "       40/1    1.40358    1.40321 +/- 0.00828\n",
      "       41/1    1.43764    1.40432 +/- 0.00808\n",
      "       42/1    1.38335    1.40367 +/- 0.00785\n",
      "       43/1    1.42551    1.40433 +/- 0.00764\n",
      "       44/1    1.48067    1.40657 +/- 0.00774\n",
      "       45/1    1.37673    1.40572 +/- 0.00757\n",
      "       46/1    1.49212    1.40812 +/- 0.00774\n",
      "       47/1    1.41014    1.40818 +/- 0.00753\n",
      "       48/1    1.40493    1.40809 +/- 0.00732\n",
      "       49/1    1.46438    1.40953 +/- 0.00728\n",
      "       50/1    1.51498    1.41217 +/- 0.00757\n",
      "       51/1    1.42420    1.41246 +/- 0.00739\n",
      "       52/1    1.34260    1.41080 +/- 0.00740\n",
      "       53/1    1.35538    1.40951 +/- 0.00734\n",
      "       54/1    1.44214    1.41025 +/- 0.00721\n",
      "       55/1    1.51913    1.41267 +/- 0.00745\n",
      "       56/1    1.36930    1.41173 +/- 0.00735\n",
      "       57/1    1.48161    1.41322 +/- 0.00734\n",
      "       58/1    1.46564    1.41431 +/- 0.00727\n",
      "       59/1    1.39113    1.41384 +/- 0.00714\n",
      "       60/1    1.41880    1.41394 +/- 0.00699\n",
      "       61/1    1.39927    1.41365 +/- 0.00686\n",
      "       62/1    1.37208    1.41285 +/- 0.00677\n",
      "       63/1    1.41877    1.41296 +/- 0.00665\n",
      "       64/1    1.38005    1.41235 +/- 0.00655\n",
      "       65/1    1.45091    1.41305 +/- 0.00647\n",
      "       66/1    1.38600    1.41257 +/- 0.00637\n",
      "       67/1    1.39675    1.41229 +/- 0.00626\n",
      "       68/1    1.36554    1.41149 +/- 0.00621\n",
      "       69/1    1.35361    1.41050 +/- 0.00618\n",
      "       70/1    1.40826    1.41047 +/- 0.00607\n",
      "       71/1    1.30870    1.40880 +/- 0.00620\n",
      "       72/1    1.47030    1.40979 +/- 0.00618\n",
      "       73/1    1.40635    1.40974 +/- 0.00608\n",
      "       74/1    1.35566    1.40889 +/- 0.00605\n",
      "       75/1    1.43310    1.40926 +/- 0.00596\n",
      "       76/1    1.47591    1.41027 +/- 0.00596\n",
      "       77/1    1.41242    1.41031 +/- 0.00587\n",
      "       78/1    1.42336    1.41050 +/- 0.00579\n",
      "       79/1    1.43253    1.41082 +/- 0.00571\n",
      "       80/1    1.41660    1.41090 +/- 0.00563\n",
      "       81/1    1.25909    1.40876 +/- 0.00595\n",
      "       82/1    1.40743    1.40874 +/- 0.00586\n",
      "       83/1    1.34031    1.40781 +/- 0.00586\n",
      "       84/1    1.38285    1.40747 +/- 0.00579\n",
      "       85/1    1.34304    1.40661 +/- 0.00578\n",
      "       86/1    1.46115    1.40733 +/- 0.00574\n",
      "       87/1    1.36252    1.40674 +/- 0.00570\n",
      "       88/1    1.42060    1.40692 +/- 0.00563\n",
      "       89/1    1.30684    1.40566 +/- 0.00570\n",
      "       90/1    1.41082    1.40572 +/- 0.00563\n",
      "       91/1    1.44078    1.40615 +/- 0.00557\n",
      "       92/1    1.49203    1.40720 +/- 0.00560\n",
      "       93/1    1.44663    1.40768 +/- 0.00556\n",
      "       94/1    1.38166    1.40737 +/- 0.00550\n",
      "       95/1    1.46626    1.40806 +/- 0.00548\n",
      "       96/1    1.33478    1.40721 +/- 0.00548\n",
      "       97/1    1.41267    1.40727 +/- 0.00542\n",
      "       98/1    1.33062    1.40640 +/- 0.00543\n",
      "       99/1    1.40066    1.40633 +/- 0.00537\n",
      "      100/1    1.33440    1.40553 +/- 0.00537\n",
      " Creating state point statepoint.100.h5...\n",
      "\n",
      " =======================>     TIMING STATISTICS     <=======================\n",
      "\n",
      " Total time for initialization     = 7.5009e+00 seconds\n",
      "   Reading cross sections          = 7.4515e+00 seconds\n",
      " Total time in simulation          = 2.5539e+00 seconds\n",
      "   Time in transport only          = 1.5152e+00 seconds\n",
      "   Time in inactive batches        = 1.5800e-01 seconds\n",
      "   Time in active batches          = 2.3959e+00 seconds\n",
      "   Time synchronizing fission bank = 1.3742e-02 seconds\n",
      "     Sampling source sites         = 9.5243e-03 seconds\n",
      "     SEND/RECV source sites        = 2.8398e-03 seconds\n",
      "   Time accumulating tallies       = 5.5924e-01 seconds\n",
      "   Time writing statepoints        = 4.5476e-01 seconds\n",
      " Total time for finalization       = 1.9185e-04 seconds\n",
      " Total time elapsed                = 1.0077e+01 seconds\n",
      " Calculation Rate (inactive)       = 63290.2 particles/second\n",
      " Calculation Rate (active)         = 37563.4 particles/second\n",
      "\n",
      " ============================>     RESULTS     <============================\n",
      "\n",
      " k-effective (Collision)     = 1.40084 +/- 0.00424\n",
      " k-effective (Track-length)  = 1.40553 +/- 0.00537\n",
      " k-effective (Absorption)    = 1.39733 +/- 0.00322\n",
      " Combined k-effective        = 1.39854 +/- 0.00307\n",
      " Leakage Fraction            = 0.00000 +/- 0.00000\n",
      "\n"
     ]
    }
   ],
   "source": [
    "openmc.run()"
   ]
  },
  {
   "cell_type": "code",
   "execution_count": 51,
   "id": "457dae19",
   "metadata": {},
   "outputs": [
    {
     "name": "stdout",
     "output_type": "stream",
     "text": [
      " ============================>     TALLY 1     <============================\r\n",
      "\r\n",
      " Cell 3\r\n",
      "   U235\r\n",
      "     Total Reaction Rate                  0.732994 +/- 0.00264665\r\n",
      "     Fission Rate                         0.549313 +/- 0.00220121\r\n",
      "     Absorption Rate                      0.659458 +/- 0.00257385\r\n",
      "     (n,gamma)                            0.110145 +/- 0.0003864\r\n"
     ]
    }
   ],
   "source": [
    "!cat tallies.out"
   ]
  },
  {
   "cell_type": "markdown",
   "id": "f72cee6d",
   "metadata": {},
   "source": [
    "## Plot Geometry"
   ]
  },
  {
   "cell_type": "code",
   "execution_count": 52,
   "id": "d8f1d94a",
   "metadata": {},
   "outputs": [],
   "source": [
    "plot = openmc.Plot()\n",
    "plot.filename = 'pinplot'\n",
    "plot.width = (pitch,pitch)\n",
    "plot.pixels = (200,200)\n",
    "plot.color_by = 'material'\n",
    "plot.colors = {uo2: 'yellow',water: 'blue'}"
   ]
  },
  {
   "cell_type": "code",
   "execution_count": 53,
   "id": "26a1c6de",
   "metadata": {},
   "outputs": [
    {
     "name": "stdout",
     "output_type": "stream",
     "text": [
      "<?xml version='1.0' encoding='utf-8'?>\r\n",
      "<plots>\r\n",
      "  <plot basis=\"xy\" color_by=\"material\" filename=\"pinplot\" id=\"1\" type=\"slice\">\r\n",
      "    <origin>0.0 0.0 0.0</origin>\r\n",
      "    <width>1.26 1.26</width>\r\n",
      "    <pixels>200 200</pixels>\r\n",
      "    <color id=\"1\" rgb=\"255 255 0\" />\r\n",
      "    <color id=\"4\" rgb=\"0 0 255\" />\r\n",
      "  </plot>\r\n",
      "</plots>\r\n"
     ]
    }
   ],
   "source": [
    "plots = openmc.Plots([plot])\n",
    "plots.export_to_xml()\n",
    "!cat plots.xml"
   ]
  },
  {
   "cell_type": "code",
   "execution_count": 54,
   "id": "42bbdb6b",
   "metadata": {},
   "outputs": [
    {
     "name": "stdout",
     "output_type": "stream",
     "text": [
      "                                %%%%%%%%%%%%%%%\n",
      "                           %%%%%%%%%%%%%%%%%%%%%%%%\n",
      "                        %%%%%%%%%%%%%%%%%%%%%%%%%%%%%%\n",
      "                      %%%%%%%%%%%%%%%%%%%%%%%%%%%%%%%%%%\n",
      "                    %%%%%%%%%%%%%%%%%%%%%%%%%%%%%%%%%%%%%%\n",
      "                   %%%%%%%%%%%%%%%%%%%%%%%%%%%%%%%%%%%%%%%%\n",
      "                                    %%%%%%%%%%%%%%%%%%%%%%%%\n",
      "                                     %%%%%%%%%%%%%%%%%%%%%%%%\n",
      "                 ###############      %%%%%%%%%%%%%%%%%%%%%%%%\n",
      "                ##################     %%%%%%%%%%%%%%%%%%%%%%%\n",
      "                ###################     %%%%%%%%%%%%%%%%%%%%%%%\n",
      "                ####################     %%%%%%%%%%%%%%%%%%%%%%\n",
      "                #####################     %%%%%%%%%%%%%%%%%%%%%\n",
      "                ######################     %%%%%%%%%%%%%%%%%%%%\n",
      "                #######################     %%%%%%%%%%%%%%%%%%\n",
      "                 #######################     %%%%%%%%%%%%%%%%%\n",
      "                 ######################     %%%%%%%%%%%%%%%%%\n",
      "                  ####################     %%%%%%%%%%%%%%%%%\n",
      "                    #################     %%%%%%%%%%%%%%%%%\n",
      "                     ###############     %%%%%%%%%%%%%%%%\n",
      "                       ############     %%%%%%%%%%%%%%%\n",
      "                          ########     %%%%%%%%%%%%%%\n",
      "                                      %%%%%%%%%%%\n",
      "\n",
      "                 | The OpenMC Monte Carlo Code\n",
      "       Copyright | 2011-2022 MIT, UChicago Argonne LLC, and contributors\n",
      "         License | https://docs.openmc.org/en/latest/license.html\n",
      "         Version | 0.13.0\n",
      "        Git SHA1 | 926cb818dc80533c95d0c46f0fc4261efe784179\n",
      "       Date/Time | 2022-09-20 09:24:41\n",
      "   MPI Processes | 1\n",
      "  OpenMP Threads | 192\n",
      "\n",
      " Reading settings XML file...\n",
      " Reading cross sections XML file...\n",
      " Reading materials XML file...\n",
      " Reading geometry XML file...\n",
      " Reading tallies XML file...\n",
      " Preparing distributed cell instances...\n",
      " Reading plot XML file...\n",
      "\n",
      " =======================>     PLOTTING SUMMARY     <========================\n",
      "\n",
      "Plot ID: 1\n",
      "Plot file: pinplot.png\n",
      "Universe depth: -1\n",
      "Plot Type: Slice\n",
      "Origin: 0 0 0\n",
      "Width: 1.26 1.26\n",
      "Coloring: Materials\n",
      "Basis: XY\n",
      "Pixels: 200 200\n",
      "\n",
      " Processing plot 1: pinplot.png...\n"
     ]
    }
   ],
   "source": [
    "openmc.plot_geometry()"
   ]
  },
  {
   "cell_type": "code",
   "execution_count": 55,
   "id": "e6d6b877",
   "metadata": {},
   "outputs": [
    {
     "data": {
      "image/png": "[encoded data removed]",
      "text/plain": [
       "<IPython.core.display.Image object>"
      ]
     },
     "execution_count": 55,
     "metadata": {},
     "output_type": "execute_result"
    }
   ],
   "source": [
    "from IPython.display import Image\n",
    "Image('pinplot.png')"
   ]
  },
  {
   "cell_type": "code",
   "execution_count": 56,
   "id": "9fc5c08d",
   "metadata": {},
   "outputs": [
    {
     "data": {
      "image/png": "[encoded data removed]",
      "text/plain": [
       "<IPython.core.display.Image object>"
      ]
     },
     "execution_count": 56,
     "metadata": {},
     "output_type": "execute_result"
    }
   ],
   "source": [
    "plot.to_ipython_image()"
   ]
  },
  {
   "cell_type": "code",
   "execution_count": null,
   "id": "9521de36",
   "metadata": {},
   "outputs": [],
   "source": []
  }
 ],
 "metadata": {
  "kernelspec": {
   "display_name": "Python 3 (ipykernel)",
   "language": "python",
   "name": "python3"
  },
  "language_info": {
   "codemirror_mode": {
    "name": "ipython",
    "version": 3
   },
   "file_extension": ".py",
   "mimetype": "text/x-python",
   "name": "python",
   "nbconvert_exporter": "python",
   "pygments_lexer": "ipython3",
   "version": "3.10.4"
  }
 },
 "nbformat": 4,
 "nbformat_minor": 5
}
